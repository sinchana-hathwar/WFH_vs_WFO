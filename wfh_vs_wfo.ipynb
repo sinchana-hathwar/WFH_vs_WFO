{
 "cells": [
  {
   "attachments": {},
   "cell_type": "markdown",
   "metadata": {},
   "source": [
    "Problem Statement: Study employee productivity in WFH vs WFO."
   ]
  },
  {
   "cell_type": "code",
   "execution_count": 170,
   "metadata": {},
   "outputs": [],
   "source": [
    "import numpy as np\n",
    "import pandas as pd\n",
    "import matplotlib.pyplot as plt\n",
    "import seaborn as sns"
   ]
  },
  {
   "cell_type": "code",
   "execution_count": 171,
   "metadata": {},
   "outputs": [],
   "source": [
    "data = pd.read_csv('WFH_WFO_dataset.csv', index_col= 'ID')"
   ]
  },
  {
   "cell_type": "code",
   "execution_count": 172,
   "metadata": {},
   "outputs": [
    {
     "data": {
      "text/plain": [
       "(207, 18)"
      ]
     },
     "execution_count": 172,
     "metadata": {},
     "output_type": "execute_result"
    }
   ],
   "source": [
    "data.shape"
   ]
  },
  {
   "cell_type": "code",
   "execution_count": 173,
   "metadata": {},
   "outputs": [
    {
     "data": {
      "text/html": [
       "<div>\n",
       "<style scoped>\n",
       "    .dataframe tbody tr th:only-of-type {\n",
       "        vertical-align: middle;\n",
       "    }\n",
       "\n",
       "    .dataframe tbody tr th {\n",
       "        vertical-align: top;\n",
       "    }\n",
       "\n",
       "    .dataframe thead th {\n",
       "        text-align: right;\n",
       "    }\n",
       "</style>\n",
       "<table border=\"1\" class=\"dataframe\">\n",
       "  <thead>\n",
       "    <tr style=\"text-align: right;\">\n",
       "      <th></th>\n",
       "      <th>Name</th>\n",
       "      <th>Age</th>\n",
       "      <th>Occupation</th>\n",
       "      <th>Gender</th>\n",
       "      <th>Same_ofiice_home_location</th>\n",
       "      <th>kids</th>\n",
       "      <th>RM_save_money</th>\n",
       "      <th>RM_quality_time</th>\n",
       "      <th>RM_better_sleep</th>\n",
       "      <th>calmer_stressed</th>\n",
       "      <th>RM_professional_growth</th>\n",
       "      <th>RM_lazy</th>\n",
       "      <th>RM_productive</th>\n",
       "      <th>digital_connect_sufficient</th>\n",
       "      <th>RM_better_work_life_balance</th>\n",
       "      <th>RM_improved_skillset</th>\n",
       "      <th>RM_job_opportunities</th>\n",
       "      <th>Target</th>\n",
       "    </tr>\n",
       "    <tr>\n",
       "      <th>ID</th>\n",
       "      <th></th>\n",
       "      <th></th>\n",
       "      <th></th>\n",
       "      <th></th>\n",
       "      <th></th>\n",
       "      <th></th>\n",
       "      <th></th>\n",
       "      <th></th>\n",
       "      <th></th>\n",
       "      <th></th>\n",
       "      <th></th>\n",
       "      <th></th>\n",
       "      <th></th>\n",
       "      <th></th>\n",
       "      <th></th>\n",
       "      <th></th>\n",
       "      <th></th>\n",
       "      <th></th>\n",
       "    </tr>\n",
       "  </thead>\n",
       "  <tbody>\n",
       "    <tr>\n",
       "      <th>1</th>\n",
       "      <td>Bhavana</td>\n",
       "      <td>45</td>\n",
       "      <td>Tutor</td>\n",
       "      <td>Female</td>\n",
       "      <td>Yes</td>\n",
       "      <td>Yes</td>\n",
       "      <td>Yes</td>\n",
       "      <td>Yes</td>\n",
       "      <td>Yes</td>\n",
       "      <td>CALMER</td>\n",
       "      <td>5</td>\n",
       "      <td>1</td>\n",
       "      <td>5</td>\n",
       "      <td>Yes</td>\n",
       "      <td>5</td>\n",
       "      <td>5</td>\n",
       "      <td>Yes</td>\n",
       "      <td>1</td>\n",
       "    </tr>\n",
       "    <tr>\n",
       "      <th>2</th>\n",
       "      <td>Harry</td>\n",
       "      <td>24</td>\n",
       "      <td>Tutor</td>\n",
       "      <td>Male</td>\n",
       "      <td>No</td>\n",
       "      <td>No</td>\n",
       "      <td>No</td>\n",
       "      <td>No</td>\n",
       "      <td>No</td>\n",
       "      <td>CALMER</td>\n",
       "      <td>2</td>\n",
       "      <td>2</td>\n",
       "      <td>2</td>\n",
       "      <td>No</td>\n",
       "      <td>3</td>\n",
       "      <td>3</td>\n",
       "      <td>No</td>\n",
       "      <td>1</td>\n",
       "    </tr>\n",
       "    <tr>\n",
       "      <th>3</th>\n",
       "      <td>Banditaa</td>\n",
       "      <td>53</td>\n",
       "      <td>HR</td>\n",
       "      <td>Female</td>\n",
       "      <td>Yes</td>\n",
       "      <td>Yes</td>\n",
       "      <td>Yes</td>\n",
       "      <td>Yes</td>\n",
       "      <td>Yes</td>\n",
       "      <td>CALMER</td>\n",
       "      <td>3</td>\n",
       "      <td>3</td>\n",
       "      <td>4</td>\n",
       "      <td>No</td>\n",
       "      <td>5</td>\n",
       "      <td>3</td>\n",
       "      <td>No</td>\n",
       "      <td>1</td>\n",
       "    </tr>\n",
       "    <tr>\n",
       "      <th>4</th>\n",
       "      <td>Neetha</td>\n",
       "      <td>26</td>\n",
       "      <td>Engineer</td>\n",
       "      <td>Female</td>\n",
       "      <td>Yes</td>\n",
       "      <td>No</td>\n",
       "      <td>Yes</td>\n",
       "      <td>Yes</td>\n",
       "      <td>No</td>\n",
       "      <td>STRESSED</td>\n",
       "      <td>3</td>\n",
       "      <td>4</td>\n",
       "      <td>4</td>\n",
       "      <td>No</td>\n",
       "      <td>4</td>\n",
       "      <td>5</td>\n",
       "      <td>Yes</td>\n",
       "      <td>0</td>\n",
       "    </tr>\n",
       "    <tr>\n",
       "      <th>5</th>\n",
       "      <td>Ram</td>\n",
       "      <td>26</td>\n",
       "      <td>Recruiter</td>\n",
       "      <td>Male</td>\n",
       "      <td>Yes</td>\n",
       "      <td>No</td>\n",
       "      <td>No</td>\n",
       "      <td>Yes</td>\n",
       "      <td>No</td>\n",
       "      <td>STRESSED</td>\n",
       "      <td>3</td>\n",
       "      <td>3</td>\n",
       "      <td>5</td>\n",
       "      <td>Yes</td>\n",
       "      <td>4</td>\n",
       "      <td>2</td>\n",
       "      <td>Yes</td>\n",
       "      <td>1</td>\n",
       "    </tr>\n",
       "  </tbody>\n",
       "</table>\n",
       "</div>"
      ],
      "text/plain": [
       "        Name  Age Occupation  Gender Same_ofiice_home_location kids  \\\n",
       "ID                                                                    \n",
       "1    Bhavana   45      Tutor  Female                       Yes  Yes   \n",
       "2      Harry   24      Tutor    Male                        No   No   \n",
       "3   Banditaa   53         HR  Female                       Yes  Yes   \n",
       "4     Neetha   26   Engineer  Female                       Yes   No   \n",
       "5        Ram   26  Recruiter    Male                       Yes   No   \n",
       "\n",
       "   RM_save_money RM_quality_time RM_better_sleep calmer_stressed  \\\n",
       "ID                                                                 \n",
       "1            Yes             Yes             Yes          CALMER   \n",
       "2             No              No              No          CALMER   \n",
       "3            Yes             Yes             Yes          CALMER   \n",
       "4            Yes             Yes              No        STRESSED   \n",
       "5             No             Yes              No        STRESSED   \n",
       "\n",
       "    RM_professional_growth  RM_lazy  RM_productive digital_connect_sufficient  \\\n",
       "ID                                                                              \n",
       "1                        5        1              5                        Yes   \n",
       "2                        2        2              2                         No   \n",
       "3                        3        3              4                         No   \n",
       "4                        3        4              4                         No   \n",
       "5                        3        3              5                        Yes   \n",
       "\n",
       "    RM_better_work_life_balance  RM_improved_skillset RM_job_opportunities  \\\n",
       "ID                                                                           \n",
       "1                             5                     5                  Yes   \n",
       "2                             3                     3                   No   \n",
       "3                             5                     3                   No   \n",
       "4                             4                     5                  Yes   \n",
       "5                             4                     2                  Yes   \n",
       "\n",
       "    Target  \n",
       "ID          \n",
       "1        1  \n",
       "2        1  \n",
       "3        1  \n",
       "4        0  \n",
       "5        1  "
      ]
     },
     "execution_count": 173,
     "metadata": {},
     "output_type": "execute_result"
    }
   ],
   "source": [
    "data.head()"
   ]
  },
  {
   "cell_type": "code",
   "execution_count": 174,
   "metadata": {},
   "outputs": [
    {
     "name": "stdout",
     "output_type": "stream",
     "text": [
      "<class 'pandas.core.frame.DataFrame'>\n",
      "Int64Index: 207 entries, 1 to 207\n",
      "Data columns (total 18 columns):\n",
      " #   Column                       Non-Null Count  Dtype \n",
      "---  ------                       --------------  ----- \n",
      " 0   Name                         207 non-null    object\n",
      " 1   Age                          207 non-null    int64 \n",
      " 2   Occupation                   207 non-null    object\n",
      " 3   Gender                       207 non-null    object\n",
      " 4   Same_ofiice_home_location    207 non-null    object\n",
      " 5   kids                         207 non-null    object\n",
      " 6   RM_save_money                207 non-null    object\n",
      " 7   RM_quality_time              207 non-null    object\n",
      " 8   RM_better_sleep              207 non-null    object\n",
      " 9   calmer_stressed              207 non-null    object\n",
      " 10  RM_professional_growth       207 non-null    int64 \n",
      " 11  RM_lazy                      207 non-null    int64 \n",
      " 12  RM_productive                207 non-null    int64 \n",
      " 13  digital_connect_sufficient   207 non-null    object\n",
      " 14  RM_better_work_life_balance  207 non-null    int64 \n",
      " 15  RM_improved_skillset         207 non-null    int64 \n",
      " 16  RM_job_opportunities         207 non-null    object\n",
      " 17  Target                       207 non-null    int64 \n",
      "dtypes: int64(7), object(11)\n",
      "memory usage: 30.7+ KB\n"
     ]
    }
   ],
   "source": [
    "data.info()"
   ]
  },
  {
   "cell_type": "code",
   "execution_count": 175,
   "metadata": {},
   "outputs": [
    {
     "data": {
      "text/html": [
       "<div>\n",
       "<style scoped>\n",
       "    .dataframe tbody tr th:only-of-type {\n",
       "        vertical-align: middle;\n",
       "    }\n",
       "\n",
       "    .dataframe tbody tr th {\n",
       "        vertical-align: top;\n",
       "    }\n",
       "\n",
       "    .dataframe thead th {\n",
       "        text-align: right;\n",
       "    }\n",
       "</style>\n",
       "<table border=\"1\" class=\"dataframe\">\n",
       "  <thead>\n",
       "    <tr style=\"text-align: right;\">\n",
       "      <th></th>\n",
       "      <th>Age</th>\n",
       "      <th>RM_professional_growth</th>\n",
       "      <th>RM_lazy</th>\n",
       "      <th>RM_productive</th>\n",
       "      <th>RM_better_work_life_balance</th>\n",
       "      <th>RM_improved_skillset</th>\n",
       "      <th>Target</th>\n",
       "    </tr>\n",
       "  </thead>\n",
       "  <tbody>\n",
       "    <tr>\n",
       "      <th>count</th>\n",
       "      <td>207.000000</td>\n",
       "      <td>207.000000</td>\n",
       "      <td>207.000000</td>\n",
       "      <td>207.000000</td>\n",
       "      <td>207.000000</td>\n",
       "      <td>207.000000</td>\n",
       "      <td>207.000000</td>\n",
       "    </tr>\n",
       "    <tr>\n",
       "      <th>mean</th>\n",
       "      <td>29.666667</td>\n",
       "      <td>3.086957</td>\n",
       "      <td>3.101449</td>\n",
       "      <td>3.623188</td>\n",
       "      <td>3.043478</td>\n",
       "      <td>3.521739</td>\n",
       "      <td>0.405797</td>\n",
       "    </tr>\n",
       "    <tr>\n",
       "      <th>std</th>\n",
       "      <td>8.506993</td>\n",
       "      <td>1.089301</td>\n",
       "      <td>1.255801</td>\n",
       "      <td>0.996617</td>\n",
       "      <td>1.247539</td>\n",
       "      <td>1.004002</td>\n",
       "      <td>0.492236</td>\n",
       "    </tr>\n",
       "    <tr>\n",
       "      <th>min</th>\n",
       "      <td>21.000000</td>\n",
       "      <td>1.000000</td>\n",
       "      <td>1.000000</td>\n",
       "      <td>1.000000</td>\n",
       "      <td>1.000000</td>\n",
       "      <td>1.000000</td>\n",
       "      <td>0.000000</td>\n",
       "    </tr>\n",
       "    <tr>\n",
       "      <th>25%</th>\n",
       "      <td>25.000000</td>\n",
       "      <td>2.000000</td>\n",
       "      <td>2.000000</td>\n",
       "      <td>3.000000</td>\n",
       "      <td>2.000000</td>\n",
       "      <td>3.000000</td>\n",
       "      <td>0.000000</td>\n",
       "    </tr>\n",
       "    <tr>\n",
       "      <th>50%</th>\n",
       "      <td>26.000000</td>\n",
       "      <td>3.000000</td>\n",
       "      <td>3.000000</td>\n",
       "      <td>4.000000</td>\n",
       "      <td>3.000000</td>\n",
       "      <td>3.000000</td>\n",
       "      <td>0.000000</td>\n",
       "    </tr>\n",
       "    <tr>\n",
       "      <th>75%</th>\n",
       "      <td>29.000000</td>\n",
       "      <td>4.000000</td>\n",
       "      <td>4.000000</td>\n",
       "      <td>4.000000</td>\n",
       "      <td>4.000000</td>\n",
       "      <td>4.000000</td>\n",
       "      <td>1.000000</td>\n",
       "    </tr>\n",
       "    <tr>\n",
       "      <th>max</th>\n",
       "      <td>57.000000</td>\n",
       "      <td>5.000000</td>\n",
       "      <td>5.000000</td>\n",
       "      <td>5.000000</td>\n",
       "      <td>5.000000</td>\n",
       "      <td>5.000000</td>\n",
       "      <td>1.000000</td>\n",
       "    </tr>\n",
       "  </tbody>\n",
       "</table>\n",
       "</div>"
      ],
      "text/plain": [
       "              Age  RM_professional_growth     RM_lazy  RM_productive  \\\n",
       "count  207.000000              207.000000  207.000000     207.000000   \n",
       "mean    29.666667                3.086957    3.101449       3.623188   \n",
       "std      8.506993                1.089301    1.255801       0.996617   \n",
       "min     21.000000                1.000000    1.000000       1.000000   \n",
       "25%     25.000000                2.000000    2.000000       3.000000   \n",
       "50%     26.000000                3.000000    3.000000       4.000000   \n",
       "75%     29.000000                4.000000    4.000000       4.000000   \n",
       "max     57.000000                5.000000    5.000000       5.000000   \n",
       "\n",
       "       RM_better_work_life_balance  RM_improved_skillset      Target  \n",
       "count                   207.000000            207.000000  207.000000  \n",
       "mean                      3.043478              3.521739    0.405797  \n",
       "std                       1.247539              1.004002    0.492236  \n",
       "min                       1.000000              1.000000    0.000000  \n",
       "25%                       2.000000              3.000000    0.000000  \n",
       "50%                       3.000000              3.000000    0.000000  \n",
       "75%                       4.000000              4.000000    1.000000  \n",
       "max                       5.000000              5.000000    1.000000  "
      ]
     },
     "execution_count": 175,
     "metadata": {},
     "output_type": "execute_result"
    }
   ],
   "source": [
    "data.describe()"
   ]
  },
  {
   "cell_type": "code",
   "execution_count": 176,
   "metadata": {},
   "outputs": [
    {
     "data": {
      "text/html": [
       "<div>\n",
       "<style scoped>\n",
       "    .dataframe tbody tr th:only-of-type {\n",
       "        vertical-align: middle;\n",
       "    }\n",
       "\n",
       "    .dataframe tbody tr th {\n",
       "        vertical-align: top;\n",
       "    }\n",
       "\n",
       "    .dataframe thead th {\n",
       "        text-align: right;\n",
       "    }\n",
       "</style>\n",
       "<table border=\"1\" class=\"dataframe\">\n",
       "  <thead>\n",
       "    <tr style=\"text-align: right;\">\n",
       "      <th></th>\n",
       "      <th>Name</th>\n",
       "      <th>Age</th>\n",
       "      <th>Occupation</th>\n",
       "      <th>Gender</th>\n",
       "      <th>Same_ofiice_home_location</th>\n",
       "      <th>kids</th>\n",
       "      <th>RM_save_money</th>\n",
       "      <th>RM_quality_time</th>\n",
       "      <th>RM_better_sleep</th>\n",
       "      <th>calmer_stressed</th>\n",
       "      <th>RM_professional_growth</th>\n",
       "      <th>RM_lazy</th>\n",
       "      <th>RM_productive</th>\n",
       "      <th>digital_connect_sufficient</th>\n",
       "      <th>RM_better_work_life_balance</th>\n",
       "      <th>RM_improved_skillset</th>\n",
       "      <th>RM_job_opportunities</th>\n",
       "      <th>Target</th>\n",
       "    </tr>\n",
       "  </thead>\n",
       "  <tbody>\n",
       "    <tr>\n",
       "      <th>0</th>\n",
       "      <td>Bhavana</td>\n",
       "      <td>45</td>\n",
       "      <td>Tutor</td>\n",
       "      <td>Female</td>\n",
       "      <td>Yes</td>\n",
       "      <td>Yes</td>\n",
       "      <td>Yes</td>\n",
       "      <td>Yes</td>\n",
       "      <td>Yes</td>\n",
       "      <td>CALMER</td>\n",
       "      <td>5</td>\n",
       "      <td>1</td>\n",
       "      <td>5</td>\n",
       "      <td>Yes</td>\n",
       "      <td>5</td>\n",
       "      <td>5</td>\n",
       "      <td>Yes</td>\n",
       "      <td>1</td>\n",
       "    </tr>\n",
       "    <tr>\n",
       "      <th>1</th>\n",
       "      <td>Harry</td>\n",
       "      <td>24</td>\n",
       "      <td>Tutor</td>\n",
       "      <td>Male</td>\n",
       "      <td>No</td>\n",
       "      <td>No</td>\n",
       "      <td>No</td>\n",
       "      <td>No</td>\n",
       "      <td>No</td>\n",
       "      <td>CALMER</td>\n",
       "      <td>2</td>\n",
       "      <td>2</td>\n",
       "      <td>2</td>\n",
       "      <td>No</td>\n",
       "      <td>3</td>\n",
       "      <td>3</td>\n",
       "      <td>No</td>\n",
       "      <td>1</td>\n",
       "    </tr>\n",
       "    <tr>\n",
       "      <th>2</th>\n",
       "      <td>Banditaa</td>\n",
       "      <td>53</td>\n",
       "      <td>HR</td>\n",
       "      <td>Female</td>\n",
       "      <td>Yes</td>\n",
       "      <td>Yes</td>\n",
       "      <td>Yes</td>\n",
       "      <td>Yes</td>\n",
       "      <td>Yes</td>\n",
       "      <td>CALMER</td>\n",
       "      <td>3</td>\n",
       "      <td>3</td>\n",
       "      <td>4</td>\n",
       "      <td>No</td>\n",
       "      <td>5</td>\n",
       "      <td>3</td>\n",
       "      <td>No</td>\n",
       "      <td>1</td>\n",
       "    </tr>\n",
       "    <tr>\n",
       "      <th>3</th>\n",
       "      <td>Neetha</td>\n",
       "      <td>26</td>\n",
       "      <td>Engineer</td>\n",
       "      <td>Female</td>\n",
       "      <td>Yes</td>\n",
       "      <td>No</td>\n",
       "      <td>Yes</td>\n",
       "      <td>Yes</td>\n",
       "      <td>No</td>\n",
       "      <td>STRESSED</td>\n",
       "      <td>3</td>\n",
       "      <td>4</td>\n",
       "      <td>4</td>\n",
       "      <td>No</td>\n",
       "      <td>4</td>\n",
       "      <td>5</td>\n",
       "      <td>Yes</td>\n",
       "      <td>0</td>\n",
       "    </tr>\n",
       "    <tr>\n",
       "      <th>4</th>\n",
       "      <td>Ram</td>\n",
       "      <td>26</td>\n",
       "      <td>Recruiter</td>\n",
       "      <td>Male</td>\n",
       "      <td>Yes</td>\n",
       "      <td>No</td>\n",
       "      <td>No</td>\n",
       "      <td>Yes</td>\n",
       "      <td>No</td>\n",
       "      <td>STRESSED</td>\n",
       "      <td>3</td>\n",
       "      <td>3</td>\n",
       "      <td>5</td>\n",
       "      <td>Yes</td>\n",
       "      <td>4</td>\n",
       "      <td>2</td>\n",
       "      <td>Yes</td>\n",
       "      <td>1</td>\n",
       "    </tr>\n",
       "    <tr>\n",
       "      <th>...</th>\n",
       "      <td>...</td>\n",
       "      <td>...</td>\n",
       "      <td>...</td>\n",
       "      <td>...</td>\n",
       "      <td>...</td>\n",
       "      <td>...</td>\n",
       "      <td>...</td>\n",
       "      <td>...</td>\n",
       "      <td>...</td>\n",
       "      <td>...</td>\n",
       "      <td>...</td>\n",
       "      <td>...</td>\n",
       "      <td>...</td>\n",
       "      <td>...</td>\n",
       "      <td>...</td>\n",
       "      <td>...</td>\n",
       "      <td>...</td>\n",
       "      <td>...</td>\n",
       "    </tr>\n",
       "    <tr>\n",
       "      <th>178</th>\n",
       "      <td>Louis</td>\n",
       "      <td>28</td>\n",
       "      <td>Manager</td>\n",
       "      <td>Male</td>\n",
       "      <td>Yes</td>\n",
       "      <td>No</td>\n",
       "      <td>No</td>\n",
       "      <td>No</td>\n",
       "      <td>No</td>\n",
       "      <td>STRESSED</td>\n",
       "      <td>2</td>\n",
       "      <td>4</td>\n",
       "      <td>3</td>\n",
       "      <td>No</td>\n",
       "      <td>2</td>\n",
       "      <td>5</td>\n",
       "      <td>Not sure</td>\n",
       "      <td>0</td>\n",
       "    </tr>\n",
       "    <tr>\n",
       "      <th>179</th>\n",
       "      <td>Nandini</td>\n",
       "      <td>32</td>\n",
       "      <td>Engineer</td>\n",
       "      <td>Female</td>\n",
       "      <td>Yes</td>\n",
       "      <td>Yes</td>\n",
       "      <td>Yes</td>\n",
       "      <td>Yes</td>\n",
       "      <td>Yes</td>\n",
       "      <td>CALMER</td>\n",
       "      <td>4</td>\n",
       "      <td>1</td>\n",
       "      <td>5</td>\n",
       "      <td>Yes</td>\n",
       "      <td>3</td>\n",
       "      <td>3</td>\n",
       "      <td>Not sure</td>\n",
       "      <td>1</td>\n",
       "    </tr>\n",
       "    <tr>\n",
       "      <th>180</th>\n",
       "      <td>Matt</td>\n",
       "      <td>52</td>\n",
       "      <td>Business</td>\n",
       "      <td>Male</td>\n",
       "      <td>Yes</td>\n",
       "      <td>Yes</td>\n",
       "      <td>Yes</td>\n",
       "      <td>Yes</td>\n",
       "      <td>Yes</td>\n",
       "      <td>CALMER</td>\n",
       "      <td>4</td>\n",
       "      <td>4</td>\n",
       "      <td>4</td>\n",
       "      <td>Yes</td>\n",
       "      <td>5</td>\n",
       "      <td>3</td>\n",
       "      <td>No</td>\n",
       "      <td>1</td>\n",
       "    </tr>\n",
       "    <tr>\n",
       "      <th>181</th>\n",
       "      <td>Rithik</td>\n",
       "      <td>22</td>\n",
       "      <td>Marketing</td>\n",
       "      <td>Male</td>\n",
       "      <td>Yes</td>\n",
       "      <td>No</td>\n",
       "      <td>Yes</td>\n",
       "      <td>Yes</td>\n",
       "      <td>No</td>\n",
       "      <td>STRESSED</td>\n",
       "      <td>4</td>\n",
       "      <td>4</td>\n",
       "      <td>4</td>\n",
       "      <td>No</td>\n",
       "      <td>4</td>\n",
       "      <td>3</td>\n",
       "      <td>Not sure</td>\n",
       "      <td>0</td>\n",
       "    </tr>\n",
       "    <tr>\n",
       "      <th>182</th>\n",
       "      <td>Radha</td>\n",
       "      <td>25</td>\n",
       "      <td>Marketing</td>\n",
       "      <td>Female</td>\n",
       "      <td>No</td>\n",
       "      <td>Yes</td>\n",
       "      <td>Yes</td>\n",
       "      <td>No</td>\n",
       "      <td>No</td>\n",
       "      <td>STRESSED</td>\n",
       "      <td>5</td>\n",
       "      <td>3</td>\n",
       "      <td>5</td>\n",
       "      <td>Yes</td>\n",
       "      <td>1</td>\n",
       "      <td>3</td>\n",
       "      <td>No</td>\n",
       "      <td>0</td>\n",
       "    </tr>\n",
       "  </tbody>\n",
       "</table>\n",
       "<p>183 rows × 18 columns</p>\n",
       "</div>"
      ],
      "text/plain": [
       "         Name  Age  Occupation  Gender Same_ofiice_home_location kids  \\\n",
       "0     Bhavana   45       Tutor  Female                       Yes  Yes   \n",
       "1       Harry   24       Tutor    Male                        No   No   \n",
       "2    Banditaa   53          HR  Female                       Yes  Yes   \n",
       "3      Neetha   26    Engineer  Female                       Yes   No   \n",
       "4         Ram   26   Recruiter    Male                       Yes   No   \n",
       "..        ...  ...         ...     ...                       ...  ...   \n",
       "178     Louis   28     Manager    Male                       Yes   No   \n",
       "179   Nandini   32    Engineer  Female                       Yes  Yes   \n",
       "180      Matt   52    Business    Male                       Yes  Yes   \n",
       "181    Rithik   22  Marketing     Male                       Yes   No   \n",
       "182     Radha   25  Marketing   Female                        No  Yes   \n",
       "\n",
       "    RM_save_money RM_quality_time RM_better_sleep calmer_stressed  \\\n",
       "0             Yes             Yes             Yes          CALMER   \n",
       "1              No              No              No          CALMER   \n",
       "2             Yes             Yes             Yes          CALMER   \n",
       "3             Yes             Yes              No        STRESSED   \n",
       "4              No             Yes              No        STRESSED   \n",
       "..            ...             ...             ...             ...   \n",
       "178            No              No              No        STRESSED   \n",
       "179           Yes             Yes             Yes          CALMER   \n",
       "180           Yes             Yes             Yes          CALMER   \n",
       "181           Yes             Yes              No        STRESSED   \n",
       "182           Yes              No              No        STRESSED   \n",
       "\n",
       "     RM_professional_growth  RM_lazy  RM_productive  \\\n",
       "0                         5        1              5   \n",
       "1                         2        2              2   \n",
       "2                         3        3              4   \n",
       "3                         3        4              4   \n",
       "4                         3        3              5   \n",
       "..                      ...      ...            ...   \n",
       "178                       2        4              3   \n",
       "179                       4        1              5   \n",
       "180                       4        4              4   \n",
       "181                       4        4              4   \n",
       "182                       5        3              5   \n",
       "\n",
       "    digital_connect_sufficient  RM_better_work_life_balance  \\\n",
       "0                          Yes                            5   \n",
       "1                           No                            3   \n",
       "2                           No                            5   \n",
       "3                           No                            4   \n",
       "4                          Yes                            4   \n",
       "..                         ...                          ...   \n",
       "178                         No                            2   \n",
       "179                        Yes                            3   \n",
       "180                        Yes                            5   \n",
       "181                         No                            4   \n",
       "182                        Yes                            1   \n",
       "\n",
       "     RM_improved_skillset RM_job_opportunities  Target  \n",
       "0                       5                  Yes       1  \n",
       "1                       3                   No       1  \n",
       "2                       3                   No       1  \n",
       "3                       5                  Yes       0  \n",
       "4                       2                  Yes       1  \n",
       "..                    ...                  ...     ...  \n",
       "178                     5             Not sure       0  \n",
       "179                     3             Not sure       1  \n",
       "180                     3                   No       1  \n",
       "181                     3             Not sure       0  \n",
       "182                     3                   No       0  \n",
       "\n",
       "[183 rows x 18 columns]"
      ]
     },
     "execution_count": 176,
     "metadata": {},
     "output_type": "execute_result"
    }
   ],
   "source": [
    "data.drop_duplicates(ignore_index=True)"
   ]
  },
  {
   "cell_type": "code",
   "execution_count": 177,
   "metadata": {},
   "outputs": [
    {
     "data": {
      "text/plain": [
       "4    69\n",
       "3    66\n",
       "5    45\n",
       "2    24\n",
       "1     3\n",
       "Name: RM_productive, dtype: int64"
      ]
     },
     "execution_count": 177,
     "metadata": {},
     "output_type": "execute_result"
    }
   ],
   "source": [
    "data['RM_productive'].value_counts()"
   ]
  },
  {
   "cell_type": "code",
   "execution_count": 178,
   "metadata": {},
   "outputs": [
    {
     "data": {
      "text/plain": [
       "array(['Tutor', 'HR', 'Engineer', 'Recruiter', 'Business', 'Marketing ',\n",
       "       'Manager'], dtype=object)"
      ]
     },
     "execution_count": 178,
     "metadata": {},
     "output_type": "execute_result"
    }
   ],
   "source": [
    "data['Occupation'].unique()"
   ]
  },
  {
   "cell_type": "code",
   "execution_count": 179,
   "metadata": {},
   "outputs": [
    {
     "data": {
      "text/plain": [
       "Engineer      51\n",
       "Tutor         30\n",
       "Manager       29\n",
       "HR            26\n",
       "Business      26\n",
       "Marketing     26\n",
       "Recruiter     19\n",
       "Name: Occupation, dtype: int64"
      ]
     },
     "execution_count": 179,
     "metadata": {},
     "output_type": "execute_result"
    }
   ],
   "source": [
    "data['Occupation'].value_counts()"
   ]
  },
  {
   "cell_type": "code",
   "execution_count": 180,
   "metadata": {},
   "outputs": [
    {
     "data": {
      "text/plain": [
       "0    123\n",
       "1     84\n",
       "Name: Target, dtype: int64"
      ]
     },
     "execution_count": 180,
     "metadata": {},
     "output_type": "execute_result"
    }
   ],
   "source": [
    "data['Target'].value_counts()"
   ]
  },
  {
   "cell_type": "code",
   "execution_count": 181,
   "metadata": {},
   "outputs": [
    {
     "data": {
      "text/plain": [
       "STRESSED    126\n",
       "CALMER       81\n",
       "Name: calmer_stressed, dtype: int64"
      ]
     },
     "execution_count": 181,
     "metadata": {},
     "output_type": "execute_result"
    }
   ],
   "source": [
    "data['calmer_stressed'].value_counts()"
   ]
  },
  {
   "attachments": {},
   "cell_type": "markdown",
   "metadata": {},
   "source": [
    "EDA"
   ]
  },
  {
   "cell_type": "code",
   "execution_count": 182,
   "metadata": {},
   "outputs": [
    {
     "data": {
      "text/plain": [
       "<matplotlib.axes._subplots.AxesSubplot at 0x1cc98c6f760>"
      ]
     },
     "execution_count": 182,
     "metadata": {},
     "output_type": "execute_result"
    },
    {
     "data": {
      "image/png": "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",
      "text/plain": [
       "<Figure size 432x288 with 1 Axes>"
      ]
     },
     "metadata": {
      "needs_background": "light"
     },
     "output_type": "display_data"
    }
   ],
   "source": [
    "ax=sns.countplot(x='Occupation',data=data)\n",
    "plt.title(\"Occupation count\")\n",
    "ax"
   ]
  },
  {
   "cell_type": "code",
   "execution_count": 183,
   "metadata": {},
   "outputs": [
    {
     "data": {
      "text/plain": [
       "Text(0.5, 1.0, 'Male vs Female')"
      ]
     },
     "execution_count": 183,
     "metadata": {},
     "output_type": "execute_result"
    },
    {
     "data": {
      "image/png": "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",
      "text/plain": [
       "<Figure size 432x288 with 1 Axes>"
      ]
     },
     "metadata": {
      "needs_background": "light"
     },
     "output_type": "display_data"
    }
   ],
   "source": [
    "sns.countplot(x='Gender',data=data)\n",
    "plt.title('Male vs Female')\n"
   ]
  },
  {
   "cell_type": "code",
   "execution_count": 184,
   "metadata": {},
   "outputs": [
    {
     "data": {
      "text/plain": [
       "([<matplotlib.patches.Wedge at 0x1cc98902160>,\n",
       "  <matplotlib.patches.Wedge at 0x1cc98902610>,\n",
       "  <matplotlib.patches.Wedge at 0x1cc98902a90>,\n",
       "  <matplotlib.patches.Wedge at 0x1cc98902f10>,\n",
       "  <matplotlib.patches.Wedge at 0x1cc988fb340>],\n",
       " [Text(0.5499999702695115, 0.9526279613277875, '4'),\n",
       "  Text(-1.098860046242398, 0.0500659442351283, '3'),\n",
       "  Text(0.07506679095569799, -1.0974356367895175, '5'),\n",
       "  Text(0.9879405284079203, -0.48370808586282626, '2'),\n",
       "  Text(1.098860046828337, -0.050065931374790734, '1')])"
      ]
     },
     "execution_count": 184,
     "metadata": {},
     "output_type": "execute_result"
    },
    {
     "data": {
      "image/png": "iVBORw0KGgoAAAANSUhEUgAAAOcAAADnCAYAAADl9EEgAAAABHNCSVQICAgIfAhkiAAAAAlwSFlzAAALEgAACxIB0t1+/AAAADh0RVh0U29mdHdhcmUAbWF0cGxvdGxpYiB2ZXJzaW9uMy4yLjIsIGh0dHA6Ly9tYXRwbG90bGliLm9yZy+WH4yJAAAadklEQVR4nO3de3xcZZ3H8c9zzsxk0iSdpOmFXihD2QIphJttKS3QgqhogFUXQVwxgi5SLiIKklXEo6CkgAhCua0UioDii4V13SjCLmK5yb0wlISbhNJCW2jptE0nk2Ry9o+TlrY0TSaZOc9z5vzer1deAZ05zy+03zxnzjm/51Gu6yKEMI+luwAhxM5JOIUwlIRTCENJOIUwlIRTCENJOIUwlIRTCENJOIUwlIRTCENJOIUwlIRTCENJOIUwlIRTCENJOIUwlIRTCENJOIUwlIRTCENJOIUwlIRTCENJOIUwlIRTCENJOIUwlIRTCENJOIUwlIRTCENJOIUwlIRTCENFdBcgdi3Z1BID9uz7mrLN125AGRAFYn3fo31v6wK6t/neCawA/gG81ff9H8Dy9uaGnF8/Sz6UUjbwLLDSdd3jdNejg5KNjMyQbGqZBhyCF7xtgziB4p3h9ADL2T6wbwLPtDc3tBdpzEFRSn0XmA6MlHAKXyWbWsYDxwCf6vs+Xm9FH/MG8L/AQ8DD7c0N6/0aWCk1CVgM/Az4roRTFFWyqaUSmMtHYdxPb0V5yQHP8VFYn2hvbugq1mBKqXuBy4Eq4AIJpyi4ZFPLvsCX8AI5i48+EwZdB/AoXlDvaW9uWFmoAyuljgM+57ruWUqpeUg4RaEkm1oiwOeBs4CjNJfjhx7gv4Eb2psb/m+4B1NKXQ6c2nfcODASuM913a8O99hBI+EskGRTywTgDODf8C7ihFEbcBNwe3tzQ3q4B5OZU8I5LMmmlqPxZsl/Rm5NbbEZuBtY2N7csHSoB5FwSjjzlmxqSQCNwHxgX83lmO7vwA3A79ubG7K6iwkSCWcekk0t5cD5wEV4n4XE4L0LXALc1t7c0Ku7mCCQcA5CsqnFwpspfwpM0lxO0L0MXNTe3PAn3YWYTsI5gJP+/aqjnnbrrgEO0F1LiXkYuKC9ueEF3YWYSsLZHycxGbgm60YOnJa9bXIOWy72FF4vcCNwsZ9PIAWFdKXsyElEcRJNQCvwhTLVM+WSyB1P6C6rRFnA2cCryaaWr+kuxjQyc27LScwBfs0OV2Bdl/Qnsjf2rCNRq6ew0FgCfKu9uaFNdyEmkJkTwEkonMT3gUfYya0RpUjcGvvFK77XFT5HAs8mm1q+orsQE8jM6SRq8Dogjt/Vy1yX3Oe7fvrmi+4/7e1PYaF3I/CdYj5gb7pwz5xOYgbwAgMEE0Ap7EWxKzuKX5ToMx94LNnUsofuQnQJbzidxLnAY8Cg//Br1caDT7Uf+nvxihI7mAE8n2xq+azuQnQI32mtkxiJd9HnS0N5e7drv7N/9tYxWWLxwhYmdsHFa7z+cZieLgrXzOkkDsRbl2ZIwQSIqtzuzdH/eKpwRYlBUMDFwIPJppYxuovxS3jC6SQ+CzwJTB3uoT5vPT59PGtXDb8okadPAi8km1pm6i7ED+EIp5M4AfgvoLwQh1OKittiV7xZiGOJvE0EHko2tRymu5BiK/1wOokvAvfiLR9ZMPuod2bPtl5eVshjikEbCTxQ6gEt7XA6iZOBeyjC2j1KoW6O/hII2xU1Y5R8QEs3nE7iq8BdFHF1giqV2e9s+w/y3K0+JR3Q0ryV4iROw7tdUvRfPjlXrarP3lq1mXhFsccS/doAHNve3PCk7kIKqfRmTidxBnArPv1stnJ3uza68Fk/xhL9KskZtLTC6STOwlv9Tfk57DHWc4cm1Xvv+Dmm+JiSC2jphNNJHAtch8/BBFCK+OLogoItrCyGbEtAZ+gupBBKI5xOYi+8pRi1/Tx7WGtmfdp6Rpbc0G8kcH8pPEkU/HA6iQrgfqBGdynXRhdWWPQauaVeyEwE7u5bmC2wAl18n1uBet1FAJSrrr0vjNwjt1bMcAzwE91FDEewb6U4iQuAK3WXsa1eV609KHtzZAOVCd21CFygob254c+6CxmK4M6cTuKTQLPuMnZkKbf25ug1L+quQwDexcE7k00tk3UXMhTBDKeT2APvsTxbdyk7M8t6ZXadelsejDfDKODeZFNLQZ+t9kPwwukkyvEuABm7Ep5SRBbHFnyouw6x1Qzgl7qLyFfwwglXAwfrLmIgY9X66f9iLXlGdx1iq7OCtqpfsC4IOYkj8Zav9P1Bg6HociNvTcsumtRDpFR2tA66DmB6UNbFDc7M6STKgFsISDABYqpnz59EbpdbK+aoAG7WXcRgBSec8ENgH91F5Osr9sMHjWb9+7rrEFsdmWxqOVV3EYMRjHA6if2AJt1lDIVSJBbFrgzEaVSIXNm3AbLRghFOuJ4irGbgl3r11pyD1euv6q5DbDUOuEx3EQMxP5xO4kRgnu4yhkMprEWxKzt11yG2Mz/Z1GL0VX+zw+kk4sBVussohBq16cCv2w+UVKd+wNkY/nfL7HDCheSxXYLpLo7cuXucbEZ3HWKro03e6sHccDqJ8QT0IlB/Iqp30hXRW57WXYfYzhWmtpYZWVSf84ARuosotOOtJ2dM5P33dNchttof+LruInbGzCeEvAbqFUC17lKK4fXeiU98quvK2brrEFutBPZqb27I6i5kW6bOnKdTosEEmGqtnH2E9VJKdx1iq4kMY3OrYjEvnE7CAr6ju4xiuzF6jS2rxRvlLN0F7Mi8cMIXgCm6iyi2StU57dv2fY/rrkNsdViyqeUg3UVsy8Rwfld3AX45L3Lf3hVkNuquQ2xl1OxpVjidxCwgNBdKbOWOvS563fO66xBbfcWkZ27NCmeIZs0tjrKWzpqi3n1bdx0C8FrKGnUXsYU54XQSSeCLusvwm1KU3RFrXq27DrHVfN0FbGFOOOFsDF2wq9gmqQ9mfs56Sk5vzbBvsqnlaN1FgFnhPFF3ATpdHb2hSlaLN4YRF4bMCKeTOABI6i5Dp7jqnvrvkbvl1ooZ/jnZ1DJBdxFmhBNO0F2ACb5h/6m+mo2ypKZ+EeBk3UVIOA1iKWpuiV0tj/WZ4VO6C9AfTq81bLruMkwxQ706ez/11hu66xAcqXuVeP3hhOMJ0HKXxda3WvwG3XUIKgCtu2SbEE45pd3BaLXhkJPsv0pTtn5aT231htNJjAA+qbUGQ10WWTQuSk+X7jpC7hidg+ueOT8NxDXXYKSYyu1xWWSRLAim1/RkU4u2vmLd4Txe8/hGO8l+5JCxfCirxetjA0fpGlx3OA/XPL7RlKLqttgVshi1Xto+d+oLp7cm7V7axg+IaertOTNUW6vuOkJM2+dOnTNnHSF90D0fSqF+HbuqW3cdITY12dSiZe1kneGs1zh2oCTU5gO+abfIVoL6zNQxqM5w7q9x7MBpivw2WU52s+46QkrLmlYSzoCIqN4Jv4jeKNvY6yHhFLv2WevpmburNSt11xFCIQqnk0gAu2sZO8CUovz26ILluusIoRCFU2bNIdvLeu+wedbSl3TXETKTk00tvt9ZkHAG0MLotVFFb6/uOkIkgoYzPV3hnKZp3JJQobJ150fulVsr/vL91FZXOMdpGrdknGP/YZ9KNkvfp3+CFU6lVFwp9bRS6kWl1DKl1E8G+daa4YwrwFLumIXRX72gu44Q2dPvAYc7c2aBo13XPRA4CDhWKTVrEO+TcBbAkdZLh01VK9p11xESwZo5Xc+mvn+N9n0NZls7CWcBKEVscWyBtJT5Y5LfAw77M6dSylZKLQXWAA+5rvvUIN4m4SyQCWrtjOOtJ57VXUcI+L4owLDD6bpuznXdg/B+s8xUSg3mNknVcMcVH7kqenONTa5Hdx0lLur3gAW7Wuu67nrgEeDYXb7QSShA65KDpaZMde91ceROWS2+uHz/Ozvcq7VjlFLVff9cjteY2jbA2ySYRdBo/+XAGjas011HCQvczDke+KtS6iXgGbzPnP8zwHsknEVgKap/HfvFy7rrKGG+/72NDOfNruu+BByc59sknEXyTM1qrvzTpQ9OWlc5PlNe27G5fExnpnxMd2e8VmXLqiM90Yp4zi6vdK1IAqVGIIt5D5oLmwZ+lUcptQg4Dljjuu6QH1UdVjgDNGbJa49Eli+sSRwcOWVT2cKF6dT4D1bu8n5zzop1ZMuq13bGR6Uz8dGbM+Wjs53xUb2dZTV2V2xktCc6ojJnxUa6yq5FqQq/fg5TKejI4+W3A9cDdwxnTB1BWa9hzJKWg9wpE3ZLo9TkHhu+faa9703X51IV2f6XgrF7uypGZNZUjMisGfD4PXZZRzZW/UFnfNSGTPnozZ3x2mwmPtrNxqtVV3RkWXd0REWvFUu4yqrtm5FL0aDXcXJdd4lSKjncAf0Pp5PO4iQ2AZW+j12iLhpT+9gm25q75d+zMVVxznx78k3X514r62Hv4R4/kstWRDKrKyoyq2GADQp77LKN2bLqdZ3x2g2Z+OiOTHltV2e81u0sq7G6YlVlPZHtglw+3Np85PsSMbpOMd9HwlkQT8XLlv2lYsScHf/3jnKVOHe+3XXDwtzbkV58Wz0ukstWRTavrqrYvHrA1/bY8Q3Zsup1mXjths7y2o5MfEx3Jj6qN1tWY3tBLq/otWLVrrJGo1SZD+XvyqA/cxaKrnB+gIYHiUtNh1KbztxtbCVK7fTPcX2lGnP+GfaKa27OvWe7jPe7voFEcp0jI5tXjazYvGrA13bb5elsvGZdZ3zUhky8dnOmfHR3Z7y2N1tWE+mKVsV6IuWVvXa02sUajVLFuOjoeweQzplTDNNp48ct7VFql6vmr65Rk5pOs99csCi31oJav2ortGguk4h2ZBKVHe8O+NruSHk6W1azLhOvTXeWj85k4qO7OuOj3M6y6kh31JuRc3a0BqzaPILs+47jOmdOMQy/r6r8e2tZbFDbWbw9Tu31k3+1X3HuysVUCB6djPZkEtGewQa5Yn1nWfXaznjtxkz56Ewm7n1GzpZVR7pjVWU9drwqZ8cSCnfg6b2PUuq3wDxgtFJqBfBj13VvzffnkJkzgFbZ9qrLamvyutDTOllNu+JEa+n37+3dV8nObltFezqqoz0d1VUdAy5quAYGtyuG67qnDLsw9K2EIDPnELngnjJht5WuUqPyfe9zU62DbmywXnJBHpLPn+9LkuoKp8ycQ3R5bc2SDyL2J4b6/kcOsGbeeZT1lAuyQFh+Vvg9oIQzQJbFYq//tqry0OEe54+zrDl/PFQ9VoiaQiQ0M+fAn9TFdrog2zh+LChVkM+Ldx5tH7lkP/VIIY4VAt3AP/weVFc4U+TxOJSAs3Yb+/esZU0t5DGvP8Ge9+Ke6m+FPGaJaqtra+3ye1BN2zGks3gBFYPw4Ijy55+Klx1ZjGP/7Mv23Dd349FiHLuEvKhjUJ0bGcmOWYOw3rI+vHDs6PEoVbT2rh983Z7zXg1PFuv4JUDCKT7ulAnjXu1VqqiP3rlKWd/7N/sTH1YgC4XtnIRTbO+m6pGPrYhGB7MO8LD12Cp27nx72qYyZJOkjwtdOJehoQ0nKNojkeULqxMH+jlmV1SNOHe+vUc2wqt+jmu4VXVtrQM3vRaBvnA66RzwvLbxDbZN87Tvz8F2lKvEOfPtUd0W7X6PbailugbWOXOCnNruVF/zdL+rGBRbulKNOf9bdjSneE9XDQb5q66BJZyG6a952m9rqtXEi063M73yHPQDugbWHc6nNY9vlIGap/22fKya8uOv2u+7GhqNDfFuXVurtgtkesPppN8E3tJag0H6mqd9W1JkMF7dXdUtONF6y4WM7lo0+IvOwXXPnAC/112ACfJpnvbb81OtAxceZ73shu+Ry9CH83e6C9BtKM3TfltSb82445PWMyFqNcsBD+ksQH84nfRSCO99NRfcLw+xedpvLTOt2X+YFZpWs2fq2lq17j2jP5yee3QXoMvPa2seXTuM5mm/3X2UfeQj9aFoNfuj7gJMCWcoT22XxWKv/66qcqbuOvJ1w3H2vBemlHRAexnmVgqFYEY4nXQrIWshK3TztN8uP9me98b4km01e6iurdX3ZUl2ZEY4PaGaPYvRPO23Hzbac94dxRO66yiC23QXAGaFMzSfO4vZPO0nVynre9+0Z6yrLKlWs3XAf+kuAkwKp/dAQin9Ie+UH83TfsrZKvrtM+39NsVLptXs7rq21qzuIsCkcHq0fwgvNj+ap/3WFVXl58y39+iM0qa7lgIw4pQWzAvnIrzTipJ0o4/N037bHFeJc8+0a7vtQD+OubSurdWYNkazwumkO4CFussohvZIZPkNPjdP+y3t7WpWllOBXfr0at0FbMuscHquo8QestbZPO23NdVqwvdPt7O9KnALh78N/FZ3EdsyL5xO+n2809uSobt52m/vjFV7/uhUe50Lad215OGqurZWo/aQMS+cnqsokQ4IU5qn/fb6RLXP5SdZbwek1Ww1MOAWfUqp3ZVSf1VKtSqllimlzitmUWaG00m3M4j/WKYzrXnab0v3sg64/nhrWQBazZrr2loH80ukB/ie67p1wCzgbKXUtGIVZWY4PZcBnbqLGA4Tm6f99uj+1vTbj7GeNbjV7F3gpsG80HXd91zXfb7vnzfibdg5sViFmRtOJ72SQf5HM5HJzdN++/MM67D7Z6vHddfRj5/XtbXmPQkopZLAwcBThS5oC3PD6bkc6NBdRL6C0Dztt9/NtY94+ADjOlmWATfn+yalVCXwn8B3XNct2vpKZofTSa8Bfq67jHwEqXnabzc12POe28uogJ6V7xVapVQUL5h3ua57X3HK8pgdTs8VwAu6ixisoDVP+23BSfa81yawRHcdwG/q2lrzqkN5z0PfCrS6rlv0BxbMD6eT7gFOx7tSZrSgNk/77Udfsw9fqbfVbD1wwRDeNwc4FThaKbW07+tzhS3tI8p13WIdu7CcxGXAD3WX0Z8uyM7eY9LyoPdo+sXOud3X35BbWruJGRqGP7uurfUGDePmxfyZ8yM/BV7RXUR/SqF52k85W0XPO9Pef2Pc9x28niUgdwGCE04n3QWchrdkoVFKpXnab32tZnt2Rmn1acgeYH5dW6up91y3E5xwAjjpp4FrdJexrVJrnvZbJq5GnjvfHuNTq9kldW2tgWnoD1Y4PT8CXtddxBal2Dztt3SFGn3et+x4zqKYi2o9CDQX8fgFF7xwOukM8A1A+5WsUm6e9tsHCTX+wtPtniK1mq0CTq1ra9X+dyYfwQsngJN+FFigs4QwNE/7bcUYlby48K1mvcC/6tqdejiCGU7PD/Ce1PBdmJqn/fbGRLXPz062lruwuUCH/HldW+vDBTqWr4IbTift4t0Q9n0D3rA1T/vtpSlW/a9OsF5xoWuYh1oCOAUoSYvghhO2fP48AXjHryHD2jztt8f3s6bf9inruWG0mv0D+FJdW6txt94GK9jhBHDSq4AGYGOxhwp787TfHphuHXbf0FrN3gc+E8TPmdsKfjgBnHQKOJkiP6Bw2vhxL4S9edpv98y1j/jfA9Xf8nhLB9BQ19b6RrFq8ktphBPASf8ZKNqaLvd4zdNHFOv4on+3fM6e+8zUQbWa9QAn1bW1+n4dohiC8+D7YDmJXwHnFvKQq2x71ad3nxCTHk29Lr2jZ8k+K9nVY5LfqGtrLZmVG0tn5vzI+cD9hTqYNE+b40en2kesqKW/z6CXlFIwoRTD6aRzwJco0J4X0jxtEKXUBd+0D/2giqd3+H8urWtrvVRLTUVUeqe123ISC4DvD/Xty2Kx1788YdzuQd3gtlRFe9zOm67PtVVlOAj4QV1b6+W6ayqG0ps5t+WkL8LreM/7N1DQd54uZd0RFT9nvr3nmgRnlmowodTDCeCkfwF8nTyXOZHmaaN1Z8rU2XOfas175bwgKf1wAjjpO4DPM8jnNaV52mgdwAmpxtRdugspttL+zLkjJzEb+B+gpr+XrLesD+dOntgpPZpGehv4YqoxZcwemsUUjplzCyf9BHAEsLK/l0jztLEeBD4RlmBC2MIJ4KSXAYfg/WFvR5qnjeTiLSz+2VRjaq3uYvwUrtPabTkJhXeb5TIg0h6JLD9+0vga6dE0ygbga6nG1B90F6JDeMO5hZM4LAe/OXzypM3So2mUFHBiqjH1mu5CdAnfae2OnPSTZ+w29pBNtuX3+qli57qBS4HpYQ4myMy5nfrF9f+Ct+DwaN21hNTzwOmpxpT8okRmzu2kGlP/CewH3IEBq/uFSBZvTahDJZgfkZmzH/WL6w8FrgMte3mEyRPAN1KNqTbdhZhGwrkL9YvrFd6jf5cD4/RWU3JeA36Yakzdq7sQU0k4B6F+cf1I4BLg20BUczlBtwpvU6r/SDWmjN/WUScJZx7qF9cngQvx9guVbpX8bASuBK5ONaY6dBcTBBLOIahfXD8O+C4wH5CHFnZtLXAL8MtUY6oYWy2ULAnnMNQvrq8GzsFbWExuv2zvZeBa4K5UYyqju5ggknAWQP3i+hHAl/EuHh0OhHU7wF68rp9rU42pQG6BYBIJZ4HVL66fAjQCXwOSeqvxTStwD3BnqjH1pu5iSoWEs0j6bsPMxZtNT2AXPaQB9RpeIH+faky9rLuYUiTh9EH94nobOBT4DHAsMJ3gPZ2VA5YCf8ELpDzJU2QSTg3qF9fXAp/GC+rhwBS9Fe1UN/As8De83boeTzWmNugtKVwknAaoX1yfAA7q+zq472sa4NeGSR8CrwJtfV/PAk+mGlOF2iNTDIGE01D1i+vLgL2BiX1fE7b5vuWrHO+JpUjf9x1PlbvxGpY34N1vfL/vazXwBn1hTDWmAr0bV6mScJaQvotQW8Lam2pMdWouSQyDhFMIQwXtiqEQoSHhFMJQsn16yCil2vE6RHJAj+u60/VWJPoj4Qyno1zX/UB3EWLX5LRWCENJOMPHBR5USj2nlDpDdzGif3JaGz5zXNd9Vyk1FnhIKdXmuu4S3UWJj5OZM2Rc13237/sa4H5gpt6KRH8knCGilKpQfXvBKKUq8B6+l3YvQ8lpbbiMA+5XSoH3Z3+367oP6C1J9Ece3xPCUHJaK4ShJJxCGErCKYShJJxCGErCKYShJJxCGErCKYShJJxCGErCKYShJJxCGErCKYShJJxCGErCKYShJJxCGErCKYShJJxCGOr/ASBvdIUxXaJNAAAAAElFTkSuQmCC",
      "text/plain": [
       "<Figure size 432x288 with 1 Axes>"
      ]
     },
     "metadata": {},
     "output_type": "display_data"
    }
   ],
   "source": [
    "plt.pie(data['RM_productive'].value_counts().values,labels = data['RM_productive'].value_counts().index)"
   ]
  },
  {
   "cell_type": "code",
   "execution_count": 185,
   "metadata": {},
   "outputs": [
    {
     "data": {
      "text/plain": [
       "Text(0.5, 1.0, 'RM_professional_growth')"
      ]
     },
     "execution_count": 185,
     "metadata": {},
     "output_type": "execute_result"
    },
    {
     "data": {
      "image/png": "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",
      "text/plain": [
       "<Figure size 1152x576 with 6 Axes>"
      ]
     },
     "metadata": {
      "needs_background": "light"
     },
     "output_type": "display_data"
    }
   ],
   "source": [
    "fig, axes = plt.subplots(2, 3, sharex=True, figsize=(16,8))\n",
    "data.groupby('Occupation')['RM_productive'].value_counts().unstack().plot(kind='bar', ax=axes[0,0])\n",
    "axes[0,0].set_title('RM_Productive')\n",
    "\n",
    "data.groupby('Occupation')['RM_lazy'].value_counts().unstack().plot(kind='bar',ax = axes[0,1])\n",
    "axes[0,1].set_title('RM_lazy')\n",
    "\n",
    "data.groupby('Occupation')['RM_improved_skillset'].value_counts().unstack().plot(kind='bar', ax=axes[0,2])\n",
    "axes[0,2].set_title('RM_improved_skillset')\n",
    "\n",
    "data.groupby('Occupation')['RM_better_work_life_balance'].value_counts().unstack().plot(kind='bar', ax=axes[1,0])\n",
    "axes[1,0].set_title('RM_better_work_life_balance')\n",
    "\n",
    "data.groupby('Occupation')['RM_professional_growth'].value_counts().unstack().plot(kind='bar', ax=axes[1,1])\n",
    "axes[1,1].set_title('RM_professional_growth')"
   ]
  },
  {
   "cell_type": "code",
   "execution_count": 186,
   "metadata": {},
   "outputs": [
    {
     "data": {
      "text/plain": [
       "Text(0.5, 1.0, 'Violinplot for RM_productive with respect to occupation and gender')"
      ]
     },
     "execution_count": 186,
     "metadata": {},
     "output_type": "execute_result"
    },
    {
     "data": {
      "image/png": "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",
      "text/plain": [
       "<Figure size 1080x1080 with 1 Axes>"
      ]
     },
     "metadata": {
      "needs_background": "light"
     },
     "output_type": "display_data"
    }
   ],
   "source": [
    "plt.figure(figsize = (15,15))\n",
    "sns.violinplot(x = 'Occupation', y='RM_productive',hue = 'Gender',data = data).set_title('Violinplot for RM_productive with respect to occupation and gender')\n",
    "#0 - Female"
   ]
  },
  {
   "cell_type": "code",
   "execution_count": 187,
   "metadata": {},
   "outputs": [],
   "source": [
    "from statsmodels.graphics.mosaicplot import mosaic"
   ]
  },
  {
   "cell_type": "code",
   "execution_count": 192,
   "metadata": {},
   "outputs": [
    {
     "data": {
      "text/plain": [
       "Text(0.5, 1.0, 'RM_professional_growth')"
      ]
     },
     "execution_count": 192,
     "metadata": {},
     "output_type": "execute_result"
    },
    {
     "data": {
      "image/png": "iVBORw0KGgoAAAANSUhEUgAAA7QAAAJNCAYAAAABLTnLAAAABHNCSVQICAgIfAhkiAAAAAlwSFlzAAALEgAACxIB0t1+/AAAADh0RVh0U29mdHdhcmUAbWF0cGxvdGxpYiB2ZXJzaW9uMy4yLjIsIGh0dHA6Ly9tYXRwbG90bGliLm9yZy+WH4yJAAAgAElEQVR4nOzdeZgdZZX48e8hiYKSsCUwYJAGQdKQDQgiW4hKMiD7roIQkMH8FBd00DguIC7giCMwZGRQMFEwbCoyICNgBAQRCRIgEFBggklYsiAQkCUk5/dHVTdN00lvt/ve2/39PE8/6Xur7lvn3u6cPqfqrarITCRJkiRJqjdrVTsASZIkSZK6woZWkiRJklSXbGglSZIkSXXJhlaSJEmSVJdsaCVJkiRJdcmGVpIkSZJUl2xoJUnqIRExOSJuq3YckupbRBwdETdUO45Ki4j5EbF3F1/bEBEZEQPbWPbOiHghIgaUj2+OiBPL783LfYwNraouIiZExMIeGvuFiNiqJ8aW1DeUBdVLZb54KiKmR8S65bLpZcF0YKvXnFM+P7kqQUuqOT2ZSzLz0syc1IPh9ymZ+bfMXDczV/bE+D1Zu6rzbGj7kJ5MpOXerJXl2M9HxJyI2L8H306ntdz71qRMZo9VKyZJdeOAzFwXGAvsAHypxbK/AMc1PSiPBhwBPNqrEUqqB3WfS5qOakr1woa27+nJRHpHOfb6wEXAFRGxYeuV2pr6IUn1IDOfAn5DkUOb/A+we0RsUD7eB7gPeKqz40fEuRGxoNwxeHdE7Nli2bPlTsMXIuLFcmdjQ0TMjYgDWqw3KCKWRsTYtrciqdoqnUtaT5Mt88MnIuKvEbE8Ir4REe+KiDvK/HJFRLylXHdCRCyMiH8rc8f8iDi6xVjTI+IHEfHriHgReF9ENJYHCp6NiAeaDohExHvLgyYDWrz+kIi4r/x+rYiYGhGPRsSyMo4NW6z70Yh4vFz25Y58lhHxnoiYXb6vpyPiP1az3mHlexsZa5iO3Oo1ERHfj4jFEfFcRNwXESPLZW+NiLMj4m/ldi+IiHUi4u3A9cBmLXL2Zh15L+oZNrR9VE8WZZm5CrgYWAfYKiJOj4irIuKSiHgemBwRm0XENRHxTEQ8EhH/0vT6MhlMj4i/R8SDwM4txy8T0NYtHk+PiG+2eHxQeYT4+TJh7hMR3wL2BM4vE8v5LcfqbgKW1D9ExHBgX+CRFk+/DFwDfKh8fCzwky5u4i6KvLwh8DPgyohYGyAz1y9nlawLnAv8HlhUbuuYFmN8EHgyM+d0MQZJPawXcgkUddxOwHuBLwAXAkcDmwMjgQ+3WPefgKHAOygOblwYEdu2WP4R4FvAYOBOiprxBmBj4FPApRGxbWb+EXgReH+r1/6s/P7TwMHAXsBmwN+BaQARsR3wA+Cj5bKNgOEdeJ/nAudm5hDgXcAVrVeIiOOB7wB7Z+bcDozZZBIwHng3xQGbo4Bl5bLvlM+PBbam+Oy+lpkvUvxsn2jK2Zn5RCe2qQqzoe2jejKRlnu7TgReAP5aPn0QcBVFMrgUmAkspEhYhwPfjogPlOueRpGQ3gX8My2OGndg2+8pYz613NZ4YH5mfpmi+Du5TCwnt3xddxKwpH7h6ohYDiwAFlPkqZZ+AhwbEetR5Imru7KRzLwkM5dl5muZ+T3grUDLopKIOIoiPx2WmSuAS4APRsSQcpWPAj/tyvYl9bheySWl72Tm85n5ADAXuCEzH8vM5yiOIO7Qav2vZuYrmXkLcB1wZItlv8rM28uDFmOBdYGzMvPVzJwFXMvrDfLMpu8jYjDFTraZ5bKPA1/OzIWZ+QpwOnB4WTseDlybmbeWy74KrOrA+1wBbB0RQzPzhbKma+mzFHXhhMx85M0vb3fswcAIIDJzXmY+GREB/AtwSmY+k5nLgW/zeg2tGmJD2/f0ZCJ9b0Q8S3FE98PAIWXShGI68tVlIhwK7AF8MTNfLo8i/IiiCIMigX6rTBALgPM6EcPHgIsz88bMXJWZizLzoQ6+tqsJWFLfd3BmDgYmUBQ2Q1suzMzbgGHAVygKspe6spGI+HxEzCuntj0LrNdyWxGxA3A+RX5dUm77CeB24LCIWJ9iZ+WlXdm+pB7XK7mk9HSL719q4/G6LR7/vTyy2ORxih34TRa0+H4zYEFZ07Vc/x3l9z8DDo2ItwKHAn/OzMfLZVsAvyynKj8LzANWAps0jds0YBlP09HQNfkYxZHShyLirnjzNVxOBaZlZqcv0lQ26+dTHMR4OiIuLHceDgPeBtzd4r38b/m8aowNbd/Tk4n0j+WUuKGZ+d7MvKnFstaJsGlvVpOWiXCzVus/TsdtTtcvntDVBCypnyiPXEwHzm5j8SXA5+niFMEozpf9IsVOvQ0yc33gOSDK5cOAX1LMNLmn1ctnUEw7PoJiB+KirsQgqXf0ZC7pog3Kcz+bvBNoOU02W3z/BLB5RKzVav1FAJn5IEXtti9vnO0GRX23b1kvNn2tXeasJynqOAAi4m0U047XKDP/mpkfppj+/B3gqlbvZRLwlYg4rL2xVjP+eZm5E7A9ReN8KrCUYqfA9i3ex3rlKSHwxs9LVWZD20dVIZG2ToQblkdBmzQnQloltHJZS/+g2CvW5J9afL+AYqpyezG8eWHXE7Ck/uUcYGK8+aJL5wETgVu7OO5g4DVgCTAwIr4GDIHmUzl+DlyamZe38dqrgR2Bz9C7RbCkruupXNJVX4+It5Q71/YHrlzNendSnKb1hSguQjcBOAC4rMU6P6M4XWt8q3EuAL4VEVtAsaMuIg4ql10F7B8Re0Rxwaoz6EAvEhHHRMSw8ojxs+XTLW/H8wDF+cTTotXdPDow9s4RsUtEDCrf88vAynJbPwS+HxEbl+u+IyL+uXzp08BG5YxHVZkNbd9WlURaTiP+A3BmRKwdEaMppos0TZG7AvhSRGxQnuv7qVZDzAE+EhEDImIfiqnRTS4Cjo+ID5QXcnpHRIwolz0NtHfP2a4kYEn9SDnV9ycU53e1fP6ZzPxtZnZ1z/xvKM5r+wvFzrWXeX22ynCKC9t9Nl6/auYLEfHOctsvUTS8WwK/6OL2JfWiHswlXfEUxfVBnqCox6as7pStzHwVOJDiAMBS4L+AY1utP5NiNuCszFza4vlzKa7XckN5CtwfgV3KcR8APklRiz1ZxtORacL7AA9ExAvl+B/KzJdbxXwvRZP+w4jYtwNjNhlC0bj+nSIvL+P1g0FfpLgWzR+juOjpTZTXPCg/i5nAY+XsPq9yXEXRu/+X1JMiYj5wYsupwBHxA4opGsuBhZn5lTZedxvwo8ycvoaxJ5dj79HGstOBrTPzmBbPDadoEnejSBLfzcwLymVvK5cdSJFYfwx8JjOHl8vHUUyveyfFUYmBwKNNsUfEIcDXKQq7p4FPZuZvImLX8nXDgJ9m5qcjIoFtmi4SUBaH84HrM3O/FvGuRXFRgY9TTIleDFyemf+2us9EknpTeUT33S1zrSS1pzzCeklTnSX1NTa0kiTVuPI2YvcAH83M3p6mKKmO2dCqr3PKsSRJ3RARF7SaJtz0dUGFxv8XiqnJ19vMSn1XT+eSWhYR16/mvTtTTu3yCK2alQmzralsl2TmlN6OR5IkSZLWxIZWkiRJklSXnHIsSZIkSapLA3tzY0OHDs2Ghobe3KSkOnD33Xcvzcxh1Y6jUsx1ktpirpPUH/R2ruvVhrahoYHZs2f35iYl1YGIeLzaMVSSuU5SW8x1kvqD3s51TjmWJEmSJNUlG1pJkiRJUl2yoZUkSZIk1aVePYdWvWPFihUsXLiQl19+udqh1K21116b4cOHM2jQoGqHIqkH1Xu+NFdJqjf1nnf1ulr5G9RuQxsRFwP7A4szc2T53HeBA4BXgUeB4zPz2Z4MVB23cOFCBg8eTENDAxFR7XDqTmaybNkyFi5cyJZbblntcCT1oHrOl+YqdZW1naqpnvOuXldLf4M6MuV4OrBPq+duBEZm5mjgL8CXKhyXuuHll19mo402Mkl0UUSw0UYbuedQ6gfqOV+aq9QN07G2U5XUc97V62rpb1C7DW1m3go80+q5GzLztfLhH4HhPRCbusEk0T1+flL/Uc//3+s5dlWPtZ2qzdzVN9TKz7ESF4U6Abh+dQsj4qSImB0Rs5csWVKBzVXPvBGNzBvR2LUXn75e8aUOe2DpAzyw9IFqh9GvTZsyi2lTZlU7DNWxbuVNqYIapl5Hw9Trqh1GvVhtbdeX6rpKGDVjFKNmjKp2GFKHLH78eRY//ny1w6i4bjW0EfFl4DXg0tWtk5kXZua4zBw3bNiw7mxO3TBgwADGjh3LyJEjOeCAA3j22eK0mPnz5xMRfPWrX21ed+nSpQwaNIiTTz651+JraGhg6dKlnX7d/Pnz+dnPftb8ePbs2Xz605+uZGiS+plK58vTTz+ds88+u8fjliqhvdrOuk49odJ594ILLuAnP/lJj8ddKdOnT+903b2617R875MnT+aqq64CYMKECcy578+dju3qq6/mwQcf7PTrelOXG9qIOI7iggJHZ2ZWLiT1hHXWWYc5c+Ywd+5cNtxwQ6ZNm9a8bKuttuLaa69tfnzllVey/fbbd3ubr732WvsrdVPrhnbcuHGcd955Pb5dSX1XNfKlVAus7VQtlc67U6ZM4dhjj614nCtXrqz4mJVW6ffeZxvaiNgH+CJwYGb+o7IhqaftuuuuLFq0qPnxOuusQ2NjI7Nnzwbg8ssv58gjj1zjGJMnT2bKlCnsueeevPvd725ONNOnT+eII47ggAMOYNKkSTzzzDMcfPDBjB49mve+973cd999ACxbtoxJkyaxww478PGPf5ymv5vz589n5MiRzdv58bQfc/rppwPwyCOPsPfeezNmzBh23HFHHn30UaZOncrvf/97xo4dy/e//31uvvlm9t9/f1atWkVDQ0PzHj6ArbfemqeffpolS5Zw2GGHsfPOO7Pzzjtz++23d/9DldQnVSJftvTDH/6QnXfemTFjxnDYYYfxj38Uf0LHjh3b/LXOOutwyy23sM0229A0pXPVqlVsvfXWXZrJInWEtZ1qRSXybsuZMRMmTOCUU05h/PjxNDY2ctddd3HooYeyzTbb8JWvfAUo6s8RI0Zw3HHHMXr0aA4//PDm/NzQ0MAZZ5zBHnvswZVXXsnMmTMZNWoUI0eO5Itf/CIAP/jBD/jCF77QvP3p06fzqU99CoBLLrmE97znPYwdO5aPf/zjzU3xj3/8Y9797nez1157tVuLXnnllYwcOZIxY8Ywfvz4Ny2/7rrr2HXXXVm6dGm7s4JWrlzJ5MmTGTlyJKNGjeL73/8+AI8++ij77LMPO+20E3vuuScPPfQQf/jDH7jmmms49dRTGTt2LI8++uga46yWdhvaiJgJ3AFsGxELI+JjwPnAYODGiJgTERf0cJyqkJUrV/Lb3/6WAw888A3Pf+hDH+Kyyy5j4cKFDBgwgM0226zdsebPn88tt9zCddddx5QpU5qvcnbHHXcwY8YMZs2axWmnncYOO+zAfffdx7e//e3mPUZf//rX2WOPPbjnnns48MAD+dvf/tbu9o4++mg++clPcu+99/KHP/yBTTfdlLPOOos999yTOXPmcMoppzSvu9Zaa3HQQQfxy1/+EoA777yThoYGNtlkEz7zmc9wyimncNddd/Hzn/+cE088scOfn6T+o5L5ssmhhx7KXXfdxb333ktjYyMXXXQRAHPmzGHOnDl84xvfYNy4cey2224cc8wxXHppMevzpptuYsyYMQwdOrRyb1D9lrWdalVP5F2At7zlLdx6661MmTKFgw46iGnTpjF37lymT5/OsmXLAHj44Yc56aSTuO+++xgyZAj/9V//1fz6tddem9tuu43x48fzxS9+kVmzZjFnzhzuuusurr76ag4//HB+8YtfNK9/+eWXc9RRRzFv3jwuv/xybr/9dubMmcOAAQO49NJLefLJJznttNO4/fbbufHGG9s9AnrGGWfwm9/8hnvvvZdrrrnmDct++ctfctZZZ/HrX/+6Q38j5j54H4sWLWLu3Lncf//9HH/88QCcdNJJ/Od//id33303Z599Np/4xCfYbbfdOPDAA/nud7/LnDlzeNe73tXhz7w3tXsf2sz8cBtPX9QDsagHvfTSS4wdO5b58+ez0047MXHixDcs32efffjqV7/KJptswlFHHdWhMY888kjWWmstttlmG7baaiseeughACZOnMiGG24IwG233cbPf/5zAN7//vezbNkynnvuOW699dbm//j77bcfG2ywwRq3tXz5chYtWsQhhxwCFImlPUcddRRnnHEGxx9/PJdddlnz+7rpppvekDief/55li9fzuDBgzv0viX1bT2RL5vMnTuXr3zlKzz77LO88MIL/PM//3Pzsr/+9a+ceuqpzJo1i0GDBnHCCSdw0EEH8dnPfpaLL764ueiQusvaTrWmJ/Mu0Nwgjxo1iu23355NN90UKKYzL1iwgPXXX5/NN9+c3XffHYBjjjmG8847j3/9138FaN7mXXfdxYQJE2g6f/zoo4/m1ltv5eCDD2arrbbij3/8I9tssw0PP/wwu+++O9OmTePuu+9m5513bn6fG2+8MXfeeecbxjnqqKP4y1/+str4d999dyZPnsyRRx7JoYce2vz87373O2bPns0NN9zAkCFDOvRZbPHOBh577DE+9alPsd9++zFp0iReeOEF/vCHP3DEEUc0r/fKK690aLxaUImrHKsONJ2b8Pjjj/Pqq6++4dwEKPZc7bTTTnzve9/jsMMO69CYrS/V3fT47W9/e/NzbZ2C07ReW5f6HjhwIKtWrWp+/OrLr652nPbsuuuuPPLIIyxZsoSrr766OQGsWrWKO+64o/mIyKJFi2xmJTXriXzZZPLkyZx//vncf//9nHbaac0zW1588UWOPPJIfvjDHzYfedh8883ZZJNNmDVrFnfeeSf77rtvZd6gJNWYnsy7AG9961uBYgZf0/dNj5uu+bK6uhZer23XVI8eddRRXHHFFfz85z/nkEMOISLITI477rjmmvPhhx9uPpWuM7e8ueCCC/jmN7/JggULGDt2bPNR5a222orly5evsRlubf31NuDee+9lwoQJTJs2jRNPPJFVq1ax/vrrN8c5Z84c5s2b1+Exq82Gtp9Zb731OO+88zj77LNZsWLFG5Z9/vOf5zvf+Q4bbbRRh8a68sorWbVqFY8++iiPPfYY22677ZvWGT9+fPOUuZtvvpmhQ4cyZMiQNzx//fXX8/e//x2ATTbZhMWLF7Ns2TJefeVVbrnxFgCGDBnC8OHDufrqq4Fir9E//vEPBg8ezPLly9uMLyI45JBD+NznPkdjY2Pz+5o0aRLnn39+83pz5szp0PuV1L9UMl82Wb58OZtuuikrVqxozoEAxx9/PMcffzx77rnnG9Y/8cQTOeaYYzjyyCMZMGBA19+MJNWBnsi7HfW3v/2NO+64A4CZM2eyxx57vGmdXXbZhVtuuYWlS5eycuVKZs6cyV577QUUp5RcffXVzJw5s/mI7gc+8AGuuuoqFi9eDMAzzzzD448/zi677MLNN9/MsmXLWLFiBVdeeeUaY3v00UfZZZddOOOMMxg6dCgLFiwAYIsttuAXv/gFxx57LA880LFbXS57ZhmrVq3isMMO4xvf+AZ//vOfGTJkCFtuuWVzHJnJvffeC7DGWrtW2ND2QzvssANjxozhsssue8Pz22+/Pccdd1yHx9l2223Za6+92HfffbngggvanAZ8+umnM3v2bEaPHs3UqVOZMWMGAKeddhq33norO+64IzfccAPvfOc7ARg0aBBf+9rX2GWXXfjE0Z9gy623bB7rpz/9Keeddx6jR49mt91246mnnmL06NEMHDiQMWPGNJ/U3tJRRx3FJZdc8obpKeedd15zTNtttx0XXOBpQpLaVql82eQb3/gGu+yyCxMnTmTEiBEAPP7441x11VVcfPHFzReGarr4yYEHHsgLL7zgdGNJ/Ual825HNTY2MmPGDEaPHs0zzzzD//t//+9N62y66aaceeaZvO9972u+SOlBBx0EwAYbbMB2223H448/znve8x4AtttuO775zW8yadIkRo8ezcSJE3nyySfZdNNNOf3009l1113Ze++92XHHHdcY26mnntp8Iarx48czZsyY5mXbbrstl156KUcccUSHLtr01FNPMGHCBMaOHcvkyZM588wzAbj00ku56KKLGDNmDNtvvz2/+tWvgOL85e9+97vssMMONXtRqOjNq7KPGzcum/5I16N5IxoBaHyoC4fgT1+v/Pe5CkbUtnnz5tHY2Nij25g8eTL7778/hx9+eI9t44GlxZ6m7YdW55YYvfE51rppU2YB8MkL3t+j24mIuzNzXI9upP0YLqa4XcXizBzZatm/At8FhmVmu5eZrfdcV0ndypu9oNb/n8+ePZtTTjmF3//+96tdp9bfQ61omHodAPPP2q9qMdRCrqskcx2MmjEKgPuPu7/KkdSPWsxZ8+fPZ//992fu3LnVDqVHLX78eQA23qJj59t2RFs/z97OdR6hlaTCdGCf1k9GxObARKD9S3FLFXTWWWdx2GGHNe89lyRJb9buVY7Vv33rW99607z+I444gunTp1cnIKmHZOatEdHQxqLvA18AftWrAanurC5ffvnLX+7SeFOnTmXq1KmVCE2S+qRK5d2GhoaaODpb6b8j/YUNrdboy1/+sv+J1G9FxIHAosy8tzNXI1T/ZL6UpN7V1/JuX3s/vcWGVpLaEBFvA74MTOrg+icBJwHNFzmTJElSz/IcWklq27uALYF7I2I+MBz4c0T8U1srZ+aFmTkuM8c13ShdkiRJPcsjtJLUhsy8H9i46XHZ1I7ryFWOJUmS1Ds8Qqu6cMIJJ7DxxhszcuTI9leWuiAiZgJ3ANtGxMKI+Fi1Y1L/Y66TpP7J/N91HqFVpzXdy69SOnJPwMmTJ3PyySdz7LHHVnTbUpPM/HA7yxt6KRTVCHOdJPVP5v/64hFa1YXx48ez4YYbVjsMSepR5jpJ6p/M/11nQytJkiRJqks2tJIkSZKkumRDK0mSJEmqSza0kiRJkqS6ZEOruvDhD3+YXXfdlYcffpjhw4dz0UUXVTskSao4c50k9U/m/67ztj3qtI5cerzSZs6c2evblNS/meskqX8y/9cXj9BKkiRJkuqSDa0kSZIkqS7Z0EqSJEmS6lK7DW1EXBwRiyNibovnNoyIGyPir+W/G/RsmJIkSaoEaztJfUlHjtBOB/Zp9dxU4LeZuQ3w2/KxJEmSat90rO0k9RHtNrSZeSvwTKunDwJmlN/PAA6ucFySJEnqAdZ2kvqSrp5Du0lmPglQ/rtx5UKS3mzBggW8733vo7Gxke23355zzz232iFJUsWZ61RF1nZSFZn/u67H70MbEScBJwG8853v7OnNqTecvl6Fx3uu3VUGDhzI9773PXbccUeWL1/OTjvtxMSJE9luu+0qG4skNTHXSW9Srbpu1IxRANx/3P29ts3e1h/eY90w/9eVrh6hfToiNgUo/128uhUz88LMHJeZ44YNG9bFzam/23TTTdlxxx0BGDx4MI2NjSxatKjKUUlSZZnrVEUdqu2s66SeYf7vuq42tNcAx5XfHwf8qjLhSO2bP38+99xzD7vssku1Q1Efspqrfn43Ih6KiPsi4pcRsX41Y1T/Yq5TL7O2k2qE+b9zOnLbnpnAHcC2EbEwIj4GnAVMjIi/AhPLx1KPe+GFFzjssMM455xzGDJkSLXDUd8ynTdf9fNGYGRmjgb+Anypt4NS/2SuU0+ytpNql/m/89o9hzYzP7yaRR+ocCzSGq1YsYLDDjuMo48+mkMPPbTa4aiPycxbI6Kh1XM3tHj4R+Dw3oxJ/ZO5Tj3N2k6qTeb/runqlGOpV2UmH/vYx2hsbORzn/tctcNR/3QCcH21g1DfZq6TpP7J/N91NrSqC7fffjs//elPmTVrFmPHjmXs2LH8+te/rnZY6ici4svAa8Cla1jnpIiYHRGzlyxZ0nvB9YB5IxqZN6Kx2mE0a7ryZ39grpOk/sn833U9ftse9UEduPR4pe2xxx5kZq9vV4qI44D9gQ/kGn4JM/NC4EKAcePG+cvaF5jrJKl/Mv/XFRtaSVqNiNgH+CKwV2b+o9rxSJIk6Y2ccixJrPaqn+cDg4EbI2JORFxQ1SAlSZL0Bh6hlSRWe9XPi3o9EEmSJHWYR2glSZIkSXXJhlaSJEmSVJdsaCVJkiRJdcmGVnXh5Zdf5j3veQ9jxoxh++2357TTTqt2SJJUceY6SeqfzP9d1+cvCjVvRCMAjQ/Nq3IkfceoGaMqOt79x93f7jpvfetbmTVrFuuuuy4rVqxgjz32YN999+W9731vRWNpT9N7v+LM1wB/r6S+rD/nOqk/aKoRZ02YBsAnL3h/t8fqq3VBX39/rZn/64tHaFUXIoJ1110XgBUrVrBixQoiospRSVJlmeskqX8y/3edDa3qxsqVKxk7diwbb7wxEydOZJdddql2SJJUceY6SeqfzP9dY0OrujFgwADmzJnDwoUL+dOf/sTcuXOrHZLULfNGNDZP45KamOskqX8y/3eNDa3qzvrrr8+ECRP43//932qHIkk9xlwnSf2T+b9zbGhVF5YsWcKzzz4LwEsvvcRNN93EiBEjqhyVJFWWuU6S+ifzf9f1+ascq2948sknOe6441i5ciWrVq3iyCOPZP/99692WJJUUeY6SeqfzP9dZ0OrTuvIpccrbfTo0dxzzz29vl1J/Ze5TpL6J/N/fXHKsSRJkiSpLtnQSpIkSZLqkg2tJEmSJKku2dBKkiRJkupStxraiDglIh6IiLkRMTMi1q5UYJLUmyLi4ohYHBFzWzy3YUTcGBF/Lf/doJoxSlJPsq6TVI+63NBGxDuATwPjMnMkMAD4UKUCk6ReNh3Yp9VzU4HfZuY2wG/Lx5LU51jXSapX3Z1yPBBYJyIGAm8Dnuh+SFLbVq5cyQ477OA9udQjMvNW4JlWTx8EzCi/nwEc3KtBqd8y36lKrOukKjL3d02X70ObmYsi4mzgb8BLwA2ZeUPFIlPNmjeisaLjNT40r0PrnXvuuRVrL+YAACAASURBVDQ2NvL8889XdPvSGmySmU8CZOaTEbFxtQNS76lWrgPznXqfdZ30Omvd+tKdKccbUBy92BLYDHh7RBzTxnonRcTsiJi9ZMmSrkeqfm3hwoVcd911nHjiid0ea/Hjz7P4cROFKstcp0qpZL6TOsq6Tqouc3/XdWfK8d7A/2XmksxcAfwC2K31Spl5YWaOy8xxw4YN68bm1J999rOf5d///d9Zay0vzK1e9XREbApQ/rt4dSua61Qp5jtViXWdVEXm/q7rzif2N+C9EfG2iAjgA0DH51NJHXTttdey8cYbs9NOO1U7FPU/1wDHld8fB/yqirGoHzDfqYqs66QqMfd3T5cb2sy8E7gK+DNwfznWhRWKS2p2++23c80119DQ0MCHPvQhZs2axTHHvGkWlNQtETETuAPYNiIWRsTHgLOAiRHxV2Bi+VjqMeY7VYt1nVQ95v7u6dYx7cw8LTNHZObIzPxoZr5SqcCkJmeeeSYLFy5k/vz5XHbZZbz//e/nkksuqXZY6mMy88OZuWlmDsrM4Zl5UWYuy8wPZOY25b+tr4IsVZT5TtVkXSdVh7m/e5ykLUmSJEmqS12+bY/6r87ceqLSJkyYwIQJE6q2fUn9RzVzHZjvJKlarHXri0doJUmSJEl1yYZWkiRJklSXbGglSZIkSXXJhlaSJEmSVJdsaCVJkiRJdcmGVpIkSZJUl7xtj+pGQ0MDgwcPZsCAAQwcOJDZs2dXOySpZswb0QhU/1YzTUbNGAXAFVWOox7VUq6r1d+r+4+7v8qRSFLl1VL+ryc2tOq0aVNmVXS8T17w/g6v+7vf/Y6hQ4dWdPuS1BZznST1T+b/+uKUY0mSJElSXaqphnbUjFHN04nUOdOmzKr43qRaExFMmjSJnXbaiQsvvLDa4UhSjzDXqS+xrpM6zvzfNU45Vt24/fbb2WyzzVi8eDETJ05kxIgRjB8/vtphSVJFmeskqX8y/3dNTR2hldZks802A2DjjTfmkEMO4U9/+lOVI5KkyjPXSVL/ZP7vGhta1YUXX3yR5cuXN39/ww03MHLkyCpHJUmVZa6TpP7J/N91TjlWXXj66ac55JBDAHjttdf4yEc+wj777FPlqCSpssx1ktQ/mf+7zoZWndaZS49XylZbbcW9997b69uVACLiFOBEIIH7geMz8+XqRqWeZq6TpP6pK/n/gaUPALD90O27tE3zf9c55ViS1iAi3gF8GhiXmSOBAcCHqhuVJEmSwIZWkjpiILBORAwE3gY8UeV4JEmShA2tJK1RZi4Czgb+BjwJPJeZN1Q3KkmSJIENbZ+VmdUOoa75+alJRGwAHARsCWwGvD0ijmljvZMiYnZEzF6yZElvh6luqOf/7/Ucu6T+y9zVN9TKz9GGtg9ae+21WbZsWc38ktWbzGTZsmWsvfba1Q5FtWFv4P8yc0lmrgB+AezWeqXMvDAzx2XmuGHDhvV6kOqaes6X5ipJ9aie865eV0t/g7zKcR80fPhwFi5cSL0fJXrqhacAWGtJZfe7LF9WXJx22T9W/x9w7bXXZvjw4RXdrurW34D3RsTbgJeADwCzqxuSKqXe86W5SlK9qfe8uzo9VbdWUkdq4M6olb9B3WpoI2J94EfASIrbWZyQmXdUIjB13aBBg9hyyy2rHUa3HTnjSADuP+7+io47bcosoDq35FD9ycw7I+Iq4M/Aa8A9wIXVjUqV0lfypVQp1nbqaX017/ZU3VpJfbUG7u4R2nOB/83MwyPiLRRX/5SkPiUzTwNOq3YcktQLrO0k1ZUuN7QRMQQYD0wGyMxXgVcrE5YkSZJ6k7WdpHrUnUneWwFLgB9HxD0R8aOIeHvrlbpy5c95IxqZN6KxG6FV1qgZoxg1Y1Tz42lTZjUfsu/qWJV6f7X2WbXWnc+qv6iln2HL389aiUmS1Gvare36Yl1Xa2rps6qkStbTFXH6erUXUw+o1O97Lf+/6U5DOxDYEfhBZu4AvAhMbb2SV/6UJEmqC+3WdtZ1kmpNdxrahcDCzLyzfHwVRRKUJElS/bG2k1R3utzQZuZTwIKI2LZ86gPAgxWJSpIkSb3K2k5SPeruVY4/BVxaXgXvMeD47ockSZKkKrG2k1RXutXQZuYcYFyFYpEkSVIVWdtJqjfdOYdWkiRJkqSqsaGVJEmSJNUlG1pJkiRJUl2yoZUkSZIk1SUbWkmSJElSXbKhlSRJkiTVJRtaSZIkSVJdsqGVJEmSJNUlG1pJkiRJUl2yoZUkSZIk1SUbWtW8eSMaqx1CzRs1YxSjZoyqdhh9VkSsHxFXRcRDETEvInatdkySJPVX1j1qaWC1A5CkOnAu8L+ZeXhEvAV4W7UDkiRJkg2tJK1RRAwBxgOTATLzVeDVasYkSZKkglOOJWnNtgKWAD+OiHsi4kcR8fbWK0XESRExOyJmL1mypPej7IKGqdfRMPW6aofR6+aNaOz2qQytp7tNmzKLaVNmVT0udZzTFSWpb7ChlaQ1GwjsCPwgM3cAXgSmtl4pMy/MzHGZOW7YsGG9HaMkSVK/ZEMrSWu2EFiYmXeWj6+iaHAlSZJUZTa0krQGmfkUsCAiti2f+gDwYBVDkiRJUsmLQklS+z4FXFpe4fgx4PgqxyNJkiRsaCWpXZk5BxhX7TgkSZL0Rk45liRJkiTVJRtaSZIkSVJdsqGVJEmSJNWlbje0ETEgIu6JiGsrEZAkSZKqw7pOUr2pxBHazwDzKjCOJEmSqsu6TlJd6VZDGxHDgf2AH1UmHEmSJFWDdZ2ketTdI7TnAF8AVlUgFkmSJFWPdZ2kutPlhjYi9gcWZ+bd7ax3UkTMjojZS5Ys6erm1INGzRjFqBmjqh2GJPVL3cnBDVOvo2HqdRWOSP2RdV3fNW3KLKZNmVXtMNQF80Y0Mm9EY7XDqHndOUK7O3BgRMwHLgPeHxGXtF4pMy/MzHGZOW7YsGHd2JwkSZJ6iHWdpLrU5YY2M7+UmcMzswH4EDArM4+pWGSSJEnqFdZ1kuqV96GVJEmSJNWlgZUYJDNvBm6uxFiSJEmqHus6SfXEI7SSJEmSpLpkQytJkiRJqks2tJIkSZKkumRDK0mSJEmqSza0ktQBETEgIu6JiGurHYskSZIKNrSS1DGfAeZVOwhJkiS9zoZWktoREcOB/YAfVTsWSZIkvc6GVpLadw7wBWDV6laIiJMiYnZEzF6yZEnvRdYHNUy9joap11U7DFXYvBGNzBvRWO0wJEl9jA2tJK1BROwPLM7Mu9e0XmZemJnjMnPcsGHDeik6SZKk/s2GVpLWbHfgwIiYD1wGvD8iLqluSJIkSQIYWO0AKu709cp/n+vyEE1T3eaftV8lIuoRo2aMAuCK7gzS9Flt+c43PD1tyiwAPnnB+7se15mvFU9MmNb1+NS+Nn6G3fn5VUQZ06gypvuPu786cVRIZn4J+BJAREwA/jUzj6lqUJLUz3Xpb91q6p4uqeRYFdadWqxHauAe/KzmjWik8aE+dL3GVjVUV+r81f0M541o7LN1uUdoJUmSJEl1qe8doZWkHpKZNwM3VzkMSZIklTxCK0mSJEmqSza0kiRJkqS6ZEMrSZIkSapLNrSSJEmSpLpkQytJkiRJqks2tJIkSZKkumRDK0mSJEmqSza0ktSHTJsyi2lTZnXuRaevB6evx6gZoxg1Y1T3xqoxDVOvq3YIb9Iw9bo1xtWdz7zlz6+zWsZUkd+F8veqJ3Xps6pUXKv5fyNJ6l02tJIkSZKkutTlhjYiNo+I30XEvIh4ICI+U8nAJEmS1Hus7STVo4HdeO1rwOcz888RMRi4OyJuzMwHKxSbJEmSeo+1naS60+UjtJn5ZGb+ufx+OTAPeEelApMkSVLvsbaTVI8qcg5tRDQAOwB3VmI8SZIkVY+1naR60e2GNiLWBX4OfDYzn29j+UkRMTsiZi9ZsqS7m5MkSVIPWlNtZ12n7po3opF5IxqrHUZd6Qt3HehJ3WpoI2IQRcK7NDN/0dY6mXlhZo7LzHHDhg3rzuYkSZLUg9qr7azrJNWa7lzlOICLgHmZ+R+VC0mSJEm9zdpOUj3qzhHa3YGPAu+PiDnl1wcrFJck1QRvYyGpH7G2k1R3unzbnsy8DYgKxiJJtcjbWEjqF6ztJNWjilzlWJL6Km9jIUmSVLtsaCWpg9Z0G4sOX/nz9PV6KjxJkqR+x4ZWkjqgvVuUeeVPSZKk3mdDK0nt6MgtyiRJktT7bGglaQ28jYUkSVLtsqGVpDXzNhaSJEk1qsu37ZGk/sDbWEiSJNUuj9BKkiRJkuqSDa0kSZIkqS7Z0EqSJEmS6pINrSRJkiSpLvXZi0KNmjEKgCuqHIe0Oj3xOzpvRCNMmFbBESVJkqTa5RFaSZIkSVJdsqGVJEmSJNWlPjvlWJL6tNPXK/99rrpx1BFPRZEkqe/xCK0kSZIkqS7Z0EqSJEmS6pINrSRJkiSpLtnQSpIkSZLqkg2tJEmSJKku2dBKkiRJkuqSDa0kSZIkqS7Z0EqSJEmS6lK3GtqI2CciHo6IRyJiaqWCkqRaYq6T1B+Y6yTVoy43tBExAJgG7AtsB3w4IrarVGCSVAvMdZL6A3OdpHrVnSO07wEeyczHMvNV4DLgoMqEJUk1w1wnqT8w10mqS5GZXXthxOHAPpl5Yvn4o8AumXlyq/VOAk4qH24LPNzO0EOBpV0Kqv+NVYsx1epYtRhTrY5VjZi2yMxhFdpmRZnramKsWoypVseqxZj6w1jmujXz97v3x6rFmGp1rFqMqVbHqslcN7Abr402nntTd5yZFwIXdnjQiNmZOa4bcfWbsWoxplodqxZjqtWxajGmKjPXVXmsWoypVseqxZj6w1jmunYGrsHPua+PVYsx1epYtRhTrY5Vq7muO1OOFwKbt3g8HHiie+FIUs0x10nqD8x1kupSdxrau4BtImLLiHgL8CHgmsqEJUk1w1wnqT8w10mqS12ecpyZr0XEycBvgAHAxZn5QAVi6tQ0ln4+Vi3GVKtj1WJMtTpWLcZUNea6mhirFmOq1bFqMab+MJa5bs1q8XPu62PVYky1OlYtxlSrY9VkruvyRaEkSZIkSaqm7kw5liRJkiSpamxoJUmSJEl1yYZWkiRJklSXbGglSZIkSXXJhlaSJEmSVJdsaCVJkiRJdcmGVpIkSZJUl2xoJUmSJEl1yYZWkiRJklSXbGglSZIkSXXJhlaSJEmSVJdsaCVJkiRJdcmGVpIkSZJUl2xoJUmSJEl1yYZWkiRJklSXbGglSZIkSXXJhlaSJEmSVJdsaCVJkiRJdcmGVpLUb0TEJhFxa0Qsj4jv9cD4R0fEDZUet43tTI+Ib/b0diolIjIitq52HJKkvseGtooiYnJE3FbtOKqpK59B69dExAsRsVX5/ToR8T8R8VxEXNmNuLpcfEXE/IjYu6vblupN+Tv/Uvl/8amy2Vq3XDa9/P90YKvXnFM+P7mXwz0JWAoMyczPV3rwzLw0MydVetx6EhE3R8SJ1Y5DktQ/2NC2o1YLtbYawXrbY18pmbluZj5WPjwc2ATYKDOPqGJYUn9zQGauC4wFdgC+1GLZX4Djmh5ExEDgCODRSgYQhfb+rm0BPJiZWclt9wURMaDaMUiS1Fk2tB1T9UKtN5Sx1/v2tgD+kpmv9cDYktqRmU8Bv6HIl03+B9g9IjYoH+8D3Ac81d545c672yPiP8uZFw9FxAdaLL85Ir4VEbcD/wC2iojdIuKucv27ImK3ct3pFPn6C+VOyr0jYq2ImBoRj0bEsoi4IiI2LNdfOyIuKZ9/thxrkxZxPVZOXf6/iDi6xfMtZ5C0GUuL2L9Rvr/lEXFDRAxtsfzKckfqc+U06e0787Mox/hCRDwZEU9ExIktZ5+UO0F/EBG/jogXgfdFRGMZ17MR8UDTDtuI2LJ8bq3y8Y8iYnGL7VwSEZ+NiG8BewLnl5/x+S3C2Tsi/hoRf4+IaRERnX0/kiS1ZkPbCZUu1EqxhkJtvYi4qCxGFkXENyNiQEQ0AhcAu5YFw7MRcRJwNK8Xav9TjrFZRPw8IpaURdenW4x/ekRcVRYizwOTVxPg2lEcpR5aPv5KRLwWEUPKx9+MiHNaxPyTcnuPl+s2FUBNhen3I+IZ4PQ2tvXdiLgtItbr4OfXPD04Ir4OfA04qvwMPlYuPyEi5pVF1G8iYosODv3BsmBdWsbV9D7eFRGzyiJ3aURcGhHrrya290TEHeXP6MmIOD8i3tIq9imrK/Ii4l/K2JdHxIMRsWP5/Gp/rlI1RcRwYF/gkRZPvwxcA3yofHws8JNODLsL8BgwFDgN+EWUTWfpoxRTiQcDy4HrgPOAjYD/AK6LiI0yczJwKfDv5cyOm4BPAwcDewGbAX8HppXjHgesB2xejjUFeCki3l6Ov29mDgZ2A+a08VlsuLpYWqz2EeB4YGPgLcC/tlh2PbBNuezPZewdFhH7AJ8D9ga2Lt9jax8BvkXx2d1J8TfthnKbnwIujYhtM/P/gOcpdupC0bS+UP49AhgP3JKZXwZ+D5xcfsYnt9jW/sDOwBjgSOCfO/N+JElqiw1tJ1ShUJsBvEZRiOwATAJOzMx5FIXVHWXBsH5mXsgbC7UDygbsf4B7gXcAHwA+GxEti4iDgKuA9VlNsZSZLwN38XoxNB54HNi9xeNbyu//k6IA3Kpc/1iKYq31+92YoogCIIqjJD8ERgOTMvO59j64NuI8Dfg2cHn5GVwUEQcD/wYcCgyjKLRmdnDIQ4BxwI4Un9MJTeECZ1IUv40Uxe7pqxljJXAKxc93V4qfwSdardNmkRcRR5TjHgsMAQ4ElnXw5yr1tqsjYjmwAFhMkc9a+glwbLmzai/g6k6MvRg4JzNXZOblwMPAfi2WT8/MB8qZGZOAv2bmTzPztcycCTwEHLCasT8OfDkzF2bmKxT/5w6PYgbJCopGdOvMXJmZd2fm8+XrVgEjI2KdzHwyMx9oY+z9OhDLjzPzL5n5EnAFLXaYZubFmbm8RVxjOrOzjyKf/Lj8bP4BfL2NdX6Vmbdn5qpy2+sCZ2Xmq5k5C7gW+HC57i3AXhHxT+Xjq8rHW1LkqHvbieeszHw2M/8G/I437hyWJKlLbGg7ptcLtSimte0LfDYzX8zMxcD3eb1x7oidgWGZeUZZnDwG/LDVGHdk5tWZuaosqFanqZAZSNF0nlc+Xrvczu+jOP/qKOBLZRE2H/gexdGTJk9k5n+WxV3T9gZRNJkbUkzv/kcn3mN7Pg6cmZnzymL328DYDh6l/U5mPlMWX+dQFnWZ+Uhm3piZr2TmEoqjLm0d+aAsgP9Yvt/5wH+3se7qirwTKXZQ3JWFRzLzcTr2c5V628Hl0coJwAiKnTjNMvM2ip1KXwGubSfftLao1Tmvj1PsUGqyoMX3m5XLW3qcYudPW7YAflnOongWmEexI2oT4KcUs3Iui2LK7r9HxKDMfJEi100BnoyI6yJiRBtjdySWlrN5/kHRUFLOxjkriqnQzwPzy3Xe8Lm2YzPe+NksaGOd1p/dgrK5bSveWyh+vuOBW4GbKfLZXsDvW72uLW2+V0mSusOGtmOqUahtQdHoPdmi0PpviiObHbUFsFnT68sx/o2iUGvSVoHTlqZCZkfgfuBGiiLmvcAjmbmU4nN5C28s4FoXb21tb2uKI6Bfz8xXOxhPR20BnNvi/T9DcYR1dcVtSy1jbS6gI2LjiLgsimngzwOXsJoiMyLeHRHXRnEe3PMUDXXrdVdX5G1O2+did+TnKlVFZt4CTAfObmPxJcDn6dwsFoB3tJyKD7wTeKLlZlt8/wTF/5GW3gksWs3YCyimDq/f4mvtzFxU7mj8emZuRzGteH+KGRNk5m8ycyKwKcVR1x+2MXZnY2npIxR5cW+KWS8N5fOdOe/0SWB4i8ebt7FO689u83jjhbVaxnsLxVTjCeX3t1HM1NmL12fptB5TkqQeZUPbCb1cqC0AXgGGtiiyhmRm00VB2ioYWj+3APi/VoXa4Mz84Bpeszp/ALalmIZ7S2Y+WMa6H68XMksppui1LOBaF29tbW8exbTk6yNi2w7G01ELgI+3+gzWycw/dOC1LYu/lgX0mRTvY3RmDgGOYfVF5g8oit1tynX/bQ3rthX7u1bzfHs/V6mazgEmRkTrKaXnARMpju51xsbApyNiUDkVvxH49WrW/TXw7oj4SEQMjIijgO0ops625QLgW02zNiJiWEQcVH7/vogYVc4+eZ4iv62M4l62B5bn0r4CvEBxVLe7sbQ0uBx7GfA2ip1hnXUFcHwUF3p6G8U1BtbkTuBFimsxDIqICRTToy8DyMy/Ai9R5Lxby+nXTwOH8caG9mmK004kSepxNrSd1yuFWmY+SXFhju9FxJDyHNN3RUTTdNWngeEtLzDEm4uIPwHPR8QXo7g/64CIGBkRO3cyRsppwHcDn+T1wuUPFFN6bynXWUlRQH0rIgaXBeLnKJr99safSdHs3RQRbTVxXXUB8KUorw4axUWrOno7n1MjYoOI2Bz4DHB5+fxgigL22Yh4B3DqGsYYTFEIv1BOSfx/nYj9R8C/RsROUdi6/Ewr9nOVekI5Ff8nwFdbPf9MZv621ayUjriT4uJISynOvT88M5etZtvLKI6kfp6iGfwCsH85i6Qt51JcB+GG8tSSP1Kc6w/wTxTniT5PsePtFop8tlY5/hMUsz724s3nxncllpZ+QjEzZBHwYBlXp2Tm9RR/m35Hce2HO8pFr6xm/VcpztXfl+Kz/i/g2Mx8qMVqtwDLylMkmh4HcE+Ldc6lOA/57xFxXmfjliSpUzLTrzV8UZy3tHer534A/JziaO03V/O624DJ7Yw9GbgdOB94juIWQJNaLF+v3NbCcvk9wIfKZW+huHrmM8DS8rltKK60+SxwdfncZhTnpz5FcfXOPza9H4qLjFzSic/iTIq9828tH59McaRykxbrbEBR8C2hOJL4NWCtFu/3tjY+g9taPP4XiiKuoZ3PreVrkuKiLW2+J4pzeO+nKEoXABd34L0mxdVPH6MoRL8HDCiXbU/R3L9Qft6fBxa29TtDca7ZQ+W6vwfOWF3s5eM3/E5RnKP3cPn6ucAO7f1c/fKrL321lTf86vJn2UhxJHlgtWPxyy+//PLLr0p9RaanukiSalNETKa4uvse1Y6lHkXEIRQ7P99OceX8VZl5cHWjkiSpcpxyLEmqqoi4IIp7R7f+uqDasdW6iPi31Xx215erfJxixsyjFEdnO3Pag/qIiLg4IhZHxNzVLI+IOC8iHomI+6K857kk1QOP0PawsiA7po1Fl2TmlN6OZ03KAmjPNhZ9OzO7ckGS7sTSo59bROwJXN/Wssz0VhKSpD4jIsZTnLryk8wc2cbyDwKfAj5IcQ75uZm5S+v1JKkW2dBKkiT1cRHRQHFrwbYa2v8Gbs7iAo1ExMPAhCwuUClJNc0px5IkSf3bO3jjvdcX0rH7tUtS1Q3szY0NHTo0GxoaenOTkurA3XffvTQzh1U7jkox10lqSw3nurbuj97mFL6IOAk4CeDtb3/7TiNGjOjJuCTVod7Odb3a0DY0NDB79uze3KSkOhARj1c7hkoy10lqSw3nuoXA5i0eD6e4z/KbZOaFwIUA48aNS3OdpNZ6O9c55ViSJKl/uwY4trza8XuB5zx/VlK96NUjtJIkSepdETETmAAMjYiFwGnAIIDMvAD4NcUVjh8B/gEcX51IJanzbGglSZL6sMz8cDvLE/hkL4UjSRVlQ1shK1asYOHChbz88svVDkV90Nprr83w4cMZNGhQtUOROsXc2L+ZuyRJPc2GtkIWLlzI4MGDaWhoIKKtiwVKXZOZLFu2jIULF7LllltWOxypU8yN/Ze5S5LUG7woVIW8/PLLbLTRRhZsqriIYKONNvIIl+qSubH/MndJknqDDW0FWbCpp/i7pXrm72//5c9ektTTbGg7YNSMUYyaMaraYUhS3TBvSpKk3mBD24MGDBjA2LFjGTlyJAcccADPPvssAPPnzyci+OpXv9q87tKlSxk0aBAnn3zyasebPHkyV111VYe3P3/+fH72s581P54zZw6//vWvu/BOeta6667bofXmz5/PyJEjAZg9ezaf/vSnAXjllVfYe++9GTt2LJdffnmntj1hwgQ6c1P4m2++mf33379T25D0RpXOjd3VnRzSlieeeILDDz+8ApG9UWfzVaVdffXVPPjggzUTjyRJYEPbo9ZZZx3mzJnD3Llz2XDDDZk2bVrzsq222oprr722+fGVV17J9ttvX9HtV6Khfe211yoaU0uZyapVq7r02nHjxnHeeecBcM8997BixQrmzJnDUUcdVckQJfWAauTGNeWySueQzTbbrFM7H3tTd3J664ZWkqRaYEPbS3bddVcWLVrU/HidddahsbGxee/25ZdfzpFHHtnuODfddBN77rkn7373u5uLvpUrV3Lqqaey8847M3r0aP77v/8bgKlTp/L73/+esWPH8p3vfIevfe1rXH755c1HIV588UVOOOEEdt55Z3bYYQd+9atfATB9+nSOOOIIDjjgACZNmtRmHJ/4xCe45pprADjkkEM44YQTALjooov4yle+AsB//Md/MHLkSEaOHMk555wDFE12Y2Mjn/jEJ9hxxx1ZsGBB85hLly5l11135brrrmv3c2g6Urp48WKOOeYY5syZw9ixY3n00Uf/P3t3HidVeeV//HMEERUEFzQKCqgoW7N2AFFZRKOOThRc4paAS4wZTUxMoib+jEycTBI1E5doDIkK0YyMSxYjihi3uCWKyiYoKiCiKCi7gtDN+f3xPNVd3fRSW3fdar7v16tf3XXr1nPPfe69p+vclVdeeYWRI0cyePBgjj32WJYvX95gW/fccw/Dhw+nb9++vPTSSwC89NJLDB8+nIEDBzJ8+HDefPPNbT5X3ziTJ09m3LhxHHfccfTo0YPLL7+86jPTp09n0KBB9O/fnzFj1V/gvwAAIABJREFUxgDUuxxEtgeFyI0TJkzgoosu2iY31s5lq1at4uSTT6Zfv34MGzaMOXPmZJVDbr75Znr37k2/fv0444wzAHjmmWcYMGAAAwYMYODAgaxfv77G2SSbNm3i3HPPpaysjIEDB/LUU09VxVZfnvjmN79JeXk5ffr04Zprrsm4L++44w4OOeQQRo0axde//vWqo9oTJkzgsssuY/To0VxxxRXMmjWLYcOG0a9fP8aOHcvq1atZsWIFgwcPBmD27NmYGUuXLgXgoIMO4oUXXuChhx7iBz/4QVU/QdjhMGTIEA455BCeffbZjGMVEREpGHdvtp/Bgwd7Keo7ua/3ndy3wXHmz5+/zbBdd93V3d0rKir81FNP9UcffdTd3RcvXux9+vTxv/71r/69733P33vvPT/qqKP8rrvu8osvvrjeaYwfP96PPfZYr6ys9IULF3rnzp1948aN/tvf/tavvfZad3fftGmTDx482BctWuRPPfWUn3DCCVWfr93+D3/4Q7/77rvd3X316tXeo0cP37Bhg991113euXNn/+STT+qN5d577/Xvf//77u7+xS9+0YcOHeru7hMmTPDp06f7zJkzvW/fvr5hwwZfv3699+7d21999VVfvHixm5m/+OKLNfrpww8/9CFDhviMGTPqnWaq39y9xryl/71582Y/7LDDfMWKFe7uPnXqVD/33HPrbXPkyJF+wQUXuLv7M888U9X+2rVrfcuWLe7u/vjjj/u4ceO2mVZ949x1113evXt3X7NmjW/cuNEPOOAAX7p0qa9YscK7dOniixYtcnev6t/6lkNtda1jLQUw05sxFzX1T6nmukJK5c1i5sbaueySSy7xiRMnurv7E0884f3793f3zHPIvvvu65s2bXL3sK26u5944on+3HPPubv7+vXrfcuWLTVy1Q033OATJkxwd/cFCxb4/vvvXxVbXXnCvTo3VFRU+MiRI3327NnuHvLVyy+/XGcfvP/++961a1f/5JNPfPPmzX7EEUdU9dn48eP9hBNO8IqKCnd3Lysr86efftrd3a+++mq/9NJL3d29d+/evnbtWr/lllu8vLzc77nnHl+yZIkPGzasqp3777+/apojR470yy67zN3dp02b5mPGjKkztpacu7KlXCci24PmznV6Dm0T2rhxIwMGDGDJkiUMHjyYY445psb7xx13HFdffTX77LNPxqe5nX766eywww706NGDAw88kDfeeIMZM2YwZ86cqlPc1q5dy1tvvUWbNm0abGvGjBk89NBD3HDDDUA4kpDaI3/MMcewxx571PvZI488khtvvJH58+fTu3dvVq9ezfLly3nxxRe5+eabufPOOxk7diy77rorAOPGjePZZ5/ly1/+Ml27dmXYsGFVbW3ZsoUxY8Zw6623MnLkyIz6oT5vvvkm8+bNq+rryspK9t133wY/c+aZZwIwYsQI1q1bx5o1a1i/fj3jx4/nrbfewszYsmXLNp9bu3ZtveOMGTOGDh06ANC7d2/effddVq9ezYgRI6qex5jq3/qWQ69evfLqC5Gkaq7cCDVz2XPPPceDDz4IwFFHHcUnn3zC2rVra7TTUA7p168fZ599NieffDInn3wyAIcffjiXXXYZZ599NuPGjaNLly412nvuuef41re+BUDPnj3p2rUrCxcuBOrOE/vvvz/33XcfkyZNoqKiguXLlzN//nz69evX4Py/9NJLjBw5smpeTzvttKrppF63atWKtWvXsmbNmqpcO378eE477TQAhg8fzvPPP88//vEPfvSjHzF9+nTcnSOPPLLe6Y4bNw6AwYMHs2TJkgZjFBERaQo65bgJpa4Te/fdd9m8eXON68QA2rRpw+DBg/nlL3/JKaecklGbtR+BYGa4O7fccguzZs1i1qxZLF68uN5ThdO5Ow8++GDV59KLqFQhWp/OnTuzevVqpk+fzogRIzjyyCO57777aNeuHe3btyfsnKlb7bZbt27N4MGDeeyxxxqNOZN56tOnT9U8zZ07lxkzZjT4mbr69Oqrr2b06NHMmzePv/3tb3U+R7GhcXbaaaeqv1u1akVFRQXuXucjLBpaDiItUXPlRqiZb+rKS7U/11AOmTZtGhdffDGvvPIKgwcPpqKigiuvvJLf//73bNy4kWHDhlUV0g1NM6WuPLF48WJuuOEGnnjiCebMmcMJJ5yQ0XNcG5oONJ7TIeyofPbZZ3n33Xc56aSTmD17Ns899xwjRoxodB5S8YuIiDQ3FbTNoEOHDtx8883ccMMN2xzp+973vscvfvEL9txzz4zauv/++9m6dSvvvPMOixYt4tBDD+XYY4/lN7/5TVXbCxcu5NNPP6V9+/asX7++6rO1Xx977LHccsstVV+EXnvttazm67DDDuPGG2+sKmhvuOGGqj35I0aM4C9/+QufffYZn376KX/+85/r3ctvZtx555288cYb/PznP88qhtoOPfRQVq5cyYsvvgiEo7+vv/56g59J3dX0ueeeo0OHDnTo0IG1a9fSuXNnIFzrVpdMxkl32GGH8cwzz7B48WIAVq1aBeS/HERKVVPnxtpGjBjBH//4RyBch7/XXnux22671RinvhyydetW3nvvPUaPHs11113HmjVr2LBhA++88w5lZWVcccUVlJeXb1PQpk9z4cKFLF26tM7YUtatW8euu+5Khw4d+Oijj3j00Uczmv8hQ4bwzDPPsHr1aioqKqqORNfWoUMHdt9996rrXe++++6qo7UjRozgnnvuoUePHuywww7ssccePPLIIxx++OHAtv9DREREkkAFbTMZOHAg/fv3Z+rUqTWG9+nTh/Hjx2fczqGHHsrIkSM5/vjjuf3222nbti0XXHABvXv3ZtCgQfTt25dvfOMbVFRU0K9fP1q3bk3//v351a9+xejRo5k/f37VTaGuvvpqtmzZQr9+/ejbt2+NR2Vk4sgjj6SiooKDDz6YQYMGsWrVqqqiddCgQUyYMIEhQ4YwdOhQLrjgAgYOHFhvW61atWLq1Kk89dRT3HbbbVnFka5NmzY88MADXHHFFfTv358BAwbwwgsvNPiZ3XffneHDh3PRRRdxxx13AHD55Zfzwx/+kMMPP5zKyso6P5fJOOk6derEpEmTGDduHP379686lTLf5SBSypoyN9Y2ceJEZs6cSb9+/bjyyiuZMmXKNuPUl0MqKys555xzqm7u9N3vfpeOHTty44030rdvX/r378/OO+/M8ccfX6O9//iP/6CyspKysjK+8pWvMHny5BpHZmvr378/AwcOpE+fPpx33nlVxWRjOnfuzI9+9COGDh3K0UcfTe/evatOZ65typQp/OAHP6Bfv37MmjWLH//4xwB069YNoOqI7BFHHEHHjh3ZfffdATjjjDO4/vrrGThwYNVNoURERIrNGjtNyczuBE4EVrh731rvfR+4Hujk7h83NrHy8nIvxWfWlU0pA2Du+Ln1jrNgwQKdJipNqiWvY2b2iruXFzmG7T7XFVIqb9435L4mX28nTJjAiSee2CTPfi0lGzZsoF27dlRUVFTdfX7s2LHFDqtF565sJSHXFZJynYjUpblzXSZHaCcDx9UeaGb7A8cASwsck4hIMUxGuU5K2MSJExkwYAB9+/ale/fuVTeuEhERackavcuxu//DzLrV8davgMsBPTSzwH76059y//331xh22mmncdVVVzV7LHPnzuWrX/1qjWE77bQT//rXv0pqmhdffDHPP/98jWGXXnop5557bs5tSsuiXJd89eXGTK5hb0mGDh3K559/XmPY3XffXXWndBERke1JTo/tMbMvA++7++y67toq+bnqqquKUrzWpaysjFmzZpX8NGvfRVUkE8p1yZKk3FhMTblDUUREpNRkXdCa2S7AVUDjz4UJ418IXAhwwAEHZDs5EZGiUK4TERERSb5c7nJ8ENAdmG1mS4AuwKtm9oW6Rnb3Se5e7u7lnTp1yj1SEZHmpVwnIiIiknBZH6F197nA3qnX8YteeSZ3/hQRKRXKdSIiIiLJ1+gRWjO7F3gRONTMlpnZ+U0flkhN5513HnvvvTd9+/ZtfGSRHCjXSRIo14mIiGQnk7scn9nI+90KFo2UhG5XTitoe0t+fkKj40yYMIFLLrmEr33tawWdtkiKcp3UplwnIiKSfLlcQyvS7EaMGMEee+xR7DBERJqUcp2IiEh2VNCKiIiIiIhISVJBKyIiIiIiIiVJBa2IiIiIiIiUJBW0IiIiIiIiUpJU0EpJOPPMMznssMN488036dKlC3fccUexQxIRKTjlOhERkew0+tgekdoyefREod17773NPk0R2b4p14mIiCSfjtCKiIiIiIhISVJBKyIiIiIiIiVJBa2IiIhIC2dmx5nZm2b2tpldWcf7Hczsb2Y228xeN7NzixGniEi2VNCKiIiItGBm1gq4FTge6A2caWa9a412MTDf3fsDo4BfmlmbZg1URCQHKmhFREREWrYhwNvuvsjdNwNTgZNqjeNAezMzoB2wCqho3jBFRLKnglZERESkZesMvJf2elkclu7XQC/gA2AucKm7b22e8EREcqeCVkrCe++9x+jRo+nVqxd9+vThpptuKnZIIiIFp1wnTcTqGOa1Xh8LzAL2AwYAvzaz3bZpyOxCM5tpZjNXrlxZ+EhFRLKk59BK9iZ2KHB7axsdpXXr1vzyl79k0KBBrF+/nsGDB3PMMcfQu3ftS4BERApEuU5ajmXA/mmvuxCOxKY7F/i5uzvwtpktBnoCL6WP5O6TgEkA5eXltYtiEZFmpyO0UhL23XdfBg0aBED79u3p1asX77//fpGjEhEpLOU6aSIvAz3MrHu80dMZwEO1xlkKjAEws32AQ4FFzRqliEgOGi1ozexOM1thZvPShl1vZm+Y2Rwz+7OZdWzaMEWqLVmyhNdee42hQ4cWOxRpQZTrJGmU66RQ3L0CuAR4DFgA3Ofur5vZRWZ2URztWmC4mc0FngCucPePixOxiEjmMjlCOxk4rtawx4G+7t4PWAj8sMBxidRpw4YNnHLKKdx4443stts2l/aI5GMyynWSEMp1Umju/oi7H+LuB7n7T+Ow29399vj3B+7+JXcvc/e+7n5PcSMWEclMowWtu/+DcOv29GEz4t4+gH8SrsUQaVJbtmzhlFNO4eyzz2bcuHHFDkdaGOU6SQrlOhERkcwV4hra84BHC9COSL3cnfPPP59evXpx2WWXFTsc2T4p10mTU64TERHJTl4FrZldRXjo9h8bGEe3dwf44LXwIzl5/vnnufvuu3nyyScZMGAAAwYM4JFHHil2WC3Wgp69WNCzV7HDSIztJdeVTSmjbEpZscPYrinXiYiIZCfnx/aY2XjgRGBMvMV7nXR79xYog0dPFNoRRxxBA6uZSJNRrtuOKdeJiIgkXk4FrZkdB1wBjHT3zwobkohIMijXiYiIiCRbJo/tuRd4ETjUzJaZ2fnAr4H2wONmNsvMbm/iOEVEmpRynYiIiEjpafQIrbufWcfgO5ogFhGRolGuExERESk9hbjLsYiIiIiIiEizU0ErIiIiIiIiJUkFrYiIiIiIiJQkFbRSEjZt2sSQIUPo378/ffr04Zprril2SCIiBadcJyIikp2cn0Mr26+yKWUFbW/u+LmNjrPTTjvx5JNP0q5dO7Zs2cIRRxzB8ccfz7Bhwwoai4hIinKdiIhI8ukIrZQEM6Ndu3YAbNmyhS1btmBmRY5KRKSwlOtERESyo4JWSkZlZSUDBgxg77335phjjmHo0KHFDklEpOCU60RERDKnglZKRqtWrZg1axbLli3jpZdeYt68ecUOSUSk4JTrREREMqeCVkpOx44dGTVqFNOnTy92KCIiTUa5TkREpHEqaKUkrFy5kjVr1gCwceNG/v73v9OzZ88iRyUiUljKdSIiItnRXY6lJCxfvpzx48dTWVnJ1q1bOf300znxxBOLHZaISEEp14mIiGRHBa1kLZNHTxRav379eO2115p9uiKy/VKuExERST6dciwiIiIiIiIlSQWtiIiIiIiIlCQVtCIiIiIiIlKSVNCKiIiIiIhISVJBKyIiIiIiIiWp0YLWzO40sxVmNi9t2B5m9riZvRV/7960YYqINC3lOhEREZHSk8kR2snAcbWGXQk84e49gCfia5EmVVlZycCBA/VMRmkqk1Guk4RQvhMREclMo8+hdfd/mFm3WoNPAkbFv6cATwNXFDAuSbAFPXsVtL1ebyzIaLybbrqJXr16sW7duoJOXwSU62Rbxcp1oHwnIiKSqVyvod3H3ZcDxN971zeimV1oZjPNbObKlStznFz+br3oSW696MmiTV/ys2zZMqZNm8YFF1xQ7FBk+1JyuU5Kn/KdiIhI5pr8plDuPsndy929vFOnTk09OWmhvvOd73Ddddexww66j5kkk3KdFIrynYiISOZy/W/5kZntCxB/ryhcSCI1Pfzww+y9994MHjy42KHI9ke5TpqV8p2IiEh2ci1oHwLGx7/HA38tTDgi23r++ed56KGH6NatG2eccQZPPvkk55xzTrHDku2Dcp00K+U7aSpmdpyZvWlmb5tZnTe4M7NRZjbLzF43s2eaO0YRkVxk8tiee4EXgUPNbJmZnQ/8HDjGzN4CjomvRZrEz372M5YtW8aSJUuYOnUqRx11FPfcc0+xw5IWRrlOkkD5TpqCmbUCbgWOB3oDZ5pZ71rjdARuA77s7n2A05o9UBGRHGRyl+Mz63lrTIFjEREpGuU6EWnBhgBvu/siADObSriL+/y0cc4C/uTuSwHcXZdYiEhJaLSgFaktm0dPFNqoUaMYNWpU0aYvItuPYuY6UL6TguoMvJf2ehkwtNY4hwA7mtnTQHvgJnf/Q/OEJyKSOxW0IiIiIi2b1THMa71uDQwmnJWyM/Cimf3T3RfWaMjsQuBCgAMOOKAJQhURyY6eCSAiIiLSsi0D9k973QX4oI5xprv7p+7+MfAPoH/thvSIMhFJGhW0IiIiIi3by0APM+tuZm2AMwh3cU/3V+BIM2ttZrsQTkku7nn3IiIZ0CnHIiIiIi2Yu1eY2SXAY0Ar4E53f93MLorv3+7uC8xsOjAH2Ar83t3nFS9qEZHMqKAVERERaeHc/RHgkVrDbq/1+nrg+uaMS0QkXzrlWEREREREREqSjtBmYUHPXkDxH+XQ4n3wWvi938Aag7t160b79u1p1aoVrVu3ZubMmUUITiSZCpmfWlyuqyenJFWSct3GeeGM05379i1aDOnKppQBMHf83Kw/2+3KaQAs+fkJBY1JRESKSwWtZO3Wi54saHsX335UxuM+9dRT7LXXXgWdvohIXZTrREREkk+nHIuIiIiIiEhJUkErJcPM+NKXvsTgwYOZNGlSscMREWkSynUiIiKZ0ynHUjKef/559ttvP1asWMExxxxDz549GTFiRLHDEhEpKOU6ERGRzOkIrZSM/fbbD4C9996bsWPH8tJLLxU5IhGRwlOuExERyZwKWikJn376KevXr6/6e8aMGfRNyF03RUQKRblOREQkOzrlWErCRx99xNixYwGoqKjgrLPO4rjjjityVCIihaVcJyIikh0VtJK1bB49USgHHnggs2fPbvbpisj2S7lOREQk+fI65djMvmtmr5vZPDO718zaFiowEZGkUK4TERERSaacC1oz6wx8Gyh3975AK+CMQgUmIpIEynUiIiIiyZXvTaFaAzubWWtgF+CD/EMSEUkc5ToRERGRBMq5oHX394EbgKXAcmCtu8+oPZ6ZXWhmM81s5sqVK3OPtAS4e7FDkBaqsXWrbEoZZVPKmima7UtT5roFPXuxoGevgsabRMqN2y8texERaWr5nHK8O3AS0B3YD9jVzM6pPZ67T3L3cncv79SpU+6RJlzbtm355JNP9M9bCs7d+eSTT2jbVpdtFoNyXX6UG7dfyl0iItIc8rnL8dHAYndfCWBmfwKGA/cUIrBS06VLF5YtW0a9R2bWrAi/1y5ovqBKlfpqG23btqVLly7FDmN7pVyXh0ZzY3NQTsnZlo8+AmDHVq1y+rxyl4iINLV8CtqlwDAz2wXYCIwBZhYkqhK044470r179/pHmDgs/l7bPAGVMvWVJItyXR4azY3NQTklZwvGjgOg1xvaGSAiIsmUzzW0/wIeAF4F5sa2JhUoLhGRRFCuExEREUmufI7Q4u7XANcUKBYRkURSrhMRERFJpnwf2yMiIiIiIiJSFCpoRUREREREpCSpoBUREREREZGSpIJWRERERERESpIKWhERERERESlJKmhFRERERESkJKmgFRERERERkZKkgrbELejZiwU9exU7DBGRJlM2pazYIYiIiEhCqaAVERERERGRkqSCVkREREREREqSCloREREREREpSSpoRUREREREpCSpoBURERFp4czsODN708zeNrMrGxjvi2ZWaWanNmd8IiK5UkErIiIi0oKZWSvgVuB4oDdwppn1rme8XwCPNW+EIiK5U0ErIiIi0rINAd5290XuvhmYCpxUx3jfAh4EVjRncCIi+VBBKyIiItKydQbeS3u9LA6rYmadgbHA7c0Yl4hI3vIqaM2so5k9YGZvmNkCMzusUIGJiCSFcp2IlDirY5jXen0jcIW7VzbYkNmFZjbTzGauXLmyYAGKiOSqdZ6fvwmY7u6nmlkbYJcCxCQikjTKdSJSypYB+6e97gJ8UGuccmCqmQHsBfybmVW4+1/SR3L3ScAkgPLy8tpFsYhIs8u5oDWz3YARwASAeE3G5sKEJSKSDMp1ItICvAz0MLPuwPvAGcBZ6SO4e/fU32Y2GXi4djErIpJE+RyhPRBYCdxlZv2BV4BL3f3T9JHM7ELgQoADDjggj8m1DGVTygCYO35uQdu99aInAbj49qMK2m628pm/bldOA2BJ24KGVBgTOwBQ1j2sw/f9rAKAXm8sKFpISddU63oRKNflYUHPXkDL21ZS63deuSDmFSaurTH41oueTEwuv6+AbSUtF5RNKdtucrm7V5jZJYS7F7cC7nT3183sovi+rpsVkZKVzzW0rYFBwG/cfSDwKbDNc83cfZK7l7t7eadOnfKYnIhIUSjXiUjJc/dH3P0Qdz/I3X8ah91eVzHr7hPc/YHmj1JEJHv5FLTLgGXu/q/4+gHClz4RkZZEuU5EREQkoXIuaN39Q+A9Mzs0DhoDzC9IVCIiCaFcJyIiIpJc+d7l+FvAH+NdPxcB5+YfkohI4ijXiYiIiCRQXgWtu88i3OZdRKTFUq4TERERSaZ8rqEVERERERERKRoVtCIiIiIiIlKSVNCKiIiIiIhISVJBKyIiIiIiIiVJBa2IiIiIiIiUJBW0IiIiIiIiUpJU0IqIiIiIiEhJUkErIiJSRGVTyiibUlbsMEREREqSCloREREREREpSSpoRUREREREpCSpoBUREREREZGSpIJWRERERERESpIKWhERERERESlJKmhFRERERESkJKmgFRERERERkZKkglZERERERERKUt4FrZm1MrPXzOzhQgQkIpJEynUiIiIiyVOII7SXAgsK0I6ISJIp14mIiIgkTF4FrZl1AU4Afl+YcEREkke5TkRERCSZ8j1CeyNwObC1vhHM7EIzm2lmM1euXJnn5ESkIQt69ip2CC1VonJdtyunNWn7IiIiIqUi54LWzE4EVrj7Kw2N5+6T3L3c3cs7deqU6+RERIpCuU5EREQkufI5Qns48GUzWwJMBY4ys3sKEpWISHIo14mIiIgkVM4Frbv/0N27uHs34AzgSXc/p2CRiYgkgHKdiIiISHLpObQiIiIiIiJSkloXohF3fxp4uhBtiYgklXKdiIiISLLoCK2IiIiIiIiUJBW0IiIiIiIiUpJU0IqIiIi0cGZ2nJm9aWZvm9mVdbx/tpnNiT8vmFn/YsQpIpItFbQiIiIiLZiZtQJuBY4HegNnmlnvWqMtBka6ez/gWmBS80YpIpIbFbQiIiIiLdsQ4G13X+TumwnP1D4pfQR3f8HdV8eX/wS6NHOMIiI5UUErIiIi0rJ1Bt5Le70sDqvP+cCjdb1hZhea2Uwzm7ly5coChigikhsVtCIiIiItm9UxzOsc0Ww0oaC9oq733X2Su5e7e3mnTp0KGKKISG4K8hzafHS7choAS9qeBRPXArCgZy8Aer2xIOd2y6aUATB3/NzcY/r5CTlPf5u22tYcvqBnr6znr1Bx1ddOqt+fHHUrABffflTmbbU9KwzofkBesRVKQ31160VPApnNX5OY2CH+Ltz6no/0ZVgWl9998b2i91VLNLFD1bJPjNQ6WWv7zWn519NWNhrKK1onayp4rivA8msOhc6b+fRVKm/m8n2jGS0D9k973QX4oPZIZtYP+D1wvLt/0kyxiYjkRUdoRURERFq2l4EeZtbdzNoAZwAPpY9gZgcAfwK+6u4LixCjiEhOin6EVkRERESajrtXmNklwGNAK+BOd3/dzC6K798O/BjYE7jNzAAq3L28WDGLiGRKBa2IiIhIC+fujwCP1Bp2e9rfFwAXNHdcIiL50inHIiIiIiIiUpJU0IqIiIiIiEhJUkErIiIiIiIiJUkFrYiIiIiIiJQkFbQiIiIiIiJSknIuaM1sfzN7yswWmNnrZnZpIQMTEUkC5ToRERGR5MrnsT0VwPfc/VUzaw+8YmaPu/v8AsUmIpIEynUiIiIiCZXzEVp3X+7ur8a/1wMLgM6FCkxEJAmU60RERESSqyDX0JpZN2Ag8K9CtCcikkTKdSIiIiLJkndBa2btgAeB77j7ujrev9DMZprZzJUrVzbYVtmUMsqmlFW9vvWiJ7n1oifzDVFK3IKevQrWTqHaku1Pvrmu25XT6HbltGaIVLZn6f9DRUREtgd5FbRmtiPhC94f3f1PdY3j7pPcvdzdyzt16pTP5EREikK5TkRERCSZ8rnLsQF3AAvc/X8KF5KISHIo14mIiIgkVz5HaA8HvgocZWYSuDYNAAAgAElEQVSz4s+/FSguEZGkUK4TERERSaicH9vj7s8BVsBYREQSR7lOREREJLkKcpdjERERERERkeamglZERERERERKkgpaERERERERKUkqaEVERERERKQkqaAVERERERGRkqSCVkREREREREqSCloREREREREpSTk/h1ZajrIpZQDcV+Q4tjfqd5Hmldrm5o6fW+RItk8LevYCoNcbC4ociYiItCQ6QisiIiIiIiIlSQWtiIiIiIiIlCQVtCIiIiIiIlKSVNCKiIiIiIhISVJBKyIiIiIiIiVJBa2IiIiIiIiUJBW0IiIiIiIiUpJU0IqIiIiIiEhJyqugNbPjzOxNM3vbzK4sVFAiIkmiXCcipa6xPGbBzfH9OWY2qBhxiohkK+eC1sxaAbcCxwO9gTPNrHehAhMRSQLlOhEpdRnmseOBHvHnQuA3zRqkiEiO8jlCOwR4290XuftmYCpwUmHCEhFJDOU6ESl1meSxk4A/ePBPoKOZ7dvcgYqIZCufgrYz8F7a62VxmIhIS6JcJyKlLpM8plwnIiXJ3D23D5qdBhzr7hfE118Fhrj7t2qNdyHh1BWAQ4E3G2l6L+DjnILa/tpKYkxJbSuJMSW1rWLE1NXdOxVomgWlXJeItpIYU1LbSmJM20Nbic51meQxM5sG/Mzdn4uvnwAud/dXarWVba4Drd/FaCuJMSW1rSTGlNS2EpnrWufx2WXA/mmvuwAf1B7J3ScBkzJt1Mxmunt5HnFtN20lMaaktpXEmJLaVhJjKjLluiK3lcSYktpWEmPaHtoqgVyXSR5rklwHyeznlt5WEmNKaltJjCmpbSU11+VzyvHLQA8z625mbYAzgIcKE5aISGIo14lIqcskjz0EfC3e7XgYsNbdlzd3oCIi2cr5CK27V5jZJcBjQCvgTnd/vWCRiYgkgHKdiJS6+vKYmV0U378deAT4N+Bt4DPg3GLFKyKSjXxOOcbdHyEkwELK6jSW7bytJMaU1LaSGFNS20piTEWlXFf0tpIYU1LbSmJM20Nbic91deWxWMim/nbg4iaafBL7uaW3lcSYktpWEmNKaluJzHU53xRKREREREREpJjyuYZWREREREREpGhU0IqIiIhITsxsZzN7xsxamVk3M9toZrPSfr6WY7v7mdkDzTWNOt4bZWZr06bx91ymUavN2vPh8edyM5tnZnuZ2ZY47Pu1PtvJzKanvZ5Ye5w6pvHj2Na1ae93MbOtZnZrWgzp76di+HUW81VpZkvNbGXsq0PrmM/a06g0s9vThj1iZh0bmIab2fNmti5+vnWc3sN1jPt3M9vdzL5jZsemxjGzz8zs9bRlOjwOLzOzyZnObyN9scTMnjWzp82sPA6bZWbz6hh3qpn1iH93q2ucWuPXWAekWosraM1sBzMbaGYnmNlRZrZPAmIqN7Pvmtn1ZvYTMzvdzPZIQFwF66uYOPqY2YFmVvT1KonrQaGZ2d5mNtbMLjaz88xsSD59n7RlKA1L4jquXNf8krgeFJpyXWD1F3WzzewFMzs0x3Z/YmZH5zGN84A/uXtlfP2Ouw9I+/lD+jTqmP5EM3s/rcj4OYC7f+Dup2Y6jUbmcaJVF46/jsO+C7wP/LzWuOPMbAnhO/JMoAdwgbsfndbW9+Pfk81ssZmtNrMFZjamjmmn36/mPMINt5YCrwMVQCVwTXz/NGBVHGdk+jSAx4EhZvbthuY1bRoVQHtgK3BizM0O3EF4HFPqmsMPgQvSPv8CsKiBeahRiEUbgR8D/+fuA4Cjqbm8FgEnpo1/Wpzv9Ha/7O5rYvvbrIdxPr4ItI2fO4aw/OpyN/AfwHfi+CkrgJExxsOAn5lZK2A98FULxe78uL4fG2P5jpntUs906rMbMJBwZ/EFhOc194zrylIz22xmHwJHANPMLBVnWzP7t/oadfeVwHIzOzytj/qnbTur0qbhZnZZ/D0rDncz+2n6NKxWMR/Xt1Prmn7aODeY2VFpr93M7rZQzGe0syH+PaqucWqNn9HOhqJfQ2tmbQkr+ZHAfoSNYh4wLZs7iZrZQcAVhI3oLWAlYeU4hLBh/xaY4u5bM2jrMOCcGNO+6TEB97j72gxjmgB8G1gMvELYkFIxHR7bvNrdl2bYXqL6ysw6EG4gcSbQJq2dfYB/Are5+1NZxNWF8CiBbeYPeDTDZVew9SC2V5B1oVDzF9sZDVwJ7AG8Rs316iDgAeCX7r4ug7YStwxbqqRtv7Et5TrlulR7ynUJz3VmdjHQ2t1vMrNuwMPu3je+9w1guLuPb+5pmNkLwFnuvqT2Z2qNtwG4ibBtbwROcvePzOwm4GTC8n0UuMzd26W3ZWZvAe/Epg4F2rl7p9jul4D/BHYC+gH/AxxLKEjXx+F7AnsDmwjFUNsYw2bC44kOjnnsy0BPQhH75/i5YcDlhO1jp9iOA58AHYFPY5s9gHUxzgOBvwBjCYXbue7+kJm9Qljndo3TJ8bZkZA/P4rz155QkK4mbI8WY11GWN9+BZxEKJyMUMANBTrFPlgLtCPcsboH8BTQO067NWFdtTi/zwKdY/ufE+6CPSUuk/XxvV2A5cAbwNmEbW9QHH85YZv8OvBVwrOMU+1tivPZNfbDxjhdi31A7MfWsQ9WEPJZjzhstzhOZYzrn4QicFF8vzOwIW1Z7ARsifPdNQ5bBuzm7nuZWUVcLj1if7wT+3+v2OfLCHn1zjjNxbE/lwLj489hwL/cfQKAmf2GUGjvHPtlPDAHGA4cF/t4P2BCbGc9YR1KPRLrC7GvxgJ/i/FdStjRMirO063u/ts4vZMI6/f82Ce3untFfG8y8DBh2V8GvAcc6+6tzez/COvWcwDufkmcPhbOPjjP3Zem2nD3B9Leb52aRnzdFfidu38pvt4Ql9sewODYHz8Dlrl7+o4MzGw80MXdf2pmo4Dv1x6ntvT46h3J3Yv2A0wkfPn5JXAW4R/ziXEh/I2wN6pfhm3dC4wgFum13tubsJdmfAbtPErYe5VaAVvHFWMQ8D3gacJepExiuhjYuYH3BwBjSrivHickr451vDcYuBE4P8OY7gJmEL4UDwcOBvoC44BbCHsMRzTXvDXBulCQ+YttXQ8cUM97rQn/hE7JsK3ELcOW+JPQ7Ve5TrmuKdYF5bomynWx3W7x727AvLT3fgDcGP+eAPw67b2HCV+MWwGTCcXMXOC78f3JwKnx702xL14lFC8L4/BdgZcIR/NeIxSmvwb6E4tCQnFwFNVHHbcSiotr4jQc+HdgCfA84SjhXELRcE+cxvPxs68RHjH0GfBmbOvzOO7s2FZlbH8r4Ujd3Dj8j3Hd2Bzj/Xv8vYRQCK2On/s7oRDaRHhO7ytxGp/F6a8hFB+VcdhE4Pz42bWE4mUj8DtCUeRAZeyvlYRiYsfYR7MIO1I+BP4rxnJGnN7s2P6n8efz2O7fCEXOlhjbh/HH4/xuBq4jFGMVcRqz4vjvAv8dx/mM8IzhLYSjv1tj+2sJhVdlHP8h4Kfx/YlxGhvjtGfHuL5FyM17xn58jXCkuZJQDFbG8TcTivu7gX/FGF4GniEs983Ax7GPNsc+WhLf+884j6fHONbG2DfE+d8K3B+HbYzztD7GeymhIH0w9slmwnr5JGEb8BjL5/HvzYRi/6nYxrtxOm/Hn9T0NsXxnyfsFEuN8xGhsHw1zv/yOP6G2Bf/Hj87M/bXlDj+urh8L4nz4IRi3mPcn8b+WRDnsyKO9xlwX5xGajv5X2AIIT98Qtheroz9sSx+tmuc57fS2tsSY1sfY1se43o7xrgy9svmOK13gH3j+v2XGOObwIVxfv87zsNewB+AqbHdWcCfYnyvEdaHVF4ZRSieIWz/dxLWk9cIO7xSOexS4PIG82OhE26WyfmERt7fGyhv5pj2KsQ420NfFXj++jbyfhvg4FJdF5I4f9vDMkzKTxK3X+W6oq0LidtOlOuSvwxjmx+mve5G+II7K37RXE4s/qm/oB0MPJ42vGP8PRk4NU6jEvhWHP7/qC6UVsefAwhHvT4Ebo9fQD+I0ziaUNRvJBy9IY7bIU5jC+HI3JL4ud8TTgutIHz5/ohwBGsj4QvsKkKxdFccZ2qcxjrCF/GHCV/gPyMUZssIBcEdhB0Nn8X3l8bhbxIKixUxlhdj+2/H+VoeP/sh4Qv9x3H8VPGQOu3VCV/mUwVI6ku7AyvjfC9J64MdCMXxfsDCGKtTXSSlPruVUFykhq9Li30L1UVYquBcCPyDsPNpa5yXeVTvTPgg9tumOD9b4jx+TDj6vImwHqV2QKSms5VQnCyP8zaEsAOnIi6T6XH6n8e21sa+vjnO5ytx/jfF9yqo3gGR6sv18bMLCetvWezfT+NyTM3jh3HcrXEaH8e2lhEKo9SySBVoqfmtiPG9T1i3H6G6oF0U+yM1v5sI615qB0mqn14CfhSnPYZQDF4QY/rfGPsfCDsCXiMUfqni9GPCunddjG9VjOmTOD+pwvXzON1KQhG+jLBdfB7/XhXHXUs4S2AroeBLnVL+UFzHdiPs5JtM2CEwM8774/Hz78XPfgzcFudhEaGInB7bf4mwLm6MfTY9fmYQ4SjxJ8Af4/T2IOzIOZOwzm0gHMn+lHDUfAGhgJ0Wx/8dMCH+fXQcf09qFrT/DZyTljcWArvG14cDf2soRxb12hF3n5b+2sx2rfX+CnefmU2bZraLmV1tZr+Lr3uYWYOHsmtN8+O0trpazetK2tceJ8OYDjGzJyxe7G1m/czs/2XTRhL7Kq0dM7NzzOzH8fUBZjYkmzbcvepC+NjXh9Z6f7O7v51FTHnPWyHXhULPX2xnHzO7w+INAsyst5mdn00baW0lbhm2JEncfpXrlOvSpqlcl4Ui5bq9CMVCutR1pAcRjsg39nzIRcCBZnaLmR1HKJhqT2Mr4WgKhC+qmzxcb/gO4Yv4PMIR+x0Jp2i+GD93EOF01rcJR4JPN7P7CGdTpE5Xr/D47ZRw6mhrQvFjhCO+7xG+6LYhfClvH9sdE9ssi9OYTfgyPzjG+7q79wO+RjhCej7hNE4nFJOpQvQOQhHUNg4/mFDQ7U8oSnYjHNntSCg+d4rjbSYczT2N6iOpqaO3m+LfqVNjJ6b156cAHk4/bx3j2JtQrKwE+sTxPonzY7Fft8af+VQfUV0RxyPGA2H57RFj3BrfbxfbWUw49frj2HdfiMP3IexgGBljeiS+vzHGtD7+bI7LYRfC0c2Dqd658QWqL3VIFXMWY1ofP5M6RfnZOI3KGNvk+PfJaf30OeHMhnWx/dT10EdTvcwgLLc947x+IU4rZT3VR007xXmBmkV6ykWEnT6b4zysJhSRqfFbUX20vGOct9uALoSdPHsQTiU+kHD68SjCmQkfxFi3xDZXxGl9SjjNdz1hJ8z7MdZHCWeNpE7BPoywfpxG6Ps2hNOYNwMPuPt1Mca/xT5cR9gRA2GZ3k84DX0CoaiEUPw6YV2qiPN2RpzOAYT140uxb/ejOsfsQvUOlDup3m4OjO9/m3BGzw2E7WcHd59DWKfGEXbEHAIcYWazYv9cEb8b/Iqwzu5HTV8CrozjPx2nl5q/FXWMX0MiboZgZsPNbD6hosfCBc635djcXYSFcFh8vYxweke2MX2dcDrJb+OgLoRD7Ln4HfBDwkpOXOhn5NJQEvuKsKEfRthTA2GjvTWXgMzsy4SElvriMsDMHsqhqULNW0HXhQLOH4R/DI8Rrq+BsDfrOzm2lcRl2OIkcftVrstKErcT5brsJHEZZmIjNW9uU9tDhFPQIXxxTf9+1xbA3VcTTu18mnCZwO+pKXV94+fxdSXVhYoRTv1vHQvcSwnXnv6O6qLpekKR9jbhC+/BwP2pnQe1bEmbxueEYtUIp9JvBJ4gnN77trsfQDiCtCpOY1dCgXIhoXDob2Y3xmGY2SExvs8JR4m+Ef8+grC8diV8UTdCgb4qjreBUHB8SDjClSq+K2O/7Uc4ZXYz4Whar9jX98d53Uo49bsurQhH2FrF6bQmnE6csplQTJwB/B/Vp+Smduj9F9VH21rFYU4oJNbFeXk9zvcWwjLvRCgAWxOOmBphx8SqOK3KOL3KOOz92B/p687HhKLvtNhGnzj91XG8XQnXGEPYYdKBsGNhd8L2upWw4+Ez4FrCtvYeobDemDatDjGOHQlFoFF9avguVK+Xy+PfDxOu03TCkcX1hML6V3H8fdLi3JmavkrYEbFD7KfFhOumtxCOnr9LKJj3JByd9NhP7xBOuX6QUIwa4UjmYsL6uQNhPYGwM+RjQj5dE/tgB0KRuiPV699IqrexOwmF27OEQvSF2PYS4BdpO3d3JhTsO1B9U61rCacH/5Vw7W1qx8jS2P5ecZpPEXJpagfJIXGe76dm0e/x5/O402xAjOlbFq57PZpwxsQ11Nyh8RlhZ9QrcTrPxs8+C/zGw7X1/071TpR0RriEJHWjtwPcfUF8r20d49eQiIKWsAIeS9z75O6zqU7M2Too7sVIfaFKJehsXUw4xL0utvMWYY9GLnZx95dqDauoc8zGJbGvhrr7xYQEkfqn2SbHmK4hnN6yJrY1i7AHNVuFmjco7LpQqPmDcApg6loKPFywX9nwR+qVxGXYEiVx+1Wuy1wStxPluuwkcRk2KsbZysIN0+pyBNU3TVoCDLBwB+z9Y4yY2V6EAuhB4GrCl/Xa04DwZby2xwhfmlPT2DFO4yDCaa+dCV/ABxGO4lxGKHY6Er70A+xoZulFXMoqwra9L6FoXhun980Y94GEompNnEa72PaNhCJzHaG4vYPwRXkC4YjpFEIh8SfCF//DCTvcPo+fmUEoXHak+ije+vh6KNVFN4Qjr98k3Fm3NeHGSK8QvvSfRvhSv0Ocx2PjZw5Pm98d4jSnE+4psBuhCE4Vzetj7NNif26NfbJb/OxNwOg4vIJw5Bpg7ziNLYTlfG2M/wuEo4hL42e+TyjSu8bpbE6b3xWEo2xlhBslpbaHzYTC9HZCwdM1fmYV1TfB6ks42g7Vpxv/Mf5dAZTH3+0Ip5c/R1hXTiHsHNg/tjuRUID3jvPiMY5vxnlNLYvfx/eOJpw2bXG+txB2VP2aUASmTumdRDjtN1V0e+yf++I8dCHkvQGE9b4HYb3wGEvqKHDqLI6ZhCOyuxFy0KGEbWI+oWh8I47XirA+ryIc0Z1IWGfHEnJqW0Ix243q07HHxr83xD5aTViOBxKOWo+K73eP09kB2MPMLiEU8Kk7VY+Ov9cRCtathDMpNhJ2wiyPsbQlFN3/JBzZXUHYXlOnTq8j5JzUztKdCDtQO8TYDoz9k+pbYuw3EK6JH0n1urQX1TvKJsT+WUJNjxEKZgMws4Fp7x1C2NlSr6QUtLj7e7UG5frParOZ7UxMEjHZft7wR+r0ubunTuvAwi3LvYHxG/JxjCMV06lU390sawnsqy0WbnueaqcTNff0ZKPCs7ibZgMKNW9Q2HWhUPMH8KmZ7Un1PA4jfBHIRRKXYYuUwO1XuS5zSdxOlOuyk8RlmKkZhMI15SCLj9QhXH+W+kL7POFL/VzCl8tX4/DOwNPxlL7JhOKuto2EYi6lbRz/RELBsHM8bfCUOI0XgBMIX1wPIBwpfo/wBfQAwtGu82JbswhHPyFcDzch/l1JOOX0IMIX5PaEI7ypo0ovEAqnI2Kbi4F/I57SS7j+cQThiO4KwimZEwlf0t8iFLrLCXdd/QnhaNGzcRo7x9hTp2CPifFsJuxUGxenMdPdB8bx1lN9OubLhKOyX4p/f5tw85puMa7U/N5PKMb+m1BkvkI4jXSHGPfHhGLsVcKN2FYQCrGvEM66OCseqd4Q52O/ON3KOI2vEIrPtYQbMW2Mv6cAb7n7k4SbLK0hHEU7iFBsPUIoxj8EJrr7XoTi52F3T+1guCBOdxVwh7uPJBQlr7l7H3cf5e47u/tk4N/d/RDg+Diti929q7vv4O67xPHauvsp7n6Ou+/k7ru6+1/dfUfCzYy+Tiicrnf3fQjr40J33zn2SWtCEbmJcC3rKzG+RYSi+XRC4bkgtrWS6oL0EXc/w917Eo6ITorLZnnsy5ti/6euZ/0oLpNfEYrPvxMK9kNjf9xJ2ImTuk7254TtdDqhAHuFsM5dEZfpi4SzD+4jFOFfJOzEWEdY33cnnMq7B+E03dSR2C8QdkJ9Tngc0Jw4v+0IO33vi8v0eKpru9cI20DqGu7UUeTTqL5kYB3h7t07xs8fGD8H1Tdb+0XMMQMIR7+nx/GPiW2ldmgQ+3CSu88nbHdDzWwOYefNVWb2PGEnwueedtfkKLUzZk7MMdemvTc69lP9PBk3WHiAcAH/q4TE8n1gao5tHUPY67OSsNItAUbl0M51hIvB34ht/hn4aY4xHUjYCD6LK8dzxDsVtpC+OpvwT2wZ4Q55bwKn5RjTHYQ7m84h7Cm7Bbi9WPPWBOtCQeYvtjWI8MVlbfy9kAzv/loKy7Al/iR0+1Wuy7ydxG0nynWlvwyzmN5A4O6maj+faRCK1laNjPNYPcOPJFwXO4dwdLLOG2o1xzTiuGOA5VnO/3epdZfsBmI5j3DkOKt+JhzBPDmLabSK23G3OOwGwk6FNwh5ulUcvg/wRL7z29A0CrUeEgr3WVQ/IqtTPZ//ejbTiNvvqGymkUHby4A2jYx3LuE0/qzXgfRpEO6WnNGd6OtocyfiNe2NjFc1DcLR5GtznN5NZPjUg2ziK/pzaKHqNJibCKcQGGHvxqXu/kmDH6y/vdRzwwz4p2d5Y5PYRmqv2ZdiO48Bv/c8Oiye/76Du69vdOT620hcX8V2ehL+CRghMS5o5CP1tbMLcBU1+/1ad9+UQ1uFmreCrQuFnL/YXmvCnkID3nT3LY18pKG2ErcMW5okbr/KdVm3k7jtRLku67YStwyzmOZ5hOcL53q2QiKmkWRm9kXCEeD/yrQPzOxcQnGU8SUWSennOL9bPJwyn+lnsp7fHOIq6XW9VOI3sx5AZ3d/OovPnEa4Y3rtG9Vl8tmve7j2vqDxJaKgLQQzG9TQ++7+akPvNwUzu6yh9939f5orlnSF6isz26ORdlZlE1chJHE9KDQzG9fQ++7+p4ber9VW4pahNCyJ67hynXJdU1CuExGRTLRufJSmY2a30MD1Oe7+7Sya+2UD7znhXPRMYko9mLu+mPplEVP7LMZtUBL7iuobIqTfgCT12qm+vXejzOxvNDx/X86wqULNW0HXhQLOH4Q7xNXbFNWPXMhEEpdhi5PE7Ve5TrkuLSblOuU6EZGSVdQjtGY2vqH33X1Kc8WSYmZdG3rf3d9trljSJbGvCsnMRjb0vrs/01yxpBRyXUji/BXa9jCPuUri9qtcVxxJ3E6U67KzPcyjiEgpaTGnHKczs76E221X3d7e3f9Q/yeaPJ62hOuS+tSK6bx6P9RMCtVXZrY74aL69Hb+UYgYc5W09aApmNkJbLte/STHthK3DKVhSVvHleuKI2nrQVNQrhMRkfoU9ZTjlHjb/CvY9h9yxqdMpbV1DeFZTb0JtyM/nnCnzaz+ucfHAtxCeGZTG8Ld4j51992yjYlw6/Q3CM9U/AnhLou53oQiiX11AeFh3l0Id4YbRrg1eS4x9SDckr72/GV8OlhspyDzFtsq2LpQqPmLbd1OuIX6aMLjAE4lPGA8a0lchi1RQrdf5brM20ncdqJcl3VbiVuGIiKSn6Q8h/aPhC893YH/JDx24OUc2zqVcPfCD939XKA/dT8kvDG/Bs4kPMNsZ8JzuG7JMaaD3f1qwheDKYRntpXl2FYS++pSwrO03nX30YRbia/MMaa7gN8QHog9mvCl7O4c2inUvEFh14VCzR/AcHf/GrDa3f+T8IzA/XNsK4nLsCVK4varXJe5JG4nynXZSeIyFBGRPCSloN3T3e8g3Db8mXh62rAc29ro7luBCjPbjfAg45z2lrr724RnaFW6+12Ef1i5SD1eYE08NawD4QHNuUhiX21KPabAzHZy9zcIj1fIxc7u/gThdPh33X0iOew5p4DrARR0XSjU/EF4cDrAZ2a2H2E9655jW0lchi1RErdf5brMJXE7Ua7LThKXoYiI5CERpxxT/SVoebxO5gPC6UC5mGlmHYHfEe5quIHcTk36zMzaALPM7DpgObBrjjFNitfsXE14oHs74Mc5tpXEvloW2/kL8LiZrY5x5WJTfBbiW2Z2CfA+sHcO7RRq3qCw60Kh5g/g4TiP1wOvEu66+fsc20riMmyJkrj9KtdlLonbiXJddpK4DEVEJA+JuCmUmZ0IPEs4hegWYDfgP939oTzb7Qbs5u5zcvhsV8Ke7h2B7xKONNwW914XTRL7qlY7Iwl9Nd3dN+fw+S8STjPsCFwb27rO3f+ZR0zdyGPeCrkuNMX8xXZ3Atq6+9p82oltJW4ZthRJ3H6V63JuJ3HbiXJd1m0lbhmKiEj2ElHQFoIl8CHzZnZZQ++7+/80VyzpmqKv4lGZ/Uk76l+MPk9nZv0Ipzumx5TNcwsTyczGNfR+rvOYxGUo21Kuy5xyXWlTrhMRkUwkoqA1s+7At9j2H3LGDyc3s63A61Tf3KHGw9OzvTNmPDpwLdA1xmSxnYzv9hhjmgU8CnxeKybizS2yktC+uhaYACwCtubSjpk1eNQlm/mL7d0J9CPMZ3pMGT8+xMwaPMrh7v2yiSm2WQ5cRfV6lXVbaevVrNSgmmFl/4iUJC7Dliih269yXebtJW47Ua7LOq7ELUMREclPUgra2cAdwFyq/8Fk9XByM/sucAqwFpgK/NndN+QR09vAOGCu59hJZjYAOAM4jnBt073AE7m2F9tMYl+9CZTlcspWWhsrgfcIffQvtv1CnNWD6s1svrv3zjWe2MYswrVa/wv8jeobk6RiejeHNt8EfsC2yy/jtsxsLPAV4GDgr8C9+Z4emsRl2BIldPtVrsu8vcRtJ8p1OcWVqGUoIiL5SUpB+y93H1qgtroTHjtwEvAu8N/uPqvhT0hAN4MAACAASURBVNXZzlPAGA93jyxEXMNjXEcDV+R6HVhC++pB4JvuviKPWFoBx8R4+gHTCF9eXs+xvTuAX7r7/Fxjiu30jDH9OzCf8IVvhrtX5Njec+5+RD4xpbW1K2HZfQXYE7gq1y9SSVyGLVFCt1/luszbSdx2olyXdVuJW4YiIpKfpBS0ZwE9gBmE09WA3K9pMbM+hKMFXwUud/f7cmjji4TT8J6pFVPW14KZWSfgdOA0wp07r871phEJ7atywt7zebViyum0q3jTjzMJd7T8ibtn/RxEMxtBONLwIdWnQHoup86ltfkV4FbgF+5+fY5tjCHM2xPU7KusrwWLX6qOIyy/vsCV7v5YjnElbhm2RAndfpXrMm8jcduJcl3WbSVuGYqISH6S8tieMsKXjKNIu6aFLJ7nZmYHEv7ZnUQ4FWgq8FOPz5vLwU8Jjz9oC7TJpQEzO5ewR7kt8ABwej57haMk9tUU4BfUOrUsW/GLwQmELwfdgJuBXG9sciehn/KNqTOhr8YCqwl3/vxzru0B5wI9CXcRTV9+Gc+nmY0m9NEQ4O/ATe4+M4+YIJnLsCVK4varXJe5JG4nynXZSeIyFBGRPCTlCO0bQL88r2nZCswh7HldR/jHWSXbow1mNtPdy3ONJy2mucDSVBi1Ysp6j3BC++oZdx+ZazyxjSmEPe+PAlPdfV6e7T2Z7Q1f6mjjGaA9cB/hS/qq9PfdfVVdn2ukzbnuXpZnXKnl9xxh2dVeft/Ooc3ELcOWKKHbr3Jd5u0lbjtRrsu6zcQtQxERyU9SjtDOJjzHLZ89+j+h+p9du7wjgr+b2ZfcfUYebYwuQBy1JbGvXjGznwEPkfupgV8FPgUOAb5tVnWPjazvuBq9YWapG5zkerpbV0I/fQO4MG24xeEHZhkTwD/NrHee17udm8dn65PEZdgSJXH7Va7LXBK3E+W67CRxGYqISB6ScoT2acKNFV6mANe0FCim9cCuwOb4k4h/VAntq6fqGOz5HjXIh5ndVcdg9xwe81BIZrYAOAhYTIGudytQXIlbhi1RQrdf5brMY0rcdqJcl3VciVuGIiKSn6QUtHWe/pPrXQxbMvVVaTOzrnUN9xweiyGlR9tv5tRXpU25TkREmssOxQ4Aqr6gLAF2jH+/DOR0J8tCseAcM7s6vt7fzIYUMyZIbF/tY2Z3mNmj8XVvMzu/yDEdYmZPmNm8+Lqfmf2/YsYEVV/m9geOin9/RgK2wyQuw5Yooduvcl2GkridKNdlJ4nLUERE8lP0fy4AZvZ1wo0ofhsHdQb+UryIALgNOAw4K77eQHiMQVEltK8mA48B+8XXC4HvFC2a4HfADwmPDsHd5xDu4FlUZnYNcAUhNgh3AL2neBFVmUzyluH/b+/OwyQry/OPf+9hkR0jIBEUgoOCKIsjO6iIoqK4g6jwA0RUosIoLokQwiJiNIpBJK4IqLhAiIISEFQGlZ1hlSCiiIigcWMR2Ya5f3+8p5jqnl7qnKrpOt1zf66rr66lz1NPV1U//Z4673neGaelf7+pdb07hfb9naTW1XMK7XsNIyKiD63YoQXeCexA6UKJ7VuAJw4isKRXSdqmwabb2H4n8GCV019ouKTFGDkdK+mfJK3RYPM2PldrVms6LqxyWgA8Ooic+rCS7StG3bZgKJmM9BrglZSGIti+k9JdtG+S3iFpT0lNmr218TWcidr495ta17s2/p2k1tXTxtcwIiL60JYd2oe6l2ao/kkN6uTebYB/6UwvquERlcXcXeW0Fn2sWTfKFZQBxycbbNvG5+r+asDaea62Be4ZREKSvi/pXEm71dz0j5Jmd+W0O3DXgHK6qfp6V4PNH3Y5cb2T18qDyKmTGrAjzdZCbONrOBO18e83ta53bfw7Sa2rp42vYURE9KEty/ZcJOlQYEVJuwDvoCxB0Dfbhzbc9FOUReWfKOnDwO5A7fOSqoHiwbYfG9DZ7mfaXBufq0MoSyDMlnQxsBbl+RqEfYAnAdvW3O6dwOeBjSX9ltJpc69BJGT7GdWAqG5OAKdL+hzw+GpK5f6UKYO1SJoF7F4daejk1c800Ta+hjNRG/9+U+t618a/k9S6etr4GkZERB/a0uV4FvAW4MWUT16/B3zRDZKTtAdwnu37qsYYc4AP2b6mQayNgRdWOf3A9k11Y1Rx5tneqcm2Y8Qa2HM1RuxdgA/Y3qXHn1/P9u3V5WWBjaqcbrb9SIPHXwY41fbedbftirGt7cu6rq8MzLJ9X9OYg1Y9z4+9frYvaBjnR7af12curXsNZ7LUulqxUusmjpFaVy9G617DiIgYENtD+wKO7bq8y4BiXl993xH4MfAq4PIa25/fdfmDA8rpw8CngedSBp1zgDnDeq6AnSmNMP5KadKxCXAVMB94bY04V3ddPnNAz9X3gOX72L47p0sHkdOAfq9Tui7vO6CYhwPvo3QSfULnq4/nqxWv4Uz8Sq0bznOVWjf1X6l1+cpXvvKVr6n+GvaU45cCnalfHwUafXo7Sqe5w8uBz9g+S9KRNbZfq+vyHsBHBpDT9tX3o7tuM2Ww1atBPlefAN4GXArsClwGHG77+Jpx1HX5qX3k0+024GJJZ1M1EwGwfVyDnFYYUE6DsHnX5bnAqQOIuX/1/Z1dt5l6r0UbX8OZKLWud6l19XNKrZtcG1/DiIgYgGHv0C4Jv63O23kR8FFJj6Ne86uBz8G2/YJBx+yTbc+rLn9b0h8aDPBg5HM1qOftzuprFs06Ys6S9HfV9p3Ljw1kbP95IFnWtyTeVxsMIsw4l/vR72sYvUmtm1xq3dRLrYuIiCk11HNoJd0BHEf5J/ye6vJjmnzKKWklyif8N9i+RdKTgE1tn9/j9ncDP6pyem51uTunVzbIaW3gWGAd27tK2gTYzvZJNWIM7LmSdCtl+lbHx7uv2+6pc6SkRymfSgtYEfhb564Sxqv1mtMYsVe2ff/kP7nYdrdROrRqjLttu/Yn85JuYPEB0D2UqYvH2P5TDzH+D/hGldee1eXuxA5ukNdKlAYn69l+m6SnARvZ/m6NGEvyNVy1ivHXpjFmitS61LoJYqfWTR4ztS4iIsY17B3aIya63/ZRDWLOBu6w/ZCknYDNgC/bvrvH7Z8/SU4XNcjpXOBk4DDbm1cNKa6xvWmNGAN7riSdPHEo7z/B/UuUpO2Ak4BVbK8naXPg7bbfMcScPkaZ3vm16qY3VN/vBXa0/YoeYuw70f22a0/Lk/RNyrmA+9h+lqQVKefSbVE31iBJehbwFcp5bgB/pOR44/CyGq7UutS60VLrauWVWhcREeNqRZfjQZJ0LbAl8A+Uhg1nUz7JfdkQc7rS9laSrrH97E6ew/5n3EaSLqcsoXB213P1U9vPGmJOF9veYazbJN1QZ7A+4Lyusr3lqPfVdbY3n2zbJZzXJZQdmgur6ztRGv1sP+GGUUtq3fSWWlcrr9S6iIgY10w8h3ah7QWSXgv8h+0TJNVexmLAlthC7k1IOmSi+4fd0ML2b6QRs+geHe9np8gqkraxfTmApK2BVar7FgwvLR6ujlR03lezgYeGmE/Hyp0BHoDtedWSIjFYqXWTSK2rLbWuntS6iIgWmIk7tI9IeiNlgfPO9KjlhpgPLNmF3Jvobl7xduBzw0pkDL+RtD1gScsDBwON1sQcoAOAL0lahXK+1b3AAdXAZRCdYZs6EjgPeIqk04AdgDcPMZ+OWyUdTpmKB7A38Ksh5jNTpdZNLrWuntS6elLrIiJaYCZOOd4EOJByfs3XJW0A7Gn734acV98LuS8J3VO42kDSmsDxlM6tAs4H5vbSjGRJk7Q65W+mp3MUp0J1NGxbynN1me0/DjklVLqtHkVZHxVKs6Ej2/S8zQSpdfWk1vUuta43qXUREe3Qyh1aSa8CfteZ9tRg+xUp3RBvHmBOx1Kmzn2x7oCjq0Pj+rbf2qRD4wSx+32urrY9p988RsX8PvAIcOIgfsdBkNQ58nGi7U/X3PZxwOso5yo+NqvB9tHjbVMj9juAPwFn2q41pU/SD2y/cLLbGubV+DWUtIftMya7LVLrasZOretBal3tvFLrIiKmubZOOd4G2FTSsrZ3rbOhpFdQlmZYHthA0hbA0W6wBMUoVwCzgU9SpvjVcTKlQ+N21fU7gDOAQQyAGj9XS9A+wJMon6bXIulTY9x8D3CV7bOaJmT7GV2f8Nd1VpXDfAZ/3pYon+7vBfT0HpW0ArASsKZGrj25GrDOgPJq/BoCH6S8vye7LVLr6kit60FqXW2pdRER01wrj9D2Q9J8YGdgXlc3xFrdGSUtAxxs+5MDyqlVHRo1cq3BDYFfdO6iLGWxWY1YywCn2t57QLl9HtiYRQOC1wE3Ak8BbrX97kE8Ts2cBtJ5VNIsYHfbp/cZZy7wbsqA7s6uu+4FvtDgqMxAXkNJuwIvA14PfLPrrtWATWxv3U/8GCm1rqd8Uuvq5ZRa11uc1LqIiBZpxRFaSXsA59m+T9K/AHOAD9lu0rFzge17RnWOrLXXbvvRanrbQAZ5LMEOjZJ2AT5ge5cam+02iMeGx56rtSQtb/vhAYTcENi5MyVN0mco55btAtwwgPhNXCJpU9t9Pb7thZLeBfQ1yLN9PHC8pINsn9BPrCreoF7DO4GrKEdf5nfdfh/wnn5ynClS65pLrZsSqXW9Sa2LiGiRVuzQAofbPkPSjsBLKNPoPkuZYlbXTyW9CVimOn/rYOCSBnEulvRpyqev93dutH11g1hHsHiHxv3qBJC0M+U5WQf4NnAs8GXKkYYP18zndk9yaF6SJvuZLrdRnq+zGflcNVkSY11gZRYt9bEysE41EBnWMg07AvtJ+hVlcF776E6XCyS9j8XfV3/uNYCknW3/EPitypItI9j+7wZ53Uafr6Ht64DrJJ1W9xy5pUhq3SRS61LrOlLrIiKiF23Zoe2svfdy4DO2z5J0ZMNYBwGHUf4Zfx34HvChBnE6C6N3N8MwZYpfLbYvkHQ1izo0znX9Do2fAN4GXArsClxGGRwfXzcf4EJJZwJn2b69c6PK0hE7AvsCFwKn9BjvzuprFiOXyWjiY8C1kuZRnqvnAceqLBvx/T5jNzXI8/X2r76/s+s2A0+tEeP5wA9ZtFRLNwNNBnmDfA1vkbTYDoLtOr/jTJVaN7nUutS6jtS6iIiYVCvOoZX0XeC3lOULngM8AFwxrPOulgRJ6wLrM7Jz5I9qbD+iQ6ekX9qe3TCXFSiDjb2ADYC7gRWAZShT3k60fW2DuCvbvn/yn5w0zpOArSmDvCts3znJJmPF6D53ruMeyjSxY9xD91ZJq9m+V9ITxrq/zpGG6ULSqpQjMn/tI8YaXVdXAPYAnmD7X/vNb7pLretp+9S6ejFS6xpIrYuImDnaskO7EvBS4Abbt1T/5De1fX6DWE8H3sfiyw7UOtogaW3KVLd1bO+qsubjdrZPapDTR4E9KQ0/Fi5KqfdupJJupfxeHR/vvt5w6hWSlgPWBB5ww7XzJG0HnASsYns9SZsDb7f9jobx/g54GmWAANQbEFcxPkY5Gva16qY3VN/vBXa0PdYn/qNjfNf2btX0O7Oow2aVUv1P4bVoWZP1bL9NfSxrImnMQZMbLLEh6VnAV4DOgPaPwD62b6wba5z4P7G94+Q/ObOl1vUUI7WuXozUunqxUusiImaYtuzQzgbusP2QpJ2AzYAvNxl0SLqOcv7VfBZN78P2/HE3GjvOuZQlKA6zvbmkZYFrXKODaFesm4HNbDc+L0rSyRPcbdv7T3D/EiXpcmB34Gwv6mzaqFumpAOAucCTgWspUxcvbTBIv9j2DmPdppqdYAdJ0jcp7819bD9LpYHOpba3aBDrvV1XV6A0wLmpyXtB0iWU9/qF1fWdgGNtbz/hhmPH6l7rcxawJfCPM+koZFOpdT3FSK2rFye1rl6s1LqIiBmmLefQnglsKWlDyqffZ1M+bX5Zg1gLbH9mADmtaft0SR8EsL1A0qOTbTSOW4Hl6KPbp+03N912Ktj+jUZ2W236XM0FtgIus/0CSRsDRzWIs4qkbWxfDiBpa2CV6r5aTTwk/cD2Cye7rUezbe8p6Y0Ath/QqCeuV7Y/MSqnj1P+dppYuTPAq2LPq87l65mk822/mHIOZMcCShOW1zfMa6ZJrZtEal1tqXX1pNZFRMwwbdmhXVgNol4L/IftEyQ1WcYC4DuS3gF8i65BVYNzgO6vzo/pLD+xLYu6Udb1N0rzjx+MyungXgNIOmSi+92sy+ag/EbS9oBVmq0cDNzUMNaDth+UhKTH2f6ZpI0axDkA+JKkVSjT5+4FDqgGLh/pJYDK+XcrAWtWUwM7g7HVKB1Ym1hiy5pQcm3ajORWSYdTpuIB7A38qmaMtQBsv6BhDkuD1LpJpNbVllpXT2pdRMQM05Yd2keqT3H3YVE3w+Uaxtq3+v7+rtvqdlaEcu7P2cBsSRdT/oHt3jCns2n+aXJHdzfGtwOf6zPeIB0IHE9ZhuIOSrOVd064xfjukPR4ynIdF0j6C6UjZS22rwQ2lbQ6ZWp995TOXtdGfDvwbsqArnsJk3uBE+vmVDmSxZc1aXRESiObwSxDeY/WPqessj/l6FDn/MQfUXO5FWB1jbG0RkfTcx9nmNS6yaXW1ZBaV1tqXUTEDNOWc2g3oQwULrX9dUkbAHva/rch57UssBHl0+qbbT8yzHw6JF3TOX9rJpP0fGB14DzbD9fc9nHA61i8YU6TJiIH2T6h7nYTxFuDRcuaXOb6y5p04qzfdXUB8Hs3XBNR0h62z5jstkli/Ak4i5ENZTqGeu5jW6TW1ZNa19O2qXX1YqXWRUTMMK3YoQWopiatZ/vmhtvvbPuH431qWvcTUy3q0Li+7beqQYdGSafbfr3GXlYBN1usfrFlLYZN0qfGuPke4CrbZzWItwywNiMHZ7ePv8WYMc6rchjdMOcT4240fqyVgfcwmG6dAzlHTdIs4PomzWjGibfYe6ru+6xt78u2Sq2rlVur3lOpdbVipdZFRMSUaMWUY0mvoCzNsDywgaQtgKNdY6kHBr8A+8mUAcJ21fU7gDOAOv/Y51bfd6v52NPNCsDGlOcHytGCG4G3SHqB7Xf3GkjSQcARwO/pWvaD0g22jifbfmnNbcbzJcp7odMFs/Z7YdDnqNleKOk6SevVHQCPymtXSkOidUcN1lejZkMZxj5aEV1S66a91LpJpNZFRMRUa8UOLeVcm62BeQC2r62m4vXM9hHV90F1yOy7Q6Ptu6rvv+43mVFHPjaUdH3nrvIQzY6ADMiGwM6dKWCSPkM5t2wX4IaaseZSjgj8qc+cLpG0qe26jz+WQXTrXBLnqD0JuFHSFcD9nRtr7hzdCVwFvJIykO24j3Kkpo59JvsBSXJbpoUMx5Gk1k0ota621LrepNZFRMxQbdmhXWD7nlH/Nxv9I5A0l3LE4T7gC8Ac4J9tn18z1MA6NEq6j8V/n3so/1zfa/vWHsK0+cjHusDKLOqMujKwju1HJdV9zn5D8w6r3XYE9pP0K8rr1s9guO/3gu3jgeMHfI5akyU+RrB9HXCdpNOanpPW5QRJZwJndR9JUekGuyOlidGFwCl9Ps50llo3udS6elLrepBaFxExc7Vlh/ankt4ELFOds3MwcEnDWPvbPl7SS4AnUroqnkz5FL2OI1i8Q+N+DXM6jvLp8Ncog403AH8P3EyZ4rVTDzFun+zT3iF+IvwxylId8yi/3/OAY6vzsb5fM9atwDxJ5zBy2Y+6S3XsWvPnJ9L3e6Fz3iPw27HOfax73mPlduAu2w9Wj7Ei5Xy8Jm6RNNa5j3U65r6U0kG00+zobsoUzWUof3+ftH1tw/xmitS6yaXW1ZNaV09qXUTEDNOKplBVU5LDgBdTBgnfAz7U+edVM9b1tjeTdDwwz/a31LBTpgbXofFy29uMuu0y29tKus725j3EmAdM+omw7VOa5NgvSU+iTKUUcIXt2stPVHGOGOt22z19Qi9pNdv3SnrCOHHqrtFJFUt0vReAVW33vHahpKNsHyHp5LHTqt8VU9JVwPauuqJW74WLbW/VINYaXVdXAPYAnmD7X+vGquItB6wJPOCRy4gs1VLrUuu64qTW9R4ztS4iIsbVih3aQar+ia4LbABsTvnEdJ7t5zSItS6wPiM7UP6oQZxLgU8C/1XdtDtwSDXIu9b2Fj3EWIHyifBelN9t9CfCJw7zE2GV5h9Pq3ICmj1XA8jju7Z3q6bfmZHNO1zzU/hOzIuBXW3fW11/BnCGB9R1s6mx3ju97jT0GP8ntnccRKwYvNS64Uitm3qpdRERMZFW7NBKejrwPhZfR2/nBrFmAVsAt9q+u/o0dl3b10+y6eg4HwX2pHSwfKwDZc0mFJ1YTwWOp3QRNeVT7/cAvwWeY/snNeO16hNhSQdQGpw8GbiW8un+pQ1fv7WADwDPZOSAsXasQZH08iqnl1E6nH4Z2KvJoFrSmEcB3GzNyAuAE2yfXV1/FXCway6LUW3bvQTFLGBL4B8HNWCMIrUuta4rVmpd77FS6yIiYlxtOYf2DOCzwBfpWkevoc6nrJupdnPGEV5N6UDZqDlKN5dGKGMtsQFQa4BXxXsEuKuvpAZrLrAVZariCyRtTPMmHqcB36Q0hjmQMr3wD3WDaEBrIALYPqcaWF8ArAq82vYtdeNU7u+6vALl97ypYawDgdMknUjZebiDHrpvdpN0vu0XA91rVi4AbgNe3zCvGF9qXb14qXWTSK3rTWpdRMTM1ZYd2gW2PzOgWO/vurwC5Vyn+UDdT71vBZajYbfPbtUn8W9l8aMytc8laqkHbT8oCUmPs/0zSRs1jLWG7ZMkzbV9EXCRpIt63VgDXANR0gmM7Ni6GuV9cZAkbB9cJx6A7e7BFJI+DpxdN04V65fAtpJWocy2uK9BmLWqWC9okkPUllo3vaXW9Si1LiIipkpbdmi/I+kdwLcY2e2xdlML2yOODkh6CqUzZV1/o3Sz/MGonGr/YwfOAn5M6YLZ71GZNrpD0uOBbwMXSPoLpdNpE49U3++qpr/dSZne16tBroF41ajr88f8qf6sBNQ+1w1A0trAsZRlQ3aVtAmwne2TaoRZXWN0Iu1ws46kMb7Uuuktta651LqIiFgi2nIO7VgdFBs1tRgjtoDrbW9ac7t9x7rd9qkNcuipGcpMIOn5wOrAeZ2OlDW3340yIH4KcALlSMFRnXOnasQZyBqIkpYBTrW9d7+xqng3sOhIyDKUowZH2/50g1jnUpZpOcz25pKWBa6p816X9CfKTshYc1Y9g46stUJq3cyRWjdpvNS6iIiYEq3YoR2kUVOnOk1TbhvUP+mGOR0DXGL7f4aVw5JWDYbWZuQ0w9vH32KJ57MypRnNerbfprLm50a2v9sg1veAVzQZtI4Ra/2uqwuA39te0DDWlba3UtdSLXV3KCRdbXvO5D8ZbZNaNxypdT3HSq2LiIgpMdQpx6oWYB9vGlDDKUDdU6cWAF+3fXGNnE63/fpRny5357RZg5zmAodKeogyzUwllFdrEKt1JB0EHAH8nq4uqUDPz5WkT010f4Ppj1+iTJvbvrp+B6UhT+1BHqVpyMWSzqar0Ynt4+oEqbrSnuPBLYFxf9XZ1lX8bYF7asboq5tQ9Ca1LrWuK0ZqXX2pdRERMa5hn0P7fOCHjN0V00DtQV6TaXKjzK2+79ZnnMfYXnVQsVpqLuWIwJ/6iHEg8FPgdMq5ZP0OPmbb3lPSGwFsP6DmrWDvrL5mUTp/NmJ7oaTrJK03oCM6h1CarMxWWT9yLcq6n3VM2ilUkjzTpnJMvdS6mSG1rgepdRERMZVmzJTjaprVYcCfgeOALwDPBX4JHGD7yiHktLftr1aXd+g+eiLpXU3OJWojSRcCuzSdTlbFWAPYg7Ie5gLKchZn2v5Lw3iXAC8ELrY9R9JsyhGsrZvmOAiSfkhZ9uMKRh4Bqb3mZxVvWWAjyqD4ZmDrmkfp5gFnAmd1DzwlLU9ZFmZf4ELbpzTJLwYvtW54Uutq5ZVaFxERU6IVO7SS5lIaPtxHGZzNAf7Z9vk1YvyEsgj8apTzid4NfIcy0DvG9jY1c7qPxafh3UOZ5vdel/UWJ4vx2Dk7o8/fmUnn80g6iTLQOIeRXVJrTVPrircu8EbKp/L/ZPsrDWLsAvwLsAlwPrADsJ/teQ1irQV8AHgmZXkUAGzXXR6l00hmMS7LdvQaYxnKuonrAufavrFqMHMosGLnHLMeY60A7A/sBWwA3E35HZehPG8n2r6213gxsdS66S21rlas1LqIiJgSw55y3LG/7eMlvQR4IvBmyqCv50EesIrtzwNIOtD2GdXtF0j69wY5HUeZevU1yifCbwD+nvLJ8JeAnXqIoXEuj3V9Oru9+lq++mpM0hzKAG8X4FyaLx8xH3gtsC3luZ5L8yl0p1GOouxGmS64L/CHhrFuB+6y/SCApBUpDWbqOInSGfUK4ARJv6b8nh+0/e06gao8/hP4T0nLAWsCD9i+u2ZO0ZvUuuktta53qXURETEl2rJD2xnwvAw42fZ1Dc4BWth1+d4J7uvVS0cd6fi8pMtsHy3p0B5jeJzLY12ftmwf1W8MSUdRBlE3Ad+gDFgaT+ujHLHa1fY5VfxnUBqlNGlSsobtkyTNrY4uXCSp56MMo5zBouYtUNbqPIMyNa9XWwKbVeeprQD8EdjQ9u8a5gSA7UeAu/qJEZNKrZvGUutqSa2LiIgp0ZYd2vmSzqdMA/qgpFWpPzDbWNL1lAHj7Ooy1fUmazwulPR64L+q690NKHodoA06p1Ya0DS1w4Fbgc2rr2OrcX6nS2rdjqvHAt+R9DJgY8oUzb1qxuh4pPp+l6SXU45mPblhrGXdtSSG7Yerc7jqeNj2wmr7ByX9vN8BXkyZ1LppLLWultS6iIiYEm3ZoX0LZQ3FW23/rWqa8eaaMZ4x4Jz2Ao6nTFEycBmwdzVt6l1Dyj8gigAAC39JREFUyqmtBjFNbYNBJmT7nGpa2QWU6Xevtn1Lw3DHSFodeC9wAovOXWziD5JeaftsAEmvohx1qGPjUTsMs7t2JpoMiGPqpNZNb6l1vUuti4iIKdGWplDPG+t22z+qEWPSdvu9/MwgtTGnJUHSfNvPkXR9Z4Ah6SLbYzYFGSfGQJ4rSScw8qjSzpSjIbdBozUeB6rqQHoapcmJKWtG7mP7FzVirD/R/bZ/3VeSscSk1qXWpdal1kVExGC15Qjt+7surwBsTWl0UWca14WSJm3JD5zSS7BqatlbgX+g63myvf+wcmqxQUxTG9RzddWo600brSDpUxPd32TAaPuXwLaSVqF8oHRfg9RuXxp2Hmao1LrpLbWuR6l1ERExVVpxhHY0SU8BPmb7jTW2GWhLfpW1/X5MGSQ82rnd9pnDyqmtVJZR+DGlG2VnmtpRnalmPcYY2HOlstTDqbb3rvN7jBHnYeCnwOmUgeuI5j22T20Qc23KOW/r2N5V0ibAdrZPqhFjHllPcUZIrZteUutqxUyti4iIKdHWHVoB19vetOH2fbfkl3St7S2abLukclpaDOj1+x7wiu6mJA1irAHsAewJLKCcO3em7b/0EfNcyjIth9neXNKywDV13utLy87D0iC1bumWWjdpjNS6iIiYVCt2aEedCzSL0jTltn4/de4zp2OAS2z/z7ByaLslMU1tUCR9DpgDnA3c35XTcQ3jrUtZM/IQ4J9sf6VhnCttbyXpGtvPrm5rvEORnYfpJbVuekqtaxQntS4iIqZEW86h7T4XaAHwddsXDyuZylzgUEkPUc6b6nRVXG24abXKgUwwTW3I7qy+ZlE6fzYmaQ5lgLcLcC59nKsG3F8dDXEVe1vgnqbBnPUUp5vUuukpta6+1LqIiJgSrThCG9PTkpim1iaSjqIsz3ET8A3gPNsL+ow5h3Lu3bMoA+S1gN1tXz/hhhExNKl1jWKm1kVExJQY6g6tpKcBhwF/Bo4DvgA8F/glcIDtK4eQ0962v1pd3qH76Imkd9n+9FTnNB0MapraAPNZC/gA8EzKOVcA2O65m6ykhZRlMB7obN65iz7WQKzOJduoinMzsHULjtLFEpRaN3Ok1tXKLbUuIiKWuGFPOT4Z+DKlU+TlwLuB11AGep8GthlCTocAX60un0A5N6ljf0pe0WXA09QG5TTKUZTdKNMF9wX+UDPGBoNKpupG+nrKmozn2r6x6pj6eWBF4NmDeqxopdS6GSC1bnKpdRERMdWGfYT2sQYRkn5he8Ox7pvinLobWDx2eazrS7slMU1tUCTNt/0cSdd3ji5Iusj282vEmHR9w17XQJR0CmWpjysoOy+/BrYFPmj7273mFNNTat30llqXWhcREe017CO0C7su3zvBfVPJ41we6/rS7nDKNLXNq69jyyok/U1TG5BHqu93SXo5pWnKk2vGuFDSpGsgAqf0EGtLYDPbC6ulKP4IbGj7dzVziukptW56S61LrYuIiJYa9g7txpKupwwKZleXqa4/NTm13sCmqS0Bx0haHXgvZTrlasB7asZ4KWXq5dcljbUG4idrrIH4sO2FALYflPTzDPCWKm2sK23Mqa1S61LrIiKipYY95Xj9ie63/eupyqWjjTm11SCnqbVdv2sgSvob8IvOVWB2db0NR3hiCWtjXWljTm2VWldr+9S6iIiYUsPeoW3dIKGNObWVpHnApNPUbJ8yhTl9aqL7bR88Vbl0y87D0q2NdaWNObVVal3vUusiImKqDXuHdh7tGyS0Lqe2qs6P2h/YizIlb/Q0tRNrTFMbVE4PU9Y8PJ1yLpm677d96lTm05VXdh6WYm2sK23Mqa1S62rllVoXERFTatg7tG0cJLQup+mg32lqA8xjDWAPYE9gAWU5izNt/2VYOVV5zSM7D0utNtaVNuY0HaTWTZrXPFLrIiJiCg11h7ZbWwYJ3dqYU/RO0rqUNSMPAf7J9leGmEt2HgJoZ11pY07Ru9S6iIhYmrVmhzZikCTNoQzwdgHmA5+w/b/DzarIzkNEDEpqXURELO2yQxsziqSjgN2Am4BvAOfZXjDcrCIiBiu1LiIiosgObcwokhYCtwIPVDd13uBZMiIiZozUuoiIiGLZYScQMWAbDDuBiIgpkFoXERFBjtDGDJMlIyJiaZBaFxERUcwadgIRA3ahpIMkrdd9o6TlJe0s6VTKshEREdNZal1ERAQ5QhszTJaMiIilQWpdREREkR3amLGyZERELA1S6yIiYmmWHdqIiIiIiIiYlnIObURERERERExL2aGNiIiIiIiIaSk7tNOYpCdLOkvSLZJ+Kel4ScsPMZ9XS9qk6/rRkl40oNhbS5pX/a5XSzpH0qYDin2kpPcNIlZELBmpd6l3ERERY8kO7TQlScB/A9+2/TTg6cAqwIeHmNargccGeLb/1fb3+w0qaW3gdOBQ20+zPQf4CDC739gN81l2GI8bsbRKvUu9i4iIGE92aKevnYEHbZ8MYPtR4D3A/pJWlvRxSTdIul7SQQCStpJ0iaTrJF0haVVJ+0n6dCeopO9K2qm6/FdJn6iOEPxA0lrV7W+VdGUV50xJK0naHngl8O+SrpU0W9IpknavtnmhpGuqnL4k6XHV7bdJOqp6jBskbTzG7/ou4FTbl3RusP0T29+uYqxV5XFl9bVDdfuR1WPNk3SrpIO7fs/DJN0s6fvARl23z5Z0nqT5kn7cyaf6XY6TdCHw0f5euoioKfUu9S4iImJM2aGdvp4JzO++wfa9wO3AAZR1CZ9tezPgNJWped8E5treHHgR8MAkj7EycHV1hOAi4Ijq9v+2vVUV5ybgLdXg62zg/ba3sP3LThCV9RJPAfa0vSmwLPCPXY/zx+oxPgOMNRXumcDVE+R5PPBJ21sBrwO+2HXfxsBLgK2BIyQtJ+k5wBuAZwOvBbbq+vnPAwfZfk6Vy3923fd04EW23ztBLhExeKl3i6TeRUREdMlUoulLwFhrLgl4HvBZ2wsAbP9Z5fyru2xfWd12L4CkiR5jIWVQCPBVypQ/gGdJOgZ4PGXa3/cmyXUj4Fe2f15dPxV4J/Af1fVO3PmUAdeEJF0OrAacb3suZbC6SdfvspqkVavL59h+CHhI0v8BawPPBb5l+29VvLOr76sA2wNndMV6XNdDn1EdGYqIqZV6l3oXERExpuzQTl83Uj6df4yk1YCnALey+OBvvAHhAkYeqV9hgsfsbH8K8Grb10naD9hpklwnHEUCD1XfH2Xs9+SNwBzgLADb21RT+3ar7p8FbGd7xBGYapD2UNdN3fHHei5mAXfb3mKcPO+f+NeIiCUk9S71LiIiYkyZcjx9/QBYSdI+AJKWAT5BGXydDxyoqpmHpCcAPwPWkbRVdduq1f23AVtImiXpKZSpah2zgN2ry28CflJdXhW4S9JywF5dP39fdd9oPwP+QdKG1fX/R5nSNy6VLp9frq6eCOxXnbfWsVLX5fMp5511th1vgNbxI+A1klasjmy8Ah47ivMrSXtUcSRp80liRcSSl3q3SOpdREREl+zQTlO2DbwG2EPSLcDPgQeBQynnVN0OXC/pOuBNth8G9gROqG67gHJ04mLgV8ANwMcZee7W/cAzJc2nNGU5urr9cODyKsbPun7+G8D7q2Yoj3XktP0g8GbK1LYbKFP7PjvJr7ge1Tlvtn9X5f4RSb+QdAll4Nlp7nIwsKVKQ5j/BQ6c5Lm7mjK18FrgTODHXXfvBbyleo5uBF41SZ4RsYSl3qXeRUREjEdlnBCxOEl/tb3KkB7734Gv2L5+GI8fEUuX1LuIiIjpKTu0Ma5hDvAiIqZS6l1ERMT0lB3aiIiIiIiImJZyDm1ERERERERMS9mhjYiIiIiIiGkpO7QRERERERExLWWHNiIiIiIiIqal7NBGRERERETEtJQd2oiIiIiIiJiW/j/ZAUoLQntbHgAAAABJRU5ErkJggg==",
      "text/plain": [
       "<Figure size 1152x576 with 6 Axes>"
      ]
     },
     "metadata": {
      "needs_background": "light"
     },
     "output_type": "display_data"
    }
   ],
   "source": [
    "fig, axes = plt.subplots(2, 3, sharex=True, figsize=(16,8))\n",
    "data.groupby(['Occupation','Gender'])['RM_productive'].value_counts().unstack().plot(kind='bar', ax=axes[0,0])\n",
    "axes[0,0].set_title('RM_Productive')\n",
    "\n",
    "data.groupby(['Occupation','Gender'])['RM_lazy'].value_counts().unstack().plot(kind='bar',ax = axes[0,1])\n",
    "axes[0,1].set_title('RM_lazy')\n",
    "\n",
    "data.groupby(['Occupation','Gender'])['RM_improved_skillset'].value_counts().unstack().plot(kind='bar', ax=axes[0,2])\n",
    "axes[0,2].set_title('RM_improved_skillset')\n",
    "\n",
    "data.groupby(['Occupation','Gender'])['RM_better_work_life_balance'].value_counts().unstack().plot(kind='bar', ax=axes[1,0])\n",
    "axes[1,0].set_title('RM_better_work_life_balance')\n",
    "\n",
    "data.groupby(['Occupation','Gender'])['RM_professional_growth'].value_counts().unstack().plot(kind='bar', ax=axes[1,1])\n",
    "axes[1,1].set_title('RM_professional_growth')"
   ]
  },
  {
   "cell_type": "code",
   "execution_count": 206,
   "metadata": {},
   "outputs": [
    {
     "data": {
      "text/html": [
       "<div>\n",
       "<style scoped>\n",
       "    .dataframe tbody tr th:only-of-type {\n",
       "        vertical-align: middle;\n",
       "    }\n",
       "\n",
       "    .dataframe tbody tr th {\n",
       "        vertical-align: top;\n",
       "    }\n",
       "\n",
       "    .dataframe thead th {\n",
       "        text-align: right;\n",
       "    }\n",
       "</style>\n",
       "<table border=\"1\" class=\"dataframe\">\n",
       "  <thead>\n",
       "    <tr style=\"text-align: right;\">\n",
       "      <th>RM_better_sleep</th>\n",
       "      <th>No</th>\n",
       "      <th>Yes</th>\n",
       "    </tr>\n",
       "    <tr>\n",
       "      <th>RM_productive</th>\n",
       "      <th></th>\n",
       "      <th></th>\n",
       "    </tr>\n",
       "  </thead>\n",
       "  <tbody>\n",
       "    <tr>\n",
       "      <th>1</th>\n",
       "      <td>0</td>\n",
       "      <td>3</td>\n",
       "    </tr>\n",
       "    <tr>\n",
       "      <th>2</th>\n",
       "      <td>18</td>\n",
       "      <td>6</td>\n",
       "    </tr>\n",
       "    <tr>\n",
       "      <th>3</th>\n",
       "      <td>45</td>\n",
       "      <td>21</td>\n",
       "    </tr>\n",
       "    <tr>\n",
       "      <th>4</th>\n",
       "      <td>27</td>\n",
       "      <td>42</td>\n",
       "    </tr>\n",
       "    <tr>\n",
       "      <th>5</th>\n",
       "      <td>24</td>\n",
       "      <td>21</td>\n",
       "    </tr>\n",
       "  </tbody>\n",
       "</table>\n",
       "</div>"
      ],
      "text/plain": [
       "RM_better_sleep  No  Yes\n",
       "RM_productive           \n",
       "1                 0    3\n",
       "2                18    6\n",
       "3                45   21\n",
       "4                27   42\n",
       "5                24   21"
      ]
     },
     "execution_count": 206,
     "metadata": {},
     "output_type": "execute_result"
    }
   ],
   "source": [
    "pd.crosstab(data['RM_productive'],data['RM_better_sleep'])\n"
   ]
  },
  {
   "cell_type": "code",
   "execution_count": 204,
   "metadata": {},
   "outputs": [
    {
     "name": "stdout",
     "output_type": "stream",
     "text": [
      "(<Figure size 432x288 with 3 Axes>, OrderedDict([(('5', 'Yes'), (0.0, 0.0, 0.21312872975277067, 0.46511627906976744)), (('5', 'No'), (0.0, 0.4684385382059801, 0.21312872975277067, 0.5315614617940199)), (('2', 'Yes'), (0.2180306905370844, 0.0, 0.11366865586814434, 0.24916943521594684)), (('2', 'No'), (0.2180306905370844, 0.25249169435215946, 0.11366865586814434, 0.7475083056478404)), (('4', 'Yes'), (0.33660130718954245, 0.0, 0.326797385620915, 0.6066734074823054)), (('4', 'No'), (0.33660130718954245, 0.6099956666185179, 0.326797385620915, 0.39000433338148194)), (('3', 'Yes'), (0.6683006535947712, 0.0, 0.31258880363739705, 0.3171247357293869)), (('3', 'No'), (0.6683006535947712, 0.3204469948655995, 0.31258880363739705, 0.6795530051344005)), (('1', 'Yes'), (0.9857914180164818, 0.0, 0.014208581983518, 0.9966777408637874)), (('1', 'No'), (0.9857914180164818, 1.0, 0.014208581983518, 0.0))]))\n"
     ]
    },
    {
     "data": {
      "image/png": "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",
      "text/plain": [
       "<Figure size 432x288 with 3 Axes>"
      ]
     },
     "metadata": {
      "needs_background": "light"
     },
     "output_type": "display_data"
    }
   ],
   "source": [
    "\n",
    "print(mosaic(data, ['RM_productive','RM_better_sleep']))"
   ]
  },
  {
   "cell_type": "code",
   "execution_count": 207,
   "metadata": {},
   "outputs": [
    {
     "data": {
      "text/html": [
       "<div>\n",
       "<style scoped>\n",
       "    .dataframe tbody tr th:only-of-type {\n",
       "        vertical-align: middle;\n",
       "    }\n",
       "\n",
       "    .dataframe tbody tr th {\n",
       "        vertical-align: top;\n",
       "    }\n",
       "\n",
       "    .dataframe thead th {\n",
       "        text-align: right;\n",
       "    }\n",
       "</style>\n",
       "<table border=\"1\" class=\"dataframe\">\n",
       "  <thead>\n",
       "    <tr style=\"text-align: right;\">\n",
       "      <th>RM_quality_time</th>\n",
       "      <th>No</th>\n",
       "      <th>Yes</th>\n",
       "    </tr>\n",
       "    <tr>\n",
       "      <th>RM_productive</th>\n",
       "      <th></th>\n",
       "      <th></th>\n",
       "    </tr>\n",
       "  </thead>\n",
       "  <tbody>\n",
       "    <tr>\n",
       "      <th>1</th>\n",
       "      <td>0</td>\n",
       "      <td>3</td>\n",
       "    </tr>\n",
       "    <tr>\n",
       "      <th>2</th>\n",
       "      <td>18</td>\n",
       "      <td>6</td>\n",
       "    </tr>\n",
       "    <tr>\n",
       "      <th>3</th>\n",
       "      <td>33</td>\n",
       "      <td>33</td>\n",
       "    </tr>\n",
       "    <tr>\n",
       "      <th>4</th>\n",
       "      <td>12</td>\n",
       "      <td>57</td>\n",
       "    </tr>\n",
       "    <tr>\n",
       "      <th>5</th>\n",
       "      <td>9</td>\n",
       "      <td>36</td>\n",
       "    </tr>\n",
       "  </tbody>\n",
       "</table>\n",
       "</div>"
      ],
      "text/plain": [
       "RM_quality_time  No  Yes\n",
       "RM_productive           \n",
       "1                 0    3\n",
       "2                18    6\n",
       "3                33   33\n",
       "4                12   57\n",
       "5                 9   36"
      ]
     },
     "execution_count": 207,
     "metadata": {},
     "output_type": "execute_result"
    }
   ],
   "source": [
    "pd.crosstab(data['RM_productive'],data['RM_quality_time'])"
   ]
  },
  {
   "cell_type": "code",
   "execution_count": 208,
   "metadata": {},
   "outputs": [
    {
     "name": "stdout",
     "output_type": "stream",
     "text": [
      "(<Figure size 432x288 with 3 Axes>, OrderedDict([(('5', 'Yes'), (0.0, 0.0, 0.21312872975277067, 0.7973421926910299)), (('5', 'No'), (0.0, 0.8006644518272424, 0.21312872975277067, 0.19933554817275742)), (('2', 'Yes'), (0.2180306905370844, 0.0, 0.11366865586814434, 0.24916943521594684)), (('2', 'No'), (0.2180306905370844, 0.25249169435215946, 0.11366865586814434, 0.7475083056478404)), (('4', 'Yes'), (0.33660130718954245, 0.0, 0.326797385620915, 0.8233424815831286)), (('4', 'No'), (0.33660130718954245, 0.8266647407193413, 0.326797385620915, 0.17333525928065865)), (('3', 'Yes'), (0.6683006535947712, 0.0, 0.31258880363739705, 0.4983388704318937)), (('3', 'No'), (0.6683006535947712, 0.5016611295681063, 0.31258880363739705, 0.4983388704318937)), (('1', 'Yes'), (0.9857914180164818, 0.0, 0.014208581983518, 0.9966777408637874)), (('1', 'No'), (0.9857914180164818, 1.0, 0.014208581983518, 0.0))]))\n"
     ]
    },
    {
     "data": {
      "image/png": "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",
      "text/plain": [
       "<Figure size 432x288 with 3 Axes>"
      ]
     },
     "metadata": {
      "needs_background": "light"
     },
     "output_type": "display_data"
    }
   ],
   "source": [
    "print(mosaic(data, ['RM_productive','RM_quality_time']))"
   ]
  },
  {
   "cell_type": "code",
   "execution_count": 210,
   "metadata": {},
   "outputs": [
    {
     "data": {
      "text/html": [
       "<div>\n",
       "<style scoped>\n",
       "    .dataframe tbody tr th:only-of-type {\n",
       "        vertical-align: middle;\n",
       "    }\n",
       "\n",
       "    .dataframe tbody tr th {\n",
       "        vertical-align: top;\n",
       "    }\n",
       "\n",
       "    .dataframe thead th {\n",
       "        text-align: right;\n",
       "    }\n",
       "</style>\n",
       "<table border=\"1\" class=\"dataframe\">\n",
       "  <thead>\n",
       "    <tr style=\"text-align: right;\">\n",
       "      <th>RM_lazy</th>\n",
       "      <th>1</th>\n",
       "      <th>2</th>\n",
       "      <th>3</th>\n",
       "      <th>4</th>\n",
       "      <th>5</th>\n",
       "    </tr>\n",
       "    <tr>\n",
       "      <th>RM_productive</th>\n",
       "      <th></th>\n",
       "      <th></th>\n",
       "      <th></th>\n",
       "      <th></th>\n",
       "      <th></th>\n",
       "    </tr>\n",
       "  </thead>\n",
       "  <tbody>\n",
       "    <tr>\n",
       "      <th>1</th>\n",
       "      <td>0</td>\n",
       "      <td>0</td>\n",
       "      <td>0</td>\n",
       "      <td>0</td>\n",
       "      <td>3</td>\n",
       "    </tr>\n",
       "    <tr>\n",
       "      <th>2</th>\n",
       "      <td>3</td>\n",
       "      <td>3</td>\n",
       "      <td>3</td>\n",
       "      <td>12</td>\n",
       "      <td>3</td>\n",
       "    </tr>\n",
       "    <tr>\n",
       "      <th>3</th>\n",
       "      <td>9</td>\n",
       "      <td>3</td>\n",
       "      <td>24</td>\n",
       "      <td>24</td>\n",
       "      <td>6</td>\n",
       "    </tr>\n",
       "    <tr>\n",
       "      <th>4</th>\n",
       "      <td>0</td>\n",
       "      <td>9</td>\n",
       "      <td>21</td>\n",
       "      <td>33</td>\n",
       "      <td>6</td>\n",
       "    </tr>\n",
       "    <tr>\n",
       "      <th>5</th>\n",
       "      <td>27</td>\n",
       "      <td>0</td>\n",
       "      <td>12</td>\n",
       "      <td>3</td>\n",
       "      <td>3</td>\n",
       "    </tr>\n",
       "  </tbody>\n",
       "</table>\n",
       "</div>"
      ],
      "text/plain": [
       "RM_lazy         1  2   3   4  5\n",
       "RM_productive                  \n",
       "1               0  0   0   0  3\n",
       "2               3  3   3  12  3\n",
       "3               9  3  24  24  6\n",
       "4               0  9  21  33  6\n",
       "5              27  0  12   3  3"
      ]
     },
     "execution_count": 210,
     "metadata": {},
     "output_type": "execute_result"
    }
   ],
   "source": [
    "pd.crosstab(data['RM_productive'],data['RM_lazy'])"
   ]
  },
  {
   "cell_type": "code",
   "execution_count": 209,
   "metadata": {},
   "outputs": [
    {
     "name": "stdout",
     "output_type": "stream",
     "text": [
      "(<Figure size 432x288 with 3 Axes>, OrderedDict([(('5', '1'), (0.0, 0.0, 0.21312872975277067, 0.5921052631578948)), (('5', '2'), (0.0, 0.5953947368421053, 0.21312872975277067, 0.0)), (('5', '3'), (0.0, 0.5986842105263159, 0.21312872975277067, 0.2631578947368422)), (('5', '4'), (0.0, 0.8651315789473686, 0.21312872975277067, 0.06578947368421052)), (('5', '5'), (0.0, 0.9342105263157896, 0.21312872975277067, 0.06578947368421052)), (('2', '1'), (0.2180306905370844, 0.0, 0.11366865586814434, 0.12335526315789476)), (('2', '2'), (0.2180306905370844, 0.12664473684210528, 0.11366865586814434, 0.12335526315789476)), (('2', '3'), (0.2180306905370844, 0.25328947368421056, 0.11366865586814434, 0.12335526315789476)), (('2', '4'), (0.2180306905370844, 0.3799342105263159, 0.11366865586814434, 0.49342105263157904)), (('2', '5'), (0.2180306905370844, 0.8766447368421053, 0.11366865586814434, 0.12335526315789476)), (('4', '1'), (0.33660130718954245, 0.0, 0.326797385620915, 0.0)), (('4', '2'), (0.33660130718954245, 0.003289473684210527, 0.326797385620915, 0.12871853546910755)), (('4', '3'), (0.33660130718954245, 0.1352974828375286, 0.326797385620915, 0.3003432494279177)), (('4', '4'), (0.33660130718954245, 0.4389302059496568, 0.326797385620915, 0.4719679633867277)), (('4', '5'), (0.33660130718954245, 0.914187643020595, 0.326797385620915, 0.0858123569794051)), (('3', '1'), (0.6683006535947712, 0.0, 0.31258880363739705, 0.13456937799043062)), (('3', '2'), (0.6683006535947712, 0.13785885167464115, 0.31258880363739705, 0.04485645933014356)), (('3', '3'), (0.6683006535947712, 0.18600478468899523, 0.31258880363739705, 0.3588516746411483)), (('3', '4'), (0.6683006535947712, 0.5481459330143541, 0.31258880363739705, 0.35885167464114837)), (('3', '5'), (0.6683006535947712, 0.910287081339713, 0.31258880363739705, 0.08971291866028712)), (('1', '1'), (0.9857914180164818, 0.0, 0.014208581983518, 0.0)), (('1', '2'), (0.9857914180164818, 0.003289473684210526, 0.014208581983518, 0.0)), (('1', '3'), (0.9857914180164818, 0.006578947368421052, 0.014208581983518, 0.0)), (('1', '4'), (0.9857914180164818, 0.009868421052631578, 0.014208581983518, 0.0)), (('1', '5'), (0.9857914180164818, 0.013157894736842105, 0.014208581983518, 0.9868421052631579))]))\n"
     ]
    },
    {
     "data": {
      "image/png": "iVBORw0KGgoAAAANSUhEUgAAAW4AAAD8CAYAAABXe05zAAAABHNCSVQICAgIfAhkiAAAAAlwSFlzAAALEgAACxIB0t1+/AAAADh0RVh0U29mdHdhcmUAbWF0cGxvdGxpYiB2ZXJzaW9uMy4yLjIsIGh0dHA6Ly9tYXRwbG90bGliLm9yZy+WH4yJAAAc+UlEQVR4nO3df2xUZ3ov8O9zzsx4POPxGjMOP4NBrvFmjEOygm0llHDZlIq22QUJRNJc90oWq4B0JbZqpUj9y6VSdKvoquqV7h8F7nKrLL270tWClHK71hIRSCNud4vTxI6x2V07gckaDMY2/jE/8Mx5+ocnjkMAj2GG95wz349kcSx8hq/x8TPvec77niOqCiIi8g7LdAAiIloaFm4iIo9h4SYi8hgWbiIij2HhJiLyGBZuIiKPYeEmIvIY3xZuEVkvIrdE5Hzho8F0JiKiUgiYDlBmF1R1n+kQRESlJOVYOSkiKiV/1aW533dlOhMAiDV3kqPqGE5yfyIWHJdmK4kvDgw3HAwlZokFhyuhXc+SuYPPce79WSlUiyudZRlxC4DOWKwcL120nCocAEEA72SzaLZtJIJBo5kAoHNyEgBw5Eit4ST319k5iVqXZntc6igy/zcDZ9xB9FDUdJySm+ycRO2RI6ZjlEx+ZASZM2fmBjuhEKr37YNUVZmO9dgmOzsBALW1X/1ZTU39VdEjJt/2uAMiCIlARJAIBHDD8fEokoqS680hkAj4crTtR1Y8juiBA4h0dMBeswa5gQHTkVzDt4U7u+CU8Wo+j3rLt98qFUEdxWzfLAKtfr+s4x9i219+MjsLKx43F8ZlijqKReQzAFMA8gByqrqlnKFK4Vo+j3PZLIIiqBPBjlDIdKSSGx7Oo6srCxEgGhXs3RuGbXM4eT+5nhyCrUGIxf8fL8kNDiJ79ixgWQht22Y6jmssZfixQ1VHy5akxJoDATQH/D26isUE7e3VCIUE776bxcBADq2t5vv4buTccpC/nsdszyycMQeZrgzCu8KmY9EiAk1NCDQ1IfvBB7jb3Y2qF14wHckV/F3ZfC4W+7L9Y9sAu0EPVrXzy4taM0dnWLQ9QHM5SGHwJeEwkM8bTuQexRZuBfBzEVEAR1X1WBkz0RJNTDgYGsrhxRcjpqN4QvSg/2aU+FF+cBB3L14ERCCRCMJ79piO5BrFFu5tqjosIk8BOCsiA6r6/sIvEJHXAbxe8oT0UJmM4vTpDHbvrmZ/m3wl0NKCQEuL6RiuVFThVtXhwp83ReQ0gG8DeP+erzkG4BgAWHMjc6PGHQfHUyk0FPoH+8NhRH3WS3AcxalTaWzfHkI87q/vjYgebNHCLSJRAJaqThW2/wDAX5c9WQk02jZeqa42HaNs+vpySCbzyGbv4sKFu9i6NYhNm3hxksjvihlxrwBwWuaWaQYA/B9V7SprqhJJ5vM4kUphnW3jpVAIhe/BN9ragmhrY6EuhjPuIHU8Bath7swkvD8MK8qzFDdzxseROn4cVsPc/eHC+/fDivL6BFBE4VbVIQCbn0CWkoqJ4HA0Or/kvT+Xc8WSdzLHbrRR/Yp/z8D8yG5sRPUrr5iO4Tq+nQ44pTrf406rIgywcFe4fDKP1IkU7HU2Qi/57wzMj/LJJFInTsBetw6hl17iz6zAt+eKd1XRaNvoiESwMRDAioXLZ6niSEwQPRxFdUc1dEaR68+ZjkSLkFgM0cOHUd3RAZ2ZQa6/33Qk1yjfiLumpmwvXYzhmRlcSaXw36anUWvb2LFsme9WqIyPOzh+PIWGQt92//4wouzb3pcEvhypBRIB5JN5IGEwEC1KFqx8DiQSyCeTQII/NMDHrZK2SASt1dUIiuCdO3dwJZtFwoczTBobbbzCvu2iNKuQqrninb+ah8Xpk66n2ez8bVzzV6/yJlML+LZwB0SAQj8sEQ4jOTvrywFWMpnHiRMprFtn4yX2bR8ofy2P7LksJCiQOkFoh/9uOuY3+WvXkD13DhIMQurqENqxw3Qk1/Bt4c46DqoKrZGrd+8i7sMbTsVigsOHowgGgXfeyaK/P4dEghdg7yfQHECg2X/HgJ8FmpsRaG42HcOVij6SRcQGcAnAb1X15fJFKo1rd+/i3NTU3G1dAwHs8GGbJLCgb5tIBJBM5kvSApzsnHz8FyGislnKEOQHAPoBeOK5Vs3hMJrD/r4DXDarqCr0ba9ezZds2fvqI6tL8jr0ZA13Ds8/Fov8rdgHKawF8McA3gTw52VNREW7di2Pc+eyCAYFdXWCHezbVrzVPnrmpF8Nl+DNtdgR998BeAOA2ScA01c0NwfQzL4tUcVZ9NxaRF4GcFNVuxf5utdF5JKIXDJ+a0AiIh8rpim6DcD3Cs+d/AmA74jIyXu/SFWPqeoWVd3ipglpvek03hoZMR2DiKhkFi3cqvqXqrpWVdcDeBXAOVVtL3uyEnBUcTmTQa3PVkwSUWXzdUXrTaeRCIe5KIWIfGVJV7ZU9TyA82VJUmKOKvoyGby6bBkuzsyYjvM1nZwrTUSPyLdTEnrSabSGw7BcOto+4tK50p2dw6YjENEifNsquZXL4eN0Gj8aG8NYLoeuSY5wicgfyjfijpmd8r1zwb9/9OpV7FqzxmAaIqLS8e2Ie6GDjY2mIxARlUxFFG4iIj9h4SYi8hgWbiIij2HhJiLyGBZuIiKPYeEmIvIYFm4iIo9h4SYi8hgWbiIij2HhJiLyGBZuIiKPYeEmIvIYFm4iIo9h4SYi8hgWbiIij2HhJiLyGBZuIiKPYeEmIvIY3z7lfXx2FsevXUNDKAQA2L9qFaIB3367RL4zOzKCO2fOQCwLEgqhbt8+WFVVpmO5gq8rWWN1NV5Zvdp0DCJ6BIF4HPEDBwAAU+fPIzMwgMjmzYZTuYOvWyXJdBonkkm8OzoKVTUdh4iWQGx7fltnZxGIxw2mcRffjrhjto3DGzYgKIJ3RkbQPz2NRCxmOhYRLUF2cBCTZ89CLAs127aZjuMavh1xBywLIcuCiCARi+FGNms6EhEtUVVTExoOHUI4kUCqu9t0HNdYtHCLSFhEfikiH4tIn4gceRLBHlfWcea3r6ZSqC9cpCQib9Bcbn5bwmEIf4fnFdMqyQL4jqpOi0gQwAci8jNV/dcyZ3ss19JpnBsdRdCyUBcIYAf7Y0Sekh0cxMzFi4AIrEgEdXv2mI7kGosWbp27qjdd+DRY+HD9lb7maBTN0ajpGET0iMItLQi3tJiO4UpF9bhFxBaRjwDcBHBWVX9R3lhERPQgRRVuVc2r6nMA1gL4tohsuvdrROR1EbkkIpdcPxwnIvKwJU0HVNUJETkPYBeAT+75u2MAjgGAJWK8do9kszgzMgJLBCHLwr5Vq1Bl+XYSDRFVkGJmlTSISF1huxrA7wMYKHewxxUPhXBg3Tp0PP001oTDGJieXnwnInKVdG8vRt56y3QM1ylmCLoKwHsi0gPg3zDX4z5T3liPzxaZ3551HMQ5lYgApHvTGHlrxHQMKoI6DjKXL8OqrTUdxXWKmVXSA+D5J5Cl5AZnZnB2dBQWgG319abjkGHqKDKXM7Bq2TLzgnRvL8KJxNyUQPoKXx/BTdEoDjU2IhGLofvOHdNxyLB0bxrhRBiy4GyM3EkdB5m+PoRbW01HcSXfFu7cgpWTYctCiL+sFU0dRaYvg3Br2HQUKkK6pwfh1lYIJxTcl29vMjWYSuHi+DgEQMS2sWflStORyKB0Txrh1jDE4hu4F+Ru3cLs9evI9PQgNzaGya4u1O7aZTqWa/i2cLfU1KClpsZ0DHKJ3K0cZq/PItOTQW4sh8muSdTu4kUvt6rduXN+e/ToURbte/i2cBMtVLvzyyI9enSURdtD4gcPmo7gOmwgUcWJH+QNx8jbWLiJiDyGhZuIyGPY4/aw4eFZdHXdgYggGrWwd28dbJuzJh4m3ZvG5M8mseKNFaajED0yjrg9LBaz0N6+HB0dy1Ffb2NgIGM6kqtx5ST5BY9gD4vFbIRCcyNs2xZYnKP8UFw5SX7Bwu0DExN5DA1lsXFjlekorsWVk+QnLNwel8k4OH16Art3s7/9MFw5SX7Cwu1hjqM4dWoC27fXIB7ndeaHyd3KIf1xGmM/GptfOUnkVfxt97C+vgySybvIZhUXLkxj69YINm2qNh3LlbhykvzEt4V7fHYWx69dQ0PhAQr7V61CNOCvb7etrRptbSzUS8WVk+R1/qpk92isrsYrq1ebjkFEVFK+7nEn02mcSCbx7ugoVI0/v5iIqCR8W7hjto3DGzagY+1azORy6OfDgonIJ3xbuAOWhZBlQUSQiMVwI5s1HaksenvTeIsPvyWqKL4t3NkFjy67mkqh3odPeXccxeXLGdRyCTdRRVn0N15EnhaR90SkX0T6ROQHTyLY47qWTuPo1as4kUxiMpdDWyxmOlLJ9famkeASbqKKU8yskhyAv1DVD0UkBqBbRM6q6uUyZ3sszdEomqNR0zHKxnEUfX0ZvPrqMly8OGM6DhE9QYuOuFX1uqp+WNieAtAPYE25g9HD9fSk0doa5o2liCrQkuZxi8h6AM8D+MV9/u51AK8XttF55UoJ4tGD3LqVw/Xrs+jpyWBsLIeurkns4mpAoopQdOEWkRoAPwXwZ6r6tRs9qOoxAMcAwBLRIzt2lCzkoxiemkLXb34DARANhbD3mWdgW+Yv4nW+915JXmfngiXcR4+OsmgTVZCiKpmIBDFXtP9RVU+VN1JpxEIhtD/7LDqefx711dUYGB01HalsDnIJN1FFWXTELXNTFn4IoF9V/7b8kUojVvXlvaltEViceUFEPlHMiHsbgD8F8B0R+ajw8UdlzlUyE5kMhsbHsXH5ctNRiIhKYtERt6p+AMCTw9VMLofT/f3Y/c1vuqK/TURUCr6tZo4qTvX3Y/v69YhHIqbjEBGVjG9v69p38yaSd+4gm8vhwmefYeuaNdj01FOmYxERPTbfFu62FSvQtmKF6RhERCXn21YJEZFf+XbETUTkZqpZpFJvw3FuIhL5/pL2ZeEm8hH/3QPTzwKorn4N2ezPH2FPIiJ64kRsiDzaHUzZ4yYi8hgWbiIij2HhJiLyGPa4iYgMSaVOwnFuIJO5DSzh1iIs3EREhkQi7fPbU1N/pcXux1YJEZHHsHATEXkMCzcRkcewx01EZIDjjCOVOg7LaljyvhxxExEZYtuNiEQ6EIl0LGk/jriJiAzJ55NIpU7AttctaT8WbiIiA0RiiEYPAwgim30HWMI8brZKiIgMEAlAJAQRQSCQWNK+LNxERAaoZue38/mrS9qXrRIiIgPy+WvIZs9BJAiROgAoeuUkCzcRkQGBQDMCgeb5z6emeorel60SIiKPYeEmIvIYFm4iIo9h4SYi8hgWbiIij+GsEvqa4c5h0xGI6CFYuOlrWo60mI5Aj+BK5xXTEegJYauEiMhjWLiJiDyGhZuIyGNYuImIPIaFm4jIYzirhIhcKTsygpEzZyCWBSsUwqp9+2BVVZmO5Qos3ETkSqF4HOsOHAAA3D5/HtMDA6jdvNlwKndgq4SIXElse37bmZ1FKB43mMZdOOImIteaGRzE6NmzgGWhfts203FcgyNuInKtaFMTGg8dQiyRwJ3ubtNxXIOFm4hcycnl5retcBgSChlM4y5slRjSyRs5ET1UanAQ4xcvAiKwIxGs3LPHdCTXYOE25IhLb+TUyRsVkUvUtLSgpsWdvyemsVVCROQxLNxERB7DVgkRuRJXTj4YC7eHDQ9n0NV1CyJANGpj795VsG0xHYuoJLhy8sHYKvGwWCyA9vY16Oh4GvX1IQwMTJuORFQyXDn5YBxxe1gs9uWPz7YBi2/D5DNcOXl//FX3gYmJWQwNpbBxY43pKEQlxZWT9+fbEfd4Oo3jH36IhkgEALC/tRVRH668ymTyOH36BnbvXsn+NvmKk8vBCsyVKCschubzhhO5h28LNwA0fuMbeGXTJtMxysZxFKdO3cD27csRj/vvTYkqG1dOPpivC3dychIn/v3fse4b38BLGzZAxF8j0r6+KSSTaWSzDi5cuI2tW+uwaVPMdCxXm+ydxK2f3ULTG02mo9AiuHLywXxbuGNVVTj8u7+LoGXhnStX0D86ikRDg+lYJdXWVou2tlrTMTxDHcX05WkEan172FOF8O3FyYBlIWTbEBEkGhpwY5pT5SrdVO8UahI1gL9OvKgC+bZwZxfcEvLqnTuor642mIZMU0cx1TeFWCtbSeR9i54zisgJAC8DuKmqnrnSd+3OHZz79FMEbRt14TB2rF9vOlLJjYxkcebMCCxLEApZ2LdvFaqqfPte/FgmeyYRa41BLA63yfuKafb9A4D/CeDt8kYprebly9G8fLnpGGUVj4dw4MA6AMD587cxMDCNzZvZ876fu7fuIns9i8meScyOzeJm1008tesp07GIHsmihVtV3xeR9eWPQku1cN727KzDKYEP0bDzywvTV49eZdEmTyvZ5XUReR3A66V6PSrO4OAMzp4dhWUB27bVm47jCY0HG01HIHosJWuIquoxVd2iqlvc0kXM5nI43t2NN99/HyM+nVXS1BTFoUONSCRi6O6+YzoOET0Bvr6SFbAsvNbW5rv521/I5Zz57XDYQijklrdMIionX69EsC3Ll/cn+cLgYAoXL45DBIhEbOzZs9J0JCJ6AoqZDvhjAP8JQFxEPgfQqao/LHcwWlxLSw1aWnhHwGJkR7IYOTMCsQRWyMKqfatgceokeVQxs0r+5EkEISqnUDyEdYWpk7fP38b0wDRqOXWSPIpDDqoIsmDqpDPrIMSpk+Rhvu5xA8DJnh7cmJ7G7XQaW1avxnMr2QeuVDODMxg9OwpYQD2nTpKH+b5wtz/7rOkI5BLRpiiiTVGMfTCGO913UP8Cizd5E1slVBGcBVMnrbAF4dRJ8jDfj7jdi3epe5JSgymMXxwHBLAjNlZy6iR5GAs3VYSalhrUcOok+QRbJUREHsPCTUTkMWyVeNjw8Ay6uj6HCBCNBrF374av3OqViPyJI24Pi8VCaG9vRkdHC+rrqzAwMGE6EhE9ARxxe1gsFpzftm2BxbdhoorAX3UfmJi4i6GhSWzcWGc6ChE9ASzcHpfJ5HH69KfYvXs9+9tEFYKF28McR3Hq1KfYvn0V4vGw6ThE9ISwx+1hfX3jSCankc3mceHCdWzd2oBNm3j/DSK/Y+H2sLa2erS1sVCTP2VHRjBy5gzEsmCFQli1bx+sqirTsVyBhZuIXCkUj2PdgQMAgNvnz2N6YAC1mzcbTuUO7HETkSuJbc9vO7OzCMXjBtO4C0fcRD5ypbPTdISSOnv2LN544w38TjCIrr/5G9TXszUIsHB7Gpe80722HDliOkLJ2Xv2YPiDD/Ds/v1Y+cILpuM8tksleHNlq8TDuOSd/MzJ5ea37XAYVojPCf0CR9wexiXv5GeTg4MYuXgREEEwEsH6PXtMR3INFm4f+GLJ+4svrjIdhahk6lpaUNfSYjqGK3GM5nFc8k5UeVi4PYxL3okqE1slHsYl7+RnM8PD+Lyra67HHY1iw969X5nbXclYuD2MS97Jz0KxGJrb22GFQvjtu+9iYmAAy1pbTcdyBRZuInKlYCw2vy22DU6b+hL/J4jI1e5OTGByaAh1GzeajuIaHHHT11zpvGI6Aj2iUqzKc5PJyUl897vfxYfvvouNLNzzWLjpa7Yc2WI6Aj2CS52XsMNHS97VcfDJT36Ctb/3ezj44x+bjlMy75XgzZWF25DOzkumIxC52s2+PtxJJpHLZvHZhQtYs3Urntq0yXQsV2DhNuTIkR2mI9xXZ+d7piMQAQBWtLVhRVub6RiuxIuTREQew8JNROQxbJVQRRnrHUPyZ0lsfoOPwHK76ZER/KrwzEk7FEJi3z4E+MxJACzcnjY8PIWurt8UHqQQwt69z8C2eRL1IOooxi+PI1gbXPyLybhIPI5vFZ45+dn58xgdGMBKPnMSAFslnjb3IIVn0dHxPOrrqzEwMGo6kquN9Y5hWWIZRHgXRS+wFtyXJD87iwifOTmPhdvDYrEqhEJzB/fcgxRYkB5EHcV43ziWtS4zHYWWYGxwEJf+/u8x8emnqF7Gn90XWLh9YGIig6GhcWzcuNx0FNca6xnDstZlEL65eUp9UxO2HDqEhkQCw93dpuO4Bgu3x2UyOZw+3Y/du7/J/vZDpG+lcfvj2/j1j36NzFgGya6k6Ui0iIXPnAyEw7D5zMl5vDjpYXMPUujH9u3rEY9HTMdxtbU7185v9x/tx9O7njaYhooxNjiI5MWLkMIzJ7/JZ07OY+H2sL6+m0gm7yCbzeHChc+wdesabNr0lOlYrvfMwWdMR6AixFtaEOczJ++LhdvD2tpWoK1thekYRPSEsSlKROQxHHFTRZgZnsHnXZ8DAgSjQWzYuwFic4aJm+WyWXz89tuYuXkT3/r+91GzgmeXX+CI28Oy2RyOH+/Gm2++j5GRadNxXC0UC6G5vRktHS2oqq/CxMCE6Ui0CCsQQNtrr6EhkTAdxXVYuD0sELDw2mttSCQaTEdxvWAsCCs0d7iLLTzyPcCybYSiUdMxykY1i5mZ45iaehP5/MiS9uXh62G2bSEa5dzWpbg7cReTQ5Oo21hnOgpVOFUHqnkAOTjO7SXtyx43VYx8Jo9fn/w1Zqdn2d8m41SzUB0FoMjlPl/SvhxxU0VQRzH00yHYERuhOp6lkHkiUUQiB/EoZZiFmyrCeN84pj+bRj6VR3Ysi7FPxkxHoiL0nDyJ8cFB/Oqf/gk3PvrIdJySsqwgbPvRrk+xVeJxJ0/24MaNady+ncaWLavx3HMrTUdypWWtyzDWO4amV5swcHwA9ZvqTUeiIjzb3m46giuxcHtce/uzpiN4Au8OSG6USp0E4CCf7wOAog9OtkqoIvDugORegqWOoTniporAuwOSG+XzwwAA1akl7ccRN1Uc3h2Q3GByshOqM4X53FkA0GL3ZeEmIvIYtkroay51XjIdgcj3PvnkExw8eBBjY2MYGhpa0r6iWvTovPgXFVEATslf+NEIlnAK4lGV8D2WCv+vvMevPzPBPTNJVLWomSVlGXEX+48/CSJySVW3mM5RTpXwPT4uEYkBeBfAFgCbVfUTw5GoSH49vkWkCcBZAOsBZAD8dbH7ssdNlSIN4GUA46aDEBUkAdzGXHciCOC3xe7Iwk0VQVVzqnrLdA6iBf4EwP8AMIm5VlDRc1QroXAfMx3gCaiE77FUfmU6AC2ZX4/vNgAdAGKYK9w7i92xLBcnidxKRP4BwH9nj5tME5HvAfjfhU8DAFapaqqYfSthxE1E5EZfPN5nFnNngt8tdkdfF24R+UxEekXkIxHx1eRkEXlaRN4TkX4R6RORH5jO5HYi8s8A/jOAfxGR/2I6Dz2YiIRF5Jci8nHh+D5iOlMZ7ARQA2A5gByAqmJ39HWrREQ+A7BF5x4z4Ssisgpzp1YfFqa6dQPYo6qXDUdzLRH5c8xNB6xV1ZdN56EHExEBEFXVaREJAvgAwA9U9V8NRysZEXkRwDSAt1V101L29fWI289U9bqqfljYngLQD2CN2VTuJSJrAfwxgP9lOgstTudMFz4NFj58NcpU1fcBPNITPfxeuBXAz0WkW0ReNx2mXERkPYDnAfzCbBJX+zsAb8A9K3ppESJii8hHAG4COKuqPL4L/F64t6nqtwD8IYD/Wjg18RURqQHwUwB/pqqTpvO4kYi8DOCmqnabzkLFU9W8qj4HYC2Ab4vIktoJfubrwq2qw4U/bwI4DeDbZhOVVqH391MA/6iqp0zncbFtAL5XuObxEwDfEZGTZiNRsVR1AsB5ALsMR3EN3xZuEYkWLtpBRKIA/gCAb+buFi7e/BBAv6r+rek8bqaqf6mqa1V1PYBXAZxTVT7M0MVEpEFE6grb1QB+H8CA2VTu4dvCDWAFgA9E5GMAvwTw/1S1y3CmUtoG4E8xN3r8qPDxR6ZDEZXIKgDviUgPgH/DXI/7jOFMJSUiPwbw/wG0iMjnInKg6H39PB2QiMiP/DziJiLyJRZuIiKPYeEmIvIYFm4iIo9h4SYi8hgWbiIij2HhJiLyGBZuIiKP+Q+9imkwOWMv3QAAAABJRU5ErkJggg==",
      "text/plain": [
       "<Figure size 432x288 with 3 Axes>"
      ]
     },
     "metadata": {
      "needs_background": "light"
     },
     "output_type": "display_data"
    }
   ],
   "source": [
    "print(mosaic(data, ['RM_productive','RM_lazy']))"
   ]
  },
  {
   "cell_type": "code",
   "execution_count": 211,
   "metadata": {},
   "outputs": [
    {
     "data": {
      "text/html": [
       "<div>\n",
       "<style scoped>\n",
       "    .dataframe tbody tr th:only-of-type {\n",
       "        vertical-align: middle;\n",
       "    }\n",
       "\n",
       "    .dataframe tbody tr th {\n",
       "        vertical-align: top;\n",
       "    }\n",
       "\n",
       "    .dataframe thead th {\n",
       "        text-align: right;\n",
       "    }\n",
       "</style>\n",
       "<table border=\"1\" class=\"dataframe\">\n",
       "  <thead>\n",
       "    <tr style=\"text-align: right;\">\n",
       "      <th>RM_improved_skillset</th>\n",
       "      <th>1</th>\n",
       "      <th>2</th>\n",
       "      <th>3</th>\n",
       "      <th>4</th>\n",
       "      <th>5</th>\n",
       "    </tr>\n",
       "    <tr>\n",
       "      <th>RM_productive</th>\n",
       "      <th></th>\n",
       "      <th></th>\n",
       "      <th></th>\n",
       "      <th></th>\n",
       "      <th></th>\n",
       "    </tr>\n",
       "  </thead>\n",
       "  <tbody>\n",
       "    <tr>\n",
       "      <th>1</th>\n",
       "      <td>0</td>\n",
       "      <td>3</td>\n",
       "      <td>0</td>\n",
       "      <td>0</td>\n",
       "      <td>0</td>\n",
       "    </tr>\n",
       "    <tr>\n",
       "      <th>2</th>\n",
       "      <td>0</td>\n",
       "      <td>3</td>\n",
       "      <td>12</td>\n",
       "      <td>3</td>\n",
       "      <td>6</td>\n",
       "    </tr>\n",
       "    <tr>\n",
       "      <th>3</th>\n",
       "      <td>6</td>\n",
       "      <td>9</td>\n",
       "      <td>27</td>\n",
       "      <td>12</td>\n",
       "      <td>12</td>\n",
       "    </tr>\n",
       "    <tr>\n",
       "      <th>4</th>\n",
       "      <td>0</td>\n",
       "      <td>0</td>\n",
       "      <td>33</td>\n",
       "      <td>24</td>\n",
       "      <td>12</td>\n",
       "    </tr>\n",
       "    <tr>\n",
       "      <th>5</th>\n",
       "      <td>0</td>\n",
       "      <td>3</td>\n",
       "      <td>15</td>\n",
       "      <td>15</td>\n",
       "      <td>12</td>\n",
       "    </tr>\n",
       "  </tbody>\n",
       "</table>\n",
       "</div>"
      ],
      "text/plain": [
       "RM_improved_skillset  1  2   3   4   5\n",
       "RM_productive                         \n",
       "1                     0  3   0   0   0\n",
       "2                     0  3  12   3   6\n",
       "3                     6  9  27  12  12\n",
       "4                     0  0  33  24  12\n",
       "5                     0  3  15  15  12"
      ]
     },
     "execution_count": 211,
     "metadata": {},
     "output_type": "execute_result"
    }
   ],
   "source": [
    "pd.crosstab(data['RM_productive'],data['RM_improved_skillset'])"
   ]
  },
  {
   "cell_type": "code",
   "execution_count": 212,
   "metadata": {},
   "outputs": [
    {
     "name": "stdout",
     "output_type": "stream",
     "text": [
      "(<Figure size 432x288 with 3 Axes>, OrderedDict([(('5', '5'), (0.0, 0.0, 0.21312872975277067, 0.2631578947368421)), (('5', '3'), (0.0, 0.2664473684210526, 0.21312872975277067, 0.3289473684210526)), (('5', '2'), (0.0, 0.5986842105263157, 0.21312872975277067, 0.06578947368421051)), (('5', '4'), (0.0, 0.6677631578947367, 0.21312872975277067, 0.32894736842105265)), (('5', '1'), (0.0, 1.0, 0.21312872975277067, 0.0)), (('2', '5'), (0.2180306905370844, 0.0, 0.11366865586814434, 0.24671052631578946)), (('2', '3'), (0.2180306905370844, 0.25, 0.11366865586814434, 0.4934210526315789)), (('2', '2'), (0.2180306905370844, 0.7467105263157895, 0.11366865586814434, 0.12335526315789473)), (('2', '4'), (0.2180306905370844, 0.8733552631578947, 0.11366865586814434, 0.12335526315789473)), (('2', '1'), (0.2180306905370844, 1.0, 0.11366865586814434, 0.0)), (('4', '5'), (0.33660130718954245, 0.0, 0.326797385620915, 0.17162471395881004)), (('4', '3'), (0.33660130718954245, 0.17491418764302058, 0.326797385620915, 0.47196796338672764)), (('4', '2'), (0.33660130718954245, 0.6501716247139588, 0.326797385620915, 0.0)), (('4', '4'), (0.33660130718954245, 0.6534610983981693, 0.326797385620915, 0.3432494279176201)), (('4', '1'), (0.33660130718954245, 1.0, 0.326797385620915, 0.0)), (('3', '5'), (0.6683006535947712, 0.0, 0.31258880363739705, 0.17942583732057418)), (('3', '3'), (0.6683006535947712, 0.18271531100478472, 0.31258880363739705, 0.40370813397129196)), (('3', '2'), (0.6683006535947712, 0.5897129186602872, 0.31258880363739705, 0.13456937799043062)), (('3', '4'), (0.6683006535947712, 0.7275717703349284, 0.31258880363739705, 0.17942583732057413)), (('3', '1'), (0.6683006535947712, 0.910287081339713, 0.31258880363739705, 0.08971291866028712)), (('1', '5'), (0.9857914180164818, 0.0, 0.014208581983518, 0.0)), (('1', '3'), (0.9857914180164818, 0.003289473684210526, 0.014208581983518, 0.0)), (('1', '2'), (0.9857914180164818, 0.006578947368421052, 0.014208581983518, 0.9868421052631579)), (('1', '4'), (0.9857914180164818, 0.9967105263157894, 0.014208581983518, 0.0)), (('1', '1'), (0.9857914180164818, 1.0, 0.014208581983518, 0.0))]))\n"
     ]
    },
    {
     "data": {
      "image/png": "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",
      "text/plain": [
       "<Figure size 432x288 with 3 Axes>"
      ]
     },
     "metadata": {
      "needs_background": "light"
     },
     "output_type": "display_data"
    }
   ],
   "source": [
    "print(mosaic(data, ['RM_productive','RM_improved_skillset']))"
   ]
  },
  {
   "cell_type": "code",
   "execution_count": 213,
   "metadata": {},
   "outputs": [
    {
     "data": {
      "text/html": [
       "<div>\n",
       "<style scoped>\n",
       "    .dataframe tbody tr th:only-of-type {\n",
       "        vertical-align: middle;\n",
       "    }\n",
       "\n",
       "    .dataframe tbody tr th {\n",
       "        vertical-align: top;\n",
       "    }\n",
       "\n",
       "    .dataframe thead th {\n",
       "        text-align: right;\n",
       "    }\n",
       "</style>\n",
       "<table border=\"1\" class=\"dataframe\">\n",
       "  <thead>\n",
       "    <tr style=\"text-align: right;\">\n",
       "      <th>calmer_stressed</th>\n",
       "      <th>CALMER</th>\n",
       "      <th>STRESSED</th>\n",
       "    </tr>\n",
       "    <tr>\n",
       "      <th>RM_productive</th>\n",
       "      <th></th>\n",
       "      <th></th>\n",
       "    </tr>\n",
       "  </thead>\n",
       "  <tbody>\n",
       "    <tr>\n",
       "      <th>1</th>\n",
       "      <td>0</td>\n",
       "      <td>3</td>\n",
       "    </tr>\n",
       "    <tr>\n",
       "      <th>2</th>\n",
       "      <td>12</td>\n",
       "      <td>12</td>\n",
       "    </tr>\n",
       "    <tr>\n",
       "      <th>3</th>\n",
       "      <td>18</td>\n",
       "      <td>48</td>\n",
       "    </tr>\n",
       "    <tr>\n",
       "      <th>4</th>\n",
       "      <td>30</td>\n",
       "      <td>39</td>\n",
       "    </tr>\n",
       "    <tr>\n",
       "      <th>5</th>\n",
       "      <td>21</td>\n",
       "      <td>24</td>\n",
       "    </tr>\n",
       "  </tbody>\n",
       "</table>\n",
       "</div>"
      ],
      "text/plain": [
       "calmer_stressed  CALMER  STRESSED\n",
       "RM_productive                    \n",
       "1                     0         3\n",
       "2                    12        12\n",
       "3                    18        48\n",
       "4                    30        39\n",
       "5                    21        24"
      ]
     },
     "execution_count": 213,
     "metadata": {},
     "output_type": "execute_result"
    }
   ],
   "source": [
    "pd.crosstab(data['RM_productive'],data['calmer_stressed'])"
   ]
  },
  {
   "cell_type": "code",
   "execution_count": 214,
   "metadata": {},
   "outputs": [
    {
     "name": "stdout",
     "output_type": "stream",
     "text": [
      "(<Figure size 432x288 with 3 Axes>, OrderedDict([(('5', 'CALMER'), (0.0, 0.0, 0.21312872975277067, 0.46511627906976744)), (('5', 'STRESSED'), (0.0, 0.4684385382059801, 0.21312872975277067, 0.5315614617940199)), (('2', 'CALMER'), (0.2180306905370844, 0.0, 0.11366865586814434, 0.4983388704318937)), (('2', 'STRESSED'), (0.2180306905370844, 0.5016611295681063, 0.11366865586814434, 0.4983388704318937)), (('4', 'CALMER'), (0.33660130718954245, 0.0, 0.326797385620915, 0.4333381482016466)), (('4', 'STRESSED'), (0.33660130718954245, 0.43666040733785927, 0.326797385620915, 0.5633395926621407)), (('3', 'CALMER'), (0.6683006535947712, 0.0, 0.31258880363739705, 0.27182120205376015)), (('3', 'STRESSED'), (0.6683006535947712, 0.2751434611899728, 0.31258880363739705, 0.7248565388100271)), (('1', 'CALMER'), (0.9857914180164818, 0.0, 0.014208581983518, 0.0)), (('1', 'STRESSED'), (0.9857914180164818, 0.0033222591362126247, 0.014208581983518, 0.9966777408637874))]))\n"
     ]
    },
    {
     "data": {
      "image/png": "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",
      "text/plain": [
       "<Figure size 432x288 with 3 Axes>"
      ]
     },
     "metadata": {
      "needs_background": "light"
     },
     "output_type": "display_data"
    }
   ],
   "source": [
    "print(mosaic(data, ['RM_productive','calmer_stressed']))"
   ]
  },
  {
   "cell_type": "code",
   "execution_count": 215,
   "metadata": {},
   "outputs": [
    {
     "data": {
      "text/html": [
       "<div>\n",
       "<style scoped>\n",
       "    .dataframe tbody tr th:only-of-type {\n",
       "        vertical-align: middle;\n",
       "    }\n",
       "\n",
       "    .dataframe tbody tr th {\n",
       "        vertical-align: top;\n",
       "    }\n",
       "\n",
       "    .dataframe thead th {\n",
       "        text-align: right;\n",
       "    }\n",
       "</style>\n",
       "<table border=\"1\" class=\"dataframe\">\n",
       "  <thead>\n",
       "    <tr style=\"text-align: right;\">\n",
       "      <th>RM_save_money</th>\n",
       "      <th>No</th>\n",
       "      <th>Yes</th>\n",
       "    </tr>\n",
       "    <tr>\n",
       "      <th>RM_productive</th>\n",
       "      <th></th>\n",
       "      <th></th>\n",
       "    </tr>\n",
       "  </thead>\n",
       "  <tbody>\n",
       "    <tr>\n",
       "      <th>1</th>\n",
       "      <td>0</td>\n",
       "      <td>3</td>\n",
       "    </tr>\n",
       "    <tr>\n",
       "      <th>2</th>\n",
       "      <td>21</td>\n",
       "      <td>3</td>\n",
       "    </tr>\n",
       "    <tr>\n",
       "      <th>3</th>\n",
       "      <td>24</td>\n",
       "      <td>42</td>\n",
       "    </tr>\n",
       "    <tr>\n",
       "      <th>4</th>\n",
       "      <td>3</td>\n",
       "      <td>66</td>\n",
       "    </tr>\n",
       "    <tr>\n",
       "      <th>5</th>\n",
       "      <td>3</td>\n",
       "      <td>42</td>\n",
       "    </tr>\n",
       "  </tbody>\n",
       "</table>\n",
       "</div>"
      ],
      "text/plain": [
       "RM_save_money  No  Yes\n",
       "RM_productive         \n",
       "1               0    3\n",
       "2              21    3\n",
       "3              24   42\n",
       "4               3   66\n",
       "5               3   42"
      ]
     },
     "execution_count": 215,
     "metadata": {},
     "output_type": "execute_result"
    }
   ],
   "source": [
    "pd.crosstab(data['RM_productive'],data['RM_save_money'])"
   ]
  },
  {
   "cell_type": "code",
   "execution_count": 216,
   "metadata": {},
   "outputs": [
    {
     "name": "stdout",
     "output_type": "stream",
     "text": [
      "(<Figure size 432x288 with 3 Axes>, OrderedDict([(('5', 'Yes'), (0.0, 0.0, 0.21312872975277067, 0.9302325581395349)), (('5', 'No'), (0.0, 0.9335548172757474, 0.21312872975277067, 0.06644518272425247)), (('2', 'Yes'), (0.2180306905370844, 0.0, 0.11366865586814434, 0.12458471760797342)), (('2', 'No'), (0.2180306905370844, 0.12790697674418602, 0.11366865586814434, 0.8720930232558138)), (('4', 'Yes'), (0.33660130718954245, 0.0, 0.326797385620915, 0.9533439260436226)), (('4', 'No'), (0.33660130718954245, 0.9566661851798353, 0.326797385620915, 0.043333814820164636)), (('3', 'Yes'), (0.6683006535947712, 0.0, 0.31258880363739705, 0.6342494714587738)), (('3', 'No'), (0.6683006535947712, 0.6375717305949863, 0.31258880363739705, 0.36242826940501355)), (('1', 'Yes'), (0.9857914180164818, 0.0, 0.014208581983518, 0.9966777408637874)), (('1', 'No'), (0.9857914180164818, 1.0, 0.014208581983518, 0.0))]))\n"
     ]
    },
    {
     "data": {
      "image/png": "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",
      "text/plain": [
       "<Figure size 432x288 with 3 Axes>"
      ]
     },
     "metadata": {
      "needs_background": "light"
     },
     "output_type": "display_data"
    }
   ],
   "source": [
    "print(mosaic(data, ['RM_productive','RM_save_money']))"
   ]
  },
  {
   "cell_type": "code",
   "execution_count": null,
   "metadata": {},
   "outputs": [],
   "source": []
  },
  {
   "cell_type": "code",
   "execution_count": 80,
   "metadata": {},
   "outputs": [],
   "source": [
    "from sklearn.preprocessing import LabelEncoder"
   ]
  },
  {
   "cell_type": "code",
   "execution_count": 81,
   "metadata": {},
   "outputs": [],
   "source": [
    "features = ['Gender','Same_ofiice_home_location','kids','RM_save_money','RM_quality_time','RM_better_sleep','RM_job_opportunities','calmer_stressed']"
   ]
  },
  {
   "cell_type": "code",
   "execution_count": 82,
   "metadata": {},
   "outputs": [],
   "source": [
    "encode = LabelEncoder()"
   ]
<<<<<<< HEAD
=======
  },
  {
   "cell_type": "code",
   "execution_count": 83,
   "metadata": {},
   "outputs": [],
   "source": [
    "data[features] = data[features].apply(LabelEncoder().fit_transform)"
   ]
  },
  {
   "cell_type": "code",
   "execution_count": 84,
   "metadata": {},
   "outputs": [
    {
     "data": {
      "text/html": [
       "<div>\n",
       "<style scoped>\n",
       "    .dataframe tbody tr th:only-of-type {\n",
       "        vertical-align: middle;\n",
       "    }\n",
       "\n",
       "    .dataframe tbody tr th {\n",
       "        vertical-align: top;\n",
       "    }\n",
       "\n",
       "    .dataframe thead th {\n",
       "        text-align: right;\n",
       "    }\n",
       "</style>\n",
       "<table border=\"1\" class=\"dataframe\">\n",
       "  <thead>\n",
       "    <tr style=\"text-align: right;\">\n",
       "      <th></th>\n",
       "      <th>Name</th>\n",
       "      <th>Age</th>\n",
       "      <th>Occupation</th>\n",
       "      <th>Gender</th>\n",
       "      <th>Same_ofiice_home_location</th>\n",
       "      <th>kids</th>\n",
       "      <th>RM_save_money</th>\n",
       "      <th>RM_quality_time</th>\n",
       "      <th>RM_better_sleep</th>\n",
       "      <th>calmer_stressed</th>\n",
       "      <th>RM_professional_growth</th>\n",
       "      <th>RM_lazy</th>\n",
       "      <th>RM_productive</th>\n",
       "      <th>digital_connect_sufficient</th>\n",
       "      <th>RM_better_work_life_balance</th>\n",
       "      <th>RM_improved_skillset</th>\n",
       "      <th>RM_job_opportunities</th>\n",
       "      <th>Target</th>\n",
       "    </tr>\n",
       "    <tr>\n",
       "      <th>ID</th>\n",
       "      <th></th>\n",
       "      <th></th>\n",
       "      <th></th>\n",
       "      <th></th>\n",
       "      <th></th>\n",
       "      <th></th>\n",
       "      <th></th>\n",
       "      <th></th>\n",
       "      <th></th>\n",
       "      <th></th>\n",
       "      <th></th>\n",
       "      <th></th>\n",
       "      <th></th>\n",
       "      <th></th>\n",
       "      <th></th>\n",
       "      <th></th>\n",
       "      <th></th>\n",
       "      <th></th>\n",
       "    </tr>\n",
       "  </thead>\n",
       "  <tbody>\n",
       "    <tr>\n",
       "      <th>1</th>\n",
       "      <td>Bhavana</td>\n",
       "      <td>45</td>\n",
       "      <td>Tutor</td>\n",
       "      <td>0</td>\n",
       "      <td>1</td>\n",
       "      <td>1</td>\n",
       "      <td>1</td>\n",
       "      <td>1</td>\n",
       "      <td>1</td>\n",
       "      <td>0</td>\n",
       "      <td>5</td>\n",
       "      <td>1</td>\n",
       "      <td>5</td>\n",
       "      <td>Yes</td>\n",
       "      <td>5</td>\n",
       "      <td>5</td>\n",
       "      <td>2</td>\n",
       "      <td>1</td>\n",
       "    </tr>\n",
       "    <tr>\n",
       "      <th>2</th>\n",
       "      <td>Harry</td>\n",
       "      <td>24</td>\n",
       "      <td>Tutor</td>\n",
       "      <td>1</td>\n",
       "      <td>0</td>\n",
       "      <td>0</td>\n",
       "      <td>0</td>\n",
       "      <td>0</td>\n",
       "      <td>0</td>\n",
       "      <td>0</td>\n",
       "      <td>2</td>\n",
       "      <td>2</td>\n",
       "      <td>2</td>\n",
       "      <td>No</td>\n",
       "      <td>3</td>\n",
       "      <td>3</td>\n",
       "      <td>0</td>\n",
       "      <td>1</td>\n",
       "    </tr>\n",
       "    <tr>\n",
       "      <th>3</th>\n",
       "      <td>Banditaa</td>\n",
       "      <td>53</td>\n",
       "      <td>HR</td>\n",
       "      <td>0</td>\n",
       "      <td>1</td>\n",
       "      <td>1</td>\n",
       "      <td>1</td>\n",
       "      <td>1</td>\n",
       "      <td>1</td>\n",
       "      <td>0</td>\n",
       "      <td>3</td>\n",
       "      <td>3</td>\n",
       "      <td>4</td>\n",
       "      <td>No</td>\n",
       "      <td>5</td>\n",
       "      <td>3</td>\n",
       "      <td>0</td>\n",
       "      <td>1</td>\n",
       "    </tr>\n",
       "    <tr>\n",
       "      <th>4</th>\n",
       "      <td>Neetha</td>\n",
       "      <td>26</td>\n",
       "      <td>Engineer</td>\n",
       "      <td>0</td>\n",
       "      <td>1</td>\n",
       "      <td>0</td>\n",
       "      <td>1</td>\n",
       "      <td>1</td>\n",
       "      <td>0</td>\n",
       "      <td>1</td>\n",
       "      <td>3</td>\n",
       "      <td>4</td>\n",
       "      <td>4</td>\n",
       "      <td>No</td>\n",
       "      <td>4</td>\n",
       "      <td>5</td>\n",
       "      <td>2</td>\n",
       "      <td>0</td>\n",
       "    </tr>\n",
       "    <tr>\n",
       "      <th>5</th>\n",
       "      <td>Ram</td>\n",
       "      <td>26</td>\n",
       "      <td>Recruiter</td>\n",
       "      <td>1</td>\n",
       "      <td>1</td>\n",
       "      <td>0</td>\n",
       "      <td>0</td>\n",
       "      <td>1</td>\n",
       "      <td>0</td>\n",
       "      <td>1</td>\n",
       "      <td>3</td>\n",
       "      <td>3</td>\n",
       "      <td>5</td>\n",
       "      <td>Yes</td>\n",
       "      <td>4</td>\n",
       "      <td>2</td>\n",
       "      <td>2</td>\n",
       "      <td>1</td>\n",
       "    </tr>\n",
       "  </tbody>\n",
       "</table>\n",
       "</div>"
      ],
      "text/plain": [
       "        Name  Age Occupation  Gender  Same_ofiice_home_location  kids  \\\n",
       "ID                                                                      \n",
       "1    Bhavana   45      Tutor       0                          1     1   \n",
       "2      Harry   24      Tutor       1                          0     0   \n",
       "3   Banditaa   53         HR       0                          1     1   \n",
       "4     Neetha   26   Engineer       0                          1     0   \n",
       "5        Ram   26  Recruiter       1                          1     0   \n",
       "\n",
       "    RM_save_money  RM_quality_time  RM_better_sleep  calmer_stressed  \\\n",
       "ID                                                                     \n",
       "1               1                1                1                0   \n",
       "2               0                0                0                0   \n",
       "3               1                1                1                0   \n",
       "4               1                1                0                1   \n",
       "5               0                1                0                1   \n",
       "\n",
       "    RM_professional_growth  RM_lazy  RM_productive digital_connect_sufficient  \\\n",
       "ID                                                                              \n",
       "1                        5        1              5                        Yes   \n",
       "2                        2        2              2                         No   \n",
       "3                        3        3              4                         No   \n",
       "4                        3        4              4                         No   \n",
       "5                        3        3              5                        Yes   \n",
       "\n",
       "    RM_better_work_life_balance  RM_improved_skillset  RM_job_opportunities  \\\n",
       "ID                                                                            \n",
       "1                             5                     5                     2   \n",
       "2                             3                     3                     0   \n",
       "3                             5                     3                     0   \n",
       "4                             4                     5                     2   \n",
       "5                             4                     2                     2   \n",
       "\n",
       "    Target  \n",
       "ID          \n",
       "1        1  \n",
       "2        1  \n",
       "3        1  \n",
       "4        0  \n",
       "5        1  "
      ]
     },
     "execution_count": 84,
     "metadata": {},
     "output_type": "execute_result"
    }
   ],
   "source": [
    "data.head()"
   ]
  },
  {
   "cell_type": "code",
   "execution_count": 85,
   "metadata": {},
   "outputs": [
    {
     "data": {
      "text/plain": [
       "1    87\n",
       "2    75\n",
       "0    45\n",
       "Name: RM_job_opportunities, dtype: int64"
      ]
     },
     "execution_count": 85,
     "metadata": {},
     "output_type": "execute_result"
    }
   ],
   "source": [
    "data['RM_job_opportunities'].value_counts()"
   ]
  },
  {
   "cell_type": "code",
   "execution_count": 132,
   "metadata": {},
   "outputs": [],
   "source": [
    "from sklearn.cluster import KMeans"
   ]
  },
  {
   "cell_type": "code",
   "execution_count": 148,
   "metadata": {},
   "outputs": [],
   "source": [
    "features = ['RM_professional_growth', 'RM_lazy', 'RM_productive', 'RM_better_work_life_balance',\n",
    "       'RM_improved_skillset']"
   ]
  },
  {
   "cell_type": "code",
   "execution_count": 149,
   "metadata": {},
   "outputs": [
    {
     "name": "stdout",
     "output_type": "stream",
     "text": [
      "1302.1739130434785\n",
      "952.9636824324319\n",
      "820.9500000000002\n",
      "693.3675213675214\n",
      "612.6851119894599\n",
      "534.9828431372549\n",
      "493.7405277900636\n",
      "444.3806818181818\n",
      "398.247619047619\n",
      "375.63983516483506\n",
      "347.7857142857143\n",
      "321.9380952380953\n",
      "314.772619047619\n",
      "283.76190476190476\n",
      "275.125\n",
      "244.69545454545442\n",
      "229.60238095238088\n",
      "213.5357142857144\n",
      "203.65000000000006\n",
      "196.60000000000002\n"
     ]
    }
   ],
   "source": [
    "inertias = []\n",
    "\n",
    "for i in range(1, 21):\n",
    "    kmeans = KMeans(n_clusters=i)\n",
    "    kmeans.fit(data[features])\n",
    "    print(kmeans.inertia_)\n",
    "    inertias.append(kmeans.inertia_)"
   ]
  },
  {
   "cell_type": "code",
   "execution_count": 151,
   "metadata": {},
   "outputs": [
    {
     "data": {
      "image/png": "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",
      "text/plain": [
       "<Figure size 432x288 with 1 Axes>"
      ]
     },
     "metadata": {
      "needs_background": "light"
     },
     "output_type": "display_data"
    }
   ],
   "source": [
    "plt.plot(range(1,21),inertias, marker = 'o')\n",
    "plt.xlim(1,10)\n",
    "plt.title('Elbow method')\n",
    "plt.xlabel('Number of clusters')\n",
    "plt.ylabel('Inertia')\n",
    "plt.show()"
   ]
  },
  {
   "cell_type": "code",
   "execution_count": null,
   "metadata": {},
   "outputs": [],
   "source": []
>>>>>>> 63c3e71b699ae1cd18ac02330a52ed793c55b201
  }
 ],
 "metadata": {
  "kernelspec": {
   "display_name": "base",
   "language": "python",
   "name": "python3"
  },
  "language_info": {
   "codemirror_mode": {
    "name": "ipython",
    "version": 3
   },
   "file_extension": ".py",
   "mimetype": "text/x-python",
   "name": "python",
   "nbconvert_exporter": "python",
   "pygments_lexer": "ipython3",
   "version": "3.8.3"
  },
  "orig_nbformat": 4
 },
 "nbformat": 4,
 "nbformat_minor": 2
}
