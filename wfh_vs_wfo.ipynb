{
 "cells": [
  {
   "attachments": {},
   "cell_type": "markdown",
   "metadata": {},
   "source": [
    "Problem Statement: Study employee productivity in WFH vs WFO."
   ]
  },
  {
   "cell_type": "code",
   "execution_count": 1,
   "metadata": {},
   "outputs": [],
   "source": [
    "import numpy as np\n",
    "import pandas as pd\n",
    "import matplotlib.pyplot as plt\n",
    "import seaborn as sns"
   ]
  },
  {
   "cell_type": "code",
   "execution_count": 2,
   "metadata": {},
   "outputs": [],
   "source": [
    "data = pd.read_csv('WFH_WFO_dataset.csv', index_col= 'ID')"
   ]
  },
  {
   "cell_type": "code",
   "execution_count": 3,
   "metadata": {},
   "outputs": [
    {
     "data": {
      "text/plain": [
       "(207, 18)"
      ]
     },
     "execution_count": 3,
     "metadata": {},
     "output_type": "execute_result"
    }
   ],
   "source": [
    "data.shape"
   ]
  },
  {
   "cell_type": "code",
   "execution_count": 4,
   "metadata": {},
   "outputs": [
    {
     "data": {
      "text/html": [
       "<div>\n",
       "<style scoped>\n",
       "    .dataframe tbody tr th:only-of-type {\n",
       "        vertical-align: middle;\n",
       "    }\n",
       "\n",
       "    .dataframe tbody tr th {\n",
       "        vertical-align: top;\n",
       "    }\n",
       "\n",
       "    .dataframe thead th {\n",
       "        text-align: right;\n",
       "    }\n",
       "</style>\n",
       "<table border=\"1\" class=\"dataframe\">\n",
       "  <thead>\n",
       "    <tr style=\"text-align: right;\">\n",
       "      <th></th>\n",
       "      <th>Name</th>\n",
       "      <th>Age</th>\n",
       "      <th>Occupation</th>\n",
       "      <th>Gender</th>\n",
       "      <th>Same_ofiice_home_location</th>\n",
       "      <th>kids</th>\n",
       "      <th>RM_save_money</th>\n",
       "      <th>RM_quality_time</th>\n",
       "      <th>RM_better_sleep</th>\n",
       "      <th>calmer_stressed</th>\n",
       "      <th>RM_professional_growth</th>\n",
       "      <th>RM_lazy</th>\n",
       "      <th>RM_productive</th>\n",
       "      <th>digital_connect_sufficient</th>\n",
       "      <th>RM_better_work_life_balance</th>\n",
       "      <th>RM_improved_skillset</th>\n",
       "      <th>RM_job_opportunities</th>\n",
       "      <th>Target</th>\n",
       "    </tr>\n",
       "    <tr>\n",
       "      <th>ID</th>\n",
       "      <th></th>\n",
       "      <th></th>\n",
       "      <th></th>\n",
       "      <th></th>\n",
       "      <th></th>\n",
       "      <th></th>\n",
       "      <th></th>\n",
       "      <th></th>\n",
       "      <th></th>\n",
       "      <th></th>\n",
       "      <th></th>\n",
       "      <th></th>\n",
       "      <th></th>\n",
       "      <th></th>\n",
       "      <th></th>\n",
       "      <th></th>\n",
       "      <th></th>\n",
       "      <th></th>\n",
       "    </tr>\n",
       "  </thead>\n",
       "  <tbody>\n",
       "    <tr>\n",
       "      <th>1</th>\n",
       "      <td>Bhavana</td>\n",
       "      <td>45</td>\n",
       "      <td>Tutor</td>\n",
       "      <td>Female</td>\n",
       "      <td>Yes</td>\n",
       "      <td>Yes</td>\n",
       "      <td>Yes</td>\n",
       "      <td>Yes</td>\n",
       "      <td>Yes</td>\n",
       "      <td>CALMER</td>\n",
       "      <td>5</td>\n",
       "      <td>1</td>\n",
       "      <td>5</td>\n",
       "      <td>Yes</td>\n",
       "      <td>5</td>\n",
       "      <td>5</td>\n",
       "      <td>Yes</td>\n",
       "      <td>1</td>\n",
       "    </tr>\n",
       "    <tr>\n",
       "      <th>2</th>\n",
       "      <td>Harry</td>\n",
       "      <td>24</td>\n",
       "      <td>Tutor</td>\n",
       "      <td>Male</td>\n",
       "      <td>No</td>\n",
       "      <td>No</td>\n",
       "      <td>No</td>\n",
       "      <td>No</td>\n",
       "      <td>No</td>\n",
       "      <td>CALMER</td>\n",
       "      <td>2</td>\n",
       "      <td>2</td>\n",
       "      <td>2</td>\n",
       "      <td>No</td>\n",
       "      <td>3</td>\n",
       "      <td>3</td>\n",
       "      <td>No</td>\n",
       "      <td>1</td>\n",
       "    </tr>\n",
       "    <tr>\n",
       "      <th>3</th>\n",
       "      <td>Banditaa</td>\n",
       "      <td>53</td>\n",
       "      <td>HR</td>\n",
       "      <td>Female</td>\n",
       "      <td>Yes</td>\n",
       "      <td>Yes</td>\n",
       "      <td>Yes</td>\n",
       "      <td>Yes</td>\n",
       "      <td>Yes</td>\n",
       "      <td>CALMER</td>\n",
       "      <td>3</td>\n",
       "      <td>3</td>\n",
       "      <td>4</td>\n",
       "      <td>No</td>\n",
       "      <td>5</td>\n",
       "      <td>3</td>\n",
       "      <td>No</td>\n",
       "      <td>1</td>\n",
       "    </tr>\n",
       "    <tr>\n",
       "      <th>4</th>\n",
       "      <td>Neetha</td>\n",
       "      <td>26</td>\n",
       "      <td>Engineer</td>\n",
       "      <td>Female</td>\n",
       "      <td>Yes</td>\n",
       "      <td>No</td>\n",
       "      <td>Yes</td>\n",
       "      <td>Yes</td>\n",
       "      <td>No</td>\n",
       "      <td>STRESSED</td>\n",
       "      <td>3</td>\n",
       "      <td>4</td>\n",
       "      <td>4</td>\n",
       "      <td>No</td>\n",
       "      <td>4</td>\n",
       "      <td>5</td>\n",
       "      <td>Yes</td>\n",
       "      <td>0</td>\n",
       "    </tr>\n",
       "    <tr>\n",
       "      <th>5</th>\n",
       "      <td>Ram</td>\n",
       "      <td>26</td>\n",
       "      <td>Recruiter</td>\n",
       "      <td>Male</td>\n",
       "      <td>Yes</td>\n",
       "      <td>No</td>\n",
       "      <td>No</td>\n",
       "      <td>Yes</td>\n",
       "      <td>No</td>\n",
       "      <td>STRESSED</td>\n",
       "      <td>3</td>\n",
       "      <td>3</td>\n",
       "      <td>5</td>\n",
       "      <td>Yes</td>\n",
       "      <td>4</td>\n",
       "      <td>2</td>\n",
       "      <td>Yes</td>\n",
       "      <td>1</td>\n",
       "    </tr>\n",
       "  </tbody>\n",
       "</table>\n",
       "</div>"
      ],
      "text/plain": [
       "        Name  Age Occupation  Gender Same_ofiice_home_location kids  \\\n",
       "ID                                                                    \n",
       "1    Bhavana   45      Tutor  Female                       Yes  Yes   \n",
       "2      Harry   24      Tutor    Male                        No   No   \n",
       "3   Banditaa   53         HR  Female                       Yes  Yes   \n",
       "4     Neetha   26   Engineer  Female                       Yes   No   \n",
       "5        Ram   26  Recruiter    Male                       Yes   No   \n",
       "\n",
       "   RM_save_money RM_quality_time RM_better_sleep calmer_stressed  \\\n",
       "ID                                                                 \n",
       "1            Yes             Yes             Yes          CALMER   \n",
       "2             No              No              No          CALMER   \n",
       "3            Yes             Yes             Yes          CALMER   \n",
       "4            Yes             Yes              No        STRESSED   \n",
       "5             No             Yes              No        STRESSED   \n",
       "\n",
       "    RM_professional_growth  RM_lazy  RM_productive digital_connect_sufficient  \\\n",
       "ID                                                                              \n",
       "1                        5        1              5                        Yes   \n",
       "2                        2        2              2                         No   \n",
       "3                        3        3              4                         No   \n",
       "4                        3        4              4                         No   \n",
       "5                        3        3              5                        Yes   \n",
       "\n",
       "    RM_better_work_life_balance  RM_improved_skillset RM_job_opportunities  \\\n",
       "ID                                                                           \n",
       "1                             5                     5                  Yes   \n",
       "2                             3                     3                   No   \n",
       "3                             5                     3                   No   \n",
       "4                             4                     5                  Yes   \n",
       "5                             4                     2                  Yes   \n",
       "\n",
       "    Target  \n",
       "ID          \n",
       "1        1  \n",
       "2        1  \n",
       "3        1  \n",
       "4        0  \n",
       "5        1  "
      ]
     },
     "execution_count": 4,
     "metadata": {},
     "output_type": "execute_result"
    }
   ],
   "source": [
    "data.head()"
   ]
  },
  {
   "cell_type": "code",
   "execution_count": 5,
   "metadata": {},
   "outputs": [
    {
     "name": "stdout",
     "output_type": "stream",
     "text": [
      "<class 'pandas.core.frame.DataFrame'>\n",
      "Int64Index: 207 entries, 1 to 207\n",
      "Data columns (total 18 columns):\n",
      " #   Column                       Non-Null Count  Dtype \n",
      "---  ------                       --------------  ----- \n",
      " 0   Name                         207 non-null    object\n",
      " 1   Age                          207 non-null    int64 \n",
      " 2   Occupation                   207 non-null    object\n",
      " 3   Gender                       207 non-null    object\n",
      " 4   Same_ofiice_home_location    207 non-null    object\n",
      " 5   kids                         207 non-null    object\n",
      " 6   RM_save_money                207 non-null    object\n",
      " 7   RM_quality_time              207 non-null    object\n",
      " 8   RM_better_sleep              207 non-null    object\n",
      " 9   calmer_stressed              207 non-null    object\n",
      " 10  RM_professional_growth       207 non-null    int64 \n",
      " 11  RM_lazy                      207 non-null    int64 \n",
      " 12  RM_productive                207 non-null    int64 \n",
      " 13  digital_connect_sufficient   207 non-null    object\n",
      " 14  RM_better_work_life_balance  207 non-null    int64 \n",
      " 15  RM_improved_skillset         207 non-null    int64 \n",
      " 16  RM_job_opportunities         207 non-null    object\n",
      " 17  Target                       207 non-null    int64 \n",
      "dtypes: int64(7), object(11)\n",
      "memory usage: 30.7+ KB\n"
     ]
    }
   ],
   "source": [
    "data.info()"
   ]
  },
  {
   "cell_type": "code",
   "execution_count": 6,
   "metadata": {},
   "outputs": [
    {
     "data": {
      "text/html": [
       "<div>\n",
       "<style scoped>\n",
       "    .dataframe tbody tr th:only-of-type {\n",
       "        vertical-align: middle;\n",
       "    }\n",
       "\n",
       "    .dataframe tbody tr th {\n",
       "        vertical-align: top;\n",
       "    }\n",
       "\n",
       "    .dataframe thead th {\n",
       "        text-align: right;\n",
       "    }\n",
       "</style>\n",
       "<table border=\"1\" class=\"dataframe\">\n",
       "  <thead>\n",
       "    <tr style=\"text-align: right;\">\n",
       "      <th></th>\n",
       "      <th>Age</th>\n",
       "      <th>RM_professional_growth</th>\n",
       "      <th>RM_lazy</th>\n",
       "      <th>RM_productive</th>\n",
       "      <th>RM_better_work_life_balance</th>\n",
       "      <th>RM_improved_skillset</th>\n",
       "      <th>Target</th>\n",
       "    </tr>\n",
       "  </thead>\n",
       "  <tbody>\n",
       "    <tr>\n",
       "      <th>count</th>\n",
       "      <td>207.000000</td>\n",
       "      <td>207.000000</td>\n",
       "      <td>207.000000</td>\n",
       "      <td>207.000000</td>\n",
       "      <td>207.000000</td>\n",
       "      <td>207.000000</td>\n",
       "      <td>207.000000</td>\n",
       "    </tr>\n",
       "    <tr>\n",
       "      <th>mean</th>\n",
       "      <td>29.666667</td>\n",
       "      <td>3.086957</td>\n",
       "      <td>3.101449</td>\n",
       "      <td>3.623188</td>\n",
       "      <td>3.043478</td>\n",
       "      <td>3.521739</td>\n",
       "      <td>0.405797</td>\n",
       "    </tr>\n",
       "    <tr>\n",
       "      <th>std</th>\n",
       "      <td>8.506993</td>\n",
       "      <td>1.089301</td>\n",
       "      <td>1.255801</td>\n",
       "      <td>0.996617</td>\n",
       "      <td>1.247539</td>\n",
       "      <td>1.004002</td>\n",
       "      <td>0.492236</td>\n",
       "    </tr>\n",
       "    <tr>\n",
       "      <th>min</th>\n",
       "      <td>21.000000</td>\n",
       "      <td>1.000000</td>\n",
       "      <td>1.000000</td>\n",
       "      <td>1.000000</td>\n",
       "      <td>1.000000</td>\n",
       "      <td>1.000000</td>\n",
       "      <td>0.000000</td>\n",
       "    </tr>\n",
       "    <tr>\n",
       "      <th>25%</th>\n",
       "      <td>25.000000</td>\n",
       "      <td>2.000000</td>\n",
       "      <td>2.000000</td>\n",
       "      <td>3.000000</td>\n",
       "      <td>2.000000</td>\n",
       "      <td>3.000000</td>\n",
       "      <td>0.000000</td>\n",
       "    </tr>\n",
       "    <tr>\n",
       "      <th>50%</th>\n",
       "      <td>26.000000</td>\n",
       "      <td>3.000000</td>\n",
       "      <td>3.000000</td>\n",
       "      <td>4.000000</td>\n",
       "      <td>3.000000</td>\n",
       "      <td>3.000000</td>\n",
       "      <td>0.000000</td>\n",
       "    </tr>\n",
       "    <tr>\n",
       "      <th>75%</th>\n",
       "      <td>29.000000</td>\n",
       "      <td>4.000000</td>\n",
       "      <td>4.000000</td>\n",
       "      <td>4.000000</td>\n",
       "      <td>4.000000</td>\n",
       "      <td>4.000000</td>\n",
       "      <td>1.000000</td>\n",
       "    </tr>\n",
       "    <tr>\n",
       "      <th>max</th>\n",
       "      <td>57.000000</td>\n",
       "      <td>5.000000</td>\n",
       "      <td>5.000000</td>\n",
       "      <td>5.000000</td>\n",
       "      <td>5.000000</td>\n",
       "      <td>5.000000</td>\n",
       "      <td>1.000000</td>\n",
       "    </tr>\n",
       "  </tbody>\n",
       "</table>\n",
       "</div>"
      ],
      "text/plain": [
       "              Age  RM_professional_growth     RM_lazy  RM_productive  \\\n",
       "count  207.000000              207.000000  207.000000     207.000000   \n",
       "mean    29.666667                3.086957    3.101449       3.623188   \n",
       "std      8.506993                1.089301    1.255801       0.996617   \n",
       "min     21.000000                1.000000    1.000000       1.000000   \n",
       "25%     25.000000                2.000000    2.000000       3.000000   \n",
       "50%     26.000000                3.000000    3.000000       4.000000   \n",
       "75%     29.000000                4.000000    4.000000       4.000000   \n",
       "max     57.000000                5.000000    5.000000       5.000000   \n",
       "\n",
       "       RM_better_work_life_balance  RM_improved_skillset      Target  \n",
       "count                   207.000000            207.000000  207.000000  \n",
       "mean                      3.043478              3.521739    0.405797  \n",
       "std                       1.247539              1.004002    0.492236  \n",
       "min                       1.000000              1.000000    0.000000  \n",
       "25%                       2.000000              3.000000    0.000000  \n",
       "50%                       3.000000              3.000000    0.000000  \n",
       "75%                       4.000000              4.000000    1.000000  \n",
       "max                       5.000000              5.000000    1.000000  "
      ]
     },
     "execution_count": 6,
     "metadata": {},
     "output_type": "execute_result"
    }
   ],
   "source": [
    "data.describe()"
   ]
  },
  {
   "cell_type": "code",
   "execution_count": 7,
   "metadata": {},
   "outputs": [
    {
     "data": {
      "text/html": [
       "<div>\n",
       "<style scoped>\n",
       "    .dataframe tbody tr th:only-of-type {\n",
       "        vertical-align: middle;\n",
       "    }\n",
       "\n",
       "    .dataframe tbody tr th {\n",
       "        vertical-align: top;\n",
       "    }\n",
       "\n",
       "    .dataframe thead th {\n",
       "        text-align: right;\n",
       "    }\n",
       "</style>\n",
       "<table border=\"1\" class=\"dataframe\">\n",
       "  <thead>\n",
       "    <tr style=\"text-align: right;\">\n",
       "      <th></th>\n",
       "      <th>Name</th>\n",
       "      <th>Age</th>\n",
       "      <th>Occupation</th>\n",
       "      <th>Gender</th>\n",
       "      <th>Same_ofiice_home_location</th>\n",
       "      <th>kids</th>\n",
       "      <th>RM_save_money</th>\n",
       "      <th>RM_quality_time</th>\n",
       "      <th>RM_better_sleep</th>\n",
       "      <th>calmer_stressed</th>\n",
       "      <th>RM_professional_growth</th>\n",
       "      <th>RM_lazy</th>\n",
       "      <th>RM_productive</th>\n",
       "      <th>digital_connect_sufficient</th>\n",
       "      <th>RM_better_work_life_balance</th>\n",
       "      <th>RM_improved_skillset</th>\n",
       "      <th>RM_job_opportunities</th>\n",
       "      <th>Target</th>\n",
       "    </tr>\n",
       "  </thead>\n",
       "  <tbody>\n",
       "    <tr>\n",
       "      <th>0</th>\n",
       "      <td>Bhavana</td>\n",
       "      <td>45</td>\n",
       "      <td>Tutor</td>\n",
       "      <td>Female</td>\n",
       "      <td>Yes</td>\n",
       "      <td>Yes</td>\n",
       "      <td>Yes</td>\n",
       "      <td>Yes</td>\n",
       "      <td>Yes</td>\n",
       "      <td>CALMER</td>\n",
       "      <td>5</td>\n",
       "      <td>1</td>\n",
       "      <td>5</td>\n",
       "      <td>Yes</td>\n",
       "      <td>5</td>\n",
       "      <td>5</td>\n",
       "      <td>Yes</td>\n",
       "      <td>1</td>\n",
       "    </tr>\n",
       "    <tr>\n",
       "      <th>1</th>\n",
       "      <td>Harry</td>\n",
       "      <td>24</td>\n",
       "      <td>Tutor</td>\n",
       "      <td>Male</td>\n",
       "      <td>No</td>\n",
       "      <td>No</td>\n",
       "      <td>No</td>\n",
       "      <td>No</td>\n",
       "      <td>No</td>\n",
       "      <td>CALMER</td>\n",
       "      <td>2</td>\n",
       "      <td>2</td>\n",
       "      <td>2</td>\n",
       "      <td>No</td>\n",
       "      <td>3</td>\n",
       "      <td>3</td>\n",
       "      <td>No</td>\n",
       "      <td>1</td>\n",
       "    </tr>\n",
       "    <tr>\n",
       "      <th>2</th>\n",
       "      <td>Banditaa</td>\n",
       "      <td>53</td>\n",
       "      <td>HR</td>\n",
       "      <td>Female</td>\n",
       "      <td>Yes</td>\n",
       "      <td>Yes</td>\n",
       "      <td>Yes</td>\n",
       "      <td>Yes</td>\n",
       "      <td>Yes</td>\n",
       "      <td>CALMER</td>\n",
       "      <td>3</td>\n",
       "      <td>3</td>\n",
       "      <td>4</td>\n",
       "      <td>No</td>\n",
       "      <td>5</td>\n",
       "      <td>3</td>\n",
       "      <td>No</td>\n",
       "      <td>1</td>\n",
       "    </tr>\n",
       "    <tr>\n",
       "      <th>3</th>\n",
       "      <td>Neetha</td>\n",
       "      <td>26</td>\n",
       "      <td>Engineer</td>\n",
       "      <td>Female</td>\n",
       "      <td>Yes</td>\n",
       "      <td>No</td>\n",
       "      <td>Yes</td>\n",
       "      <td>Yes</td>\n",
       "      <td>No</td>\n",
       "      <td>STRESSED</td>\n",
       "      <td>3</td>\n",
       "      <td>4</td>\n",
       "      <td>4</td>\n",
       "      <td>No</td>\n",
       "      <td>4</td>\n",
       "      <td>5</td>\n",
       "      <td>Yes</td>\n",
       "      <td>0</td>\n",
       "    </tr>\n",
       "    <tr>\n",
       "      <th>4</th>\n",
       "      <td>Ram</td>\n",
       "      <td>26</td>\n",
       "      <td>Recruiter</td>\n",
       "      <td>Male</td>\n",
       "      <td>Yes</td>\n",
       "      <td>No</td>\n",
       "      <td>No</td>\n",
       "      <td>Yes</td>\n",
       "      <td>No</td>\n",
       "      <td>STRESSED</td>\n",
       "      <td>3</td>\n",
       "      <td>3</td>\n",
       "      <td>5</td>\n",
       "      <td>Yes</td>\n",
       "      <td>4</td>\n",
       "      <td>2</td>\n",
       "      <td>Yes</td>\n",
       "      <td>1</td>\n",
       "    </tr>\n",
       "    <tr>\n",
       "      <th>...</th>\n",
       "      <td>...</td>\n",
       "      <td>...</td>\n",
       "      <td>...</td>\n",
       "      <td>...</td>\n",
       "      <td>...</td>\n",
       "      <td>...</td>\n",
       "      <td>...</td>\n",
       "      <td>...</td>\n",
       "      <td>...</td>\n",
       "      <td>...</td>\n",
       "      <td>...</td>\n",
       "      <td>...</td>\n",
       "      <td>...</td>\n",
       "      <td>...</td>\n",
       "      <td>...</td>\n",
       "      <td>...</td>\n",
       "      <td>...</td>\n",
       "      <td>...</td>\n",
       "    </tr>\n",
       "    <tr>\n",
       "      <th>178</th>\n",
       "      <td>Louis</td>\n",
       "      <td>28</td>\n",
       "      <td>Manager</td>\n",
       "      <td>Male</td>\n",
       "      <td>Yes</td>\n",
       "      <td>No</td>\n",
       "      <td>No</td>\n",
       "      <td>No</td>\n",
       "      <td>No</td>\n",
       "      <td>STRESSED</td>\n",
       "      <td>2</td>\n",
       "      <td>4</td>\n",
       "      <td>3</td>\n",
       "      <td>No</td>\n",
       "      <td>2</td>\n",
       "      <td>5</td>\n",
       "      <td>Not sure</td>\n",
       "      <td>0</td>\n",
       "    </tr>\n",
       "    <tr>\n",
       "      <th>179</th>\n",
       "      <td>Nandini</td>\n",
       "      <td>32</td>\n",
       "      <td>Engineer</td>\n",
       "      <td>Female</td>\n",
       "      <td>Yes</td>\n",
       "      <td>Yes</td>\n",
       "      <td>Yes</td>\n",
       "      <td>Yes</td>\n",
       "      <td>Yes</td>\n",
       "      <td>CALMER</td>\n",
       "      <td>4</td>\n",
       "      <td>1</td>\n",
       "      <td>5</td>\n",
       "      <td>Yes</td>\n",
       "      <td>3</td>\n",
       "      <td>3</td>\n",
       "      <td>Not sure</td>\n",
       "      <td>1</td>\n",
       "    </tr>\n",
       "    <tr>\n",
       "      <th>180</th>\n",
       "      <td>Matt</td>\n",
       "      <td>52</td>\n",
       "      <td>Business</td>\n",
       "      <td>Male</td>\n",
       "      <td>Yes</td>\n",
       "      <td>Yes</td>\n",
       "      <td>Yes</td>\n",
       "      <td>Yes</td>\n",
       "      <td>Yes</td>\n",
       "      <td>CALMER</td>\n",
       "      <td>4</td>\n",
       "      <td>4</td>\n",
       "      <td>4</td>\n",
       "      <td>Yes</td>\n",
       "      <td>5</td>\n",
       "      <td>3</td>\n",
       "      <td>No</td>\n",
       "      <td>1</td>\n",
       "    </tr>\n",
       "    <tr>\n",
       "      <th>181</th>\n",
       "      <td>Rithik</td>\n",
       "      <td>22</td>\n",
       "      <td>Marketing</td>\n",
       "      <td>Male</td>\n",
       "      <td>Yes</td>\n",
       "      <td>No</td>\n",
       "      <td>Yes</td>\n",
       "      <td>Yes</td>\n",
       "      <td>No</td>\n",
       "      <td>STRESSED</td>\n",
       "      <td>4</td>\n",
       "      <td>4</td>\n",
       "      <td>4</td>\n",
       "      <td>No</td>\n",
       "      <td>4</td>\n",
       "      <td>3</td>\n",
       "      <td>Not sure</td>\n",
       "      <td>0</td>\n",
       "    </tr>\n",
       "    <tr>\n",
       "      <th>182</th>\n",
       "      <td>Radha</td>\n",
       "      <td>25</td>\n",
       "      <td>Marketing</td>\n",
       "      <td>Female</td>\n",
       "      <td>No</td>\n",
       "      <td>Yes</td>\n",
       "      <td>Yes</td>\n",
       "      <td>No</td>\n",
       "      <td>No</td>\n",
       "      <td>STRESSED</td>\n",
       "      <td>5</td>\n",
       "      <td>3</td>\n",
       "      <td>5</td>\n",
       "      <td>Yes</td>\n",
       "      <td>1</td>\n",
       "      <td>3</td>\n",
       "      <td>No</td>\n",
       "      <td>0</td>\n",
       "    </tr>\n",
       "  </tbody>\n",
       "</table>\n",
       "<p>183 rows × 18 columns</p>\n",
       "</div>"
      ],
      "text/plain": [
       "         Name  Age  Occupation  Gender Same_ofiice_home_location kids  \\\n",
       "0     Bhavana   45       Tutor  Female                       Yes  Yes   \n",
       "1       Harry   24       Tutor    Male                        No   No   \n",
       "2    Banditaa   53          HR  Female                       Yes  Yes   \n",
       "3      Neetha   26    Engineer  Female                       Yes   No   \n",
       "4         Ram   26   Recruiter    Male                       Yes   No   \n",
       "..        ...  ...         ...     ...                       ...  ...   \n",
       "178     Louis   28     Manager    Male                       Yes   No   \n",
       "179   Nandini   32    Engineer  Female                       Yes  Yes   \n",
       "180      Matt   52    Business    Male                       Yes  Yes   \n",
       "181    Rithik   22  Marketing     Male                       Yes   No   \n",
       "182     Radha   25  Marketing   Female                        No  Yes   \n",
       "\n",
       "    RM_save_money RM_quality_time RM_better_sleep calmer_stressed  \\\n",
       "0             Yes             Yes             Yes          CALMER   \n",
       "1              No              No              No          CALMER   \n",
       "2             Yes             Yes             Yes          CALMER   \n",
       "3             Yes             Yes              No        STRESSED   \n",
       "4              No             Yes              No        STRESSED   \n",
       "..            ...             ...             ...             ...   \n",
       "178            No              No              No        STRESSED   \n",
       "179           Yes             Yes             Yes          CALMER   \n",
       "180           Yes             Yes             Yes          CALMER   \n",
       "181           Yes             Yes              No        STRESSED   \n",
       "182           Yes              No              No        STRESSED   \n",
       "\n",
       "     RM_professional_growth  RM_lazy  RM_productive  \\\n",
       "0                         5        1              5   \n",
       "1                         2        2              2   \n",
       "2                         3        3              4   \n",
       "3                         3        4              4   \n",
       "4                         3        3              5   \n",
       "..                      ...      ...            ...   \n",
       "178                       2        4              3   \n",
       "179                       4        1              5   \n",
       "180                       4        4              4   \n",
       "181                       4        4              4   \n",
       "182                       5        3              5   \n",
       "\n",
       "    digital_connect_sufficient  RM_better_work_life_balance  \\\n",
       "0                          Yes                            5   \n",
       "1                           No                            3   \n",
       "2                           No                            5   \n",
       "3                           No                            4   \n",
       "4                          Yes                            4   \n",
       "..                         ...                          ...   \n",
       "178                         No                            2   \n",
       "179                        Yes                            3   \n",
       "180                        Yes                            5   \n",
       "181                         No                            4   \n",
       "182                        Yes                            1   \n",
       "\n",
       "     RM_improved_skillset RM_job_opportunities  Target  \n",
       "0                       5                  Yes       1  \n",
       "1                       3                   No       1  \n",
       "2                       3                   No       1  \n",
       "3                       5                  Yes       0  \n",
       "4                       2                  Yes       1  \n",
       "..                    ...                  ...     ...  \n",
       "178                     5             Not sure       0  \n",
       "179                     3             Not sure       1  \n",
       "180                     3                   No       1  \n",
       "181                     3             Not sure       0  \n",
       "182                     3                   No       0  \n",
       "\n",
       "[183 rows x 18 columns]"
      ]
     },
     "execution_count": 7,
     "metadata": {},
     "output_type": "execute_result"
    }
   ],
   "source": [
    "data.drop_duplicates(ignore_index=True)"
   ]
  },
  {
   "cell_type": "code",
   "execution_count": 8,
   "metadata": {},
   "outputs": [
    {
     "data": {
      "text/plain": [
       "4    69\n",
       "3    66\n",
       "5    45\n",
       "2    24\n",
       "1     3\n",
       "Name: RM_productive, dtype: int64"
      ]
     },
     "execution_count": 8,
     "metadata": {},
     "output_type": "execute_result"
    }
   ],
   "source": [
    "data['RM_productive'].value_counts()"
   ]
  },
  {
   "cell_type": "code",
   "execution_count": 9,
   "metadata": {},
   "outputs": [
    {
     "data": {
      "text/plain": [
       "array(['Tutor', 'HR', 'Engineer', 'Recruiter', 'Business', 'Marketing ',\n",
       "       'Manager'], dtype=object)"
      ]
     },
     "execution_count": 9,
     "metadata": {},
     "output_type": "execute_result"
    }
   ],
   "source": [
    "data['Occupation'].unique()"
   ]
  },
  {
   "cell_type": "code",
   "execution_count": 10,
   "metadata": {},
   "outputs": [
    {
     "data": {
      "text/plain": [
       "Engineer      51\n",
       "Tutor         30\n",
       "Manager       29\n",
       "HR            26\n",
       "Business      26\n",
       "Marketing     26\n",
       "Recruiter     19\n",
       "Name: Occupation, dtype: int64"
      ]
     },
     "execution_count": 10,
     "metadata": {},
     "output_type": "execute_result"
    }
   ],
   "source": [
    "data['Occupation'].value_counts()"
   ]
  },
  {
   "cell_type": "code",
   "execution_count": 11,
   "metadata": {},
   "outputs": [
    {
     "data": {
      "text/plain": [
       "0    123\n",
       "1     84\n",
       "Name: Target, dtype: int64"
      ]
     },
     "execution_count": 11,
     "metadata": {},
     "output_type": "execute_result"
    }
   ],
   "source": [
    "data['Target'].value_counts()"
   ]
  },
  {
   "cell_type": "code",
   "execution_count": 12,
   "metadata": {},
   "outputs": [
    {
     "data": {
      "text/plain": [
       "STRESSED    126\n",
       "CALMER       81\n",
       "Name: calmer_stressed, dtype: int64"
      ]
     },
     "execution_count": 12,
     "metadata": {},
     "output_type": "execute_result"
    }
   ],
   "source": [
    "data['calmer_stressed'].value_counts()"
   ]
  },
  {
   "attachments": {},
   "cell_type": "markdown",
   "metadata": {},
   "source": [
    "EDA"
   ]
  },
  {
   "cell_type": "code",
   "execution_count": 13,
   "metadata": {},
   "outputs": [
    {
     "data": {
      "image/png": "[encoded data removed]",
      "text/plain": [
       "<Figure size 432x288 with 1 Axes>"
      ]
     },
     "metadata": {
      "needs_background": "light"
     },
     "output_type": "display_data"
    }
   ],
   "source": [
    "ax=sns.countplot(x='Occupation',data=data)\n",
    "plt.title(\"Occupation count\")\n",
    "for p in ax.patches:\n",
    "        ax.annotate('{:}'.format(p.get_height()), (p.get_x()+0.1, p.get_height()+1)) "
   ]
  },
  {
   "cell_type": "code",
   "execution_count": 14,
   "metadata": {},
   "outputs": [
    {
     "data": {
      "text/plain": [
       "Text(0.5, 1.0, 'Male vs Female')"
      ]
     },
     "execution_count": 14,
     "metadata": {},
     "output_type": "execute_result"
    },
    {
     "data": {
      "image/png": "[encoded data removed]",
      "text/plain": [
       "<Figure size 432x288 with 1 Axes>"
      ]
     },
     "metadata": {
      "needs_background": "light"
     },
     "output_type": "display_data"
    }
   ],
   "source": [
    "sns.countplot(x='Gender',data=data)\n",
    "plt.title('Male vs Female')\n"
   ]
  },
  {
   "cell_type": "code",
   "execution_count": 15,
   "metadata": {},
   "outputs": [
    {
     "data": {
      "text/plain": [
       "Text(0.5, 1.0, 'Pie chart representing RM_productive')"
      ]
     },
     "execution_count": 15,
     "metadata": {},
     "output_type": "execute_result"
    },
    {
     "data": {
      "image/png": "[encoded data removed]",
      "text/plain": [
       "<Figure size 432x288 with 1 Axes>"
      ]
     },
     "metadata": {},
     "output_type": "display_data"
    }
   ],
   "source": [
    "plt.pie(data['RM_productive'].value_counts().values,labels = data['RM_productive'].value_counts().index)\n",
    "plt.title('Pie chart representing RM_productive')"
   ]
  },
  {
   "cell_type": "code",
   "execution_count": 16,
   "metadata": {},
   "outputs": [
    {
     "data": {
      "text/plain": [
       "Text(0.5, 1.0, 'RM_professional_growth')"
      ]
     },
     "execution_count": 16,
     "metadata": {},
     "output_type": "execute_result"
    },
    {
     "data": {
      "image/png": "[encoded data removed]",
      "text/plain": [
       "<Figure size 1152x576 with 6 Axes>"
      ]
     },
     "metadata": {
      "needs_background": "light"
     },
     "output_type": "display_data"
    }
   ],
   "source": [
    "fig, axes = plt.subplots(2, 3, sharex=True, figsize=(16,8))\n",
    "data.groupby('Occupation')['RM_productive'].value_counts().unstack().plot(kind='bar', ax=axes[0,0])\n",
    "axes[0,0].set_title('RM_Productive')\n",
    "\n",
    "data.groupby('Occupation')['RM_lazy'].value_counts().unstack().plot(kind='bar',ax = axes[0,1])\n",
    "axes[0,1].set_title('RM_lazy')\n",
    "\n",
    "data.groupby('Occupation')['RM_improved_skillset'].value_counts().unstack().plot(kind='bar', ax=axes[0,2])\n",
    "axes[0,2].set_title('RM_improved_skillset')\n",
    "\n",
    "data.groupby('Occupation')['RM_better_work_life_balance'].value_counts().unstack().plot(kind='bar', ax=axes[1,0])\n",
    "axes[1,0].set_title('RM_better_work_life_balance')\n",
    "\n",
    "data.groupby('Occupation')['RM_professional_growth'].value_counts().unstack().plot(kind='bar', ax=axes[1,1])\n",
    "axes[1,1].set_title('RM_professional_growth')"
   ]
  },
  {
   "cell_type": "code",
   "execution_count": 17,
   "metadata": {},
   "outputs": [
    {
     "data": {
      "text/plain": [
       "Text(0.5, 1.0, 'Violinplot for RM_productive with respect to occupation and gender')"
      ]
     },
     "execution_count": 17,
     "metadata": {},
     "output_type": "execute_result"
    },
    {
     "data": {
      "image/png": "[encoded data removed]",
      "text/plain": [
       "<Figure size 1080x1080 with 1 Axes>"
      ]
     },
     "metadata": {
      "needs_background": "light"
     },
     "output_type": "display_data"
    }
   ],
   "source": [
    "plt.figure(figsize = (15,15))\n",
    "sns.violinplot(x = 'Occupation', y='RM_productive',hue = 'Gender',data = data).set_title('Violinplot for RM_productive with respect to occupation and gender')\n",
    "#0 - Female"
   ]
  },
  {
   "cell_type": "code",
   "execution_count": 18,
   "metadata": {},
   "outputs": [],
   "source": [
    "from statsmodels.graphics.mosaicplot import mosaic"
   ]
  },
  {
   "cell_type": "code",
   "execution_count": 19,
   "metadata": {},
   "outputs": [
    {
     "data": {
      "text/plain": [
       "Text(0.5, 1.0, 'RM_professional_growth')"
      ]
     },
     "execution_count": 19,
     "metadata": {},
     "output_type": "execute_result"
    },
    {
     "data": {
      "image/png": "[encoded data removed]",
      "text/plain": [
       "<Figure size 1152x576 with 6 Axes>"
      ]
     },
     "metadata": {
      "needs_background": "light"
     },
     "output_type": "display_data"
    }
   ],
   "source": [
    "fig, axes = plt.subplots(2, 3, sharex=True, figsize=(16,8))\n",
    "data.groupby(['Occupation','Gender'])['RM_productive'].value_counts().unstack().plot(kind='bar', ax=axes[0,0])\n",
    "axes[0,0].set_title('RM_Productive')\n",
    "\n",
    "data.groupby(['Occupation','Gender'])['RM_lazy'].value_counts().unstack().plot(kind='bar',ax = axes[0,1])\n",
    "axes[0,1].set_title('RM_lazy')\n",
    "\n",
    "data.groupby(['Occupation','Gender'])['RM_improved_skillset'].value_counts().unstack().plot(kind='bar', ax=axes[0,2])\n",
    "axes[0,2].set_title('RM_improved_skillset')\n",
    "\n",
    "data.groupby(['Occupation','Gender'])['RM_better_work_life_balance'].value_counts().unstack().plot(kind='bar', ax=axes[1,0])\n",
    "axes[1,0].set_title('RM_better_work_life_balance')\n",
    "\n",
    "data.groupby(['Occupation','Gender'])['RM_professional_growth'].value_counts().unstack().plot(kind='bar', ax=axes[1,1])\n",
    "axes[1,1].set_title('RM_professional_growth')"
   ]
  },
  {
   "cell_type": "code",
   "execution_count": 20,
   "metadata": {},
   "outputs": [
    {
     "data": {
      "image/png": "[encoded data removed]",
      "text/plain": [
       "<Figure size 432x288 with 1 Axes>"
      ]
     },
     "metadata": {
      "needs_background": "light"
     },
     "output_type": "display_data"
    }
   ],
   "source": [
    "grouped_df = data.groupby(['Occupation','RM_productive'])['Age'].median().unstack()\n",
    "grouped_df.plot(kind='bar', stacked=True)\n",
    "plt.show()"
   ]
  },
  {
   "cell_type": "code",
   "execution_count": 21,
   "metadata": {},
   "outputs": [],
   "source": [
    "import matplotlib.font_manager as fm"
   ]
  },
  {
   "cell_type": "code",
   "execution_count": 22,
   "metadata": {},
   "outputs": [
    {
     "data": {
      "image/png": "[encoded data removed]",
      "text/plain": [
       "<Figure size 432x288 with 1 Axes>"
      ]
     },
     "metadata": {
      "needs_background": "light"
     },
     "output_type": "display_data"
    }
   ],
   "source": [
    "data['Age Group'] = pd.cut(data['Age'], bins=[0, 10, 20, 30, 40, 50, 60], labels=['0-10', '10-20','20-30','30-40','40-50','50-60'])\n",
    "\n",
    "# Group by age group and compute the mean of other columns\n",
    "grouped = data.groupby('Age Group').mean()\n",
    "\n",
    "# Create a bar plot of mean income by age group\n",
    "grouped['RM_productive'].plot(kind='bar')\n",
    "plt.xlabel('Age Group')\n",
    "plt.ylabel('RM_productive')\n",
    "plt.show()"
   ]
  },
  {
   "cell_type": "code",
   "execution_count": 23,
   "metadata": {},
   "outputs": [
    {
     "name": "stdout",
     "output_type": "stream",
     "text": [
      "           RM_productive   RM_lazy\n",
      "Age Group                         \n",
      "0-10                 NaN       NaN\n",
      "10-20                NaN       NaN\n",
      "20-30           3.487500  3.362500\n",
      "30-40           3.857143  2.214286\n",
      "40-50           4.315789  1.157895\n",
      "50-60           4.000000  3.642857\n"
     ]
    },
    {
     "name": "stderr",
     "output_type": "stream",
     "text": [
      "C:\\Users\\SINCHANA\\AppData\\Local\\Temp\\ipykernel_13184\\4085455077.py:1: FutureWarning: Indexing with multiple keys (implicitly converted to a tuple of keys) will be deprecated, use a list instead.\n",
      "  grouped = data.groupby('Age Group')['RM_productive', 'RM_lazy'].mean()\n"
     ]
    }
   ],
   "source": [
    "grouped = data.groupby('Age Group')['RM_productive', 'RM_lazy'].mean()\n",
    "\n",
    "# Print the resulting DataFrame\n",
    "print(grouped)"
   ]
  },
  {
   "cell_type": "code",
   "execution_count": 24,
   "metadata": {},
   "outputs": [
    {
     "data": {
      "image/png": "[encoded data removed]",
      "text/plain": [
       "<Figure size 432x288 with 1 Axes>"
      ]
     },
     "metadata": {
      "needs_background": "light"
     },
     "output_type": "display_data"
    }
   ],
   "source": [
    "grouped = data.groupby('Age Group').median()\n",
    "grouped = grouped[['RM_productive','RM_lazy','RM_professional_growth','RM_better_work_life_balance','RM_improved_skillset']]\n",
    "grouped.plot(kind='bar')\n",
    "plt.xlabel('Age Group')\n",
    "plt.ylabel('Median Values')\n",
    "plt.legend(loc='upper left',prop=fm.FontProperties(size=8))\n",
    "plt.show()"
   ]
  },
  {
   "cell_type": "code",
   "execution_count": null,
   "metadata": {},
   "outputs": [],
   "source": []
  },
  {
   "cell_type": "code",
   "execution_count": null,
   "metadata": {},
   "outputs": [],
   "source": []
  },
  {
   "cell_type": "code",
   "execution_count": 25,
   "metadata": {},
   "outputs": [
    {
     "data": {
      "text/html": [
       "<div>\n",
       "<style scoped>\n",
       "    .dataframe tbody tr th:only-of-type {\n",
       "        vertical-align: middle;\n",
       "    }\n",
       "\n",
       "    .dataframe tbody tr th {\n",
       "        vertical-align: top;\n",
       "    }\n",
       "\n",
       "    .dataframe thead th {\n",
       "        text-align: right;\n",
       "    }\n",
       "</style>\n",
       "<table border=\"1\" class=\"dataframe\">\n",
       "  <thead>\n",
       "    <tr style=\"text-align: right;\">\n",
       "      <th>RM_better_sleep</th>\n",
       "      <th>No</th>\n",
       "      <th>Yes</th>\n",
       "    </tr>\n",
       "    <tr>\n",
       "      <th>RM_productive</th>\n",
       "      <th></th>\n",
       "      <th></th>\n",
       "    </tr>\n",
       "  </thead>\n",
       "  <tbody>\n",
       "    <tr>\n",
       "      <th>1</th>\n",
       "      <td>0</td>\n",
       "      <td>3</td>\n",
       "    </tr>\n",
       "    <tr>\n",
       "      <th>2</th>\n",
       "      <td>18</td>\n",
       "      <td>6</td>\n",
       "    </tr>\n",
       "    <tr>\n",
       "      <th>3</th>\n",
       "      <td>45</td>\n",
       "      <td>21</td>\n",
       "    </tr>\n",
       "    <tr>\n",
       "      <th>4</th>\n",
       "      <td>27</td>\n",
       "      <td>42</td>\n",
       "    </tr>\n",
       "    <tr>\n",
       "      <th>5</th>\n",
       "      <td>24</td>\n",
       "      <td>21</td>\n",
       "    </tr>\n",
       "  </tbody>\n",
       "</table>\n",
       "</div>"
      ],
      "text/plain": [
       "RM_better_sleep  No  Yes\n",
       "RM_productive           \n",
       "1                 0    3\n",
       "2                18    6\n",
       "3                45   21\n",
       "4                27   42\n",
       "5                24   21"
      ]
     },
     "execution_count": 25,
     "metadata": {},
     "output_type": "execute_result"
    }
   ],
   "source": [
    "pd.crosstab(data['RM_productive'],data['RM_better_sleep'])"
   ]
  },
  {
   "cell_type": "code",
   "execution_count": 26,
   "metadata": {},
   "outputs": [
    {
     "name": "stdout",
     "output_type": "stream",
     "text": [
      "(<Figure size 432x288 with 3 Axes>, {('5', 'Yes'): (0.0, 0.0, 0.21312872975277067, 0.46511627906976744), ('5', 'No'): (0.0, 0.4684385382059801, 0.21312872975277067, 0.5315614617940199), ('2', 'Yes'): (0.2180306905370844, 0.0, 0.11366865586814434, 0.24916943521594684), ('2', 'No'): (0.2180306905370844, 0.25249169435215946, 0.11366865586814434, 0.7475083056478404), ('4', 'Yes'): (0.33660130718954245, 0.0, 0.326797385620915, 0.6066734074823054), ('4', 'No'): (0.33660130718954245, 0.6099956666185179, 0.326797385620915, 0.39000433338148194), ('3', 'Yes'): (0.6683006535947712, 0.0, 0.31258880363739705, 0.3171247357293869), ('3', 'No'): (0.6683006535947712, 0.3204469948655995, 0.31258880363739705, 0.6795530051344005), ('1', 'Yes'): (0.9857914180164818, 0.0, 0.014208581983518, 0.9966777408637874), ('1', 'No'): (0.9857914180164818, 1.0, 0.014208581983518, 0.0)})\n"
     ]
    },
    {
     "data": {
      "image/png": "[encoded data removed]",
      "text/plain": [
       "<Figure size 432x288 with 3 Axes>"
      ]
     },
     "metadata": {
      "needs_background": "light"
     },
     "output_type": "display_data"
    }
   ],
   "source": [
    "\n",
    "print(mosaic(data, ['RM_productive','RM_better_sleep']))"
   ]
  },
  {
   "cell_type": "code",
   "execution_count": 27,
   "metadata": {},
   "outputs": [
    {
     "data": {
      "text/html": [
       "<div>\n",
       "<style scoped>\n",
       "    .dataframe tbody tr th:only-of-type {\n",
       "        vertical-align: middle;\n",
       "    }\n",
       "\n",
       "    .dataframe tbody tr th {\n",
       "        vertical-align: top;\n",
       "    }\n",
       "\n",
       "    .dataframe thead th {\n",
       "        text-align: right;\n",
       "    }\n",
       "</style>\n",
       "<table border=\"1\" class=\"dataframe\">\n",
       "  <thead>\n",
       "    <tr style=\"text-align: right;\">\n",
       "      <th>RM_quality_time</th>\n",
       "      <th>No</th>\n",
       "      <th>Yes</th>\n",
       "    </tr>\n",
       "    <tr>\n",
       "      <th>RM_productive</th>\n",
       "      <th></th>\n",
       "      <th></th>\n",
       "    </tr>\n",
       "  </thead>\n",
       "  <tbody>\n",
       "    <tr>\n",
       "      <th>1</th>\n",
       "      <td>0</td>\n",
       "      <td>3</td>\n",
       "    </tr>\n",
       "    <tr>\n",
       "      <th>2</th>\n",
       "      <td>18</td>\n",
       "      <td>6</td>\n",
       "    </tr>\n",
       "    <tr>\n",
       "      <th>3</th>\n",
       "      <td>33</td>\n",
       "      <td>33</td>\n",
       "    </tr>\n",
       "    <tr>\n",
       "      <th>4</th>\n",
       "      <td>12</td>\n",
       "      <td>57</td>\n",
       "    </tr>\n",
       "    <tr>\n",
       "      <th>5</th>\n",
       "      <td>9</td>\n",
       "      <td>36</td>\n",
       "    </tr>\n",
       "  </tbody>\n",
       "</table>\n",
       "</div>"
      ],
      "text/plain": [
       "RM_quality_time  No  Yes\n",
       "RM_productive           \n",
       "1                 0    3\n",
       "2                18    6\n",
       "3                33   33\n",
       "4                12   57\n",
       "5                 9   36"
      ]
     },
     "execution_count": 27,
     "metadata": {},
     "output_type": "execute_result"
    }
   ],
   "source": [
    "pd.crosstab(data['RM_productive'],data['RM_quality_time'])"
   ]
  },
  {
   "cell_type": "code",
   "execution_count": 28,
   "metadata": {},
   "outputs": [
    {
     "name": "stdout",
     "output_type": "stream",
     "text": [
      "(<Figure size 432x288 with 3 Axes>, {('5', 'Yes'): (0.0, 0.0, 0.21312872975277067, 0.7973421926910299), ('5', 'No'): (0.0, 0.8006644518272424, 0.21312872975277067, 0.19933554817275742), ('2', 'Yes'): (0.2180306905370844, 0.0, 0.11366865586814434, 0.24916943521594684), ('2', 'No'): (0.2180306905370844, 0.25249169435215946, 0.11366865586814434, 0.7475083056478404), ('4', 'Yes'): (0.33660130718954245, 0.0, 0.326797385620915, 0.8233424815831286), ('4', 'No'): (0.33660130718954245, 0.8266647407193413, 0.326797385620915, 0.17333525928065865), ('3', 'Yes'): (0.6683006535947712, 0.0, 0.31258880363739705, 0.4983388704318937), ('3', 'No'): (0.6683006535947712, 0.5016611295681063, 0.31258880363739705, 0.4983388704318937), ('1', 'Yes'): (0.9857914180164818, 0.0, 0.014208581983518, 0.9966777408637874), ('1', 'No'): (0.9857914180164818, 1.0, 0.014208581983518, 0.0)})\n"
     ]
    },
    {
     "data": {
      "image/png": "[encoded data removed]",
      "text/plain": [
       "<Figure size 432x288 with 3 Axes>"
      ]
     },
     "metadata": {
      "needs_background": "light"
     },
     "output_type": "display_data"
    }
   ],
   "source": [
    "print(mosaic(data, ['RM_productive','RM_quality_time']))"
   ]
  },
  {
   "cell_type": "code",
   "execution_count": 29,
   "metadata": {},
   "outputs": [
    {
     "data": {
      "text/html": [
       "<div>\n",
       "<style scoped>\n",
       "    .dataframe tbody tr th:only-of-type {\n",
       "        vertical-align: middle;\n",
       "    }\n",
       "\n",
       "    .dataframe tbody tr th {\n",
       "        vertical-align: top;\n",
       "    }\n",
       "\n",
       "    .dataframe thead th {\n",
       "        text-align: right;\n",
       "    }\n",
       "</style>\n",
       "<table border=\"1\" class=\"dataframe\">\n",
       "  <thead>\n",
       "    <tr style=\"text-align: right;\">\n",
       "      <th>RM_lazy</th>\n",
       "      <th>1</th>\n",
       "      <th>2</th>\n",
       "      <th>3</th>\n",
       "      <th>4</th>\n",
       "      <th>5</th>\n",
       "    </tr>\n",
       "    <tr>\n",
       "      <th>RM_productive</th>\n",
       "      <th></th>\n",
       "      <th></th>\n",
       "      <th></th>\n",
       "      <th></th>\n",
       "      <th></th>\n",
       "    </tr>\n",
       "  </thead>\n",
       "  <tbody>\n",
       "    <tr>\n",
       "      <th>1</th>\n",
       "      <td>0</td>\n",
       "      <td>0</td>\n",
       "      <td>0</td>\n",
       "      <td>0</td>\n",
       "      <td>3</td>\n",
       "    </tr>\n",
       "    <tr>\n",
       "      <th>2</th>\n",
       "      <td>3</td>\n",
       "      <td>3</td>\n",
       "      <td>3</td>\n",
       "      <td>12</td>\n",
       "      <td>3</td>\n",
       "    </tr>\n",
       "    <tr>\n",
       "      <th>3</th>\n",
       "      <td>9</td>\n",
       "      <td>3</td>\n",
       "      <td>24</td>\n",
       "      <td>24</td>\n",
       "      <td>6</td>\n",
       "    </tr>\n",
       "    <tr>\n",
       "      <th>4</th>\n",
       "      <td>0</td>\n",
       "      <td>9</td>\n",
       "      <td>21</td>\n",
       "      <td>33</td>\n",
       "      <td>6</td>\n",
       "    </tr>\n",
       "    <tr>\n",
       "      <th>5</th>\n",
       "      <td>27</td>\n",
       "      <td>0</td>\n",
       "      <td>12</td>\n",
       "      <td>3</td>\n",
       "      <td>3</td>\n",
       "    </tr>\n",
       "  </tbody>\n",
       "</table>\n",
       "</div>"
      ],
      "text/plain": [
       "RM_lazy         1  2   3   4  5\n",
       "RM_productive                  \n",
       "1               0  0   0   0  3\n",
       "2               3  3   3  12  3\n",
       "3               9  3  24  24  6\n",
       "4               0  9  21  33  6\n",
       "5              27  0  12   3  3"
      ]
     },
     "execution_count": 29,
     "metadata": {},
     "output_type": "execute_result"
    }
   ],
   "source": [
    "pd.crosstab(data['RM_productive'],data['RM_lazy'])"
   ]
  },
  {
   "cell_type": "code",
   "execution_count": 30,
   "metadata": {},
   "outputs": [
    {
     "name": "stdout",
     "output_type": "stream",
     "text": [
      "(<Figure size 432x288 with 3 Axes>, {('5', '1'): (0.0, 0.0, 0.21312872975277067, 0.5921052631578948), ('5', '2'): (0.0, 0.5953947368421053, 0.21312872975277067, 0.0), ('5', '3'): (0.0, 0.5986842105263159, 0.21312872975277067, 0.2631578947368422), ('5', '4'): (0.0, 0.8651315789473686, 0.21312872975277067, 0.06578947368421052), ('5', '5'): (0.0, 0.9342105263157896, 0.21312872975277067, 0.06578947368421052), ('2', '1'): (0.2180306905370844, 0.0, 0.11366865586814434, 0.12335526315789476), ('2', '2'): (0.2180306905370844, 0.12664473684210528, 0.11366865586814434, 0.12335526315789476), ('2', '3'): (0.2180306905370844, 0.25328947368421056, 0.11366865586814434, 0.12335526315789476), ('2', '4'): (0.2180306905370844, 0.3799342105263159, 0.11366865586814434, 0.49342105263157904), ('2', '5'): (0.2180306905370844, 0.8766447368421053, 0.11366865586814434, 0.12335526315789476), ('4', '1'): (0.33660130718954245, 0.0, 0.326797385620915, 0.0), ('4', '2'): (0.33660130718954245, 0.003289473684210527, 0.326797385620915, 0.12871853546910755), ('4', '3'): (0.33660130718954245, 0.1352974828375286, 0.326797385620915, 0.3003432494279177), ('4', '4'): (0.33660130718954245, 0.4389302059496568, 0.326797385620915, 0.4719679633867277), ('4', '5'): (0.33660130718954245, 0.914187643020595, 0.326797385620915, 0.0858123569794051), ('3', '1'): (0.6683006535947712, 0.0, 0.31258880363739705, 0.13456937799043062), ('3', '2'): (0.6683006535947712, 0.13785885167464115, 0.31258880363739705, 0.04485645933014356), ('3', '3'): (0.6683006535947712, 0.18600478468899523, 0.31258880363739705, 0.3588516746411483), ('3', '4'): (0.6683006535947712, 0.5481459330143541, 0.31258880363739705, 0.35885167464114837), ('3', '5'): (0.6683006535947712, 0.910287081339713, 0.31258880363739705, 0.08971291866028712), ('1', '1'): (0.9857914180164818, 0.0, 0.014208581983518, 0.0), ('1', '2'): (0.9857914180164818, 0.003289473684210526, 0.014208581983518, 0.0), ('1', '3'): (0.9857914180164818, 0.006578947368421052, 0.014208581983518, 0.0), ('1', '4'): (0.9857914180164818, 0.009868421052631578, 0.014208581983518, 0.0), ('1', '5'): (0.9857914180164818, 0.013157894736842105, 0.014208581983518, 0.9868421052631579)})\n"
     ]
    },
    {
     "data": {
      "image/png": "[encoded data removed]",
      "text/plain": [
       "<Figure size 432x288 with 3 Axes>"
      ]
     },
     "metadata": {
      "needs_background": "light"
     },
     "output_type": "display_data"
    }
   ],
   "source": [
    "print(mosaic(data, ['RM_productive','RM_lazy']))"
   ]
  },
  {
   "cell_type": "code",
   "execution_count": 31,
   "metadata": {},
   "outputs": [
    {
     "data": {
      "text/html": [
       "<div>\n",
       "<style scoped>\n",
       "    .dataframe tbody tr th:only-of-type {\n",
       "        vertical-align: middle;\n",
       "    }\n",
       "\n",
       "    .dataframe tbody tr th {\n",
       "        vertical-align: top;\n",
       "    }\n",
       "\n",
       "    .dataframe thead th {\n",
       "        text-align: right;\n",
       "    }\n",
       "</style>\n",
       "<table border=\"1\" class=\"dataframe\">\n",
       "  <thead>\n",
       "    <tr style=\"text-align: right;\">\n",
       "      <th>RM_improved_skillset</th>\n",
       "      <th>1</th>\n",
       "      <th>2</th>\n",
       "      <th>3</th>\n",
       "      <th>4</th>\n",
       "      <th>5</th>\n",
       "    </tr>\n",
       "    <tr>\n",
       "      <th>RM_productive</th>\n",
       "      <th></th>\n",
       "      <th></th>\n",
       "      <th></th>\n",
       "      <th></th>\n",
       "      <th></th>\n",
       "    </tr>\n",
       "  </thead>\n",
       "  <tbody>\n",
       "    <tr>\n",
       "      <th>1</th>\n",
       "      <td>0</td>\n",
       "      <td>3</td>\n",
       "      <td>0</td>\n",
       "      <td>0</td>\n",
       "      <td>0</td>\n",
       "    </tr>\n",
       "    <tr>\n",
       "      <th>2</th>\n",
       "      <td>0</td>\n",
       "      <td>3</td>\n",
       "      <td>12</td>\n",
       "      <td>3</td>\n",
       "      <td>6</td>\n",
       "    </tr>\n",
       "    <tr>\n",
       "      <th>3</th>\n",
       "      <td>6</td>\n",
       "      <td>9</td>\n",
       "      <td>27</td>\n",
       "      <td>12</td>\n",
       "      <td>12</td>\n",
       "    </tr>\n",
       "    <tr>\n",
       "      <th>4</th>\n",
       "      <td>0</td>\n",
       "      <td>0</td>\n",
       "      <td>33</td>\n",
       "      <td>24</td>\n",
       "      <td>12</td>\n",
       "    </tr>\n",
       "    <tr>\n",
       "      <th>5</th>\n",
       "      <td>0</td>\n",
       "      <td>3</td>\n",
       "      <td>15</td>\n",
       "      <td>15</td>\n",
       "      <td>12</td>\n",
       "    </tr>\n",
       "  </tbody>\n",
       "</table>\n",
       "</div>"
      ],
      "text/plain": [
       "RM_improved_skillset  1  2   3   4   5\n",
       "RM_productive                         \n",
       "1                     0  3   0   0   0\n",
       "2                     0  3  12   3   6\n",
       "3                     6  9  27  12  12\n",
       "4                     0  0  33  24  12\n",
       "5                     0  3  15  15  12"
      ]
     },
     "execution_count": 31,
     "metadata": {},
     "output_type": "execute_result"
    }
   ],
   "source": [
    "pd.crosstab(data['RM_productive'],data['RM_improved_skillset'])"
   ]
  },
  {
   "cell_type": "code",
   "execution_count": 32,
   "metadata": {},
   "outputs": [
    {
     "name": "stdout",
     "output_type": "stream",
     "text": [
      "(<Figure size 432x288 with 3 Axes>, {('5', '5'): (0.0, 0.0, 0.21312872975277067, 0.2631578947368421), ('5', '3'): (0.0, 0.2664473684210526, 0.21312872975277067, 0.3289473684210526), ('5', '2'): (0.0, 0.5986842105263157, 0.21312872975277067, 0.06578947368421051), ('5', '4'): (0.0, 0.6677631578947367, 0.21312872975277067, 0.32894736842105265), ('5', '1'): (0.0, 1.0, 0.21312872975277067, 0.0), ('2', '5'): (0.2180306905370844, 0.0, 0.11366865586814434, 0.24671052631578946), ('2', '3'): (0.2180306905370844, 0.25, 0.11366865586814434, 0.4934210526315789), ('2', '2'): (0.2180306905370844, 0.7467105263157895, 0.11366865586814434, 0.12335526315789473), ('2', '4'): (0.2180306905370844, 0.8733552631578947, 0.11366865586814434, 0.12335526315789473), ('2', '1'): (0.2180306905370844, 1.0, 0.11366865586814434, 0.0), ('4', '5'): (0.33660130718954245, 0.0, 0.326797385620915, 0.17162471395881004), ('4', '3'): (0.33660130718954245, 0.17491418764302058, 0.326797385620915, 0.47196796338672764), ('4', '2'): (0.33660130718954245, 0.6501716247139588, 0.326797385620915, 0.0), ('4', '4'): (0.33660130718954245, 0.6534610983981693, 0.326797385620915, 0.3432494279176201), ('4', '1'): (0.33660130718954245, 1.0, 0.326797385620915, 0.0), ('3', '5'): (0.6683006535947712, 0.0, 0.31258880363739705, 0.17942583732057418), ('3', '3'): (0.6683006535947712, 0.18271531100478472, 0.31258880363739705, 0.40370813397129196), ('3', '2'): (0.6683006535947712, 0.5897129186602872, 0.31258880363739705, 0.13456937799043062), ('3', '4'): (0.6683006535947712, 0.7275717703349284, 0.31258880363739705, 0.17942583732057413), ('3', '1'): (0.6683006535947712, 0.910287081339713, 0.31258880363739705, 0.08971291866028712), ('1', '5'): (0.9857914180164818, 0.0, 0.014208581983518, 0.0), ('1', '3'): (0.9857914180164818, 0.003289473684210526, 0.014208581983518, 0.0), ('1', '2'): (0.9857914180164818, 0.006578947368421052, 0.014208581983518, 0.9868421052631579), ('1', '4'): (0.9857914180164818, 0.9967105263157894, 0.014208581983518, 0.0), ('1', '1'): (0.9857914180164818, 1.0, 0.014208581983518, 0.0)})\n"
     ]
    },
    {
     "data": {
      "image/png": "[encoded data removed]",
      "text/plain": [
       "<Figure size 432x288 with 3 Axes>"
      ]
     },
     "metadata": {
      "needs_background": "light"
     },
     "output_type": "display_data"
    }
   ],
   "source": [
    "print(mosaic(data, ['RM_productive','RM_improved_skillset']))"
   ]
  },
  {
   "cell_type": "code",
   "execution_count": 33,
   "metadata": {},
   "outputs": [
    {
     "data": {
      "text/html": [
       "<div>\n",
       "<style scoped>\n",
       "    .dataframe tbody tr th:only-of-type {\n",
       "        vertical-align: middle;\n",
       "    }\n",
       "\n",
       "    .dataframe tbody tr th {\n",
       "        vertical-align: top;\n",
       "    }\n",
       "\n",
       "    .dataframe thead th {\n",
       "        text-align: right;\n",
       "    }\n",
       "</style>\n",
       "<table border=\"1\" class=\"dataframe\">\n",
       "  <thead>\n",
       "    <tr style=\"text-align: right;\">\n",
       "      <th>calmer_stressed</th>\n",
       "      <th>CALMER</th>\n",
       "      <th>STRESSED</th>\n",
       "    </tr>\n",
       "    <tr>\n",
       "      <th>RM_lazy</th>\n",
       "      <th></th>\n",
       "      <th></th>\n",
       "    </tr>\n",
       "  </thead>\n",
       "  <tbody>\n",
       "    <tr>\n",
       "      <th>1</th>\n",
       "      <td>18</td>\n",
       "      <td>21</td>\n",
       "    </tr>\n",
       "    <tr>\n",
       "      <th>2</th>\n",
       "      <td>9</td>\n",
       "      <td>6</td>\n",
       "    </tr>\n",
       "    <tr>\n",
       "      <th>3</th>\n",
       "      <td>33</td>\n",
       "      <td>27</td>\n",
       "    </tr>\n",
       "    <tr>\n",
       "      <th>4</th>\n",
       "      <td>21</td>\n",
       "      <td>51</td>\n",
       "    </tr>\n",
       "    <tr>\n",
       "      <th>5</th>\n",
       "      <td>0</td>\n",
       "      <td>21</td>\n",
       "    </tr>\n",
       "  </tbody>\n",
       "</table>\n",
       "</div>"
      ],
      "text/plain": [
       "calmer_stressed  CALMER  STRESSED\n",
       "RM_lazy                          \n",
       "1                    18        21\n",
       "2                     9         6\n",
       "3                    33        27\n",
       "4                    21        51\n",
       "5                     0        21"
      ]
     },
     "execution_count": 33,
     "metadata": {},
     "output_type": "execute_result"
    }
   ],
   "source": [
    "pd.crosstab(data['RM_lazy'],data['calmer_stressed'])"
   ]
  },
  {
   "cell_type": "code",
   "execution_count": 34,
   "metadata": {},
   "outputs": [
    {
     "name": "stdout",
     "output_type": "stream",
     "text": [
      "(<Figure size 432x288 with 3 Axes>, {('1', 'CALMER'): (0.0, 0.0, 0.18471156578573458, 0.4600051111679019), ('1', 'STRESSED'): (0.0, 0.4633273703041145, 0.18471156578573458, 0.5366726296958855), ('2', 'CALMER'): (0.18961352657004832, 0.0, 0.07104290991759021, 0.5980066445182723), ('2', 'STRESSED'): (0.18961352657004832, 0.601328903654485, 0.07104290991759021, 0.39867109634551495), ('3', 'CALMER'): (0.26555839727195224, 0.0, 0.2841716396703609, 0.5481727574750831), ('3', 'STRESSED'): (0.26555839727195224, 0.5514950166112956, 0.2841716396703609, 0.44850498338870426), ('4', 'CALMER'): (0.5546319977266269, 0.0, 0.3410059676044331, 0.29069767441860467), ('4', 'STRESSED'): (0.5546319977266269, 0.2940199335548173, 0.3410059676044331, 0.7059800664451826), ('5', 'CALMER'): (0.9005399261153737, 0.0, 0.09946007388462631, 0.0), ('5', 'STRESSED'): (0.9005399261153737, 0.0033222591362126247, 0.09946007388462631, 0.9966777408637874)})\n"
     ]
    },
    {
     "data": {
      "image/png": "[encoded data removed]",
      "text/plain": [
       "<Figure size 432x288 with 3 Axes>"
      ]
     },
     "metadata": {
      "needs_background": "light"
     },
     "output_type": "display_data"
    }
   ],
   "source": [
    "print(mosaic(data, ['RM_lazy','calmer_stressed']))"
   ]
  },
  {
   "cell_type": "code",
   "execution_count": 35,
   "metadata": {},
   "outputs": [
    {
     "data": {
      "text/html": [
       "<div>\n",
       "<style scoped>\n",
       "    .dataframe tbody tr th:only-of-type {\n",
       "        vertical-align: middle;\n",
       "    }\n",
       "\n",
       "    .dataframe tbody tr th {\n",
       "        vertical-align: top;\n",
       "    }\n",
       "\n",
       "    .dataframe thead th {\n",
       "        text-align: right;\n",
       "    }\n",
       "</style>\n",
       "<table border=\"1\" class=\"dataframe\">\n",
       "  <thead>\n",
       "    <tr style=\"text-align: right;\">\n",
       "      <th>RM_save_money</th>\n",
       "      <th>No</th>\n",
       "      <th>Yes</th>\n",
       "    </tr>\n",
       "    <tr>\n",
       "      <th>RM_productive</th>\n",
       "      <th></th>\n",
       "      <th></th>\n",
       "    </tr>\n",
       "  </thead>\n",
       "  <tbody>\n",
       "    <tr>\n",
       "      <th>1</th>\n",
       "      <td>0</td>\n",
       "      <td>3</td>\n",
       "    </tr>\n",
       "    <tr>\n",
       "      <th>2</th>\n",
       "      <td>21</td>\n",
       "      <td>3</td>\n",
       "    </tr>\n",
       "    <tr>\n",
       "      <th>3</th>\n",
       "      <td>24</td>\n",
       "      <td>42</td>\n",
       "    </tr>\n",
       "    <tr>\n",
       "      <th>4</th>\n",
       "      <td>3</td>\n",
       "      <td>66</td>\n",
       "    </tr>\n",
       "    <tr>\n",
       "      <th>5</th>\n",
       "      <td>3</td>\n",
       "      <td>42</td>\n",
       "    </tr>\n",
       "  </tbody>\n",
       "</table>\n",
       "</div>"
      ],
      "text/plain": [
       "RM_save_money  No  Yes\n",
       "RM_productive         \n",
       "1               0    3\n",
       "2              21    3\n",
       "3              24   42\n",
       "4               3   66\n",
       "5               3   42"
      ]
     },
     "execution_count": 35,
     "metadata": {},
     "output_type": "execute_result"
    }
   ],
   "source": [
    "pd.crosstab(data['RM_productive'],data['RM_save_money'])"
   ]
  },
  {
   "cell_type": "code",
   "execution_count": 36,
   "metadata": {},
   "outputs": [
    {
     "name": "stdout",
     "output_type": "stream",
     "text": [
      "(<Figure size 432x288 with 3 Axes>, {('5', 'Yes'): (0.0, 0.0, 0.21312872975277067, 0.9302325581395349), ('5', 'No'): (0.0, 0.9335548172757474, 0.21312872975277067, 0.06644518272425247), ('2', 'Yes'): (0.2180306905370844, 0.0, 0.11366865586814434, 0.12458471760797342), ('2', 'No'): (0.2180306905370844, 0.12790697674418602, 0.11366865586814434, 0.8720930232558138), ('4', 'Yes'): (0.33660130718954245, 0.0, 0.326797385620915, 0.9533439260436226), ('4', 'No'): (0.33660130718954245, 0.9566661851798353, 0.326797385620915, 0.043333814820164636), ('3', 'Yes'): (0.6683006535947712, 0.0, 0.31258880363739705, 0.6342494714587738), ('3', 'No'): (0.6683006535947712, 0.6375717305949863, 0.31258880363739705, 0.36242826940501355), ('1', 'Yes'): (0.9857914180164818, 0.0, 0.014208581983518, 0.9966777408637874), ('1', 'No'): (0.9857914180164818, 1.0, 0.014208581983518, 0.0)})\n"
     ]
    },
    {
     "data": {
      "image/png": "[encoded data removed]",
      "text/plain": [
       "<Figure size 432x288 with 3 Axes>"
      ]
     },
     "metadata": {
      "needs_background": "light"
     },
     "output_type": "display_data"
    }
   ],
   "source": [
    "print(mosaic(data, ['RM_productive','RM_save_money']))"
   ]
  },
  {
   "attachments": {},
   "cell_type": "markdown",
   "metadata": {},
   "source": [
    "Encoding the dataset"
   ]
  },
  {
   "cell_type": "code",
   "execution_count": 37,
   "metadata": {},
   "outputs": [],
   "source": [
    "from sklearn.preprocessing import LabelEncoder"
   ]
  },
  {
   "cell_type": "code",
   "execution_count": 38,
   "metadata": {},
   "outputs": [],
   "source": [
    "features = ['Gender','Same_ofiice_home_location','kids','RM_save_money','RM_quality_time','RM_better_sleep','RM_job_opportunities','calmer_stressed']"
   ]
  },
  {
   "cell_type": "code",
   "execution_count": 39,
   "metadata": {},
   "outputs": [],
   "source": [
    "encode = LabelEncoder()"
   ]
  },
  {
   "cell_type": "code",
   "execution_count": 40,
   "metadata": {},
   "outputs": [],
   "source": [
    "data[features] = data[features].apply(LabelEncoder().fit_transform)"
   ]
  },
  {
   "cell_type": "code",
   "execution_count": 41,
   "metadata": {},
   "outputs": [
    {
     "data": {
      "text/html": [
       "<div>\n",
       "<style scoped>\n",
       "    .dataframe tbody tr th:only-of-type {\n",
       "        vertical-align: middle;\n",
       "    }\n",
       "\n",
       "    .dataframe tbody tr th {\n",
       "        vertical-align: top;\n",
       "    }\n",
       "\n",
       "    .dataframe thead th {\n",
       "        text-align: right;\n",
       "    }\n",
       "</style>\n",
       "<table border=\"1\" class=\"dataframe\">\n",
       "  <thead>\n",
       "    <tr style=\"text-align: right;\">\n",
       "      <th></th>\n",
       "      <th>Name</th>\n",
       "      <th>Age</th>\n",
       "      <th>Occupation</th>\n",
       "      <th>Gender</th>\n",
       "      <th>Same_ofiice_home_location</th>\n",
       "      <th>kids</th>\n",
       "      <th>RM_save_money</th>\n",
       "      <th>RM_quality_time</th>\n",
       "      <th>RM_better_sleep</th>\n",
       "      <th>calmer_stressed</th>\n",
       "      <th>RM_professional_growth</th>\n",
       "      <th>RM_lazy</th>\n",
       "      <th>RM_productive</th>\n",
       "      <th>digital_connect_sufficient</th>\n",
       "      <th>RM_better_work_life_balance</th>\n",
       "      <th>RM_improved_skillset</th>\n",
       "      <th>RM_job_opportunities</th>\n",
       "      <th>Target</th>\n",
       "      <th>Age Group</th>\n",
       "    </tr>\n",
       "    <tr>\n",
       "      <th>ID</th>\n",
       "      <th></th>\n",
       "      <th></th>\n",
       "      <th></th>\n",
       "      <th></th>\n",
       "      <th></th>\n",
       "      <th></th>\n",
       "      <th></th>\n",
       "      <th></th>\n",
       "      <th></th>\n",
       "      <th></th>\n",
       "      <th></th>\n",
       "      <th></th>\n",
       "      <th></th>\n",
       "      <th></th>\n",
       "      <th></th>\n",
       "      <th></th>\n",
       "      <th></th>\n",
       "      <th></th>\n",
       "      <th></th>\n",
       "    </tr>\n",
       "  </thead>\n",
       "  <tbody>\n",
       "    <tr>\n",
       "      <th>1</th>\n",
       "      <td>Bhavana</td>\n",
       "      <td>45</td>\n",
       "      <td>Tutor</td>\n",
       "      <td>0</td>\n",
       "      <td>1</td>\n",
       "      <td>1</td>\n",
       "      <td>1</td>\n",
       "      <td>1</td>\n",
       "      <td>1</td>\n",
       "      <td>0</td>\n",
       "      <td>5</td>\n",
       "      <td>1</td>\n",
       "      <td>5</td>\n",
       "      <td>Yes</td>\n",
       "      <td>5</td>\n",
       "      <td>5</td>\n",
       "      <td>2</td>\n",
       "      <td>1</td>\n",
       "      <td>40-50</td>\n",
       "    </tr>\n",
       "    <tr>\n",
       "      <th>2</th>\n",
       "      <td>Harry</td>\n",
       "      <td>24</td>\n",
       "      <td>Tutor</td>\n",
       "      <td>1</td>\n",
       "      <td>0</td>\n",
       "      <td>0</td>\n",
       "      <td>0</td>\n",
       "      <td>0</td>\n",
       "      <td>0</td>\n",
       "      <td>0</td>\n",
       "      <td>2</td>\n",
       "      <td>2</td>\n",
       "      <td>2</td>\n",
       "      <td>No</td>\n",
       "      <td>3</td>\n",
       "      <td>3</td>\n",
       "      <td>0</td>\n",
       "      <td>1</td>\n",
       "      <td>20-30</td>\n",
       "    </tr>\n",
       "    <tr>\n",
       "      <th>3</th>\n",
       "      <td>Banditaa</td>\n",
       "      <td>53</td>\n",
       "      <td>HR</td>\n",
       "      <td>0</td>\n",
       "      <td>1</td>\n",
       "      <td>1</td>\n",
       "      <td>1</td>\n",
       "      <td>1</td>\n",
       "      <td>1</td>\n",
       "      <td>0</td>\n",
       "      <td>3</td>\n",
       "      <td>3</td>\n",
       "      <td>4</td>\n",
       "      <td>No</td>\n",
       "      <td>5</td>\n",
       "      <td>3</td>\n",
       "      <td>0</td>\n",
       "      <td>1</td>\n",
       "      <td>50-60</td>\n",
       "    </tr>\n",
       "    <tr>\n",
       "      <th>4</th>\n",
       "      <td>Neetha</td>\n",
       "      <td>26</td>\n",
       "      <td>Engineer</td>\n",
       "      <td>0</td>\n",
       "      <td>1</td>\n",
       "      <td>0</td>\n",
       "      <td>1</td>\n",
       "      <td>1</td>\n",
       "      <td>0</td>\n",
       "      <td>1</td>\n",
       "      <td>3</td>\n",
       "      <td>4</td>\n",
       "      <td>4</td>\n",
       "      <td>No</td>\n",
       "      <td>4</td>\n",
       "      <td>5</td>\n",
       "      <td>2</td>\n",
       "      <td>0</td>\n",
       "      <td>20-30</td>\n",
       "    </tr>\n",
       "    <tr>\n",
       "      <th>5</th>\n",
       "      <td>Ram</td>\n",
       "      <td>26</td>\n",
       "      <td>Recruiter</td>\n",
       "      <td>1</td>\n",
       "      <td>1</td>\n",
       "      <td>0</td>\n",
       "      <td>0</td>\n",
       "      <td>1</td>\n",
       "      <td>0</td>\n",
       "      <td>1</td>\n",
       "      <td>3</td>\n",
       "      <td>3</td>\n",
       "      <td>5</td>\n",
       "      <td>Yes</td>\n",
       "      <td>4</td>\n",
       "      <td>2</td>\n",
       "      <td>2</td>\n",
       "      <td>1</td>\n",
       "      <td>20-30</td>\n",
       "    </tr>\n",
       "  </tbody>\n",
       "</table>\n",
       "</div>"
      ],
      "text/plain": [
       "        Name  Age Occupation  Gender  Same_ofiice_home_location  kids  \\\n",
       "ID                                                                      \n",
       "1    Bhavana   45      Tutor       0                          1     1   \n",
       "2      Harry   24      Tutor       1                          0     0   \n",
       "3   Banditaa   53         HR       0                          1     1   \n",
       "4     Neetha   26   Engineer       0                          1     0   \n",
       "5        Ram   26  Recruiter       1                          1     0   \n",
       "\n",
       "    RM_save_money  RM_quality_time  RM_better_sleep  calmer_stressed  \\\n",
       "ID                                                                     \n",
       "1               1                1                1                0   \n",
       "2               0                0                0                0   \n",
       "3               1                1                1                0   \n",
       "4               1                1                0                1   \n",
       "5               0                1                0                1   \n",
       "\n",
       "    RM_professional_growth  RM_lazy  RM_productive digital_connect_sufficient  \\\n",
       "ID                                                                              \n",
       "1                        5        1              5                        Yes   \n",
       "2                        2        2              2                         No   \n",
       "3                        3        3              4                         No   \n",
       "4                        3        4              4                         No   \n",
       "5                        3        3              5                        Yes   \n",
       "\n",
       "    RM_better_work_life_balance  RM_improved_skillset  RM_job_opportunities  \\\n",
       "ID                                                                            \n",
       "1                             5                     5                     2   \n",
       "2                             3                     3                     0   \n",
       "3                             5                     3                     0   \n",
       "4                             4                     5                     2   \n",
       "5                             4                     2                     2   \n",
       "\n",
       "    Target Age Group  \n",
       "ID                    \n",
       "1        1     40-50  \n",
       "2        1     20-30  \n",
       "3        1     50-60  \n",
       "4        0     20-30  \n",
       "5        1     20-30  "
      ]
     },
     "execution_count": 41,
     "metadata": {},
     "output_type": "execute_result"
    }
   ],
   "source": [
    "data.head()"
   ]
  },
  {
   "cell_type": "code",
   "execution_count": 42,
   "metadata": {},
   "outputs": [
    {
     "data": {
      "text/plain": [
       "1    87\n",
       "2    75\n",
       "0    45\n",
       "Name: RM_job_opportunities, dtype: int64"
      ]
     },
     "execution_count": 42,
     "metadata": {},
     "output_type": "execute_result"
    }
   ],
   "source": [
    "data['RM_job_opportunities'].value_counts()"
   ]
  },
  {
   "attachments": {},
   "cell_type": "markdown",
   "metadata": {},
   "source": [
    "ML model "
   ]
  },
  {
   "attachments": {},
   "cell_type": "markdown",
   "metadata": {},
   "source": [
    "Implementing logistic regression"
   ]
  },
  {
   "cell_type": "code",
   "execution_count": 43,
   "metadata": {},
   "outputs": [],
   "source": [
    "from sklearn.model_selection import train_test_split\n",
    "from sklearn.linear_model import LogisticRegression\n",
    "from sklearn.multiclass import OneVsRestClassifier\n",
    "from sklearn.metrics import accuracy_score\n",
    "from sklearn.metrics import classification_report"
   ]
  },
  {
   "cell_type": "code",
   "execution_count": 44,
   "metadata": {},
   "outputs": [
    {
     "data": {
      "text/plain": [
       "ID\n",
       "1      2\n",
       "2      2\n",
       "3      4\n",
       "4      1\n",
       "5      7\n",
       "      ..\n",
       "203    1\n",
       "204    5\n",
       "205    6\n",
       "206    6\n",
       "207    2\n",
       "Name: Occupation, Length: 207, dtype: int64"
      ]
     },
     "execution_count": 44,
     "metadata": {},
     "output_type": "execute_result"
    }
   ],
   "source": [
    "data[\"Occupation\"].replace(to_replace=[\"Engineer\",\"Tutor\",\"Manager\",\"HR\",\"Business\",\"Marketing \",\"Recruiter\"], value=[1,2,3,4,5,6,7],inplace=True)\n",
    "data['Occupation']"
   ]
  },
  {
   "cell_type": "code",
   "execution_count": 45,
   "metadata": {},
   "outputs": [],
   "source": [
    "x=data.drop([\"Name\",\"Target\",\"RM_job_opportunities\",\"digital_connect_sufficient\"],axis=1)\n",
    "y=data['RM_productive']"
   ]
  },
  {
   "cell_type": "code",
   "execution_count": 46,
   "metadata": {},
   "outputs": [],
   "source": [
    "from sklearn.preprocessing import StandardScaler"
   ]
  },
  {
   "cell_type": "code",
   "execution_count": 47,
   "metadata": {},
   "outputs": [],
   "source": [
    "x_train, x_test, y_train, y_test=train_test_split(x,y,random_state=42,test_size=0.2)"
   ]
  },
  {
   "cell_type": "code",
   "execution_count": 48,
   "metadata": {},
   "outputs": [
    {
     "ename": "ValueError",
     "evalue": "could not convert string to float: '20-30'",
     "output_type": "error",
     "traceback": [
      "\u001b[1;31m---------------------------------------------------------------------------\u001b[0m",
      "\u001b[1;31mValueError\u001b[0m                                Traceback (most recent call last)",
      "\u001b[1;32mc:\\Users\\SINCHANA\\WFH_vs_WFO\\wfh_vs_wfo.ipynb Cell 55\u001b[0m in \u001b[0;36m<cell line: 2>\u001b[1;34m()\u001b[0m\n\u001b[0;32m      <a href='vscode-notebook-cell:/c%3A/Users/SINCHANA/WFH_vs_WFO/wfh_vs_wfo.ipynb#Y342sZmlsZQ%3D%3D?line=0'>1</a>\u001b[0m st_x \u001b[39m=\u001b[39m StandardScaler()\n\u001b[1;32m----> <a href='vscode-notebook-cell:/c%3A/Users/SINCHANA/WFH_vs_WFO/wfh_vs_wfo.ipynb#Y342sZmlsZQ%3D%3D?line=1'>2</a>\u001b[0m x_t \u001b[39m=\u001b[39m st_x\u001b[39m.\u001b[39;49mfit_transform(x_train)\n\u001b[0;32m      <a href='vscode-notebook-cell:/c%3A/Users/SINCHANA/WFH_vs_WFO/wfh_vs_wfo.ipynb#Y342sZmlsZQ%3D%3D?line=2'>3</a>\u001b[0m x_2 \u001b[39m=\u001b[39m st_x\u001b[39m.\u001b[39mtransform(x_test)\n",
      "File \u001b[1;32mc:\\ProgramData\\Anaconda3\\lib\\site-packages\\sklearn\\base.py:852\u001b[0m, in \u001b[0;36mTransformerMixin.fit_transform\u001b[1;34m(self, X, y, **fit_params)\u001b[0m\n\u001b[0;32m    848\u001b[0m \u001b[39m# non-optimized default implementation; override when a better\u001b[39;00m\n\u001b[0;32m    849\u001b[0m \u001b[39m# method is possible for a given clustering algorithm\u001b[39;00m\n\u001b[0;32m    850\u001b[0m \u001b[39mif\u001b[39;00m y \u001b[39mis\u001b[39;00m \u001b[39mNone\u001b[39;00m:\n\u001b[0;32m    851\u001b[0m     \u001b[39m# fit method of arity 1 (unsupervised transformation)\u001b[39;00m\n\u001b[1;32m--> 852\u001b[0m     \u001b[39mreturn\u001b[39;00m \u001b[39mself\u001b[39m\u001b[39m.\u001b[39mfit(X, \u001b[39m*\u001b[39m\u001b[39m*\u001b[39mfit_params)\u001b[39m.\u001b[39mtransform(X)\n\u001b[0;32m    853\u001b[0m \u001b[39melse\u001b[39;00m:\n\u001b[0;32m    854\u001b[0m     \u001b[39m# fit method of arity 2 (supervised transformation)\u001b[39;00m\n\u001b[0;32m    855\u001b[0m     \u001b[39mreturn\u001b[39;00m \u001b[39mself\u001b[39m\u001b[39m.\u001b[39mfit(X, y, \u001b[39m*\u001b[39m\u001b[39m*\u001b[39mfit_params)\u001b[39m.\u001b[39mtransform(X)\n",
      "File \u001b[1;32mc:\\ProgramData\\Anaconda3\\lib\\site-packages\\sklearn\\preprocessing\\_data.py:806\u001b[0m, in \u001b[0;36mStandardScaler.fit\u001b[1;34m(self, X, y, sample_weight)\u001b[0m\n\u001b[0;32m    804\u001b[0m \u001b[39m# Reset internal state before fitting\u001b[39;00m\n\u001b[0;32m    805\u001b[0m \u001b[39mself\u001b[39m\u001b[39m.\u001b[39m_reset()\n\u001b[1;32m--> 806\u001b[0m \u001b[39mreturn\u001b[39;00m \u001b[39mself\u001b[39;49m\u001b[39m.\u001b[39;49mpartial_fit(X, y, sample_weight)\n",
      "File \u001b[1;32mc:\\ProgramData\\Anaconda3\\lib\\site-packages\\sklearn\\preprocessing\\_data.py:841\u001b[0m, in \u001b[0;36mStandardScaler.partial_fit\u001b[1;34m(self, X, y, sample_weight)\u001b[0m\n\u001b[0;32m    809\u001b[0m \u001b[39m\"\"\"Online computation of mean and std on X for later scaling.\u001b[39;00m\n\u001b[0;32m    810\u001b[0m \n\u001b[0;32m    811\u001b[0m \u001b[39mAll of X is processed as a single batch. This is intended for cases\u001b[39;00m\n\u001b[1;32m   (...)\u001b[0m\n\u001b[0;32m    838\u001b[0m \u001b[39m    Fitted scaler.\u001b[39;00m\n\u001b[0;32m    839\u001b[0m \u001b[39m\"\"\"\u001b[39;00m\n\u001b[0;32m    840\u001b[0m first_call \u001b[39m=\u001b[39m \u001b[39mnot\u001b[39;00m \u001b[39mhasattr\u001b[39m(\u001b[39mself\u001b[39m, \u001b[39m\"\u001b[39m\u001b[39mn_samples_seen_\u001b[39m\u001b[39m\"\u001b[39m)\n\u001b[1;32m--> 841\u001b[0m X \u001b[39m=\u001b[39m \u001b[39mself\u001b[39;49m\u001b[39m.\u001b[39;49m_validate_data(\n\u001b[0;32m    842\u001b[0m     X,\n\u001b[0;32m    843\u001b[0m     accept_sparse\u001b[39m=\u001b[39;49m(\u001b[39m\"\u001b[39;49m\u001b[39mcsr\u001b[39;49m\u001b[39m\"\u001b[39;49m, \u001b[39m\"\u001b[39;49m\u001b[39mcsc\u001b[39;49m\u001b[39m\"\u001b[39;49m),\n\u001b[0;32m    844\u001b[0m     estimator\u001b[39m=\u001b[39;49m\u001b[39mself\u001b[39;49m,\n\u001b[0;32m    845\u001b[0m     dtype\u001b[39m=\u001b[39;49mFLOAT_DTYPES,\n\u001b[0;32m    846\u001b[0m     force_all_finite\u001b[39m=\u001b[39;49m\u001b[39m\"\u001b[39;49m\u001b[39mallow-nan\u001b[39;49m\u001b[39m\"\u001b[39;49m,\n\u001b[0;32m    847\u001b[0m     reset\u001b[39m=\u001b[39;49mfirst_call,\n\u001b[0;32m    848\u001b[0m )\n\u001b[0;32m    849\u001b[0m n_features \u001b[39m=\u001b[39m X\u001b[39m.\u001b[39mshape[\u001b[39m1\u001b[39m]\n\u001b[0;32m    851\u001b[0m \u001b[39mif\u001b[39;00m sample_weight \u001b[39mis\u001b[39;00m \u001b[39mnot\u001b[39;00m \u001b[39mNone\u001b[39;00m:\n",
      "File \u001b[1;32mc:\\ProgramData\\Anaconda3\\lib\\site-packages\\sklearn\\base.py:566\u001b[0m, in \u001b[0;36mBaseEstimator._validate_data\u001b[1;34m(self, X, y, reset, validate_separately, **check_params)\u001b[0m\n\u001b[0;32m    564\u001b[0m     \u001b[39mraise\u001b[39;00m \u001b[39mValueError\u001b[39;00m(\u001b[39m\"\u001b[39m\u001b[39mValidation should be done on X, y or both.\u001b[39m\u001b[39m\"\u001b[39m)\n\u001b[0;32m    565\u001b[0m \u001b[39melif\u001b[39;00m \u001b[39mnot\u001b[39;00m no_val_X \u001b[39mand\u001b[39;00m no_val_y:\n\u001b[1;32m--> 566\u001b[0m     X \u001b[39m=\u001b[39m check_array(X, \u001b[39m*\u001b[39m\u001b[39m*\u001b[39mcheck_params)\n\u001b[0;32m    567\u001b[0m     out \u001b[39m=\u001b[39m X\n\u001b[0;32m    568\u001b[0m \u001b[39melif\u001b[39;00m no_val_X \u001b[39mand\u001b[39;00m \u001b[39mnot\u001b[39;00m no_val_y:\n",
      "File \u001b[1;32mc:\\ProgramData\\Anaconda3\\lib\\site-packages\\sklearn\\utils\\validation.py:746\u001b[0m, in \u001b[0;36mcheck_array\u001b[1;34m(array, accept_sparse, accept_large_sparse, dtype, order, copy, force_all_finite, ensure_2d, allow_nd, ensure_min_samples, ensure_min_features, estimator)\u001b[0m\n\u001b[0;32m    744\u001b[0m         array \u001b[39m=\u001b[39m array\u001b[39m.\u001b[39mastype(dtype, casting\u001b[39m=\u001b[39m\u001b[39m\"\u001b[39m\u001b[39munsafe\u001b[39m\u001b[39m\"\u001b[39m, copy\u001b[39m=\u001b[39m\u001b[39mFalse\u001b[39;00m)\n\u001b[0;32m    745\u001b[0m     \u001b[39melse\u001b[39;00m:\n\u001b[1;32m--> 746\u001b[0m         array \u001b[39m=\u001b[39m np\u001b[39m.\u001b[39;49masarray(array, order\u001b[39m=\u001b[39;49morder, dtype\u001b[39m=\u001b[39;49mdtype)\n\u001b[0;32m    747\u001b[0m \u001b[39mexcept\u001b[39;00m ComplexWarning \u001b[39mas\u001b[39;00m complex_warning:\n\u001b[0;32m    748\u001b[0m     \u001b[39mraise\u001b[39;00m \u001b[39mValueError\u001b[39;00m(\n\u001b[0;32m    749\u001b[0m         \u001b[39m\"\u001b[39m\u001b[39mComplex data not supported\u001b[39m\u001b[39m\\n\u001b[39;00m\u001b[39m{}\u001b[39;00m\u001b[39m\\n\u001b[39;00m\u001b[39m\"\u001b[39m\u001b[39m.\u001b[39mformat(array)\n\u001b[0;32m    750\u001b[0m     ) \u001b[39mfrom\u001b[39;00m \u001b[39mcomplex_warning\u001b[39;00m\n",
      "File \u001b[1;32mc:\\ProgramData\\Anaconda3\\lib\\site-packages\\pandas\\core\\generic.py:2064\u001b[0m, in \u001b[0;36mNDFrame.__array__\u001b[1;34m(self, dtype)\u001b[0m\n\u001b[0;32m   2063\u001b[0m \u001b[39mdef\u001b[39;00m \u001b[39m__array__\u001b[39m(\u001b[39mself\u001b[39m, dtype: npt\u001b[39m.\u001b[39mDTypeLike \u001b[39m|\u001b[39m \u001b[39mNone\u001b[39;00m \u001b[39m=\u001b[39m \u001b[39mNone\u001b[39;00m) \u001b[39m-\u001b[39m\u001b[39m>\u001b[39m np\u001b[39m.\u001b[39mndarray:\n\u001b[1;32m-> 2064\u001b[0m     \u001b[39mreturn\u001b[39;00m np\u001b[39m.\u001b[39;49masarray(\u001b[39mself\u001b[39;49m\u001b[39m.\u001b[39;49m_values, dtype\u001b[39m=\u001b[39;49mdtype)\n",
      "\u001b[1;31mValueError\u001b[0m: could not convert string to float: '20-30'"
     ]
    }
   ],
   "source": [
    "st_x = StandardScaler()\n",
    "x_t = st_x.fit_transform(x_train)\n",
    "x_2 = st_x.transform(x_test)"
   ]
  },
  {
   "cell_type": "code",
   "execution_count": null,
   "metadata": {},
   "outputs": [],
   "source": [
    "lg=LogisticRegression()"
   ]
  },
  {
   "cell_type": "code",
   "execution_count": null,
   "metadata": {},
   "outputs": [],
   "source": [
    "lg.fit(x_train,y_train)"
   ]
  },
  {
   "cell_type": "code",
   "execution_count": null,
   "metadata": {},
   "outputs": [],
   "source": [
    "y_pred = lg.predict(x_test)"
   ]
  },
  {
   "cell_type": "code",
   "execution_count": null,
   "metadata": {},
   "outputs": [],
   "source": [
    "print(\"Predicted labels:\", y_pred)\n",
    "print(\"Actual labels   :\", y_test)"
   ]
  },
  {
   "cell_type": "code",
   "execution_count": null,
   "metadata": {},
   "outputs": [],
   "source": [
    "accuracy = accuracy_score(y_test, y_pred)"
   ]
  },
  {
   "cell_type": "code",
   "execution_count": null,
   "metadata": {},
   "outputs": [],
   "source": [
    "report = classification_report(y_test, y_pred)"
   ]
  },
  {
   "cell_type": "code",
   "execution_count": null,
   "metadata": {},
   "outputs": [],
   "source": [
    "print(\"Accuracy:\", accuracy)\n",
    "print(\"Classification report:\\n\", report)"
   ]
  },
  {
   "cell_type": "code",
   "execution_count": null,
   "metadata": {},
   "outputs": [],
   "source": []
  }
 ],
 "metadata": {
  "kernelspec": {
   "display_name": "base",
   "language": "python",
   "name": "python3"
  },
  "language_info": {
   "codemirror_mode": {
    "name": "ipython",
    "version": 3
   },
   "file_extension": ".py",
   "mimetype": "text/x-python",
   "name": "python",
   "nbconvert_exporter": "python",
   "pygments_lexer": "ipython3",
   "version": "3.9.12"
  },
  "orig_nbformat": 4
 },
 "nbformat": 4,
 "nbformat_minor": 2
}
