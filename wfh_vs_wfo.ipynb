{
 "cells": [
  {
   "attachments": {},
   "cell_type": "markdown",
   "metadata": {},
   "source": [
    "Problem Statement: Study employee productivity in WFH vs WFO."
   ]
  },
  {
   "cell_type": "code",
   "execution_count": 69,
   "metadata": {},
   "outputs": [],
   "source": [
    "import numpy as np\n",
    "import pandas as pd\n",
    "import matplotlib.pyplot as plt\n",
    "import seaborn as sns"
   ]
  },
  {
   "cell_type": "code",
   "execution_count": 70,
   "metadata": {},
   "outputs": [],
   "source": [
    "data = pd.read_csv('WFH_WFO_dataset.csv', index_col= 'ID')"
   ]
  },
  {
   "cell_type": "code",
   "execution_count": 71,
   "metadata": {},
   "outputs": [
    {
     "data": {
      "text/plain": [
       "(207, 18)"
      ]
     },
     "execution_count": 71,
     "metadata": {},
     "output_type": "execute_result"
    }
   ],
   "source": [
    "data.shape"
   ]
  },
  {
   "cell_type": "code",
   "execution_count": 72,
   "metadata": {},
   "outputs": [
    {
     "data": {
      "text/html": [
       "<div>\n",
       "<style scoped>\n",
       "    .dataframe tbody tr th:only-of-type {\n",
       "        vertical-align: middle;\n",
       "    }\n",
       "\n",
       "    .dataframe tbody tr th {\n",
       "        vertical-align: top;\n",
       "    }\n",
       "\n",
       "    .dataframe thead th {\n",
       "        text-align: right;\n",
       "    }\n",
       "</style>\n",
       "<table border=\"1\" class=\"dataframe\">\n",
       "  <thead>\n",
       "    <tr style=\"text-align: right;\">\n",
       "      <th></th>\n",
       "      <th>Name</th>\n",
       "      <th>Age</th>\n",
       "      <th>Occupation</th>\n",
       "      <th>Gender</th>\n",
       "      <th>Same_ofiice_home_location</th>\n",
       "      <th>kids</th>\n",
       "      <th>RM_save_money</th>\n",
       "      <th>RM_quality_time</th>\n",
       "      <th>RM_better_sleep</th>\n",
       "      <th>calmer_stressed</th>\n",
       "      <th>RM_professional_growth</th>\n",
       "      <th>RM_lazy</th>\n",
       "      <th>RM_productive</th>\n",
       "      <th>digital_connect_sufficient</th>\n",
       "      <th>RM_better_work_life_balance</th>\n",
       "      <th>RM_improved_skillset</th>\n",
       "      <th>RM_job_opportunities</th>\n",
       "      <th>Target</th>\n",
       "    </tr>\n",
       "    <tr>\n",
       "      <th>ID</th>\n",
       "      <th></th>\n",
       "      <th></th>\n",
       "      <th></th>\n",
       "      <th></th>\n",
       "      <th></th>\n",
       "      <th></th>\n",
       "      <th></th>\n",
       "      <th></th>\n",
       "      <th></th>\n",
       "      <th></th>\n",
       "      <th></th>\n",
       "      <th></th>\n",
       "      <th></th>\n",
       "      <th></th>\n",
       "      <th></th>\n",
       "      <th></th>\n",
       "      <th></th>\n",
       "      <th></th>\n",
       "    </tr>\n",
       "  </thead>\n",
       "  <tbody>\n",
       "    <tr>\n",
       "      <th>1</th>\n",
       "      <td>Bhavana</td>\n",
       "      <td>45</td>\n",
       "      <td>Tutor</td>\n",
       "      <td>Female</td>\n",
       "      <td>Yes</td>\n",
       "      <td>Yes</td>\n",
       "      <td>Yes</td>\n",
       "      <td>Yes</td>\n",
       "      <td>Yes</td>\n",
       "      <td>CALMER</td>\n",
       "      <td>5</td>\n",
       "      <td>1</td>\n",
       "      <td>5</td>\n",
       "      <td>Yes</td>\n",
       "      <td>5</td>\n",
       "      <td>5</td>\n",
       "      <td>Yes</td>\n",
       "      <td>1</td>\n",
       "    </tr>\n",
       "    <tr>\n",
       "      <th>2</th>\n",
       "      <td>Harry</td>\n",
       "      <td>24</td>\n",
       "      <td>Tutor</td>\n",
       "      <td>Male</td>\n",
       "      <td>No</td>\n",
       "      <td>No</td>\n",
       "      <td>No</td>\n",
       "      <td>No</td>\n",
       "      <td>No</td>\n",
       "      <td>CALMER</td>\n",
       "      <td>2</td>\n",
       "      <td>2</td>\n",
       "      <td>2</td>\n",
       "      <td>No</td>\n",
       "      <td>3</td>\n",
       "      <td>3</td>\n",
       "      <td>No</td>\n",
       "      <td>1</td>\n",
       "    </tr>\n",
       "    <tr>\n",
       "      <th>3</th>\n",
       "      <td>Banditaa</td>\n",
       "      <td>53</td>\n",
       "      <td>HR</td>\n",
       "      <td>Female</td>\n",
       "      <td>Yes</td>\n",
       "      <td>Yes</td>\n",
       "      <td>Yes</td>\n",
       "      <td>Yes</td>\n",
       "      <td>Yes</td>\n",
       "      <td>CALMER</td>\n",
       "      <td>3</td>\n",
       "      <td>3</td>\n",
       "      <td>4</td>\n",
       "      <td>No</td>\n",
       "      <td>5</td>\n",
       "      <td>3</td>\n",
       "      <td>No</td>\n",
       "      <td>1</td>\n",
       "    </tr>\n",
       "    <tr>\n",
       "      <th>4</th>\n",
       "      <td>Neetha</td>\n",
       "      <td>26</td>\n",
       "      <td>Engineer</td>\n",
       "      <td>Female</td>\n",
       "      <td>Yes</td>\n",
       "      <td>No</td>\n",
       "      <td>Yes</td>\n",
       "      <td>Yes</td>\n",
       "      <td>No</td>\n",
       "      <td>STRESSED</td>\n",
       "      <td>3</td>\n",
       "      <td>4</td>\n",
       "      <td>4</td>\n",
       "      <td>No</td>\n",
       "      <td>4</td>\n",
       "      <td>5</td>\n",
       "      <td>Yes</td>\n",
       "      <td>0</td>\n",
       "    </tr>\n",
       "    <tr>\n",
       "      <th>5</th>\n",
       "      <td>Ram</td>\n",
       "      <td>26</td>\n",
       "      <td>Recruiter</td>\n",
       "      <td>Male</td>\n",
       "      <td>Yes</td>\n",
       "      <td>No</td>\n",
       "      <td>No</td>\n",
       "      <td>Yes</td>\n",
       "      <td>No</td>\n",
       "      <td>STRESSED</td>\n",
       "      <td>3</td>\n",
       "      <td>3</td>\n",
       "      <td>5</td>\n",
       "      <td>Yes</td>\n",
       "      <td>4</td>\n",
       "      <td>2</td>\n",
       "      <td>Yes</td>\n",
       "      <td>1</td>\n",
       "    </tr>\n",
       "  </tbody>\n",
       "</table>\n",
       "</div>"
      ],
      "text/plain": [
       "        Name  Age Occupation  Gender Same_ofiice_home_location kids  \\\n",
       "ID                                                                    \n",
       "1    Bhavana   45      Tutor  Female                       Yes  Yes   \n",
       "2      Harry   24      Tutor    Male                        No   No   \n",
       "3   Banditaa   53         HR  Female                       Yes  Yes   \n",
       "4     Neetha   26   Engineer  Female                       Yes   No   \n",
       "5        Ram   26  Recruiter    Male                       Yes   No   \n",
       "\n",
       "   RM_save_money RM_quality_time RM_better_sleep calmer_stressed  \\\n",
       "ID                                                                 \n",
       "1            Yes             Yes             Yes          CALMER   \n",
       "2             No              No              No          CALMER   \n",
       "3            Yes             Yes             Yes          CALMER   \n",
       "4            Yes             Yes              No        STRESSED   \n",
       "5             No             Yes              No        STRESSED   \n",
       "\n",
       "    RM_professional_growth  RM_lazy  RM_productive digital_connect_sufficient  \\\n",
       "ID                                                                              \n",
       "1                        5        1              5                        Yes   \n",
       "2                        2        2              2                         No   \n",
       "3                        3        3              4                         No   \n",
       "4                        3        4              4                         No   \n",
       "5                        3        3              5                        Yes   \n",
       "\n",
       "    RM_better_work_life_balance  RM_improved_skillset RM_job_opportunities  \\\n",
       "ID                                                                           \n",
       "1                             5                     5                  Yes   \n",
       "2                             3                     3                   No   \n",
       "3                             5                     3                   No   \n",
       "4                             4                     5                  Yes   \n",
       "5                             4                     2                  Yes   \n",
       "\n",
       "    Target  \n",
       "ID          \n",
       "1        1  \n",
       "2        1  \n",
       "3        1  \n",
       "4        0  \n",
       "5        1  "
      ]
     },
     "execution_count": 72,
     "metadata": {},
     "output_type": "execute_result"
    }
   ],
   "source": [
    "data.head()"
   ]
  },
  {
   "cell_type": "code",
   "execution_count": 73,
   "metadata": {},
   "outputs": [
    {
     "name": "stdout",
     "output_type": "stream",
     "text": [
      "<class 'pandas.core.frame.DataFrame'>\n",
      "Int64Index: 207 entries, 1 to 207\n",
      "Data columns (total 18 columns):\n",
      " #   Column                       Non-Null Count  Dtype \n",
      "---  ------                       --------------  ----- \n",
      " 0   Name                         207 non-null    object\n",
      " 1   Age                          207 non-null    int64 \n",
      " 2   Occupation                   207 non-null    object\n",
      " 3   Gender                       207 non-null    object\n",
      " 4   Same_ofiice_home_location    207 non-null    object\n",
      " 5   kids                         207 non-null    object\n",
      " 6   RM_save_money                207 non-null    object\n",
      " 7   RM_quality_time              207 non-null    object\n",
      " 8   RM_better_sleep              207 non-null    object\n",
      " 9   calmer_stressed              207 non-null    object\n",
      " 10  RM_professional_growth       207 non-null    int64 \n",
      " 11  RM_lazy                      207 non-null    int64 \n",
      " 12  RM_productive                207 non-null    int64 \n",
      " 13  digital_connect_sufficient   207 non-null    object\n",
      " 14  RM_better_work_life_balance  207 non-null    int64 \n",
      " 15  RM_improved_skillset         207 non-null    int64 \n",
      " 16  RM_job_opportunities         207 non-null    object\n",
      " 17  Target                       207 non-null    int64 \n",
      "dtypes: int64(7), object(11)\n",
      "memory usage: 30.7+ KB\n"
     ]
    }
   ],
   "source": [
    "data.info()"
   ]
  },
  {
   "cell_type": "code",
   "execution_count": 74,
   "metadata": {},
   "outputs": [
    {
     "data": {
      "text/html": [
       "<div>\n",
       "<style scoped>\n",
       "    .dataframe tbody tr th:only-of-type {\n",
       "        vertical-align: middle;\n",
       "    }\n",
       "\n",
       "    .dataframe tbody tr th {\n",
       "        vertical-align: top;\n",
       "    }\n",
       "\n",
       "    .dataframe thead th {\n",
       "        text-align: right;\n",
       "    }\n",
       "</style>\n",
       "<table border=\"1\" class=\"dataframe\">\n",
       "  <thead>\n",
       "    <tr style=\"text-align: right;\">\n",
       "      <th></th>\n",
       "      <th>Age</th>\n",
       "      <th>RM_professional_growth</th>\n",
       "      <th>RM_lazy</th>\n",
       "      <th>RM_productive</th>\n",
       "      <th>RM_better_work_life_balance</th>\n",
       "      <th>RM_improved_skillset</th>\n",
       "      <th>Target</th>\n",
       "    </tr>\n",
       "  </thead>\n",
       "  <tbody>\n",
       "    <tr>\n",
       "      <th>count</th>\n",
       "      <td>207.000000</td>\n",
       "      <td>207.000000</td>\n",
       "      <td>207.000000</td>\n",
       "      <td>207.000000</td>\n",
       "      <td>207.000000</td>\n",
       "      <td>207.000000</td>\n",
       "      <td>207.000000</td>\n",
       "    </tr>\n",
       "    <tr>\n",
       "      <th>mean</th>\n",
       "      <td>29.666667</td>\n",
       "      <td>3.086957</td>\n",
       "      <td>3.101449</td>\n",
       "      <td>3.623188</td>\n",
       "      <td>3.043478</td>\n",
       "      <td>3.521739</td>\n",
       "      <td>0.405797</td>\n",
       "    </tr>\n",
       "    <tr>\n",
       "      <th>std</th>\n",
       "      <td>8.506993</td>\n",
       "      <td>1.089301</td>\n",
       "      <td>1.255801</td>\n",
       "      <td>0.996617</td>\n",
       "      <td>1.247539</td>\n",
       "      <td>1.004002</td>\n",
       "      <td>0.492236</td>\n",
       "    </tr>\n",
       "    <tr>\n",
       "      <th>min</th>\n",
       "      <td>21.000000</td>\n",
       "      <td>1.000000</td>\n",
       "      <td>1.000000</td>\n",
       "      <td>1.000000</td>\n",
       "      <td>1.000000</td>\n",
       "      <td>1.000000</td>\n",
       "      <td>0.000000</td>\n",
       "    </tr>\n",
       "    <tr>\n",
       "      <th>25%</th>\n",
       "      <td>25.000000</td>\n",
       "      <td>2.000000</td>\n",
       "      <td>2.000000</td>\n",
       "      <td>3.000000</td>\n",
       "      <td>2.000000</td>\n",
       "      <td>3.000000</td>\n",
       "      <td>0.000000</td>\n",
       "    </tr>\n",
       "    <tr>\n",
       "      <th>50%</th>\n",
       "      <td>26.000000</td>\n",
       "      <td>3.000000</td>\n",
       "      <td>3.000000</td>\n",
       "      <td>4.000000</td>\n",
       "      <td>3.000000</td>\n",
       "      <td>3.000000</td>\n",
       "      <td>0.000000</td>\n",
       "    </tr>\n",
       "    <tr>\n",
       "      <th>75%</th>\n",
       "      <td>29.000000</td>\n",
       "      <td>4.000000</td>\n",
       "      <td>4.000000</td>\n",
       "      <td>4.000000</td>\n",
       "      <td>4.000000</td>\n",
       "      <td>4.000000</td>\n",
       "      <td>1.000000</td>\n",
       "    </tr>\n",
       "    <tr>\n",
       "      <th>max</th>\n",
       "      <td>57.000000</td>\n",
       "      <td>5.000000</td>\n",
       "      <td>5.000000</td>\n",
       "      <td>5.000000</td>\n",
       "      <td>5.000000</td>\n",
       "      <td>5.000000</td>\n",
       "      <td>1.000000</td>\n",
       "    </tr>\n",
       "  </tbody>\n",
       "</table>\n",
       "</div>"
      ],
      "text/plain": [
       "              Age  RM_professional_growth     RM_lazy  RM_productive  \\\n",
       "count  207.000000              207.000000  207.000000     207.000000   \n",
       "mean    29.666667                3.086957    3.101449       3.623188   \n",
       "std      8.506993                1.089301    1.255801       0.996617   \n",
       "min     21.000000                1.000000    1.000000       1.000000   \n",
       "25%     25.000000                2.000000    2.000000       3.000000   \n",
       "50%     26.000000                3.000000    3.000000       4.000000   \n",
       "75%     29.000000                4.000000    4.000000       4.000000   \n",
       "max     57.000000                5.000000    5.000000       5.000000   \n",
       "\n",
       "       RM_better_work_life_balance  RM_improved_skillset      Target  \n",
       "count                   207.000000            207.000000  207.000000  \n",
       "mean                      3.043478              3.521739    0.405797  \n",
       "std                       1.247539              1.004002    0.492236  \n",
       "min                       1.000000              1.000000    0.000000  \n",
       "25%                       2.000000              3.000000    0.000000  \n",
       "50%                       3.000000              3.000000    0.000000  \n",
       "75%                       4.000000              4.000000    1.000000  \n",
       "max                       5.000000              5.000000    1.000000  "
      ]
     },
     "execution_count": 74,
     "metadata": {},
     "output_type": "execute_result"
    }
   ],
   "source": [
    "data.describe()"
   ]
  },
  {
   "cell_type": "code",
   "execution_count": 75,
   "metadata": {},
   "outputs": [
    {
     "data": {
      "text/html": [
       "<div>\n",
       "<style scoped>\n",
       "    .dataframe tbody tr th:only-of-type {\n",
       "        vertical-align: middle;\n",
       "    }\n",
       "\n",
       "    .dataframe tbody tr th {\n",
       "        vertical-align: top;\n",
       "    }\n",
       "\n",
       "    .dataframe thead th {\n",
       "        text-align: right;\n",
       "    }\n",
       "</style>\n",
       "<table border=\"1\" class=\"dataframe\">\n",
       "  <thead>\n",
       "    <tr style=\"text-align: right;\">\n",
       "      <th></th>\n",
       "      <th>Name</th>\n",
       "      <th>Age</th>\n",
       "      <th>Occupation</th>\n",
       "      <th>Gender</th>\n",
       "      <th>Same_ofiice_home_location</th>\n",
       "      <th>kids</th>\n",
       "      <th>RM_save_money</th>\n",
       "      <th>RM_quality_time</th>\n",
       "      <th>RM_better_sleep</th>\n",
       "      <th>calmer_stressed</th>\n",
       "      <th>RM_professional_growth</th>\n",
       "      <th>RM_lazy</th>\n",
       "      <th>RM_productive</th>\n",
       "      <th>digital_connect_sufficient</th>\n",
       "      <th>RM_better_work_life_balance</th>\n",
       "      <th>RM_improved_skillset</th>\n",
       "      <th>RM_job_opportunities</th>\n",
       "      <th>Target</th>\n",
       "    </tr>\n",
       "  </thead>\n",
       "  <tbody>\n",
       "    <tr>\n",
       "      <th>0</th>\n",
       "      <td>Bhavana</td>\n",
       "      <td>45</td>\n",
       "      <td>Tutor</td>\n",
       "      <td>Female</td>\n",
       "      <td>Yes</td>\n",
       "      <td>Yes</td>\n",
       "      <td>Yes</td>\n",
       "      <td>Yes</td>\n",
       "      <td>Yes</td>\n",
       "      <td>CALMER</td>\n",
       "      <td>5</td>\n",
       "      <td>1</td>\n",
       "      <td>5</td>\n",
       "      <td>Yes</td>\n",
       "      <td>5</td>\n",
       "      <td>5</td>\n",
       "      <td>Yes</td>\n",
       "      <td>1</td>\n",
       "    </tr>\n",
       "    <tr>\n",
       "      <th>1</th>\n",
       "      <td>Harry</td>\n",
       "      <td>24</td>\n",
       "      <td>Tutor</td>\n",
       "      <td>Male</td>\n",
       "      <td>No</td>\n",
       "      <td>No</td>\n",
       "      <td>No</td>\n",
       "      <td>No</td>\n",
       "      <td>No</td>\n",
       "      <td>CALMER</td>\n",
       "      <td>2</td>\n",
       "      <td>2</td>\n",
       "      <td>2</td>\n",
       "      <td>No</td>\n",
       "      <td>3</td>\n",
       "      <td>3</td>\n",
       "      <td>No</td>\n",
       "      <td>1</td>\n",
       "    </tr>\n",
       "    <tr>\n",
       "      <th>2</th>\n",
       "      <td>Banditaa</td>\n",
       "      <td>53</td>\n",
       "      <td>HR</td>\n",
       "      <td>Female</td>\n",
       "      <td>Yes</td>\n",
       "      <td>Yes</td>\n",
       "      <td>Yes</td>\n",
       "      <td>Yes</td>\n",
       "      <td>Yes</td>\n",
       "      <td>CALMER</td>\n",
       "      <td>3</td>\n",
       "      <td>3</td>\n",
       "      <td>4</td>\n",
       "      <td>No</td>\n",
       "      <td>5</td>\n",
       "      <td>3</td>\n",
       "      <td>No</td>\n",
       "      <td>1</td>\n",
       "    </tr>\n",
       "    <tr>\n",
       "      <th>3</th>\n",
       "      <td>Neetha</td>\n",
       "      <td>26</td>\n",
       "      <td>Engineer</td>\n",
       "      <td>Female</td>\n",
       "      <td>Yes</td>\n",
       "      <td>No</td>\n",
       "      <td>Yes</td>\n",
       "      <td>Yes</td>\n",
       "      <td>No</td>\n",
       "      <td>STRESSED</td>\n",
       "      <td>3</td>\n",
       "      <td>4</td>\n",
       "      <td>4</td>\n",
       "      <td>No</td>\n",
       "      <td>4</td>\n",
       "      <td>5</td>\n",
       "      <td>Yes</td>\n",
       "      <td>0</td>\n",
       "    </tr>\n",
       "    <tr>\n",
       "      <th>4</th>\n",
       "      <td>Ram</td>\n",
       "      <td>26</td>\n",
       "      <td>Recruiter</td>\n",
       "      <td>Male</td>\n",
       "      <td>Yes</td>\n",
       "      <td>No</td>\n",
       "      <td>No</td>\n",
       "      <td>Yes</td>\n",
       "      <td>No</td>\n",
       "      <td>STRESSED</td>\n",
       "      <td>3</td>\n",
       "      <td>3</td>\n",
       "      <td>5</td>\n",
       "      <td>Yes</td>\n",
       "      <td>4</td>\n",
       "      <td>2</td>\n",
       "      <td>Yes</td>\n",
       "      <td>1</td>\n",
       "    </tr>\n",
       "    <tr>\n",
       "      <th>...</th>\n",
       "      <td>...</td>\n",
       "      <td>...</td>\n",
       "      <td>...</td>\n",
       "      <td>...</td>\n",
       "      <td>...</td>\n",
       "      <td>...</td>\n",
       "      <td>...</td>\n",
       "      <td>...</td>\n",
       "      <td>...</td>\n",
       "      <td>...</td>\n",
       "      <td>...</td>\n",
       "      <td>...</td>\n",
       "      <td>...</td>\n",
       "      <td>...</td>\n",
       "      <td>...</td>\n",
       "      <td>...</td>\n",
       "      <td>...</td>\n",
       "      <td>...</td>\n",
       "    </tr>\n",
       "    <tr>\n",
       "      <th>178</th>\n",
       "      <td>Louis</td>\n",
       "      <td>28</td>\n",
       "      <td>Manager</td>\n",
       "      <td>Male</td>\n",
       "      <td>Yes</td>\n",
       "      <td>No</td>\n",
       "      <td>No</td>\n",
       "      <td>No</td>\n",
       "      <td>No</td>\n",
       "      <td>STRESSED</td>\n",
       "      <td>2</td>\n",
       "      <td>4</td>\n",
       "      <td>3</td>\n",
       "      <td>No</td>\n",
       "      <td>2</td>\n",
       "      <td>5</td>\n",
       "      <td>Not sure</td>\n",
       "      <td>0</td>\n",
       "    </tr>\n",
       "    <tr>\n",
       "      <th>179</th>\n",
       "      <td>Nandini</td>\n",
       "      <td>32</td>\n",
       "      <td>Engineer</td>\n",
       "      <td>Female</td>\n",
       "      <td>Yes</td>\n",
       "      <td>Yes</td>\n",
       "      <td>Yes</td>\n",
       "      <td>Yes</td>\n",
       "      <td>Yes</td>\n",
       "      <td>CALMER</td>\n",
       "      <td>4</td>\n",
       "      <td>1</td>\n",
       "      <td>5</td>\n",
       "      <td>Yes</td>\n",
       "      <td>3</td>\n",
       "      <td>3</td>\n",
       "      <td>Not sure</td>\n",
       "      <td>1</td>\n",
       "    </tr>\n",
       "    <tr>\n",
       "      <th>180</th>\n",
       "      <td>Matt</td>\n",
       "      <td>52</td>\n",
       "      <td>Business</td>\n",
       "      <td>Male</td>\n",
       "      <td>Yes</td>\n",
       "      <td>Yes</td>\n",
       "      <td>Yes</td>\n",
       "      <td>Yes</td>\n",
       "      <td>Yes</td>\n",
       "      <td>CALMER</td>\n",
       "      <td>4</td>\n",
       "      <td>4</td>\n",
       "      <td>4</td>\n",
       "      <td>Yes</td>\n",
       "      <td>5</td>\n",
       "      <td>3</td>\n",
       "      <td>No</td>\n",
       "      <td>1</td>\n",
       "    </tr>\n",
       "    <tr>\n",
       "      <th>181</th>\n",
       "      <td>Rithik</td>\n",
       "      <td>22</td>\n",
       "      <td>Marketing</td>\n",
       "      <td>Male</td>\n",
       "      <td>Yes</td>\n",
       "      <td>No</td>\n",
       "      <td>Yes</td>\n",
       "      <td>Yes</td>\n",
       "      <td>No</td>\n",
       "      <td>STRESSED</td>\n",
       "      <td>4</td>\n",
       "      <td>4</td>\n",
       "      <td>4</td>\n",
       "      <td>No</td>\n",
       "      <td>4</td>\n",
       "      <td>3</td>\n",
       "      <td>Not sure</td>\n",
       "      <td>0</td>\n",
       "    </tr>\n",
       "    <tr>\n",
       "      <th>182</th>\n",
       "      <td>Radha</td>\n",
       "      <td>25</td>\n",
       "      <td>Marketing</td>\n",
       "      <td>Female</td>\n",
       "      <td>No</td>\n",
       "      <td>Yes</td>\n",
       "      <td>Yes</td>\n",
       "      <td>No</td>\n",
       "      <td>No</td>\n",
       "      <td>STRESSED</td>\n",
       "      <td>5</td>\n",
       "      <td>3</td>\n",
       "      <td>5</td>\n",
       "      <td>Yes</td>\n",
       "      <td>1</td>\n",
       "      <td>3</td>\n",
       "      <td>No</td>\n",
       "      <td>0</td>\n",
       "    </tr>\n",
       "  </tbody>\n",
       "</table>\n",
       "<p>183 rows × 18 columns</p>\n",
       "</div>"
      ],
      "text/plain": [
       "         Name  Age  Occupation  Gender Same_ofiice_home_location kids  \\\n",
       "0     Bhavana   45       Tutor  Female                       Yes  Yes   \n",
       "1       Harry   24       Tutor    Male                        No   No   \n",
       "2    Banditaa   53          HR  Female                       Yes  Yes   \n",
       "3      Neetha   26    Engineer  Female                       Yes   No   \n",
       "4         Ram   26   Recruiter    Male                       Yes   No   \n",
       "..        ...  ...         ...     ...                       ...  ...   \n",
       "178     Louis   28     Manager    Male                       Yes   No   \n",
       "179   Nandini   32    Engineer  Female                       Yes  Yes   \n",
       "180      Matt   52    Business    Male                       Yes  Yes   \n",
       "181    Rithik   22  Marketing     Male                       Yes   No   \n",
       "182     Radha   25  Marketing   Female                        No  Yes   \n",
       "\n",
       "    RM_save_money RM_quality_time RM_better_sleep calmer_stressed  \\\n",
       "0             Yes             Yes             Yes          CALMER   \n",
       "1              No              No              No          CALMER   \n",
       "2             Yes             Yes             Yes          CALMER   \n",
       "3             Yes             Yes              No        STRESSED   \n",
       "4              No             Yes              No        STRESSED   \n",
       "..            ...             ...             ...             ...   \n",
       "178            No              No              No        STRESSED   \n",
       "179           Yes             Yes             Yes          CALMER   \n",
       "180           Yes             Yes             Yes          CALMER   \n",
       "181           Yes             Yes              No        STRESSED   \n",
       "182           Yes              No              No        STRESSED   \n",
       "\n",
       "     RM_professional_growth  RM_lazy  RM_productive  \\\n",
       "0                         5        1              5   \n",
       "1                         2        2              2   \n",
       "2                         3        3              4   \n",
       "3                         3        4              4   \n",
       "4                         3        3              5   \n",
       "..                      ...      ...            ...   \n",
       "178                       2        4              3   \n",
       "179                       4        1              5   \n",
       "180                       4        4              4   \n",
       "181                       4        4              4   \n",
       "182                       5        3              5   \n",
       "\n",
       "    digital_connect_sufficient  RM_better_work_life_balance  \\\n",
       "0                          Yes                            5   \n",
       "1                           No                            3   \n",
       "2                           No                            5   \n",
       "3                           No                            4   \n",
       "4                          Yes                            4   \n",
       "..                         ...                          ...   \n",
       "178                         No                            2   \n",
       "179                        Yes                            3   \n",
       "180                        Yes                            5   \n",
       "181                         No                            4   \n",
       "182                        Yes                            1   \n",
       "\n",
       "     RM_improved_skillset RM_job_opportunities  Target  \n",
       "0                       5                  Yes       1  \n",
       "1                       3                   No       1  \n",
       "2                       3                   No       1  \n",
       "3                       5                  Yes       0  \n",
       "4                       2                  Yes       1  \n",
       "..                    ...                  ...     ...  \n",
       "178                     5             Not sure       0  \n",
       "179                     3             Not sure       1  \n",
       "180                     3                   No       1  \n",
       "181                     3             Not sure       0  \n",
       "182                     3                   No       0  \n",
       "\n",
       "[183 rows x 18 columns]"
      ]
     },
     "execution_count": 75,
     "metadata": {},
     "output_type": "execute_result"
    }
   ],
   "source": [
    "data.drop_duplicates(ignore_index=True)"
   ]
  },
  {
   "cell_type": "code",
   "execution_count": 76,
   "metadata": {},
   "outputs": [
    {
     "data": {
      "text/plain": [
       "4    69\n",
       "3    66\n",
       "5    45\n",
       "2    24\n",
       "1     3\n",
       "Name: RM_productive, dtype: int64"
      ]
     },
     "execution_count": 76,
     "metadata": {},
     "output_type": "execute_result"
    }
   ],
   "source": [
    "data['RM_productive'].value_counts()"
   ]
  },
  {
   "cell_type": "code",
   "execution_count": 77,
   "metadata": {},
   "outputs": [
    {
     "data": {
      "text/plain": [
       "array(['Tutor', 'HR', 'Engineer', 'Recruiter', 'Business', 'Marketing ',\n",
       "       'Manager'], dtype=object)"
      ]
     },
     "execution_count": 77,
     "metadata": {},
     "output_type": "execute_result"
    }
   ],
   "source": [
    "data['Occupation'].unique()"
   ]
  },
  {
   "cell_type": "code",
   "execution_count": 78,
   "metadata": {},
   "outputs": [
    {
     "data": {
      "text/plain": [
       "Engineer      51\n",
       "Tutor         30\n",
       "Manager       29\n",
       "HR            26\n",
       "Business      26\n",
       "Marketing     26\n",
       "Recruiter     19\n",
       "Name: Occupation, dtype: int64"
      ]
     },
     "execution_count": 78,
     "metadata": {},
     "output_type": "execute_result"
    }
   ],
   "source": [
    "data['Occupation'].value_counts()"
   ]
  },
  {
   "cell_type": "code",
   "execution_count": 79,
   "metadata": {},
   "outputs": [
    {
     "data": {
      "text/plain": [
       "0    123\n",
       "1     84\n",
       "Name: Target, dtype: int64"
      ]
     },
     "execution_count": 79,
     "metadata": {},
     "output_type": "execute_result"
    }
   ],
   "source": [
    "data['Target'].value_counts()"
   ]
  },
  {
   "cell_type": "code",
   "execution_count": 80,
   "metadata": {},
   "outputs": [
    {
     "data": {
      "text/plain": [
       "STRESSED    126\n",
       "CALMER       81\n",
       "Name: calmer_stressed, dtype: int64"
      ]
     },
     "execution_count": 80,
     "metadata": {},
     "output_type": "execute_result"
    }
   ],
   "source": [
    "data['calmer_stressed'].value_counts()"
   ]
  },
  {
   "cell_type": "code",
   "execution_count": 81,
   "metadata": {},
   "outputs": [],
   "source": [
    "from sklearn.preprocessing import LabelEncoder"
   ]
  },
  {
   "cell_type": "code",
   "execution_count": 82,
   "metadata": {},
   "outputs": [],
   "source": [
    "features = ['Gender','Same_ofiice_home_location','kids','RM_save_money','RM_quality_time','RM_better_sleep','RM_job_opportunities','calmer_stressed']"
   ]
  },
  {
   "cell_type": "code",
   "execution_count": 83,
   "metadata": {},
   "outputs": [],
   "source": [
    "encode = LabelEncoder()"
   ]
  },
  {
   "cell_type": "code",
   "execution_count": 84,
   "metadata": {},
   "outputs": [],
   "source": [
    "data[features] = data[features].apply(LabelEncoder().fit_transform)"
   ]
  },
  {
   "cell_type": "code",
   "execution_count": 85,
   "metadata": {},
   "outputs": [
    {
     "data": {
      "text/html": [
       "<div>\n",
       "<style scoped>\n",
       "    .dataframe tbody tr th:only-of-type {\n",
       "        vertical-align: middle;\n",
       "    }\n",
       "\n",
       "    .dataframe tbody tr th {\n",
       "        vertical-align: top;\n",
       "    }\n",
       "\n",
       "    .dataframe thead th {\n",
       "        text-align: right;\n",
       "    }\n",
       "</style>\n",
       "<table border=\"1\" class=\"dataframe\">\n",
       "  <thead>\n",
       "    <tr style=\"text-align: right;\">\n",
       "      <th></th>\n",
       "      <th>Name</th>\n",
       "      <th>Age</th>\n",
       "      <th>Occupation</th>\n",
       "      <th>Gender</th>\n",
       "      <th>Same_ofiice_home_location</th>\n",
       "      <th>kids</th>\n",
       "      <th>RM_save_money</th>\n",
       "      <th>RM_quality_time</th>\n",
       "      <th>RM_better_sleep</th>\n",
       "      <th>calmer_stressed</th>\n",
       "      <th>RM_professional_growth</th>\n",
       "      <th>RM_lazy</th>\n",
       "      <th>RM_productive</th>\n",
       "      <th>digital_connect_sufficient</th>\n",
       "      <th>RM_better_work_life_balance</th>\n",
       "      <th>RM_improved_skillset</th>\n",
       "      <th>RM_job_opportunities</th>\n",
       "      <th>Target</th>\n",
       "    </tr>\n",
       "    <tr>\n",
       "      <th>ID</th>\n",
       "      <th></th>\n",
       "      <th></th>\n",
       "      <th></th>\n",
       "      <th></th>\n",
       "      <th></th>\n",
       "      <th></th>\n",
       "      <th></th>\n",
       "      <th></th>\n",
       "      <th></th>\n",
       "      <th></th>\n",
       "      <th></th>\n",
       "      <th></th>\n",
       "      <th></th>\n",
       "      <th></th>\n",
       "      <th></th>\n",
       "      <th></th>\n",
       "      <th></th>\n",
       "      <th></th>\n",
       "    </tr>\n",
       "  </thead>\n",
       "  <tbody>\n",
       "    <tr>\n",
       "      <th>1</th>\n",
       "      <td>Bhavana</td>\n",
       "      <td>45</td>\n",
       "      <td>Tutor</td>\n",
       "      <td>0</td>\n",
       "      <td>1</td>\n",
       "      <td>1</td>\n",
       "      <td>1</td>\n",
       "      <td>1</td>\n",
       "      <td>1</td>\n",
       "      <td>0</td>\n",
       "      <td>5</td>\n",
       "      <td>1</td>\n",
       "      <td>5</td>\n",
       "      <td>Yes</td>\n",
       "      <td>5</td>\n",
       "      <td>5</td>\n",
       "      <td>2</td>\n",
       "      <td>1</td>\n",
       "    </tr>\n",
       "    <tr>\n",
       "      <th>2</th>\n",
       "      <td>Harry</td>\n",
       "      <td>24</td>\n",
       "      <td>Tutor</td>\n",
       "      <td>1</td>\n",
       "      <td>0</td>\n",
       "      <td>0</td>\n",
       "      <td>0</td>\n",
       "      <td>0</td>\n",
       "      <td>0</td>\n",
       "      <td>0</td>\n",
       "      <td>2</td>\n",
       "      <td>2</td>\n",
       "      <td>2</td>\n",
       "      <td>No</td>\n",
       "      <td>3</td>\n",
       "      <td>3</td>\n",
       "      <td>0</td>\n",
       "      <td>1</td>\n",
       "    </tr>\n",
       "    <tr>\n",
       "      <th>3</th>\n",
       "      <td>Banditaa</td>\n",
       "      <td>53</td>\n",
       "      <td>HR</td>\n",
       "      <td>0</td>\n",
       "      <td>1</td>\n",
       "      <td>1</td>\n",
       "      <td>1</td>\n",
       "      <td>1</td>\n",
       "      <td>1</td>\n",
       "      <td>0</td>\n",
       "      <td>3</td>\n",
       "      <td>3</td>\n",
       "      <td>4</td>\n",
       "      <td>No</td>\n",
       "      <td>5</td>\n",
       "      <td>3</td>\n",
       "      <td>0</td>\n",
       "      <td>1</td>\n",
       "    </tr>\n",
       "    <tr>\n",
       "      <th>4</th>\n",
       "      <td>Neetha</td>\n",
       "      <td>26</td>\n",
       "      <td>Engineer</td>\n",
       "      <td>0</td>\n",
       "      <td>1</td>\n",
       "      <td>0</td>\n",
       "      <td>1</td>\n",
       "      <td>1</td>\n",
       "      <td>0</td>\n",
       "      <td>1</td>\n",
       "      <td>3</td>\n",
       "      <td>4</td>\n",
       "      <td>4</td>\n",
       "      <td>No</td>\n",
       "      <td>4</td>\n",
       "      <td>5</td>\n",
       "      <td>2</td>\n",
       "      <td>0</td>\n",
       "    </tr>\n",
       "    <tr>\n",
       "      <th>5</th>\n",
       "      <td>Ram</td>\n",
       "      <td>26</td>\n",
       "      <td>Recruiter</td>\n",
       "      <td>1</td>\n",
       "      <td>1</td>\n",
       "      <td>0</td>\n",
       "      <td>0</td>\n",
       "      <td>1</td>\n",
       "      <td>0</td>\n",
       "      <td>1</td>\n",
       "      <td>3</td>\n",
       "      <td>3</td>\n",
       "      <td>5</td>\n",
       "      <td>Yes</td>\n",
       "      <td>4</td>\n",
       "      <td>2</td>\n",
       "      <td>2</td>\n",
       "      <td>1</td>\n",
       "    </tr>\n",
       "  </tbody>\n",
       "</table>\n",
       "</div>"
      ],
      "text/plain": [
       "        Name  Age Occupation  Gender  Same_ofiice_home_location  kids  \\\n",
       "ID                                                                      \n",
       "1    Bhavana   45      Tutor       0                          1     1   \n",
       "2      Harry   24      Tutor       1                          0     0   \n",
       "3   Banditaa   53         HR       0                          1     1   \n",
       "4     Neetha   26   Engineer       0                          1     0   \n",
       "5        Ram   26  Recruiter       1                          1     0   \n",
       "\n",
       "    RM_save_money  RM_quality_time  RM_better_sleep  calmer_stressed  \\\n",
       "ID                                                                     \n",
       "1               1                1                1                0   \n",
       "2               0                0                0                0   \n",
       "3               1                1                1                0   \n",
       "4               1                1                0                1   \n",
       "5               0                1                0                1   \n",
       "\n",
       "    RM_professional_growth  RM_lazy  RM_productive digital_connect_sufficient  \\\n",
       "ID                                                                              \n",
       "1                        5        1              5                        Yes   \n",
       "2                        2        2              2                         No   \n",
       "3                        3        3              4                         No   \n",
       "4                        3        4              4                         No   \n",
       "5                        3        3              5                        Yes   \n",
       "\n",
       "    RM_better_work_life_balance  RM_improved_skillset  RM_job_opportunities  \\\n",
       "ID                                                                            \n",
       "1                             5                     5                     2   \n",
       "2                             3                     3                     0   \n",
       "3                             5                     3                     0   \n",
       "4                             4                     5                     2   \n",
       "5                             4                     2                     2   \n",
       "\n",
       "    Target  \n",
       "ID          \n",
       "1        1  \n",
       "2        1  \n",
       "3        1  \n",
       "4        0  \n",
       "5        1  "
      ]
     },
     "execution_count": 85,
     "metadata": {},
     "output_type": "execute_result"
    }
   ],
   "source": [
    "data.head()"
   ]
  },
  {
   "cell_type": "code",
   "execution_count": 86,
   "metadata": {},
   "outputs": [
    {
     "data": {
      "text/plain": [
       "1    87\n",
       "2    75\n",
       "0    45\n",
       "Name: RM_job_opportunities, dtype: int64"
      ]
     },
     "execution_count": 86,
     "metadata": {},
     "output_type": "execute_result"
    }
   ],
   "source": [
    "data['RM_job_opportunities'].value_counts()"
   ]
  },
  {
   "cell_type": "code",
   "execution_count": 87,
   "metadata": {},
   "outputs": [],
   "source": [
    "#data.to_csv('encoded_dataset.csv')"
   ]
  },
  {
   "cell_type": "code",
   "execution_count": 88,
   "metadata": {},
   "outputs": [
    {
     "data": {
      "text/plain": [
       "Index(['Name', 'Age', 'Occupation', 'Gender', 'Same_ofiice_home_location',\n",
       "       'kids', 'RM_save_money', 'RM_quality_time', 'RM_better_sleep',\n",
       "       'calmer_stressed', 'RM_professional_growth', 'RM_lazy', 'RM_productive',\n",
       "       'digital_connect_sufficient', 'RM_better_work_life_balance',\n",
       "       'RM_improved_skillset', 'RM_job_opportunities', 'Target'],\n",
       "      dtype='object')"
      ]
     },
     "execution_count": 88,
     "metadata": {},
     "output_type": "execute_result"
    }
   ],
   "source": [
    "data.columns"
   ]
  },
  {
   "cell_type": "code",
   "execution_count": 89,
   "metadata": {},
   "outputs": [
    {
     "data": {
      "image/png": "[encoded data removed]",
      "text/plain": [
       "<Figure size 432x288 with 1 Axes>"
      ]
     },
     "metadata": {
      "needs_background": "light"
     },
     "output_type": "display_data"
    }
   ],
   "source": [
    "grouped_df = data.groupby(['Occupation','RM_productive'])['Age'].median().unstack()\n",
    "grouped_df.plot(kind='bar', stacked=True)\n",
    "plt.show()"
   ]
  },
  {
   "cell_type": "code",
   "execution_count": 90,
   "metadata": {},
   "outputs": [
    {
     "data": {
      "image/png": "[encoded data removed]",
      "text/plain": [
       "<Figure size 432x288 with 1 Axes>"
      ]
     },
     "metadata": {
      "needs_background": "light"
     },
     "output_type": "display_data"
    }
   ],
   "source": [
    "ax=sns.countplot(x='Occupation',data=data)\n",
    "plt.title(\"Occupation count\")\n",
    "for p in ax.patches:\n",
    "        ax.annotate('{:}'.format(p.get_height()), (p.get_x()+0.1, p.get_height()+1)) "
   ]
  },
  {
   "cell_type": "code",
   "execution_count": 91,
   "metadata": {},
   "outputs": [],
   "source": [
    "import matplotlib.font_manager as fm"
   ]
  },
  {
   "cell_type": "code",
   "execution_count": null,
   "metadata": {},
   "outputs": [],
   "source": []
  },
  {
   "cell_type": "code",
   "execution_count": 96,
   "metadata": {},
   "outputs": [
    {
     "data": {
      "image/png": "[encoded data removed]",
      "text/plain": [
       "<Figure size 432x288 with 1 Axes>"
      ]
     },
     "metadata": {
      "needs_background": "light"
     },
     "output_type": "display_data"
    }
   ],
   "source": [
    "data['Age Group'] = pd.cut(data['Age'], bins=[0, 10, 20, 30, 40, 50, 60], labels=['0-10', '10-20','20-30','30-40','40-50','50-60'])\n",
    "\n",
    "# Group by age group and compute the mean of other columns\n",
    "grouped = data.groupby('Age Group').mean()\n",
    "\n",
    "# Create a bar plot of mean income by age group\n",
    "grouped['RM_productive'].plot(kind='bar')\n",
    "plt.xlabel('Age Group')\n",
    "plt.ylabel('RM_productive')\n",
    "plt.show()"
   ]
  },
  {
   "cell_type": "code",
   "execution_count": 97,
   "metadata": {},
   "outputs": [
    {
     "name": "stdout",
     "output_type": "stream",
     "text": [
      "           RM_productive   RM_lazy\n",
      "Age Group                         \n",
      "0-10                 NaN       NaN\n",
      "10-20                NaN       NaN\n",
      "20-30           3.487500  3.362500\n",
      "30-40           3.857143  2.214286\n",
      "40-50           4.315789  1.157895\n",
      "50-60           4.000000  3.642857\n"
     ]
    },
    {
     "name": "stderr",
     "output_type": "stream",
     "text": [
      "C:\\Users\\Asus\\AppData\\Local\\Temp\\ipykernel_30788\\4085455077.py:1: FutureWarning: Indexing with multiple keys (implicitly converted to a tuple of keys) will be deprecated, use a list instead.\n",
      "  grouped = data.groupby('Age Group')['RM_productive', 'RM_lazy'].mean()\n"
     ]
    }
   ],
   "source": [
    "grouped = data.groupby('Age Group')['RM_productive', 'RM_lazy'].mean()\n",
    "\n",
    "# Print the resulting DataFrame\n",
    "print(grouped)"
   ]
  },
  {
   "cell_type": "code",
   "execution_count": 98,
   "metadata": {},
   "outputs": [
    {
     "data": {
      "image/png": "[encoded data removed]",
      "text/plain": [
       "<Figure size 432x288 with 1 Axes>"
      ]
     },
     "metadata": {
      "needs_background": "light"
     },
     "output_type": "display_data"
    }
   ],
   "source": [
    "grouped = data.groupby('Age Group').median()\n",
    "grouped = grouped[['RM_productive','RM_lazy','RM_professional_growth','RM_better_work_life_balance','RM_improved_skillset']]\n",
    "grouped.plot(kind='bar')\n",
    "plt.xlabel('Age Group')\n",
    "plt.ylabel('Median Values')\n",
    "plt.legend(loc='upper left',prop=fm.FontProperties(size=8))\n",
    "plt.show()"
   ]
  },
  {
   "cell_type": "code",
   "execution_count": 99,
   "metadata": {},
   "outputs": [],
   "source": [
    "from sklearn.model_selection import train_test_split\n",
    "from sklearn.linear_model import LogisticRegression\n",
    "from sklearn.multiclass import OneVsRestClassifier\n",
    "from sklearn.metrics import accuracy_score\n",
    "from sklearn.metrics import classification_report\n",
    "import pandas as pd\n",
    "import numpy as np\n"
   ]
  },
  {
   "cell_type": "code",
   "execution_count": null,
   "metadata": {},
   "outputs": [
    {
     "data": {
      "text/plain": [
       "ID\n",
       "1      2\n",
       "2      2\n",
       "3      4\n",
       "4      1\n",
       "5      7\n",
       "      ..\n",
       "203    1\n",
       "204    5\n",
       "205    6\n",
       "206    6\n",
       "207    2\n",
       "Name: Occupation, Length: 207, dtype: int64"
      ]
     },
     "execution_count": 53,
     "metadata": {},
     "output_type": "execute_result"
    }
   ],
   "source": [
    "data[\"Occupation\"].replace(to_replace=[\"Engineer\",\"Tutor\",\"Manager\",\"HR\",\"Business\",\"Marketing \",\"Recruiter\"], value=[1,2,3,4,5,6,7],inplace=True)\n",
    "data['Occupation']"
   ]
  },
  {
   "cell_type": "code",
   "execution_count": null,
   "metadata": {},
   "outputs": [],
   "source": [
    "x=data.drop([\"Name\",\"Target\",\"RM_job_opportunities\",\"digital_connect_sufficient\"],axis=1)\n",
    "y=data['RM_productive']"
   ]
  },
  {
   "cell_type": "code",
   "execution_count": null,
   "metadata": {},
   "outputs": [],
   "source": [
    "from sklearn.preprocessing import StandardScaler"
   ]
  },
  {
   "cell_type": "code",
   "execution_count": null,
   "metadata": {},
   "outputs": [],
   "source": [
    "x_train, x_test, y_train, y_test=train_test_split(x,y,random_state=42,test_size=0.2)"
   ]
  },
  {
   "cell_type": "code",
   "execution_count": null,
   "metadata": {},
   "outputs": [],
   "source": [
    "st_x = StandardScaler()\n",
    "x_t = st_x.fit_transform(x_train)\n",
    "x_2 = st_x.transform(x_test)"
   ]
  },
  {
   "cell_type": "code",
   "execution_count": null,
   "metadata": {},
   "outputs": [],
   "source": [
    "lg=LogisticRegression()"
   ]
  },
  {
   "cell_type": "code",
   "execution_count": null,
   "metadata": {},
   "outputs": [
    {
     "name": "stderr",
     "output_type": "stream",
     "text": [
      "c:\\ProgramData\\Anaconda3\\lib\\site-packages\\sklearn\\linear_model\\_logistic.py:814: ConvergenceWarning: lbfgs failed to converge (status=1):\n",
      "STOP: TOTAL NO. of ITERATIONS REACHED LIMIT.\n",
      "\n",
      "Increase the number of iterations (max_iter) or scale the data as shown in:\n",
      "    https://scikit-learn.org/stable/modules/preprocessing.html\n",
      "Please also refer to the documentation for alternative solver options:\n",
      "    https://scikit-learn.org/stable/modules/linear_model.html#logistic-regression\n",
      "  n_iter_i = _check_optimize_result(\n"
     ]
    },
    {
     "data": {
      "text/plain": [
       "LogisticRegression()"
      ]
     },
     "execution_count": 60,
     "metadata": {},
     "output_type": "execute_result"
    }
   ],
   "source": [
    "lg.fit(x_train,y_train)"
   ]
  },
  {
   "cell_type": "code",
   "execution_count": null,
   "metadata": {},
   "outputs": [],
   "source": [
    "y_pred = lg.predict(x_test)\n"
   ]
  },
  {
   "cell_type": "code",
   "execution_count": null,
   "metadata": {},
   "outputs": [
    {
     "name": "stdout",
     "output_type": "stream",
     "text": [
      "Predicted labels: [3 4 4 5 3 4 3 4 3 3 5 5 2 5 5 2 4 5 4 3 5 3 3 3 4 5 5 3 4 4 3 4 4 5 2 4 3\n",
      " 4 4 4 4 4]\n",
      "Actual labels   : ID\n",
      "162    3\n",
      "16     4\n",
      "74     4\n",
      "97     5\n",
      "167    3\n",
      "10     4\n",
      "101    3\n",
      "136    4\n",
      "19     3\n",
      "149    3\n",
      "172    5\n",
      "31     5\n",
      "156    2\n",
      "206    5\n",
      "126    5\n",
      "197    3\n",
      "165    4\n",
      "190    5\n",
      "85     4\n",
      "76     3\n",
      "125    5\n",
      "171    3\n",
      "105    3\n",
      "102    3\n",
      "70     3\n",
      "26     5\n",
      "96     5\n",
      "17     2\n",
      "142    5\n",
      "185    4\n",
      "155    2\n",
      "69     4\n",
      "67     4\n",
      "121    5\n",
      "148    2\n",
      "99     5\n",
      "139    3\n",
      "168    4\n",
      "46     4\n",
      "114    4\n",
      "66     4\n",
      "178    3\n",
      "Name: RM_productive, dtype: int64\n"
     ]
    }
   ],
   "source": [
    "print(\"Predicted labels:\", y_pred)\n",
    "print(\"Actual labels   :\", y_test)"
   ]
  },
  {
   "cell_type": "code",
   "execution_count": null,
   "metadata": {},
   "outputs": [],
   "source": [
    "accuracy = accuracy_score(y_test, y_pred)"
   ]
  },
  {
   "cell_type": "code",
   "execution_count": null,
   "metadata": {},
   "outputs": [],
   "source": [
    "report = classification_report(y_test, y_pred)"
   ]
  },
  {
   "cell_type": "code",
   "execution_count": null,
   "metadata": {},
   "outputs": [
    {
     "name": "stdout",
     "output_type": "stream",
     "text": [
      "Accuracy: 0.8333333333333334\n",
      "Classification report:\n",
      "               precision    recall  f1-score   support\n",
      "\n",
      "           2       0.67      0.50      0.57         4\n",
      "           3       0.83      0.77      0.80        13\n",
      "           4       0.76      1.00      0.87        13\n",
      "           5       1.00      0.83      0.91        12\n",
      "\n",
      "    accuracy                           0.83        42\n",
      "   macro avg       0.82      0.78      0.79        42\n",
      "weighted avg       0.84      0.83      0.83        42\n",
      "\n"
     ]
    }
   ],
   "source": [
    "print(\"Accuracy:\", accuracy)\n",
    "print(\"Classification report:\\n\", report)"
   ]
  },
  {
   "cell_type": "code",
   "execution_count": null,
   "metadata": {},
   "outputs": [],
   "source": []
  }
 ],
 "metadata": {
  "kernelspec": {
   "display_name": "base",
   "language": "python",
   "name": "python3"
  },
  "language_info": {
   "codemirror_mode": {
    "name": "ipython",
    "version": 3
   },
   "file_extension": ".py",
   "mimetype": "text/x-python",
   "name": "python",
   "nbconvert_exporter": "python",
   "pygments_lexer": "ipython3",
   "version": "3.9.12"
  },
  "orig_nbformat": 4
 },
 "nbformat": 4,
 "nbformat_minor": 2
}
